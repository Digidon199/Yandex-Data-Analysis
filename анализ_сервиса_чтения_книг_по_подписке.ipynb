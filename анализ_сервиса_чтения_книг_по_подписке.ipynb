{
 "cells": [
  {
   "cell_type": "markdown",
   "metadata": {},
   "source": [
    "# «SQL – Анализ базы данных сервиса для чтения книг по подписке»"
   ]
  },
  {
   "cell_type": "markdown",
   "metadata": {},
   "source": [
    "# Описание проекта\n",
    "Коронавирус застал мир врасплох, изменив привычный порядок вещей. В свободное время жители городов больше не выходят на улицу, не посещают кафе и торговые центры. Зато стало больше времени для книг. Это заметили стартаперы — и бросились создавать приложения для тех, кто любит читать.\n",
    "\n",
    "Ваша компания решила быть на волне и купила крупный сервис для чтения книг по подписке.\n",
    "\n",
    "Цели проекта: проанализировать базу данных. В базе данных информация о книгах, издательствах, авторах, а также пользовательские обзоры книг. Эти данные помогут сформулировать ценностное предложение для нового продукта."
   ]
  },
  {
   "cell_type": "markdown",
   "metadata": {},
   "source": [
    "# Описание данных\n",
    "\n",
    "Таблица books Содержит данные о книгах:\n",
    "\n",
    "* book_id — идентификатор книги;\n",
    "* author_id — идентификатор автора;\n",
    "* title — название книги;\n",
    "* num_pages — количество страниц;\n",
    "* publication_date — дата публикации книги;\n",
    "* publisher_id — идентификатор издателя.\n",
    "\n",
    "Таблица authors Содержит данные об авторах:\n",
    "\n",
    "* author_id — идентификатор автора;\n",
    "* author — имя автора.\n",
    "\n",
    "Таблица publishers Содержит данные об издательствах:\n",
    "\n",
    "* publisher_id — идентификатор издательства;\n",
    "* publisher — название издательства;\n",
    "\n",
    "Таблица ratings Содержит данные о пользовательских оценках книг:\n",
    "\n",
    "* rating_id — идентификатор оценки;\n",
    "* book_id — идентификатор книги;\n",
    "* username — имя пользователя, оставившего оценку;\n",
    "* rating — оценка книги.\n",
    "\n",
    "Таблица reviews Содержит данные о пользовательских обзорах на книги:\n",
    "\n",
    "* review_id — идентификатор обзора;\n",
    "* book_id — идентификатор книги;\n",
    "* username — имя пользователя, написавшего обзор;\n",
    "* text — текст обзора."
   ]
  },
  {
   "cell_type": "markdown",
   "metadata": {},
   "source": [
    "# Инструкция по выполнению проекта\n",
    "Шаг 1. Создать коннекцию к базе данных\n",
    "\n",
    "Шаг 2. Исследовательский анализ данных\n",
    "* 2.1. Посчитайте, сколько книг вышло после 1 января 2000 года;\n",
    "* 2.2. Для каждой книги посчитайте количество обзоров и среднюю оценку;\n",
    "* 2.3. Определите издательство, которое выпустило наибольшее число книг толще 50 страниц — так вы исключите из анализа брошюры;\n",
    "* 2.4. Определите автора с самой высокой средней оценкой книг — учитывайте только книги с 50 и более оценками;\n",
    "* 2.5. Посчитайте среднее количество обзоров от пользователей, которые поставили больше 50 оценок.\n",
    "\n",
    "Шаг 3. Общий вывод"
   ]
  },
  {
   "cell_type": "markdown",
   "metadata": {},
   "source": [
    "## Шаг. Создать коннекцию к базе данных и изучить данные."
   ]
  },
  {
   "cell_type": "code",
   "execution_count": 1,
   "metadata": {},
   "outputs": [],
   "source": [
    "#!/usr/bin/python\n",
    "# -*- coding: utf-8 -*-\n",
    "\n",
    "# Импорт необходимых библиотек\n",
    "import pandas as pd\n",
    "from datetime import datetime\n",
    "from sqlalchemy import create_engine\n",
    "#!pip install psycopg2-binary\n",
    "\n",
    "# Задаём параметры подключения к БД, их можно узнать у администратора БД.\n",
    "db_config = {'user': 'praktikum_student',                         # имя пользователя\n",
    "             'pwd': 'Sdf4$2;d-d30pp',                             # пароль\n",
    "             'host': 'rc1b-wcoijxj3yxfsf3fs.mdb.yandexcloud.net', # адрес сервера\n",
    "             'port':  6432,                                       # порт подключения\n",
    "             'db': 'data-analyst-final-project-db',               # название базы данных\n",
    "} \n",
    "\n",
    "# Формируем строку соединения с БД.\n",
    "connection_string = 'postgresql://{}:{}@{}:{}/{}'.format(db_config['user'],\n",
    "                                                         db_config['pwd'],\n",
    "                                                         db_config['host'],\n",
    "                                                         db_config['port'],\n",
    "                                                         db_config['db'])\n",
    "# Подключаемся к БД.\n",
    "engine = create_engine(connection_string, connect_args={'sslmode':'require'})"
   ]
  },
  {
   "cell_type": "code",
   "execution_count": 2,
   "metadata": {},
   "outputs": [],
   "source": [
    "# С помощью pd.set_option настроим вывод так чтобы:\n",
    "pd.set_option('display.max_columns', None) \n",
    "pd.set_option('display.max_colwidth', -1)                   # текст в ячейке отражался полностью вне зависимости от длины;\n",
    "pd.set_option('display.float_format', '{:.2f}'.format)      # все числа отражались с двумя знаками после запятой."
   ]
  },
  {
   "cell_type": "markdown",
   "metadata": {},
   "source": [
    "Таблица books cодержит данные о книгах."
   ]
  },
  {
   "cell_type": "code",
   "execution_count": 3,
   "metadata": {},
   "outputs": [
    {
     "data": {
      "text/html": [
       "<div>\n",
       "<style scoped>\n",
       "    .dataframe tbody tr th:only-of-type {\n",
       "        vertical-align: middle;\n",
       "    }\n",
       "\n",
       "    .dataframe tbody tr th {\n",
       "        vertical-align: top;\n",
       "    }\n",
       "\n",
       "    .dataframe thead th {\n",
       "        text-align: right;\n",
       "    }\n",
       "</style>\n",
       "<table border=\"1\" class=\"dataframe\">\n",
       "  <thead>\n",
       "    <tr style=\"text-align: right;\">\n",
       "      <th></th>\n",
       "      <th>book_id</th>\n",
       "      <th>author_id</th>\n",
       "      <th>title</th>\n",
       "      <th>num_pages</th>\n",
       "      <th>publication_date</th>\n",
       "      <th>publisher_id</th>\n",
       "    </tr>\n",
       "  </thead>\n",
       "  <tbody>\n",
       "    <tr>\n",
       "      <td>0</td>\n",
       "      <td>1</td>\n",
       "      <td>546</td>\n",
       "      <td>'Salem's Lot</td>\n",
       "      <td>594</td>\n",
       "      <td>2005-11-01</td>\n",
       "      <td>93</td>\n",
       "    </tr>\n",
       "    <tr>\n",
       "      <td>1</td>\n",
       "      <td>2</td>\n",
       "      <td>465</td>\n",
       "      <td>1 000 Places to See Before You Die</td>\n",
       "      <td>992</td>\n",
       "      <td>2003-05-22</td>\n",
       "      <td>336</td>\n",
       "    </tr>\n",
       "    <tr>\n",
       "      <td>2</td>\n",
       "      <td>3</td>\n",
       "      <td>407</td>\n",
       "      <td>13 Little Blue Envelopes (Little Blue Envelope  #1)</td>\n",
       "      <td>322</td>\n",
       "      <td>2010-12-21</td>\n",
       "      <td>135</td>\n",
       "    </tr>\n",
       "    <tr>\n",
       "      <td>3</td>\n",
       "      <td>4</td>\n",
       "      <td>82</td>\n",
       "      <td>1491: New Revelations of the Americas Before Columbus</td>\n",
       "      <td>541</td>\n",
       "      <td>2006-10-10</td>\n",
       "      <td>309</td>\n",
       "    </tr>\n",
       "    <tr>\n",
       "      <td>4</td>\n",
       "      <td>5</td>\n",
       "      <td>125</td>\n",
       "      <td>1776</td>\n",
       "      <td>386</td>\n",
       "      <td>2006-07-04</td>\n",
       "      <td>268</td>\n",
       "    </tr>\n",
       "    <tr>\n",
       "      <td>5</td>\n",
       "      <td>6</td>\n",
       "      <td>257</td>\n",
       "      <td>1st to Die (Women's Murder Club  #1)</td>\n",
       "      <td>424</td>\n",
       "      <td>2005-05-20</td>\n",
       "      <td>116</td>\n",
       "    </tr>\n",
       "    <tr>\n",
       "      <td>6</td>\n",
       "      <td>7</td>\n",
       "      <td>258</td>\n",
       "      <td>2nd Chance (Women's Murder Club  #2)</td>\n",
       "      <td>400</td>\n",
       "      <td>2005-05-20</td>\n",
       "      <td>116</td>\n",
       "    </tr>\n",
       "    <tr>\n",
       "      <td>7</td>\n",
       "      <td>8</td>\n",
       "      <td>260</td>\n",
       "      <td>4th of July (Women's Murder Club  #4)</td>\n",
       "      <td>448</td>\n",
       "      <td>2006-06-01</td>\n",
       "      <td>318</td>\n",
       "    </tr>\n",
       "    <tr>\n",
       "      <td>8</td>\n",
       "      <td>9</td>\n",
       "      <td>563</td>\n",
       "      <td>A Beautiful Mind</td>\n",
       "      <td>461</td>\n",
       "      <td>2002-02-04</td>\n",
       "      <td>104</td>\n",
       "    </tr>\n",
       "    <tr>\n",
       "      <td>9</td>\n",
       "      <td>10</td>\n",
       "      <td>445</td>\n",
       "      <td>A Bend in the Road</td>\n",
       "      <td>341</td>\n",
       "      <td>2005-04-01</td>\n",
       "      <td>116</td>\n",
       "    </tr>\n",
       "  </tbody>\n",
       "</table>\n",
       "</div>"
      ],
      "text/plain": [
       "   book_id  author_id                                                  title  \\\n",
       "0  1        546        'Salem's Lot                                            \n",
       "1  2        465        1 000 Places to See Before You Die                      \n",
       "2  3        407        13 Little Blue Envelopes (Little Blue Envelope  #1)     \n",
       "3  4        82         1491: New Revelations of the Americas Before Columbus   \n",
       "4  5        125        1776                                                    \n",
       "5  6        257        1st to Die (Women's Murder Club  #1)                    \n",
       "6  7        258        2nd Chance (Women's Murder Club  #2)                    \n",
       "7  8        260        4th of July (Women's Murder Club  #4)                   \n",
       "8  9        563        A Beautiful Mind                                        \n",
       "9  10       445        A Bend in the Road                                      \n",
       "\n",
       "   num_pages publication_date  publisher_id  \n",
       "0  594       2005-11-01        93            \n",
       "1  992       2003-05-22        336           \n",
       "2  322       2010-12-21        135           \n",
       "3  541       2006-10-10        309           \n",
       "4  386       2006-07-04        268           \n",
       "5  424       2005-05-20        116           \n",
       "6  400       2005-05-20        116           \n",
       "7  448       2006-06-01        318           \n",
       "8  461       2002-02-04        104           \n",
       "9  341       2005-04-01        116           "
      ]
     },
     "execution_count": 3,
     "metadata": {},
     "output_type": "execute_result"
    }
   ],
   "source": [
    "# Формируем sql-запрос. Выполняем запрос и сохраняем результат, выполнения в DataFrame.\n",
    "query1 = ''' SELECT *\n",
    "             FROM books\n",
    "         '''\n",
    "# Sqlalchemy автоматически установит названия колонок, такими же, как у таблицы в БД. \n",
    "books = pd.io.sql.read_sql(query1, con = engine)\n",
    "books['publication_date'] = pd.to_datetime(books['publication_date'])\n",
    "\n",
    "# Код для выгрузки данных из таблицы books в файл books.csv.\n",
    "#books.to_csv('books.csv')\n",
    "\n",
    "books.head(10) # получение первых 10 строк таблицы"
   ]
  },
  {
   "cell_type": "markdown",
   "metadata": {},
   "source": [
    "Таблица authors cодержит данные об авторах."
   ]
  },
  {
   "cell_type": "code",
   "execution_count": 4,
   "metadata": {},
   "outputs": [
    {
     "data": {
      "text/html": [
       "<div>\n",
       "<style scoped>\n",
       "    .dataframe tbody tr th:only-of-type {\n",
       "        vertical-align: middle;\n",
       "    }\n",
       "\n",
       "    .dataframe tbody tr th {\n",
       "        vertical-align: top;\n",
       "    }\n",
       "\n",
       "    .dataframe thead th {\n",
       "        text-align: right;\n",
       "    }\n",
       "</style>\n",
       "<table border=\"1\" class=\"dataframe\">\n",
       "  <thead>\n",
       "    <tr style=\"text-align: right;\">\n",
       "      <th></th>\n",
       "      <th>author_id</th>\n",
       "      <th>author</th>\n",
       "    </tr>\n",
       "  </thead>\n",
       "  <tbody>\n",
       "    <tr>\n",
       "      <td>0</td>\n",
       "      <td>1</td>\n",
       "      <td>A.S. Byatt</td>\n",
       "    </tr>\n",
       "    <tr>\n",
       "      <td>1</td>\n",
       "      <td>2</td>\n",
       "      <td>Aesop/Laura Harris/Laura Gibbs</td>\n",
       "    </tr>\n",
       "    <tr>\n",
       "      <td>2</td>\n",
       "      <td>3</td>\n",
       "      <td>Agatha Christie</td>\n",
       "    </tr>\n",
       "    <tr>\n",
       "      <td>3</td>\n",
       "      <td>4</td>\n",
       "      <td>Alan Brennert</td>\n",
       "    </tr>\n",
       "    <tr>\n",
       "      <td>4</td>\n",
       "      <td>5</td>\n",
       "      <td>Alan Moore/David   Lloyd</td>\n",
       "    </tr>\n",
       "    <tr>\n",
       "      <td>5</td>\n",
       "      <td>6</td>\n",
       "      <td>Alan Paton</td>\n",
       "    </tr>\n",
       "    <tr>\n",
       "      <td>6</td>\n",
       "      <td>7</td>\n",
       "      <td>Albert Camus/Justin O'Brien</td>\n",
       "    </tr>\n",
       "    <tr>\n",
       "      <td>7</td>\n",
       "      <td>8</td>\n",
       "      <td>Aldous Huxley</td>\n",
       "    </tr>\n",
       "    <tr>\n",
       "      <td>8</td>\n",
       "      <td>9</td>\n",
       "      <td>Aldous Huxley/Christopher Hitchens</td>\n",
       "    </tr>\n",
       "    <tr>\n",
       "      <td>9</td>\n",
       "      <td>10</td>\n",
       "      <td>Aleksandr Solzhenitsyn/H.T. Willetts</td>\n",
       "    </tr>\n",
       "  </tbody>\n",
       "</table>\n",
       "</div>"
      ],
      "text/plain": [
       "   author_id                                author\n",
       "0  1          A.S. Byatt                          \n",
       "1  2          Aesop/Laura Harris/Laura Gibbs      \n",
       "2  3          Agatha Christie                     \n",
       "3  4          Alan Brennert                       \n",
       "4  5          Alan Moore/David   Lloyd            \n",
       "5  6          Alan Paton                          \n",
       "6  7          Albert Camus/Justin O'Brien         \n",
       "7  8          Aldous Huxley                       \n",
       "8  9          Aldous Huxley/Christopher Hitchens  \n",
       "9  10         Aleksandr Solzhenitsyn/H.T. Willetts"
      ]
     },
     "execution_count": 4,
     "metadata": {},
     "output_type": "execute_result"
    }
   ],
   "source": [
    "# Формируем sql-запрос. Выполняем запрос и сохраняем результат, выполнения в DataFrame.\n",
    "query2 = ''' SELECT *\n",
    "             FROM authors\n",
    "         '''\n",
    "# Sqlalchemy автоматически установит названия колонок, такими же, как у таблицы в БД. \n",
    "authors = pd.io.sql.read_sql(query2, con = engine)\n",
    "\n",
    "# Код для выгрузки данных из таблицы authors в файл authors.csv.\n",
    "#authors.to_csv('authors.csv')\n",
    "\n",
    "authors.head(10) # получение первых 10 строк таблицы"
   ]
  },
  {
   "cell_type": "markdown",
   "metadata": {},
   "source": [
    "Таблица publishers cодержит данные об издательствах."
   ]
  },
  {
   "cell_type": "code",
   "execution_count": 5,
   "metadata": {},
   "outputs": [
    {
     "data": {
      "text/html": [
       "<div>\n",
       "<style scoped>\n",
       "    .dataframe tbody tr th:only-of-type {\n",
       "        vertical-align: middle;\n",
       "    }\n",
       "\n",
       "    .dataframe tbody tr th {\n",
       "        vertical-align: top;\n",
       "    }\n",
       "\n",
       "    .dataframe thead th {\n",
       "        text-align: right;\n",
       "    }\n",
       "</style>\n",
       "<table border=\"1\" class=\"dataframe\">\n",
       "  <thead>\n",
       "    <tr style=\"text-align: right;\">\n",
       "      <th></th>\n",
       "      <th>publisher_id</th>\n",
       "      <th>publisher</th>\n",
       "    </tr>\n",
       "  </thead>\n",
       "  <tbody>\n",
       "    <tr>\n",
       "      <td>0</td>\n",
       "      <td>1</td>\n",
       "      <td>Ace</td>\n",
       "    </tr>\n",
       "    <tr>\n",
       "      <td>1</td>\n",
       "      <td>2</td>\n",
       "      <td>Ace Book</td>\n",
       "    </tr>\n",
       "    <tr>\n",
       "      <td>2</td>\n",
       "      <td>3</td>\n",
       "      <td>Ace Books</td>\n",
       "    </tr>\n",
       "    <tr>\n",
       "      <td>3</td>\n",
       "      <td>4</td>\n",
       "      <td>Ace Hardcover</td>\n",
       "    </tr>\n",
       "    <tr>\n",
       "      <td>4</td>\n",
       "      <td>5</td>\n",
       "      <td>Addison Wesley Publishing Company</td>\n",
       "    </tr>\n",
       "    <tr>\n",
       "      <td>5</td>\n",
       "      <td>6</td>\n",
       "      <td>Aladdin</td>\n",
       "    </tr>\n",
       "    <tr>\n",
       "      <td>6</td>\n",
       "      <td>7</td>\n",
       "      <td>Aladdin Paperbacks</td>\n",
       "    </tr>\n",
       "    <tr>\n",
       "      <td>7</td>\n",
       "      <td>8</td>\n",
       "      <td>Albin Michel</td>\n",
       "    </tr>\n",
       "    <tr>\n",
       "      <td>8</td>\n",
       "      <td>9</td>\n",
       "      <td>Alfred A. Knopf</td>\n",
       "    </tr>\n",
       "    <tr>\n",
       "      <td>9</td>\n",
       "      <td>10</td>\n",
       "      <td>Alfred A. Knopf Books for Young Readers</td>\n",
       "    </tr>\n",
       "  </tbody>\n",
       "</table>\n",
       "</div>"
      ],
      "text/plain": [
       "   publisher_id                                publisher\n",
       "0  1             Ace                                    \n",
       "1  2             Ace Book                               \n",
       "2  3             Ace Books                              \n",
       "3  4             Ace Hardcover                          \n",
       "4  5             Addison Wesley Publishing Company      \n",
       "5  6             Aladdin                                \n",
       "6  7             Aladdin Paperbacks                     \n",
       "7  8             Albin Michel                           \n",
       "8  9             Alfred A. Knopf                        \n",
       "9  10            Alfred A. Knopf Books for Young Readers"
      ]
     },
     "execution_count": 5,
     "metadata": {},
     "output_type": "execute_result"
    }
   ],
   "source": [
    "# Формируем sql-запрос. Выполняем запрос и сохраняем результат, выполнения в DataFrame.\n",
    "query3 = ''' SELECT *\n",
    "             FROM publishers\n",
    "         '''\n",
    "# Sqlalchemy автоматически установит названия колонок, такими же, как у таблицы в БД. \n",
    "publishers = pd.io.sql.read_sql(query3, con = engine)\n",
    "\n",
    "# Код для выгрузки данных из таблицы publishers в файл publishers.csv.\n",
    "#publishers.to_csv('publishers.csv')\n",
    "\n",
    "publishers.head(10) # получение первых 10 строк таблицы"
   ]
  },
  {
   "cell_type": "markdown",
   "metadata": {},
   "source": [
    "Таблица ratings cодержит данные о пользовательских оценках книг."
   ]
  },
  {
   "cell_type": "code",
   "execution_count": 6,
   "metadata": {},
   "outputs": [
    {
     "data": {
      "text/html": [
       "<div>\n",
       "<style scoped>\n",
       "    .dataframe tbody tr th:only-of-type {\n",
       "        vertical-align: middle;\n",
       "    }\n",
       "\n",
       "    .dataframe tbody tr th {\n",
       "        vertical-align: top;\n",
       "    }\n",
       "\n",
       "    .dataframe thead th {\n",
       "        text-align: right;\n",
       "    }\n",
       "</style>\n",
       "<table border=\"1\" class=\"dataframe\">\n",
       "  <thead>\n",
       "    <tr style=\"text-align: right;\">\n",
       "      <th></th>\n",
       "      <th>rating_id</th>\n",
       "      <th>book_id</th>\n",
       "      <th>username</th>\n",
       "      <th>rating</th>\n",
       "    </tr>\n",
       "  </thead>\n",
       "  <tbody>\n",
       "    <tr>\n",
       "      <td>0</td>\n",
       "      <td>1</td>\n",
       "      <td>1</td>\n",
       "      <td>ryanfranco</td>\n",
       "      <td>4</td>\n",
       "    </tr>\n",
       "    <tr>\n",
       "      <td>1</td>\n",
       "      <td>2</td>\n",
       "      <td>1</td>\n",
       "      <td>grantpatricia</td>\n",
       "      <td>2</td>\n",
       "    </tr>\n",
       "    <tr>\n",
       "      <td>2</td>\n",
       "      <td>3</td>\n",
       "      <td>1</td>\n",
       "      <td>brandtandrea</td>\n",
       "      <td>5</td>\n",
       "    </tr>\n",
       "    <tr>\n",
       "      <td>3</td>\n",
       "      <td>4</td>\n",
       "      <td>2</td>\n",
       "      <td>lorichen</td>\n",
       "      <td>3</td>\n",
       "    </tr>\n",
       "    <tr>\n",
       "      <td>4</td>\n",
       "      <td>5</td>\n",
       "      <td>2</td>\n",
       "      <td>mariokeller</td>\n",
       "      <td>2</td>\n",
       "    </tr>\n",
       "    <tr>\n",
       "      <td>5</td>\n",
       "      <td>6</td>\n",
       "      <td>3</td>\n",
       "      <td>johnsonamanda</td>\n",
       "      <td>4</td>\n",
       "    </tr>\n",
       "    <tr>\n",
       "      <td>6</td>\n",
       "      <td>7</td>\n",
       "      <td>3</td>\n",
       "      <td>scotttamara</td>\n",
       "      <td>5</td>\n",
       "    </tr>\n",
       "    <tr>\n",
       "      <td>7</td>\n",
       "      <td>8</td>\n",
       "      <td>3</td>\n",
       "      <td>lesliegibbs</td>\n",
       "      <td>5</td>\n",
       "    </tr>\n",
       "    <tr>\n",
       "      <td>8</td>\n",
       "      <td>9</td>\n",
       "      <td>4</td>\n",
       "      <td>abbottjames</td>\n",
       "      <td>5</td>\n",
       "    </tr>\n",
       "    <tr>\n",
       "      <td>9</td>\n",
       "      <td>10</td>\n",
       "      <td>4</td>\n",
       "      <td>valenciaanne</td>\n",
       "      <td>4</td>\n",
       "    </tr>\n",
       "  </tbody>\n",
       "</table>\n",
       "</div>"
      ],
      "text/plain": [
       "   rating_id  book_id       username  rating\n",
       "0  1          1        ryanfranco     4     \n",
       "1  2          1        grantpatricia  2     \n",
       "2  3          1        brandtandrea   5     \n",
       "3  4          2        lorichen       3     \n",
       "4  5          2        mariokeller    2     \n",
       "5  6          3        johnsonamanda  4     \n",
       "6  7          3        scotttamara    5     \n",
       "7  8          3        lesliegibbs    5     \n",
       "8  9          4        abbottjames    5     \n",
       "9  10         4        valenciaanne   4     "
      ]
     },
     "execution_count": 6,
     "metadata": {},
     "output_type": "execute_result"
    }
   ],
   "source": [
    "# Формируем sql-запрос. Выполняем запрос и сохраняем результат, выполнения в DataFrame.\n",
    "query4 = ''' SELECT *\n",
    "             FROM ratings\n",
    "         '''\n",
    "# Sqlalchemy автоматически установит названия колонок, такими же, как у таблицы в БД. \n",
    "ratings = pd.io.sql.read_sql(query4, con = engine)\n",
    "\n",
    "# Код для выгрузки данных из таблицы ratings в файл ratings.csv.\n",
    "#ratings.to_csv('ratings.csv')\n",
    "\n",
    "ratings.head(10) # получение первых 10 строк таблицы"
   ]
  },
  {
   "cell_type": "markdown",
   "metadata": {},
   "source": [
    "Таблица reviews cодержит данные о пользовательских обзорах на книги."
   ]
  },
  {
   "cell_type": "code",
   "execution_count": 7,
   "metadata": {},
   "outputs": [
    {
     "data": {
      "text/html": [
       "<div>\n",
       "<style scoped>\n",
       "    .dataframe tbody tr th:only-of-type {\n",
       "        vertical-align: middle;\n",
       "    }\n",
       "\n",
       "    .dataframe tbody tr th {\n",
       "        vertical-align: top;\n",
       "    }\n",
       "\n",
       "    .dataframe thead th {\n",
       "        text-align: right;\n",
       "    }\n",
       "</style>\n",
       "<table border=\"1\" class=\"dataframe\">\n",
       "  <thead>\n",
       "    <tr style=\"text-align: right;\">\n",
       "      <th></th>\n",
       "      <th>review_id</th>\n",
       "      <th>book_id</th>\n",
       "      <th>username</th>\n",
       "      <th>text</th>\n",
       "    </tr>\n",
       "  </thead>\n",
       "  <tbody>\n",
       "    <tr>\n",
       "      <td>0</td>\n",
       "      <td>1</td>\n",
       "      <td>1</td>\n",
       "      <td>brandtandrea</td>\n",
       "      <td>Mention society tell send professor analysis. Over provide race technology continue these.</td>\n",
       "    </tr>\n",
       "    <tr>\n",
       "      <td>1</td>\n",
       "      <td>2</td>\n",
       "      <td>1</td>\n",
       "      <td>ryanfranco</td>\n",
       "      <td>Foot glass pretty audience hit themselves. Among admit investment argue security.</td>\n",
       "    </tr>\n",
       "    <tr>\n",
       "      <td>2</td>\n",
       "      <td>3</td>\n",
       "      <td>2</td>\n",
       "      <td>lorichen</td>\n",
       "      <td>Listen treat keep worry. Miss husband tax but person sport treatment industry. Kitchen decision deep the. Social party body the.</td>\n",
       "    </tr>\n",
       "    <tr>\n",
       "      <td>3</td>\n",
       "      <td>4</td>\n",
       "      <td>3</td>\n",
       "      <td>johnsonamanda</td>\n",
       "      <td>Finally month interesting blue could nature cultural bit. Prepare beat finish grow that smile teach. Dream me play near.</td>\n",
       "    </tr>\n",
       "    <tr>\n",
       "      <td>4</td>\n",
       "      <td>5</td>\n",
       "      <td>3</td>\n",
       "      <td>scotttamara</td>\n",
       "      <td>Nation purpose heavy give wait song will. List dinner another whole positive radio fast. Music staff many green.</td>\n",
       "    </tr>\n",
       "    <tr>\n",
       "      <td>5</td>\n",
       "      <td>6</td>\n",
       "      <td>3</td>\n",
       "      <td>lesliegibbs</td>\n",
       "      <td>Analysis no several cause international.</td>\n",
       "    </tr>\n",
       "    <tr>\n",
       "      <td>6</td>\n",
       "      <td>7</td>\n",
       "      <td>4</td>\n",
       "      <td>valenciaanne</td>\n",
       "      <td>One there cost another. Say type save. With personal where occur direction foot. Half sit role want.</td>\n",
       "    </tr>\n",
       "    <tr>\n",
       "      <td>7</td>\n",
       "      <td>8</td>\n",
       "      <td>4</td>\n",
       "      <td>abbottjames</td>\n",
       "      <td>Within enough mother. There at system full recent play recognize.</td>\n",
       "    </tr>\n",
       "    <tr>\n",
       "      <td>8</td>\n",
       "      <td>9</td>\n",
       "      <td>5</td>\n",
       "      <td>npowers</td>\n",
       "      <td>Thank now focus realize economy focus fly. Item step fine war. Western service history anything.</td>\n",
       "    </tr>\n",
       "    <tr>\n",
       "      <td>9</td>\n",
       "      <td>10</td>\n",
       "      <td>5</td>\n",
       "      <td>staylor</td>\n",
       "      <td>Game push lot reduce where remember. Including song travel hair foot. Director always myself past story chance reason.</td>\n",
       "    </tr>\n",
       "  </tbody>\n",
       "</table>\n",
       "</div>"
      ],
      "text/plain": [
       "   review_id  book_id       username  \\\n",
       "0  1          1        brandtandrea    \n",
       "1  2          1        ryanfranco      \n",
       "2  3          2        lorichen        \n",
       "3  4          3        johnsonamanda   \n",
       "4  5          3        scotttamara     \n",
       "5  6          3        lesliegibbs     \n",
       "6  7          4        valenciaanne    \n",
       "7  8          4        abbottjames     \n",
       "8  9          5        npowers         \n",
       "9  10         5        staylor         \n",
       "\n",
       "                                                                                                                               text  \n",
       "0  Mention society tell send professor analysis. Over provide race technology continue these.                                        \n",
       "1  Foot glass pretty audience hit themselves. Among admit investment argue security.                                                 \n",
       "2  Listen treat keep worry. Miss husband tax but person sport treatment industry. Kitchen decision deep the. Social party body the.  \n",
       "3  Finally month interesting blue could nature cultural bit. Prepare beat finish grow that smile teach. Dream me play near.          \n",
       "4  Nation purpose heavy give wait song will. List dinner another whole positive radio fast. Music staff many green.                  \n",
       "5  Analysis no several cause international.                                                                                          \n",
       "6  One there cost another. Say type save. With personal where occur direction foot. Half sit role want.                              \n",
       "7  Within enough mother. There at system full recent play recognize.                                                                 \n",
       "8  Thank now focus realize economy focus fly. Item step fine war. Western service history anything.                                  \n",
       "9  Game push lot reduce where remember. Including song travel hair foot. Director always myself past story chance reason.            "
      ]
     },
     "execution_count": 7,
     "metadata": {},
     "output_type": "execute_result"
    }
   ],
   "source": [
    "# Формируем sql-запрос. Выполняем запрос и сохраняем результат, выполнения в DataFrame.\n",
    "query5 = ''' SELECT *\n",
    "             FROM reviews\n",
    "         '''\n",
    "# Sqlalchemy автоматически установит названия колонок, такими же, как у таблицы в БД. \n",
    "reviews = pd.io.sql.read_sql(query5, con = engine)\n",
    "\n",
    "# Код для выгрузки данных из таблицы reviews в файл reviews.csv.\n",
    "#reviews.to_csv('reviews.csv')\n",
    "\n",
    "reviews.head(10) # получение первых 10 строк таблицы"
   ]
  },
  {
   "cell_type": "code",
   "execution_count": 8,
   "metadata": {},
   "outputs": [
    {
     "name": "stdout",
     "output_type": "stream",
     "text": [
      "<class 'pandas.core.frame.DataFrame'>\n",
      "RangeIndex: 1000 entries, 0 to 999\n",
      "Data columns (total 6 columns):\n",
      "book_id             1000 non-null int64\n",
      "author_id           1000 non-null int64\n",
      "title               1000 non-null object\n",
      "num_pages           1000 non-null int64\n",
      "publication_date    1000 non-null datetime64[ns]\n",
      "publisher_id        1000 non-null int64\n",
      "dtypes: datetime64[ns](1), int64(4), object(1)\n",
      "memory usage: 47.0+ KB\n",
      "None\n",
      "Количество дубликатов в данных: 0\n",
      "\n",
      "<class 'pandas.core.frame.DataFrame'>\n",
      "RangeIndex: 636 entries, 0 to 635\n",
      "Data columns (total 2 columns):\n",
      "author_id    636 non-null int64\n",
      "author       636 non-null object\n",
      "dtypes: int64(1), object(1)\n",
      "memory usage: 10.1+ KB\n",
      "None\n",
      "Количество дубликатов в данных: 0\n",
      "\n",
      "<class 'pandas.core.frame.DataFrame'>\n",
      "RangeIndex: 340 entries, 0 to 339\n",
      "Data columns (total 2 columns):\n",
      "publisher_id    340 non-null int64\n",
      "publisher       340 non-null object\n",
      "dtypes: int64(1), object(1)\n",
      "memory usage: 5.4+ KB\n",
      "None\n",
      "Количество дубликатов в данных: 0\n",
      "\n",
      "<class 'pandas.core.frame.DataFrame'>\n",
      "RangeIndex: 6456 entries, 0 to 6455\n",
      "Data columns (total 4 columns):\n",
      "rating_id    6456 non-null int64\n",
      "book_id      6456 non-null int64\n",
      "username     6456 non-null object\n",
      "rating       6456 non-null int64\n",
      "dtypes: int64(3), object(1)\n",
      "memory usage: 201.9+ KB\n",
      "None\n",
      "Количество дубликатов в данных: 0\n",
      "\n",
      "<class 'pandas.core.frame.DataFrame'>\n",
      "RangeIndex: 2793 entries, 0 to 2792\n",
      "Data columns (total 4 columns):\n",
      "review_id    2793 non-null int64\n",
      "book_id      2793 non-null int64\n",
      "username     2793 non-null object\n",
      "text         2793 non-null object\n",
      "dtypes: int64(2), object(2)\n",
      "memory usage: 87.4+ KB\n",
      "None\n",
      "Количество дубликатов в данных: 0\n",
      "\n"
     ]
    }
   ],
   "source": [
    "list = [books, authors, publishers, ratings, reviews]\n",
    "\n",
    "for data in list:\n",
    "    print(data.info())\n",
    "    print('Количество дубликатов в данных: {}'.format(data.duplicated().sum()))\n",
    "    print()"
   ]
  },
  {
   "cell_type": "markdown",
   "metadata": {},
   "source": [
    "Выводы:\n",
    "\n",
    "Пропущенных значений нет, дубликатов также не обнаружили. Тип данны соответствует смысловой нагрузке каждого столбца, кроме столбца с датой. При решении поставленных вопросов будем предобразовывать тип данных в столбцах с датой и можем приступать к анализу."
   ]
  },
  {
   "cell_type": "markdown",
   "metadata": {},
   "source": [
    "## Шаг. Исследовательский анализ данных"
   ]
  },
  {
   "cell_type": "code",
   "execution_count": 9,
   "metadata": {},
   "outputs": [],
   "source": [
    "# Напишем функцию для выполнения запросов.\n",
    "def display(query):\n",
    "    return pd.io.sql.read_sql(query, con = engine)"
   ]
  },
  {
   "cell_type": "markdown",
   "metadata": {},
   "source": [
    "### Посчитайте, сколько книг вышло после 1 января 2000 года;"
   ]
  },
  {
   "cell_type": "code",
   "execution_count": 10,
   "metadata": {},
   "outputs": [
    {
     "data": {
      "text/html": [
       "<div>\n",
       "<style scoped>\n",
       "    .dataframe tbody tr th:only-of-type {\n",
       "        vertical-align: middle;\n",
       "    }\n",
       "\n",
       "    .dataframe tbody tr th {\n",
       "        vertical-align: top;\n",
       "    }\n",
       "\n",
       "    .dataframe thead th {\n",
       "        text-align: right;\n",
       "    }\n",
       "</style>\n",
       "<table border=\"1\" class=\"dataframe\">\n",
       "  <thead>\n",
       "    <tr style=\"text-align: right;\">\n",
       "      <th></th>\n",
       "      <th>cnt_books</th>\n",
       "    </tr>\n",
       "  </thead>\n",
       "  <tbody>\n",
       "    <tr>\n",
       "      <td>0</td>\n",
       "      <td>819</td>\n",
       "    </tr>\n",
       "  </tbody>\n",
       "</table>\n",
       "</div>"
      ],
      "text/plain": [
       "   cnt_books\n",
       "0  819      "
      ]
     },
     "execution_count": 10,
     "metadata": {},
     "output_type": "execute_result"
    }
   ],
   "source": [
    "cnt_books = '''\n",
    "SELECT \n",
    "    COUNT(*) AS cnt_books                        -- найдем общее количество строк в таблице books\n",
    "FROM \n",
    "    books\n",
    "WHERE \n",
    "    publication_date > '2000-01-01';\n",
    "'''\n",
    "display(cnt_books)"
   ]
  },
  {
   "cell_type": "markdown",
   "metadata": {},
   "source": [
    "Выводы:\n",
    "\n",
    "После 1 января 2000 года было выпущено 819 книг."
   ]
  },
  {
   "cell_type": "markdown",
   "metadata": {},
   "source": [
    "Для каждой книги посчитайте количество обзоров и среднюю оценку;"
   ]
  },
  {
   "cell_type": "code",
   "execution_count": 11,
   "metadata": {},
   "outputs": [],
   "source": [
    "def select(sql):\n",
    "  return pd.io.sql.read_sql(sql, con = engine)"
   ]
  },
  {
   "cell_type": "code",
   "execution_count": 12,
   "metadata": {},
   "outputs": [
    {
     "data": {
      "text/html": [
       "<div>\n",
       "<style scoped>\n",
       "    .dataframe tbody tr th:only-of-type {\n",
       "        vertical-align: middle;\n",
       "    }\n",
       "\n",
       "    .dataframe tbody tr th {\n",
       "        vertical-align: top;\n",
       "    }\n",
       "\n",
       "    .dataframe thead th {\n",
       "        text-align: right;\n",
       "    }\n",
       "</style>\n",
       "<table border=\"1\" class=\"dataframe\">\n",
       "  <thead>\n",
       "    <tr style=\"text-align: right;\">\n",
       "      <th></th>\n",
       "      <th>review_id_cnt</th>\n",
       "    </tr>\n",
       "  </thead>\n",
       "  <tbody>\n",
       "    <tr>\n",
       "      <td>0</td>\n",
       "      <td>2793</td>\n",
       "    </tr>\n",
       "  </tbody>\n",
       "</table>\n",
       "</div>"
      ],
      "text/plain": [
       "   review_id_cnt\n",
       "0  2793         "
      ]
     },
     "execution_count": 12,
     "metadata": {},
     "output_type": "execute_result"
    }
   ],
   "source": [
    "sql = '''SELECT COUNT(DISTINCT reviews) AS review_id_cnt\n",
    "    FROM reviews\n",
    "'''\n",
    "select(sql)"
   ]
  },
  {
   "cell_type": "code",
   "execution_count": 13,
   "metadata": {},
   "outputs": [
    {
     "data": {
      "text/html": [
       "<div>\n",
       "<style scoped>\n",
       "    .dataframe tbody tr th:only-of-type {\n",
       "        vertical-align: middle;\n",
       "    }\n",
       "\n",
       "    .dataframe tbody tr th {\n",
       "        vertical-align: top;\n",
       "    }\n",
       "\n",
       "    .dataframe thead th {\n",
       "        text-align: right;\n",
       "    }\n",
       "</style>\n",
       "<table border=\"1\" class=\"dataframe\">\n",
       "  <thead>\n",
       "    <tr style=\"text-align: right;\">\n",
       "      <th></th>\n",
       "      <th>book_id</th>\n",
       "      <th>author_id</th>\n",
       "      <th>title</th>\n",
       "      <th>num_pages</th>\n",
       "      <th>publication_date</th>\n",
       "      <th>publisher_id</th>\n",
       "      <th>review_id</th>\n",
       "      <th>book_id</th>\n",
       "      <th>username</th>\n",
       "      <th>text</th>\n",
       "      <th>rating_id</th>\n",
       "      <th>book_id</th>\n",
       "      <th>username</th>\n",
       "      <th>rating</th>\n",
       "    </tr>\n",
       "  </thead>\n",
       "  <tbody>\n",
       "    <tr>\n",
       "      <td>0</td>\n",
       "      <td>1</td>\n",
       "      <td>546</td>\n",
       "      <td>'Salem's Lot</td>\n",
       "      <td>594</td>\n",
       "      <td>2005-11-01</td>\n",
       "      <td>93</td>\n",
       "      <td>1</td>\n",
       "      <td>1</td>\n",
       "      <td>brandtandrea</td>\n",
       "      <td>Mention society tell send professor analysis. Over provide race technology continue these.</td>\n",
       "      <td>1</td>\n",
       "      <td>1</td>\n",
       "      <td>ryanfranco</td>\n",
       "      <td>4</td>\n",
       "    </tr>\n",
       "    <tr>\n",
       "      <td>1</td>\n",
       "      <td>1</td>\n",
       "      <td>546</td>\n",
       "      <td>'Salem's Lot</td>\n",
       "      <td>594</td>\n",
       "      <td>2005-11-01</td>\n",
       "      <td>93</td>\n",
       "      <td>1</td>\n",
       "      <td>1</td>\n",
       "      <td>brandtandrea</td>\n",
       "      <td>Mention society tell send professor analysis. Over provide race technology continue these.</td>\n",
       "      <td>2</td>\n",
       "      <td>1</td>\n",
       "      <td>grantpatricia</td>\n",
       "      <td>2</td>\n",
       "    </tr>\n",
       "    <tr>\n",
       "      <td>2</td>\n",
       "      <td>1</td>\n",
       "      <td>546</td>\n",
       "      <td>'Salem's Lot</td>\n",
       "      <td>594</td>\n",
       "      <td>2005-11-01</td>\n",
       "      <td>93</td>\n",
       "      <td>1</td>\n",
       "      <td>1</td>\n",
       "      <td>brandtandrea</td>\n",
       "      <td>Mention society tell send professor analysis. Over provide race technology continue these.</td>\n",
       "      <td>3</td>\n",
       "      <td>1</td>\n",
       "      <td>brandtandrea</td>\n",
       "      <td>5</td>\n",
       "    </tr>\n",
       "    <tr>\n",
       "      <td>3</td>\n",
       "      <td>1</td>\n",
       "      <td>546</td>\n",
       "      <td>'Salem's Lot</td>\n",
       "      <td>594</td>\n",
       "      <td>2005-11-01</td>\n",
       "      <td>93</td>\n",
       "      <td>2</td>\n",
       "      <td>1</td>\n",
       "      <td>ryanfranco</td>\n",
       "      <td>Foot glass pretty audience hit themselves. Among admit investment argue security.</td>\n",
       "      <td>1</td>\n",
       "      <td>1</td>\n",
       "      <td>ryanfranco</td>\n",
       "      <td>4</td>\n",
       "    </tr>\n",
       "    <tr>\n",
       "      <td>4</td>\n",
       "      <td>1</td>\n",
       "      <td>546</td>\n",
       "      <td>'Salem's Lot</td>\n",
       "      <td>594</td>\n",
       "      <td>2005-11-01</td>\n",
       "      <td>93</td>\n",
       "      <td>2</td>\n",
       "      <td>1</td>\n",
       "      <td>ryanfranco</td>\n",
       "      <td>Foot glass pretty audience hit themselves. Among admit investment argue security.</td>\n",
       "      <td>2</td>\n",
       "      <td>1</td>\n",
       "      <td>grantpatricia</td>\n",
       "      <td>2</td>\n",
       "    </tr>\n",
       "  </tbody>\n",
       "</table>\n",
       "</div>"
      ],
      "text/plain": [
       "   book_id  author_id         title  num_pages publication_date  publisher_id  \\\n",
       "0  1        546        'Salem's Lot  594        2005-11-01       93             \n",
       "1  1        546        'Salem's Lot  594        2005-11-01       93             \n",
       "2  1        546        'Salem's Lot  594        2005-11-01       93             \n",
       "3  1        546        'Salem's Lot  594        2005-11-01       93             \n",
       "4  1        546        'Salem's Lot  594        2005-11-01       93             \n",
       "\n",
       "   review_id  book_id      username  \\\n",
       "0  1          1        brandtandrea   \n",
       "1  1          1        brandtandrea   \n",
       "2  1          1        brandtandrea   \n",
       "3  2          1        ryanfranco     \n",
       "4  2          1        ryanfranco     \n",
       "\n",
       "                                                                                         text  \\\n",
       "0  Mention society tell send professor analysis. Over provide race technology continue these.   \n",
       "1  Mention society tell send professor analysis. Over provide race technology continue these.   \n",
       "2  Mention society tell send professor analysis. Over provide race technology continue these.   \n",
       "3  Foot glass pretty audience hit themselves. Among admit investment argue security.            \n",
       "4  Foot glass pretty audience hit themselves. Among admit investment argue security.            \n",
       "\n",
       "   rating_id  book_id       username  rating  \n",
       "0  1          1        ryanfranco     4       \n",
       "1  2          1        grantpatricia  2       \n",
       "2  3          1        brandtandrea   5       \n",
       "3  1          1        ryanfranco     4       \n",
       "4  2          1        grantpatricia  2       "
      ]
     },
     "execution_count": 13,
     "metadata": {},
     "output_type": "execute_result"
    }
   ],
   "source": [
    "sql = '''SELECT \n",
    "            *\n",
    "        FROM \n",
    "            books\n",
    "        INNER JOIN reviews ON reviews.book_id = books.book_id\n",
    "        INNER JOIN ratings ON ratings.book_id = books.book_id\n",
    "        LIMIT 5;\n",
    "'''\n",
    "select(sql)"
   ]
  },
  {
   "cell_type": "code",
   "execution_count": 14,
   "metadata": {},
   "outputs": [
    {
     "data": {
      "text/html": [
       "<div>\n",
       "<style scoped>\n",
       "    .dataframe tbody tr th:only-of-type {\n",
       "        vertical-align: middle;\n",
       "    }\n",
       "\n",
       "    .dataframe tbody tr th {\n",
       "        vertical-align: top;\n",
       "    }\n",
       "\n",
       "    .dataframe thead th {\n",
       "        text-align: right;\n",
       "    }\n",
       "</style>\n",
       "<table border=\"1\" class=\"dataframe\">\n",
       "  <thead>\n",
       "    <tr style=\"text-align: right;\">\n",
       "      <th></th>\n",
       "      <th>book_id</th>\n",
       "      <th>review_id_cnt</th>\n",
       "      <th>rating_avg</th>\n",
       "    </tr>\n",
       "  </thead>\n",
       "  <tbody>\n",
       "    <tr>\n",
       "      <td>0</td>\n",
       "      <td>1</td>\n",
       "      <td>2</td>\n",
       "      <td>3.67</td>\n",
       "    </tr>\n",
       "    <tr>\n",
       "      <td>1</td>\n",
       "      <td>2</td>\n",
       "      <td>1</td>\n",
       "      <td>2.50</td>\n",
       "    </tr>\n",
       "    <tr>\n",
       "      <td>2</td>\n",
       "      <td>3</td>\n",
       "      <td>3</td>\n",
       "      <td>4.67</td>\n",
       "    </tr>\n",
       "    <tr>\n",
       "      <td>3</td>\n",
       "      <td>4</td>\n",
       "      <td>2</td>\n",
       "      <td>4.50</td>\n",
       "    </tr>\n",
       "    <tr>\n",
       "      <td>4</td>\n",
       "      <td>5</td>\n",
       "      <td>4</td>\n",
       "      <td>4.00</td>\n",
       "    </tr>\n",
       "  </tbody>\n",
       "</table>\n",
       "</div>"
      ],
      "text/plain": [
       "   book_id  review_id_cnt  rating_avg\n",
       "0  1        2             3.67       \n",
       "1  2        1             2.50       \n",
       "2  3        3             4.67       \n",
       "3  4        2             4.50       \n",
       "4  5        4             4.00       "
      ]
     },
     "execution_count": 14,
     "metadata": {},
     "output_type": "execute_result"
    }
   ],
   "source": [
    "sql = '''SELECT \n",
    "            books.book_id AS book_id,\n",
    "            COUNT(DISTINCT reviews.review_id) AS review_id_cnt,\n",
    "            AVG(ratings.rating) AS rating_avg\n",
    "        FROM \n",
    "            books\n",
    "        INNER JOIN reviews ON reviews.book_id = books.book_id\n",
    "        INNER JOIN ratings ON ratings.book_id = books.book_id\n",
    "        GROUP BY \n",
    "            books.book_id\n",
    "        LIMIT 5;\n",
    "'''\n",
    "select(sql)"
   ]
  },
  {
   "cell_type": "code",
   "execution_count": 15,
   "metadata": {},
   "outputs": [
    {
     "data": {
      "text/plain": [
       "2793"
      ]
     },
     "execution_count": 15,
     "metadata": {},
     "output_type": "execute_result"
    }
   ],
   "source": [
    "sql = '''SELECT \n",
    "            books.book_id AS book_id,\n",
    "            COUNT(DISTINCT reviews.review_id) AS review_id_cnt,\n",
    "            AVG(ratings.rating) AS rating_avg\n",
    "        FROM \n",
    "            books\n",
    "        INNER JOIN reviews ON reviews.book_id = books.book_id\n",
    "        INNER JOIN ratings ON ratings.book_id = books.book_id\n",
    "        GROUP BY \n",
    "            books.book_id\n",
    ";\n",
    "'''\n",
    "select(sql).review_id_cnt.sum()"
   ]
  },
  {
   "cell_type": "markdown",
   "metadata": {},
   "source": [
    "Выводы:\n",
    "    \n",
    "Посчитали общее кол-во. обзоров и среднею оценку."
   ]
  },
  {
   "cell_type": "markdown",
   "metadata": {},
   "source": [
    "### Определите издательство, которое выпустило наибольшее число книг толще 50 страниц — так вы исключите из анализа брошюры;"
   ]
  },
  {
   "cell_type": "code",
   "execution_count": 16,
   "metadata": {},
   "outputs": [
    {
     "data": {
      "text/html": [
       "<div>\n",
       "<style scoped>\n",
       "    .dataframe tbody tr th:only-of-type {\n",
       "        vertical-align: middle;\n",
       "    }\n",
       "\n",
       "    .dataframe tbody tr th {\n",
       "        vertical-align: top;\n",
       "    }\n",
       "\n",
       "    .dataframe thead th {\n",
       "        text-align: right;\n",
       "    }\n",
       "</style>\n",
       "<table border=\"1\" class=\"dataframe\">\n",
       "  <thead>\n",
       "    <tr style=\"text-align: right;\">\n",
       "      <th></th>\n",
       "      <th>name_publisher</th>\n",
       "      <th>cnt_books</th>\n",
       "    </tr>\n",
       "  </thead>\n",
       "  <tbody>\n",
       "    <tr>\n",
       "      <td>0</td>\n",
       "      <td>Penguin Books</td>\n",
       "      <td>42</td>\n",
       "    </tr>\n",
       "    <tr>\n",
       "      <td>1</td>\n",
       "      <td>Vintage</td>\n",
       "      <td>31</td>\n",
       "    </tr>\n",
       "    <tr>\n",
       "      <td>2</td>\n",
       "      <td>Grand Central Publishing</td>\n",
       "      <td>25</td>\n",
       "    </tr>\n",
       "    <tr>\n",
       "      <td>3</td>\n",
       "      <td>Penguin Classics</td>\n",
       "      <td>24</td>\n",
       "    </tr>\n",
       "    <tr>\n",
       "      <td>4</td>\n",
       "      <td>Bantam</td>\n",
       "      <td>19</td>\n",
       "    </tr>\n",
       "  </tbody>\n",
       "</table>\n",
       "</div>"
      ],
      "text/plain": [
       "             name_publisher  cnt_books\n",
       "0  Penguin Books             42       \n",
       "1  Vintage                   31       \n",
       "2  Grand Central Publishing  25       \n",
       "3  Penguin Classics          24       \n",
       "4  Bantam                    19       "
      ]
     },
     "execution_count": 16,
     "metadata": {},
     "output_type": "execute_result"
    }
   ],
   "source": [
    "publisher_book = '''\n",
    "SELECT                                                          -- выведем название издательства и количество книг\n",
    "     publishers.publisher AS name_publisher,\n",
    "     COUNT(books.book_id) AS cnt_books                          -- найдем количество книг \n",
    "FROM\n",
    "    publishers\n",
    "INNER JOIN books ON books.publisher_id = publishers.publisher_id\n",
    "WHERE\n",
    "    books.num_pages > 50                                        -- отфильтруем по количеству страниц в книге больше 50\n",
    "GROUP BY\n",
    "    name_publisher\n",
    "ORDER BY                                                        -- отсортируем по количеству книг по убыванию\n",
    "    cnt_books DESC\n",
    "LIMIT 5                                                         -- напечатаем 5 строк таблицы\n",
    "'''\n",
    "display(publisher_book)"
   ]
  },
  {
   "cell_type": "markdown",
   "metadata": {},
   "source": [
    "Выводы:\n",
    "\n",
    "Издательство, которое выпустило наибольшее число книг толще 50 страниц это Penguin books - 42 книги."
   ]
  },
  {
   "cell_type": "markdown",
   "metadata": {},
   "source": [
    "### Определите автора с самой высокой средней оценкой книг — учитывайте только книги с 50 и более оценками;"
   ]
  },
  {
   "cell_type": "code",
   "execution_count": 17,
   "metadata": {},
   "outputs": [
    {
     "data": {
      "text/html": [
       "<div>\n",
       "<style scoped>\n",
       "    .dataframe tbody tr th:only-of-type {\n",
       "        vertical-align: middle;\n",
       "    }\n",
       "\n",
       "    .dataframe tbody tr th {\n",
       "        vertical-align: top;\n",
       "    }\n",
       "\n",
       "    .dataframe thead th {\n",
       "        text-align: right;\n",
       "    }\n",
       "</style>\n",
       "<table border=\"1\" class=\"dataframe\">\n",
       "  <thead>\n",
       "    <tr style=\"text-align: right;\">\n",
       "      <th></th>\n",
       "      <th>author</th>\n",
       "      <th>avg_rating</th>\n",
       "    </tr>\n",
       "  </thead>\n",
       "  <tbody>\n",
       "    <tr>\n",
       "      <td>0</td>\n",
       "      <td>J.K. Rowling/Mary GrandPré</td>\n",
       "      <td>4.28</td>\n",
       "    </tr>\n",
       "    <tr>\n",
       "      <td>1</td>\n",
       "      <td>Markus Zusak/Cao Xuân Việt Khương</td>\n",
       "      <td>4.26</td>\n",
       "    </tr>\n",
       "    <tr>\n",
       "      <td>2</td>\n",
       "      <td>J.R.R. Tolkien</td>\n",
       "      <td>4.26</td>\n",
       "    </tr>\n",
       "    <tr>\n",
       "      <td>3</td>\n",
       "      <td>Louisa May Alcott</td>\n",
       "      <td>4.19</td>\n",
       "    </tr>\n",
       "    <tr>\n",
       "      <td>4</td>\n",
       "      <td>Rick Riordan</td>\n",
       "      <td>4.08</td>\n",
       "    </tr>\n",
       "  </tbody>\n",
       "</table>\n",
       "</div>"
      ],
      "text/plain": [
       "                              author  avg_rating\n",
       "0  J.K. Rowling/Mary GrandPré        4.28       \n",
       "1  Markus Zusak/Cao Xuân Việt Khương 4.26       \n",
       "2  J.R.R. Tolkien                    4.26       \n",
       "3  Louisa May Alcott                 4.19       \n",
       "4  Rick Riordan                      4.08       "
      ]
     },
     "execution_count": 17,
     "metadata": {},
     "output_type": "execute_result"
    }
   ],
   "source": [
    "best_author_avg_rating = '''\n",
    "SELECT                                                     -- найдём количество и средний рейтинг по автору в подзапросе, \n",
    "     SUBQ.author AS author,                                -- а во внешнем запросе рассчитаем среднее полученных значений\n",
    "     AVG(SUBQ.avg_rating) AS avg_rating\n",
    "FROM\n",
    "    (SELECT\n",
    "         authors.author AS author,\n",
    "         books.book_id AS id,\n",
    "         AVG(ratings.rating) AS avg_rating,\n",
    "         COUNT(ratings.rating) AS cnt_rating\n",
    "    FROM\n",
    "        authors\n",
    "    INNER JOIN books ON books.author_id = authors.author_id\n",
    "    INNER JOIN ratings ON ratings.book_id = books.book_id\n",
    "    GROUP BY\n",
    "        author,\n",
    "        id\n",
    "        HAVING\n",
    "        COUNT(ratings.rating) >= 50) AS SUBQ\n",
    "GROUP BY\n",
    "    author\n",
    "ORDER BY\n",
    "    avg_rating DESC\n",
    "LIMIT 5     \n",
    "'''\n",
    "display(best_author_avg_rating)"
   ]
  },
  {
   "cell_type": "markdown",
   "metadata": {},
   "source": [
    "Выводы:\n",
    "\n",
    "Автор с самой высокой средней оценкой книг это J.K. Rowling/Mary GrandPré."
   ]
  },
  {
   "cell_type": "markdown",
   "metadata": {},
   "source": [
    "### Посчитайте среднее количество обзоров от пользователей, которые поставили больше 50 оценок."
   ]
  },
  {
   "cell_type": "code",
   "execution_count": 18,
   "metadata": {},
   "outputs": [
    {
     "data": {
      "text/html": [
       "<div>\n",
       "<style scoped>\n",
       "    .dataframe tbody tr th:only-of-type {\n",
       "        vertical-align: middle;\n",
       "    }\n",
       "\n",
       "    .dataframe tbody tr th {\n",
       "        vertical-align: top;\n",
       "    }\n",
       "\n",
       "    .dataframe thead th {\n",
       "        text-align: right;\n",
       "    }\n",
       "</style>\n",
       "<table border=\"1\" class=\"dataframe\">\n",
       "  <thead>\n",
       "    <tr style=\"text-align: right;\">\n",
       "      <th></th>\n",
       "      <th>rounded_avg_review</th>\n",
       "    </tr>\n",
       "  </thead>\n",
       "  <tbody>\n",
       "    <tr>\n",
       "      <td>0</td>\n",
       "      <td>24.00</td>\n",
       "    </tr>\n",
       "  </tbody>\n",
       "</table>\n",
       "</div>"
      ],
      "text/plain": [
       "   rounded_avg_review\n",
       "0 24.00              "
      ]
     },
     "execution_count": 18,
     "metadata": {},
     "output_type": "execute_result"
    }
   ],
   "source": [
    "avg_reviews = '''              -- выведем среднее по количеству обзоров, округление выполним функцией round\n",
    "SELECT \n",
    "    round(avg(count)) AS rounded_avg_review    \n",
    "FROM\n",
    "    (SELECT\n",
    "        COUNT(text)\n",
    "    FROM \n",
    "        reviews\n",
    "    FULL OUTER JOIN (SELECT username, COUNT(rating_id) as cnt FROM ratings GROUP BY username) AS cnt_rating\n",
    "    ON cnt_rating.username = reviews.username where cnt > 50\n",
    "    GROUP BY reviews.username) as count;                                  \n",
    "'''\n",
    "display(avg_reviews)"
   ]
  },
  {
   "cell_type": "markdown",
   "metadata": {},
   "source": [
    "Выводы:\n",
    "\n",
    "Среднее количество обзоров от пользователей, которые поставили больше 50 оценок, 24."
   ]
  },
  {
   "cell_type": "markdown",
   "metadata": {},
   "source": [
    "## Шаг. Общий вывод"
   ]
  },
  {
   "cell_type": "markdown",
   "metadata": {},
   "source": [
    "* После 1 января 2000 года было выпущено 819 книг.\n",
    "\n",
    "* Топ-5 по количеству обзоров:\n",
    "    * Memoirs of a Geisha 4.14 / 8\n",
    "    * Twilight (Twilight #1) 3.66 / 7\n",
    "    * The Da Vinci Code (Robert Langdon #2) 3.83 / 6\n",
    "    * The Road 3.77 / 6\n",
    "    * Harry Potter and the Prisoner of Azkaban (Harry Potter #3) 4.41 / 6\n",
    "* Издательство Penguin Books - выпустило наибольше число книг в кол-ве 42 книг, толще 50 страниц.\n",
    "* Cамая высокая средняя оценка у автора J.K. Rowling/Mary GrandPré.\n",
    "* Среднее кол-во текстовых обзоров пользователей 24, которые поставили более чем по 50 оценок."
   ]
  }
 ],
 "metadata": {
  "ExecuteTimeLog": [
   {
    "duration": 865,
    "start_time": "2021-12-17T21:39:57.328Z"
   },
   {
    "duration": 4,
    "start_time": "2021-12-17T21:48:42.357Z"
   },
   {
    "duration": 259,
    "start_time": "2021-12-17T21:50:12.426Z"
   },
   {
    "duration": 67,
    "start_time": "2021-12-17T21:50:33.270Z"
   },
   {
    "duration": 57,
    "start_time": "2021-12-17T21:50:52.060Z"
   },
   {
    "duration": 105,
    "start_time": "2021-12-17T21:51:06.956Z"
   },
   {
    "duration": 95,
    "start_time": "2021-12-17T21:51:22.213Z"
   },
   {
    "duration": 4,
    "start_time": "2021-12-17T21:52:07.459Z"
   },
   {
    "duration": 58,
    "start_time": "2021-12-17T21:52:31.532Z"
   },
   {
    "duration": 118,
    "start_time": "2021-12-17T21:53:01.527Z"
   },
   {
    "duration": 57,
    "start_time": "2021-12-17T21:54:33.895Z"
   },
   {
    "duration": 64,
    "start_time": "2021-12-17T21:55:07.008Z"
   },
   {
    "duration": 57,
    "start_time": "2021-12-17T21:55:50.279Z"
   },
   {
    "duration": 876,
    "start_time": "2021-12-17T21:57:57.834Z"
   },
   {
    "duration": 4,
    "start_time": "2021-12-17T21:57:58.712Z"
   },
   {
    "duration": 243,
    "start_time": "2021-12-17T21:57:58.719Z"
   },
   {
    "duration": 64,
    "start_time": "2021-12-17T21:57:58.965Z"
   },
   {
    "duration": 61,
    "start_time": "2021-12-17T21:57:59.031Z"
   },
   {
    "duration": 87,
    "start_time": "2021-12-17T21:57:59.095Z"
   },
   {
    "duration": 77,
    "start_time": "2021-12-17T21:57:59.185Z"
   },
   {
    "duration": 4,
    "start_time": "2021-12-17T21:57:59.265Z"
   },
   {
    "duration": 62,
    "start_time": "2021-12-17T21:57:59.272Z"
   },
   {
    "duration": 96,
    "start_time": "2021-12-17T21:57:59.337Z"
   },
   {
    "duration": 61,
    "start_time": "2021-12-17T21:57:59.436Z"
   },
   {
    "duration": 64,
    "start_time": "2021-12-17T21:57:59.499Z"
   },
   {
    "duration": 61,
    "start_time": "2021-12-17T21:57:59.566Z"
   },
   {
    "duration": 146,
    "start_time": "2021-12-18T08:47:02.677Z"
   },
   {
    "duration": 19,
    "start_time": "2021-12-18T08:47:02.808Z"
   },
   {
    "duration": 18,
    "start_time": "2021-12-18T08:47:02.810Z"
   },
   {
    "duration": 17,
    "start_time": "2021-12-18T08:47:02.812Z"
   },
   {
    "duration": 16,
    "start_time": "2021-12-18T08:47:02.814Z"
   },
   {
    "duration": 13,
    "start_time": "2021-12-18T08:47:02.817Z"
   },
   {
    "duration": -73,
    "start_time": "2021-12-18T08:47:02.904Z"
   },
   {
    "duration": -74,
    "start_time": "2021-12-18T08:47:02.906Z"
   },
   {
    "duration": -81,
    "start_time": "2021-12-18T08:47:02.914Z"
   },
   {
    "duration": -83,
    "start_time": "2021-12-18T08:47:02.917Z"
   },
   {
    "duration": -84,
    "start_time": "2021-12-18T08:47:02.919Z"
   },
   {
    "duration": -115,
    "start_time": "2021-12-18T08:47:02.950Z"
   },
   {
    "duration": -117,
    "start_time": "2021-12-18T08:47:02.953Z"
   },
   {
    "duration": -118,
    "start_time": "2021-12-18T08:47:02.955Z"
   },
   {
    "duration": 624,
    "start_time": "2021-12-18T08:47:24.392Z"
   },
   {
    "duration": 3,
    "start_time": "2021-12-18T08:47:25.018Z"
   },
   {
    "duration": 272,
    "start_time": "2021-12-18T08:47:25.023Z"
   },
   {
    "duration": 65,
    "start_time": "2021-12-18T08:47:25.297Z"
   },
   {
    "duration": 64,
    "start_time": "2021-12-18T08:47:25.363Z"
   },
   {
    "duration": 84,
    "start_time": "2021-12-18T08:47:25.429Z"
   },
   {
    "duration": 79,
    "start_time": "2021-12-18T08:47:25.515Z"
   },
   {
    "duration": 3,
    "start_time": "2021-12-18T08:47:25.596Z"
   },
   {
    "duration": 82,
    "start_time": "2021-12-18T08:47:25.601Z"
   },
   {
    "duration": 100,
    "start_time": "2021-12-18T08:47:25.685Z"
   },
   {
    "duration": 64,
    "start_time": "2021-12-18T08:47:25.787Z"
   },
   {
    "duration": 68,
    "start_time": "2021-12-18T08:47:25.853Z"
   },
   {
    "duration": 65,
    "start_time": "2021-12-18T08:47:25.923Z"
   },
   {
    "duration": 80,
    "start_time": "2021-12-18T08:49:07.908Z"
   },
   {
    "duration": 281,
    "start_time": "2021-12-18T11:12:42.360Z"
   },
   {
    "duration": 301,
    "start_time": "2021-12-18T11:13:13.341Z"
   },
   {
    "duration": 1369,
    "start_time": "2021-12-18T11:13:57.981Z"
   },
   {
    "duration": 580,
    "start_time": "2021-12-18T11:14:05.032Z"
   },
   {
    "duration": 553,
    "start_time": "2021-12-18T11:14:05.613Z"
   },
   {
    "duration": 2,
    "start_time": "2021-12-18T11:14:06.170Z"
   },
   {
    "duration": 84,
    "start_time": "2021-12-18T11:14:06.174Z"
   },
   {
    "duration": 68,
    "start_time": "2021-12-18T11:14:06.260Z"
   },
   {
    "duration": 67,
    "start_time": "2021-12-18T11:14:06.329Z"
   },
   {
    "duration": 80,
    "start_time": "2021-12-18T11:14:06.398Z"
   },
   {
    "duration": 105,
    "start_time": "2021-12-18T11:14:06.481Z"
   },
   {
    "duration": 330,
    "start_time": "2021-12-18T11:14:06.588Z"
   },
   {
    "duration": 23,
    "start_time": "2021-12-18T11:14:06.920Z"
   },
   {
    "duration": 3,
    "start_time": "2021-12-18T11:14:06.944Z"
   },
   {
    "duration": 68,
    "start_time": "2021-12-18T11:14:06.948Z"
   },
   {
    "duration": 114,
    "start_time": "2021-12-18T11:14:07.018Z"
   },
   {
    "duration": 67,
    "start_time": "2021-12-18T11:14:07.134Z"
   },
   {
    "duration": 71,
    "start_time": "2021-12-18T11:14:07.203Z"
   },
   {
    "duration": 67,
    "start_time": "2021-12-18T11:14:07.275Z"
   },
   {
    "duration": 631,
    "start_time": "2021-12-18T11:14:40.688Z"
   },
   {
    "duration": 3,
    "start_time": "2021-12-18T11:14:41.321Z"
   },
   {
    "duration": 273,
    "start_time": "2021-12-18T11:14:41.325Z"
   },
   {
    "duration": 70,
    "start_time": "2021-12-18T11:14:41.600Z"
   },
   {
    "duration": 70,
    "start_time": "2021-12-18T11:14:41.672Z"
   },
   {
    "duration": 89,
    "start_time": "2021-12-18T11:14:41.744Z"
   },
   {
    "duration": 84,
    "start_time": "2021-12-18T11:14:41.835Z"
   },
   {
    "duration": 24,
    "start_time": "2021-12-18T11:14:41.921Z"
   },
   {
    "duration": 2,
    "start_time": "2021-12-18T11:14:41.947Z"
   },
   {
    "duration": 71,
    "start_time": "2021-12-18T11:14:41.951Z"
   },
   {
    "duration": 102,
    "start_time": "2021-12-18T11:14:42.024Z"
   },
   {
    "duration": 69,
    "start_time": "2021-12-18T11:14:42.128Z"
   },
   {
    "duration": 72,
    "start_time": "2021-12-18T11:14:42.199Z"
   },
   {
    "duration": 69,
    "start_time": "2021-12-18T11:14:42.273Z"
   },
   {
    "duration": 311,
    "start_time": "2021-12-18T11:15:57.857Z"
   },
   {
    "duration": 3,
    "start_time": "2021-12-18T11:17:48.983Z"
   },
   {
    "duration": 74,
    "start_time": "2021-12-18T11:17:51.314Z"
   },
   {
    "duration": 80,
    "start_time": "2021-12-18T11:18:44.237Z"
   },
   {
    "duration": 74,
    "start_time": "2021-12-18T11:19:39.505Z"
   },
   {
    "duration": 71,
    "start_time": "2021-12-18T11:19:57.417Z"
   },
   {
    "duration": 91,
    "start_time": "2021-12-18T11:25:51.352Z"
   },
   {
    "duration": 77,
    "start_time": "2021-12-18T11:30:11.026Z"
   },
   {
    "duration": 645,
    "start_time": "2021-12-18T11:30:21.251Z"
   },
   {
    "duration": 3,
    "start_time": "2021-12-18T11:30:21.898Z"
   },
   {
    "duration": 276,
    "start_time": "2021-12-18T11:30:21.903Z"
   },
   {
    "duration": 65,
    "start_time": "2021-12-18T11:30:22.181Z"
   },
   {
    "duration": 65,
    "start_time": "2021-12-18T11:30:22.247Z"
   },
   {
    "duration": 99,
    "start_time": "2021-12-18T11:30:22.314Z"
   },
   {
    "duration": 79,
    "start_time": "2021-12-18T11:30:22.415Z"
   },
   {
    "duration": 25,
    "start_time": "2021-12-18T11:30:22.497Z"
   },
   {
    "duration": 3,
    "start_time": "2021-12-18T11:30:22.524Z"
   },
   {
    "duration": 71,
    "start_time": "2021-12-18T11:30:22.528Z"
   },
   {
    "duration": 4,
    "start_time": "2021-12-18T11:30:22.600Z"
   },
   {
    "duration": 88,
    "start_time": "2021-12-18T11:30:22.605Z"
   },
   {
    "duration": 69,
    "start_time": "2021-12-18T11:30:22.695Z"
   },
   {
    "duration": 67,
    "start_time": "2021-12-18T11:30:22.765Z"
   },
   {
    "duration": 72,
    "start_time": "2021-12-18T11:30:22.834Z"
   },
   {
    "duration": 64,
    "start_time": "2021-12-18T11:30:22.908Z"
   },
   {
    "duration": 69,
    "start_time": "2021-12-18T11:30:22.974Z"
   },
   {
    "duration": 66,
    "start_time": "2021-12-18T11:30:23.045Z"
   }
  ],
  "kernelspec": {
   "display_name": "Python 3 (ipykernel)",
   "language": "python",
   "name": "python3"
  },
  "language_info": {
   "codemirror_mode": {
    "name": "ipython",
    "version": 3
   },
   "file_extension": ".py",
   "mimetype": "text/x-python",
   "name": "python",
   "nbconvert_exporter": "python",
   "pygments_lexer": "ipython3",
   "version": "3.9.5"
  },
  "toc": {
   "base_numbering": 1,
   "nav_menu": {},
   "number_sections": true,
   "sideBar": true,
   "skip_h1_title": true,
   "title_cell": "Table of Contents",
   "title_sidebar": "Contents",
   "toc_cell": false,
   "toc_position": {},
   "toc_section_display": true,
   "toc_window_display": false
  }
 },
 "nbformat": 4,
 "nbformat_minor": 2
}
