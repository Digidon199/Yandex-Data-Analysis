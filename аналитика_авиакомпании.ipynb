{
 "cells": [
  {
   "cell_type": "markdown",
   "metadata": {},
   "source": [
    "\n",
    "Описание проекта\n",
    "\n",
    "Вы аналитик компании «F9» — это российская авиакомпания, выполняющая внутренние пассажирские авиаперевозки. Сотни перелётов каждый день. Важно понять предпочтения пользователей, покупающих билеты на те или иные направления.\n",
    "\n",
    "Вам предстоит изучить базу данных и проанализировать спрос пассажиров на рейсы в города, где проходят крупнейшие фестивали.\n",
    "\n",
    "Инструкция по выполнению проекта\n",
    "\n",
    "Шаг 1.\n",
    "Напишите парсер для сбора с сайта данных о 10 крупнейших фестивалях 2018 года Ссылка на сайт: https://code.s3.yandex.net/learning-materials/data-analyst/festival_news/index.html\n",
    "\n",
    "Шаг 2.\n",
    "Исследовательский анализ данных\n",
    "\n",
    "Посчитайте, на самолётах какой модели было совершено больше всего рейсов в сентябре 2018 года. Назовите получившееся поле flights_amount и выведите его , также выведите поле model.\n",
    "Посчитайте количество рейсов по всем моделям самолетов Boeing и Airbus в сентябре. Назовите получившуюся переменную flights_amount и выведите ее.\n",
    "Посчитайте среднее количество прибывающих рейсов в день для каждого города за август 2018 года. Назовите получившееся поле average_flights , вместе с ней выведите столбец city.\n",
    "Установите топ 10 наиболее популярныx маршрутов. Выведите такие столбцы: departure_airport , arrival_airport . Столбец с агрегированной информацией о количестве билетов ticket_amount.\n",
    "\n",
    "Шаг 3.\n",
    "Проверьте гипотезу, что количество рейсов во время фестивалей увеличивается\n",
    "\n",
    "Для каждой недели с 23 июля по 30 сентября 2018 года посчитайте количество билетов, купленных на рейсы в Москву. Выведите номер недели week_number и количество рейсов flights_amount.\n",
    "Установите фестивали, которые проходили с 23 июля по 30 сентября 2018 года в Москве, и номер недели, в которую они проходили. Выведите название фестиваля festival_name и номер недели festival_week.\n",
    "Получите таблицу, в которой будет информация о количестве купленных за неделю билетов, отметка, проходил ли в эту неделю фестиваль, название фестиваля festival_name и номер недели week_number.\n",
    "\n",
    "Шаг 4.\n",
    "Аналитика средствами Python\n",
    "\n",
    "У вас есть файлы, в которых содержатся результаты запросов из предыдущих заданий.\n",
    "\n",
    "query_1.csv — результат первого запроса.\n",
    "В нём содержится информация о: model — модели самолета flights_amount — количество рейсов для каждой модели самолетов model в сентябре 2018 года\n",
    "\n",
    "query_3.csv — результат третьего запроса.\n",
    "В нём содержится информация о: city — городах average_flights — среднем количестве рейсов, прибывающих в город city за день в сентябре 2018 года Для этих двух наборов данных нужно:\n",
    "\n",
    "импортировать файлы;\n",
    "изучить данные в них;\n",
    "проверить типы данных на корректность;\n",
    "выбрать топ-10 городов по количеству рейсов;\n",
    "построить графики: модели самолетов и количество рейсов, города и количество рейсов, топ-10 городов и количество рейсов;\n",
    "сделать выводы по каждому из графиков, пояснить результат.\n",
    "Шаг 5.\n",
    "Проверка гипотезы средствами Python\n",
    "\n",
    "query_last.csv — результат последнего запроса. В нём следующая информация: week_number — номер недели; ticket_amount — количество проданных билетов за неделю; festival_week — есть ли на этой неделе фестиваль; festival_name — название фестиваля.\n",
    "\n",
    "Проверьте гипотезу: «Средний спрос на билеты во время фестивалей не отличается от среднего спроса на билеты в обычное время». Пороговое значение alpha задайте самостоятельно.\n",
    "Поясните: как вы формулировали нулевую и альтернативную гипотезы; какой критерий использовали для проверки гипотез и почему."
   ]
  },
  {
   "cell_type": "markdown",
   "metadata": {},
   "source": [
    "\n",
    "СОДЕРЖАНИЕ¶\n",
    "1. Получение общей информации о данных\n",
    "2. Топ-10 городов по количеству рейсов\n",
    "3. Графический раздел\n",
    "4. Проверить гипотезу: «Средний спрос на билеты во время фестивалей не отличается от среднего спроса на билеты в обычное время». \n",
    "5. Итог"
   ]
  },
  {
   "cell_type": "code",
   "execution_count": 221,
   "metadata": {},
   "outputs": [],
   "source": [
    "import pandas as pd\n",
    "import matplotlib.pyplot as plt\n",
    "from scipy import stats as st\n",
    "import numpy as np"
   ]
  },
  {
   "cell_type": "code",
   "execution_count": 222,
   "metadata": {},
   "outputs": [
    {
     "name": "stdout",
     "output_type": "stream",
     "text": [
      "Defaulting to user installation because normal site-packages is not writeable\n",
      "Requirement already satisfied: seaborn in /opt/conda/lib/python3.7/site-packages (0.9.0)\n",
      "Requirement already satisfied: numpy>=1.9.3 in /opt/conda/lib/python3.7/site-packages (from seaborn) (1.19.5)\n",
      "Requirement already satisfied: scipy>=0.14.0 in /opt/conda/lib/python3.7/site-packages (from seaborn) (1.4.1)\n",
      "Requirement already satisfied: matplotlib>=1.4.3 in /opt/conda/lib/python3.7/site-packages (from seaborn) (3.1.0)\n",
      "Requirement already satisfied: pandas>=0.15.2 in /opt/conda/lib/python3.7/site-packages (from seaborn) (0.25.1)\n",
      "Requirement already satisfied: python-dateutil>=2.1 in /opt/conda/lib/python3.7/site-packages (from matplotlib>=1.4.3->seaborn) (2.8.1)\n",
      "Requirement already satisfied: kiwisolver>=1.0.1 in /opt/conda/lib/python3.7/site-packages (from matplotlib>=1.4.3->seaborn) (1.3.1)\n",
      "Requirement already satisfied: pyparsing!=2.0.4,!=2.1.2,!=2.1.6,>=2.0.1 in /opt/conda/lib/python3.7/site-packages (from matplotlib>=1.4.3->seaborn) (2.4.7)\n",
      "Requirement already satisfied: cycler>=0.10 in /opt/conda/lib/python3.7/site-packages (from matplotlib>=1.4.3->seaborn) (0.10.0)\n",
      "Requirement already satisfied: pytz>=2017.2 in /opt/conda/lib/python3.7/site-packages (from pandas>=0.15.2->seaborn) (2021.1)\n",
      "Requirement already satisfied: six>=1.5 in /opt/conda/lib/python3.7/site-packages (from python-dateutil>=2.1->matplotlib>=1.4.3->seaborn) (1.15.0)\n",
      "Note: you may need to restart the kernel to use updated packages.\n"
     ]
    }
   ],
   "source": [
    "pip install seaborn"
   ]
  },
  {
   "cell_type": "code",
   "execution_count": 223,
   "metadata": {},
   "outputs": [],
   "source": [
    "import seaborn as sns"
   ]
  },
  {
   "cell_type": "markdown",
   "metadata": {},
   "source": [
    "1. Получение общей информации о данных"
   ]
  },
  {
   "cell_type": "code",
   "execution_count": 224,
   "metadata": {},
   "outputs": [],
   "source": [
    "aircrafts = pd.read_csv('/datasets/query_1.csv')\n",
    "city_flights = pd.read_csv('/datasets/query_3.csv')\n",
    "festivals_flights = pd.read_csv('/datasets/query_last.csv')"
   ]
  },
  {
   "cell_type": "code",
   "execution_count": 225,
   "metadata": {},
   "outputs": [],
   "source": [
    "def information(data):\n",
    "    print('-- ИНФОРМАЦИЯ О ТАБЛИЦЕ --')\n",
    "    print()\n",
    "    print('----------------------------------------------')\n",
    "    print(data.head(10))\n",
    "    print('----------------------------------------------')\n",
    "    print()\n",
    "    print(data.info())"
   ]
  },
  {
   "cell_type": "code",
   "execution_count": 226,
   "metadata": {},
   "outputs": [
    {
     "name": "stdout",
     "output_type": "stream",
     "text": [
      "-- ИНФОРМАЦИЯ О ТАБЛИЦЕ --\n",
      "\n",
      "----------------------------------------------\n",
      "                 model  flights_amount\n",
      "0      Airbus A319-100             607\n",
      "1      Airbus A321-200             960\n",
      "2       Boeing 737-300             630\n",
      "3       Boeing 767-300             600\n",
      "4       Boeing 777-300             300\n",
      "5   Bombardier CRJ-200            4446\n",
      "6   Cessna 208 Caravan            4557\n",
      "7  Sukhoi SuperJet-100            4185\n",
      "----------------------------------------------\n",
      "\n",
      "<class 'pandas.core.frame.DataFrame'>\n",
      "RangeIndex: 8 entries, 0 to 7\n",
      "Data columns (total 2 columns):\n",
      "model             8 non-null object\n",
      "flights_amount    8 non-null int64\n",
      "dtypes: int64(1), object(1)\n",
      "memory usage: 256.0+ bytes\n",
      "None\n"
     ]
    }
   ],
   "source": [
    "information(aircrafts)"
   ]
  },
  {
   "cell_type": "markdown",
   "metadata": {},
   "source": [
    "* В таблице 'aircrafts' отражены данные о совершавших перелеты суднах за сентябрь 2018 года. Пропуски отсутствуют, типы данных соответствуют ожидаемым - информация о моделях самолета хранится в \"object\", о количестве совершенных на них перелетах в сентябре - в типе данных \"int\". Предобработка не требуется."
   ]
  },
  {
   "cell_type": "code",
   "execution_count": 227,
   "metadata": {},
   "outputs": [
    {
     "name": "stdout",
     "output_type": "stream",
     "text": [
      "-- ИНФОРМАЦИЯ О ТАБЛИЦЕ --\n",
      "\n",
      "----------------------------------------------\n",
      "           city  average_flights\n",
      "0        Абакан         3.870968\n",
      "1       Анадырь         1.000000\n",
      "2         Анапа         2.161290\n",
      "3   Архангельск         5.354839\n",
      "4     Астрахань         2.451613\n",
      "5       Барнаул         2.612903\n",
      "6      Белгород         6.000000\n",
      "7    Белоярский         2.000000\n",
      "8  Благовещенск         1.000000\n",
      "9        Братск         1.000000\n",
      "----------------------------------------------\n",
      "\n",
      "<class 'pandas.core.frame.DataFrame'>\n",
      "RangeIndex: 101 entries, 0 to 100\n",
      "Data columns (total 2 columns):\n",
      "city               101 non-null object\n",
      "average_flights    101 non-null float64\n",
      "dtypes: float64(1), object(1)\n",
      "memory usage: 1.7+ KB\n",
      "None\n"
     ]
    }
   ],
   "source": [
    "information(city_flights)"
   ]
  },
  {
   "cell_type": "markdown",
   "metadata": {},
   "source": [
    "* В таблице 'city_flights' отражены данные о совершенных в среднем прилетах в сентябре 2018 года в города. Пропуски отсутствуют, типы данных соответствуют ожидаемым - информация о городах хранится в \"object\", о среднем количестве совершенных прилетов в сентябре - в типе данных \"float\". Предобработка не требуется."
   ]
  },
  {
   "cell_type": "code",
   "execution_count": 228,
   "metadata": {},
   "outputs": [
    {
     "name": "stdout",
     "output_type": "stream",
     "text": [
      "-- ИНФОРМАЦИЯ О ТАБЛИЦЕ --\n",
      "\n",
      "----------------------------------------------\n",
      "   week_number  ticket_amount  festival_week festival_name\n",
      "0           30          43568           30.0     Park Live\n",
      "1           31          51034           31.0  Пикник Афиши\n",
      "2           32          51675            NaN           NaN\n",
      "3           33          51378            NaN           NaN\n",
      "4           34          51492            NaN           NaN\n",
      "5           35          51360            NaN           NaN\n",
      "6           36          51386           36.0       Видфест\n",
      "7           37          51670            NaN           NaN\n",
      "8           38          51518            NaN           NaN\n",
      "9           39          51623            NaN           NaN\n",
      "----------------------------------------------\n",
      "\n",
      "<class 'pandas.core.frame.DataFrame'>\n",
      "RangeIndex: 10 entries, 0 to 9\n",
      "Data columns (total 4 columns):\n",
      "week_number      10 non-null int64\n",
      "ticket_amount    10 non-null int64\n",
      "festival_week    3 non-null float64\n",
      "festival_name    3 non-null object\n",
      "dtypes: float64(1), int64(2), object(1)\n",
      "memory usage: 448.0+ bytes\n",
      "None\n"
     ]
    }
   ],
   "source": [
    "information(festivals_flights)"
   ]
  },
  {
   "cell_type": "markdown",
   "metadata": {},
   "source": [
    "2. Топ-10 городов по количеству рейсов"
   ]
  },
  {
   "cell_type": "code",
   "execution_count": 229,
   "metadata": {},
   "outputs": [
    {
     "data": {
      "text/html": [
       "<div>\n",
       "<style scoped>\n",
       "    .dataframe tbody tr th:only-of-type {\n",
       "        vertical-align: middle;\n",
       "    }\n",
       "\n",
       "    .dataframe tbody tr th {\n",
       "        vertical-align: top;\n",
       "    }\n",
       "\n",
       "    .dataframe thead th {\n",
       "        text-align: right;\n",
       "    }\n",
       "</style>\n",
       "<table border=\"1\" class=\"dataframe\">\n",
       "  <thead>\n",
       "    <tr style=\"text-align: right;\">\n",
       "      <th></th>\n",
       "      <th>index</th>\n",
       "      <th>city</th>\n",
       "      <th>average_flights</th>\n",
       "    </tr>\n",
       "  </thead>\n",
       "  <tbody>\n",
       "    <tr>\n",
       "      <td>0</td>\n",
       "      <td>43</td>\n",
       "      <td>Москва</td>\n",
       "      <td>129.774194</td>\n",
       "    </tr>\n",
       "    <tr>\n",
       "      <td>1</td>\n",
       "      <td>70</td>\n",
       "      <td>Санкт-Петербург</td>\n",
       "      <td>31.161290</td>\n",
       "    </tr>\n",
       "    <tr>\n",
       "      <td>2</td>\n",
       "      <td>54</td>\n",
       "      <td>Новосибирск</td>\n",
       "      <td>17.322581</td>\n",
       "    </tr>\n",
       "    <tr>\n",
       "      <td>3</td>\n",
       "      <td>33</td>\n",
       "      <td>Красноярск</td>\n",
       "      <td>11.580645</td>\n",
       "    </tr>\n",
       "    <tr>\n",
       "      <td>4</td>\n",
       "      <td>20</td>\n",
       "      <td>Екатеринбург</td>\n",
       "      <td>11.322581</td>\n",
       "    </tr>\n",
       "    <tr>\n",
       "      <td>5</td>\n",
       "      <td>67</td>\n",
       "      <td>Ростов-на-Дону</td>\n",
       "      <td>10.193548</td>\n",
       "    </tr>\n",
       "    <tr>\n",
       "      <td>6</td>\n",
       "      <td>63</td>\n",
       "      <td>Пермь</td>\n",
       "      <td>10.129032</td>\n",
       "    </tr>\n",
       "    <tr>\n",
       "      <td>7</td>\n",
       "      <td>10</td>\n",
       "      <td>Брянск</td>\n",
       "      <td>10.000000</td>\n",
       "    </tr>\n",
       "    <tr>\n",
       "      <td>8</td>\n",
       "      <td>74</td>\n",
       "      <td>Сочи</td>\n",
       "      <td>9.612903</td>\n",
       "    </tr>\n",
       "    <tr>\n",
       "      <td>9</td>\n",
       "      <td>84</td>\n",
       "      <td>Ульяновск</td>\n",
       "      <td>9.580645</td>\n",
       "    </tr>\n",
       "  </tbody>\n",
       "</table>\n",
       "</div>"
      ],
      "text/plain": [
       "   index             city  average_flights\n",
       "0     43           Москва       129.774194\n",
       "1     70  Санкт-Петербург        31.161290\n",
       "2     54      Новосибирск        17.322581\n",
       "3     33       Красноярск        11.580645\n",
       "4     20     Екатеринбург        11.322581\n",
       "5     67   Ростов-на-Дону        10.193548\n",
       "6     63            Пермь        10.129032\n",
       "7     10           Брянск        10.000000\n",
       "8     74             Сочи         9.612903\n",
       "9     84        Ульяновск         9.580645"
      ]
     },
     "execution_count": 229,
     "metadata": {},
     "output_type": "execute_result"
    }
   ],
   "source": [
    "# Отберем города с самыми наибольшими воздушными перелётами\n",
    "\n",
    "top_10_city = city_flights.sort_values(by = 'average_flights', ascending = False).head(10).reset_index()\n",
    "top_10_city"
   ]
  },
  {
   "cell_type": "markdown",
   "metadata": {},
   "source": [
    "3. Графический раздел"
   ]
  },
  {
   "cell_type": "code",
   "execution_count": 230,
   "metadata": {},
   "outputs": [],
   "source": [
    "def for_plot(data, x, y):\n",
    "    \"\"\"\"призвана строить графики в единообразном стиле\"\"\"\n",
    "    sns.set_palette('pastel')\n",
    "    plt.figure(figsize=(18,4))\n",
    "    sns.barplot(x = x, y = y, data = data)\n",
    "    plt.title('Модели самолетов и количество рейсов')\n",
    "    plt.xlabel('Модель самалёта')\n",
    "    plt.xticks(rotation=90)\n",
    "    plt.ylabel('количество рейсов')\n",
    "    plt.palette = 'Blues'\n",
    "    plt.show()\n",
    "    print(data.sort_values(by = y, ascending = False).head(10).reset_index(drop=True))\n",
    "    print('-------------------------------------')\n",
    "    print('В среднем:', data[y].mean())\n",
    "    print('-------------------------------------')"
   ]
  },
  {
   "cell_type": "markdown",
   "metadata": {},
   "source": [
    "Модели самолетов и количество рейсов"
   ]
  },
  {
   "cell_type": "code",
   "execution_count": 231,
   "metadata": {},
   "outputs": [
    {
     "data": {
      "image/png": "[encoded data removed]",
      "text/plain": [
       "<Figure size 1296x288 with 1 Axes>"
      ]
     },
     "metadata": {
      "needs_background": "light"
     },
     "output_type": "display_data"
    },
    {
     "name": "stdout",
     "output_type": "stream",
     "text": [
      "                 model  flights_amount\n",
      "0   Cessna 208 Caravan            4557\n",
      "1   Bombardier CRJ-200            4446\n",
      "2  Sukhoi SuperJet-100            4185\n",
      "3      Airbus A321-200             960\n",
      "4       Boeing 737-300             630\n",
      "5      Airbus A319-100             607\n",
      "6       Boeing 767-300             600\n",
      "7       Boeing 777-300             300\n",
      "-------------------------------------\n",
      "В среднем: 2035.625\n",
      "-------------------------------------\n"
     ]
    }
   ],
   "source": [
    "for_plot(aircrafts, 'model', 'flights_amount')"
   ]
  },
  {
   "cell_type": "markdown",
   "metadata": {},
   "source": [
    "Наиболее используемыми моделями являются \"Cessna 208 Caravan\" и \"Bombardier CRJ-200 \"."
   ]
  },
  {
   "cell_type": "markdown",
   "metadata": {},
   "source": [
    "Города и количество рейсов"
   ]
  },
  {
   "cell_type": "code",
   "execution_count": 232,
   "metadata": {},
   "outputs": [],
   "source": [
    "def for_plot(data, x, y):\n",
    "    \"\"\"\"призвана строить графики в единообразном стиле\"\"\"\n",
    "    sns.set_palette('pastel')\n",
    "    plt.figure(figsize=(18,4))\n",
    "    sns.barplot(x = x, y = y, data = data)\n",
    "    plt.title('Города и количество рейсов')\n",
    "    plt.xlabel('Города')\n",
    "    plt.xticks(rotation=90)\n",
    "    plt.ylabel('количество рейсов')\n",
    "    plt.palette = 'Blues'\n",
    "    plt.show()\n",
    "    print(data.sort_values(by = y, ascending = False).head(10).reset_index(drop=True))\n",
    "    print('-------------------------------------')\n",
    "    print('В среднем:', data[y].mean())\n",
    "    print('-------------------------------------')"
   ]
  },
  {
   "cell_type": "code",
   "execution_count": 233,
   "metadata": {
    "scrolled": true
   },
   "outputs": [
    {
     "data": {
      "image/png": "[encoded data removed]",
      "text/plain": [
       "<Figure size 1296x288 with 1 Axes>"
      ]
     },
     "metadata": {
      "needs_background": "light"
     },
     "output_type": "display_data"
    },
    {
     "name": "stdout",
     "output_type": "stream",
     "text": [
      "              city  average_flights\n",
      "0           Москва       129.774194\n",
      "1  Санкт-Петербург        31.161290\n",
      "2      Новосибирск        17.322581\n",
      "3       Красноярск        11.580645\n",
      "4     Екатеринбург        11.322581\n",
      "5   Ростов-на-Дону        10.193548\n",
      "6            Пермь        10.129032\n",
      "7           Брянск        10.000000\n",
      "8             Сочи         9.612903\n",
      "9        Ульяновск         9.580645\n",
      "-------------------------------------\n",
      "В среднем: 5.494189113891766\n",
      "-------------------------------------\n"
     ]
    }
   ],
   "source": [
    "for_plot(city_flights.sort_values(by = 'average_flights'), 'city', 'average_flights')"
   ]
  },
  {
   "cell_type": "markdown",
   "metadata": {},
   "source": [
    "В большинстве городов происходит не более 10 вылетов"
   ]
  },
  {
   "cell_type": "markdown",
   "metadata": {},
   "source": [
    "Топ-10 городов и количество рейсов"
   ]
  },
  {
   "cell_type": "code",
   "execution_count": 234,
   "metadata": {},
   "outputs": [],
   "source": [
    "def for_plot(data, x, y):\n",
    "    \"\"\"\"призвана строить графики в единообразном стиле\"\"\"\n",
    "    sns.set_palette('pastel')\n",
    "    plt.figure(figsize=(18,4))\n",
    "    sns.barplot(x = x, y = y, data = data)\n",
    "    plt.title('Топ-10 городов и количество рейсов')\n",
    "    plt.xlabel('Города')\n",
    "    plt.xticks(rotation=90)\n",
    "    plt.ylabel('количество рейсов')\n",
    "    plt.palette = 'Blues'\n",
    "    plt.show()\n",
    "    print(data.sort_values(by = y, ascending = False).head(10).reset_index(drop=True))\n",
    "    print('-------------------------------------')\n",
    "    print('В среднем:', data[y].mean())\n",
    "    print('-------------------------------------')"
   ]
  },
  {
   "cell_type": "code",
   "execution_count": 235,
   "metadata": {},
   "outputs": [
    {
     "data": {
      "image/png": "[encoded data removed]",
      "text/plain": [
       "<Figure size 1296x288 with 1 Axes>"
      ]
     },
     "metadata": {
      "needs_background": "light"
     },
     "output_type": "display_data"
    },
    {
     "name": "stdout",
     "output_type": "stream",
     "text": [
      "   index             city  average_flights\n",
      "0     43           Москва       129.774194\n",
      "1     70  Санкт-Петербург        31.161290\n",
      "2     54      Новосибирск        17.322581\n",
      "3     33       Красноярск        11.580645\n",
      "4     20     Екатеринбург        11.322581\n",
      "5     67   Ростов-на-Дону        10.193548\n",
      "6     63            Пермь        10.129032\n",
      "7     10           Брянск        10.000000\n",
      "8     74             Сочи         9.612903\n",
      "9     84        Ульяновск         9.580645\n",
      "-------------------------------------\n",
      "В среднем: 25.06774193548387\n",
      "-------------------------------------\n"
     ]
    }
   ],
   "source": [
    "for_plot(top_10_city.sort_values(by = 'average_flights'), 'city', 'average_flights')"
   ]
  },
  {
   "cell_type": "markdown",
   "metadata": {},
   "source": [
    "Наиболеее загруженные города, ожидаемо, Москва и Санкт-Петербург. Но Москва всё равно лидирует в колличестве перелётов."
   ]
  },
  {
   "cell_type": "markdown",
   "metadata": {},
   "source": [
    "4. Проверка гипотезы"
   ]
  },
  {
   "cell_type": "markdown",
   "metadata": {},
   "source": [
    "\n",
    "Чтобы проверить представленную гипотезу: «Средний спрос на билеты во время фестивалей не отличается от среднего спроса на билеты в обычное время», сформулируем нулевую гипотезу следующим образом, приняв пороговое значение alpha = 0.05:\n",
    "\n",
    "средний спрос на билеты в обычное время равен среднему спросу на билеты во время фестивалей."
   ]
  },
  {
   "cell_type": "code",
   "execution_count": 236,
   "metadata": {},
   "outputs": [],
   "source": [
    "alpha = 0.05"
   ]
  },
  {
   "cell_type": "code",
   "execution_count": 237,
   "metadata": {},
   "outputs": [
    {
     "name": "stdout",
     "output_type": "stream",
     "text": [
      "p-значение: 0.32251818361504203\n",
      "Не получилось отвергнуть нулевую гипотезу\n"
     ]
    }
   ],
   "source": [
    "results = st.ttest_ind(\n",
    "    festivals_flights['ticket_amount'], festivals_flights.query('festival_week > 0.0')['ticket_amount']) \n",
    "\n",
    "print('p-значение:', results.pvalue)\n",
    "\n",
    "if (results.pvalue < alpha):\n",
    "    print(\"Отвергаем нулевую гипотезу\")\n",
    "else:\n",
    "    print(\"Не получилось отвергнуть нулевую гипотезу\")"
   ]
  },
  {
   "cell_type": "markdown",
   "metadata": {},
   "source": [
    "\n",
    "p-значение: 0.32251818361504203\n",
    "Не получилось отвергнуть нулевую гипотезу\n",
    "По результатам проведенной проверки гипотезы зафиксируем:\n",
    "\n",
    "спрос на билеты не зависит от проводимых фестивалей."
   ]
  },
  {
   "cell_type": "markdown",
   "metadata": {},
   "source": [
    "5. Итоговый вывод"
   ]
  },
  {
   "cell_type": "markdown",
   "metadata": {},
   "source": [
    "По результатам проведенной аналитический работы можно сделать следующие выводы:\n",
    "\n",
    "* наиболее задействованы в перелетах авиакомпании \"F9\" (сентябрь 2018 года) самолеты \"Cessna 208 Caravan\" (суммарно 4557 перелетов за месяц) и \"Bombardier CRJ-200\" (суммарно 4446 перелетов за месяц);\n",
    "* суммарно в сентябре на самолетах Boeing (весь модельный ряд) совершено 1530 перелетов;\n",
    "* суммарно в сентябре на самолетах Airbus (весь модельный ряд) совершено 1567 перелетов;\n",
    "* в среднем за сентябрь 2018 года каждый город, отраженный в данных, в среднем принял 5 рейсов;\n",
    "* топ-10 городов по насыщенности авиасообщения, осуществляемого силами авиакомпании \"F9\", возглявляют Москва (~ 130 рейсов в день) и Санкт-Петербург (~ 31 рейс в день);\n",
    "* всего в сентябре 2018 в Москве было проведено 3 крупных Фестиваля: Park Live, Пикник Афиши, Видфест. Их проведение, в среднем, не повлияло на количество приобретенных билетов с пунктом назначения - Москва."
   ]
  },
  {
   "cell_type": "code",
   "execution_count": null,
   "metadata": {},
   "outputs": [],
   "source": []
  }
 ],
 "metadata": {
  "ExecuteTimeLog": [
   {
    "duration": 2152,
    "start_time": "2021-08-09T16:16:23.730Z"
   },
   {
    "duration": 4,
    "start_time": "2021-08-09T16:17:16.019Z"
   },
   {
    "duration": 3556,
    "start_time": "2021-08-09T16:17:23.065Z"
   },
   {
    "duration": 4,
    "start_time": "2021-08-09T16:19:44.780Z"
   },
   {
    "duration": 4,
    "start_time": "2021-08-09T16:19:51.696Z"
   },
   {
    "duration": 4,
    "start_time": "2021-08-09T16:19:57.782Z"
   },
   {
    "duration": 43,
    "start_time": "2021-08-09T16:20:03.410Z"
   },
   {
    "duration": 9,
    "start_time": "2021-08-09T16:20:12.772Z"
   },
   {
    "duration": 50,
    "start_time": "2021-08-09T16:20:20.938Z"
   },
   {
    "duration": 10,
    "start_time": "2021-08-09T16:20:29.336Z"
   },
   {
    "duration": 12,
    "start_time": "2021-08-09T16:20:35.850Z"
   },
   {
    "duration": 12,
    "start_time": "2021-08-09T16:20:43.785Z"
   },
   {
    "duration": 439,
    "start_time": "2021-08-09T16:20:52.999Z"
   },
   {
    "duration": 33,
    "start_time": "2021-08-09T16:27:11.774Z"
   },
   {
    "duration": 5,
    "start_time": "2021-08-09T16:27:22.172Z"
   },
   {
    "duration": 11,
    "start_time": "2021-08-09T16:27:29.475Z"
   },
   {
    "duration": 4,
    "start_time": "2021-08-09T16:27:44.124Z"
   },
   {
    "duration": 8,
    "start_time": "2021-08-09T16:27:51.689Z"
   },
   {
    "duration": 5,
    "start_time": "2021-08-09T16:27:58.003Z"
   },
   {
    "duration": 6,
    "start_time": "2021-08-09T16:28:05.217Z"
   },
   {
    "duration": 4,
    "start_time": "2021-08-09T16:28:38.047Z"
   },
   {
    "duration": 11,
    "start_time": "2021-08-09T16:28:38.054Z"
   },
   {
    "duration": 6,
    "start_time": "2021-08-09T16:28:38.068Z"
   },
   {
    "duration": 27,
    "start_time": "2021-08-09T16:28:38.077Z"
   },
   {
    "duration": 9,
    "start_time": "2021-08-09T16:28:38.107Z"
   },
   {
    "duration": 28,
    "start_time": "2021-08-09T16:28:38.119Z"
   },
   {
    "duration": 8,
    "start_time": "2021-08-09T16:28:38.149Z"
   },
   {
    "duration": 28,
    "start_time": "2021-08-09T16:28:38.159Z"
   },
   {
    "duration": 12,
    "start_time": "2021-08-09T16:28:38.191Z"
   },
   {
    "duration": 472,
    "start_time": "2021-08-09T16:28:38.205Z"
   },
   {
    "duration": 19,
    "start_time": "2021-08-09T16:28:38.680Z"
   },
   {
    "duration": 9,
    "start_time": "2021-08-09T16:28:38.702Z"
   },
   {
    "duration": 17,
    "start_time": "2021-08-09T16:28:38.714Z"
   },
   {
    "duration": 6,
    "start_time": "2021-08-09T16:28:38.734Z"
   },
   {
    "duration": 12,
    "start_time": "2021-08-09T16:28:38.743Z"
   },
   {
    "duration": 28,
    "start_time": "2021-08-09T16:28:38.758Z"
   },
   {
    "duration": 5,
    "start_time": "2021-08-09T16:28:38.790Z"
   },
   {
    "duration": 133,
    "start_time": "2021-08-09T17:39:42.698Z"
   },
   {
    "duration": 145,
    "start_time": "2021-08-09T17:40:19.964Z"
   },
   {
    "duration": 1397,
    "start_time": "2021-08-10T18:06:56.200Z"
   },
   {
    "duration": 3915,
    "start_time": "2021-08-10T18:07:03.971Z"
   },
   {
    "duration": 129,
    "start_time": "2021-08-10T18:07:18.506Z"
   },
   {
    "duration": 48,
    "start_time": "2021-08-10T18:07:48.871Z"
   },
   {
    "duration": 4,
    "start_time": "2021-08-10T18:08:02.118Z"
   },
   {
    "duration": 14,
    "start_time": "2021-08-10T18:08:09.905Z"
   },
   {
    "duration": 11,
    "start_time": "2021-08-10T18:09:12.492Z"
   },
   {
    "duration": 15,
    "start_time": "2021-08-10T18:09:38.340Z"
   },
   {
    "duration": 18,
    "start_time": "2021-08-10T18:10:03.387Z"
   },
   {
    "duration": 7,
    "start_time": "2021-08-10T18:11:15.574Z"
   },
   {
    "duration": 410,
    "start_time": "2021-08-10T18:11:36.291Z"
   },
   {
    "duration": 2639,
    "start_time": "2021-08-10T18:12:31.408Z"
   },
   {
    "duration": 415,
    "start_time": "2021-08-10T18:14:27.393Z"
   },
   {
    "duration": 4,
    "start_time": "2021-08-10T18:16:44.822Z"
   },
   {
    "duration": 17,
    "start_time": "2021-08-10T18:16:51.738Z"
   },
   {
    "duration": 4,
    "start_time": "2021-08-10T18:21:55.898Z"
   },
   {
    "duration": 3294,
    "start_time": "2021-08-10T18:21:55.904Z"
   },
   {
    "duration": 4,
    "start_time": "2021-08-10T18:21:59.201Z"
   },
   {
    "duration": 57,
    "start_time": "2021-08-10T18:21:59.207Z"
   },
   {
    "duration": 6,
    "start_time": "2021-08-10T18:21:59.266Z"
   },
   {
    "duration": 15,
    "start_time": "2021-08-10T18:21:59.274Z"
   },
   {
    "duration": 12,
    "start_time": "2021-08-10T18:21:59.292Z"
   },
   {
    "duration": 19,
    "start_time": "2021-08-10T18:21:59.307Z"
   },
   {
    "duration": 13,
    "start_time": "2021-08-10T18:21:59.330Z"
   },
   {
    "duration": 6,
    "start_time": "2021-08-10T18:21:59.346Z"
   },
   {
    "duration": 431,
    "start_time": "2021-08-10T18:21:59.355Z"
   },
   {
    "duration": 2882,
    "start_time": "2021-08-10T18:21:59.788Z"
   },
   {
    "duration": 437,
    "start_time": "2021-08-10T18:22:02.685Z"
   },
   {
    "duration": 3,
    "start_time": "2021-08-10T18:22:03.124Z"
   },
   {
    "duration": 16,
    "start_time": "2021-08-10T18:22:03.130Z"
   },
   {
    "duration": 84,
    "start_time": "2021-08-10T19:13:49.443Z"
   },
   {
    "duration": 108,
    "start_time": "2021-08-10T19:14:34.704Z"
   },
   {
    "duration": 84,
    "start_time": "2021-08-10T19:15:24.576Z"
   },
   {
    "duration": 906,
    "start_time": "2021-08-10T19:26:59.746Z"
   },
   {
    "duration": 5,
    "start_time": "2021-08-10T19:27:04.416Z"
   },
   {
    "duration": 3532,
    "start_time": "2021-08-10T19:27:04.424Z"
   },
   {
    "duration": 4,
    "start_time": "2021-08-10T19:27:07.959Z"
   },
   {
    "duration": 49,
    "start_time": "2021-08-10T19:27:07.967Z"
   },
   {
    "duration": 6,
    "start_time": "2021-08-10T19:27:08.019Z"
   },
   {
    "duration": 19,
    "start_time": "2021-08-10T19:27:08.028Z"
   },
   {
    "duration": 15,
    "start_time": "2021-08-10T19:27:08.049Z"
   },
   {
    "duration": 23,
    "start_time": "2021-08-10T19:27:08.066Z"
   },
   {
    "duration": 16,
    "start_time": "2021-08-10T19:27:08.093Z"
   },
   {
    "duration": 7,
    "start_time": "2021-08-10T19:27:08.112Z"
   },
   {
    "duration": 885,
    "start_time": "2021-08-10T19:27:08.122Z"
   },
   {
    "duration": -5609,
    "start_time": "2021-08-10T19:27:14.619Z"
   },
   {
    "duration": -5607,
    "start_time": "2021-08-10T19:27:14.620Z"
   },
   {
    "duration": -5605,
    "start_time": "2021-08-10T19:27:14.620Z"
   },
   {
    "duration": -5604,
    "start_time": "2021-08-10T19:27:14.621Z"
   },
   {
    "duration": 4,
    "start_time": "2021-08-10T19:27:31.276Z"
   },
   {
    "duration": 4166,
    "start_time": "2021-08-10T19:27:31.283Z"
   },
   {
    "duration": 4,
    "start_time": "2021-08-10T19:27:35.453Z"
   },
   {
    "duration": 56,
    "start_time": "2021-08-10T19:27:35.461Z"
   },
   {
    "duration": 6,
    "start_time": "2021-08-10T19:27:35.520Z"
   },
   {
    "duration": 23,
    "start_time": "2021-08-10T19:27:35.529Z"
   },
   {
    "duration": 20,
    "start_time": "2021-08-10T19:27:35.555Z"
   },
   {
    "duration": 24,
    "start_time": "2021-08-10T19:27:35.578Z"
   },
   {
    "duration": 34,
    "start_time": "2021-08-10T19:27:35.608Z"
   },
   {
    "duration": 32,
    "start_time": "2021-08-10T19:27:35.645Z"
   },
   {
    "duration": 452,
    "start_time": "2021-08-10T19:27:35.680Z"
   },
   {
    "duration": 2987,
    "start_time": "2021-08-10T19:27:36.135Z"
   },
   {
    "duration": 432,
    "start_time": "2021-08-10T19:27:39.125Z"
   },
   {
    "duration": 4,
    "start_time": "2021-08-10T19:27:39.559Z"
   },
   {
    "duration": 27,
    "start_time": "2021-08-10T19:27:39.565Z"
   },
   {
    "duration": 879,
    "start_time": "2021-08-10T19:31:53.557Z"
   },
   {
    "duration": 503,
    "start_time": "2021-08-10T19:32:18.433Z"
   },
   {
    "duration": 715,
    "start_time": "2021-08-10T19:34:28.758Z"
   },
   {
    "duration": 629,
    "start_time": "2021-08-10T19:34:56.080Z"
   },
   {
    "duration": 386,
    "start_time": "2021-08-10T19:35:34.736Z"
   },
   {
    "duration": 500,
    "start_time": "2021-08-10T20:33:43.442Z"
   },
   {
    "duration": 897,
    "start_time": "2021-08-10T20:34:38.865Z"
   },
   {
    "duration": 1069,
    "start_time": "2021-08-10T20:35:09.156Z"
   },
   {
    "duration": 4,
    "start_time": "2021-08-10T20:35:13.952Z"
   },
   {
    "duration": 3544,
    "start_time": "2021-08-10T20:35:13.959Z"
   },
   {
    "duration": 3,
    "start_time": "2021-08-10T20:35:17.507Z"
   },
   {
    "duration": 60,
    "start_time": "2021-08-10T20:35:17.513Z"
   },
   {
    "duration": 5,
    "start_time": "2021-08-10T20:35:17.576Z"
   },
   {
    "duration": 15,
    "start_time": "2021-08-10T20:35:17.584Z"
   },
   {
    "duration": 15,
    "start_time": "2021-08-10T20:35:17.601Z"
   },
   {
    "duration": 22,
    "start_time": "2021-08-10T20:35:17.619Z"
   },
   {
    "duration": 22,
    "start_time": "2021-08-10T20:35:17.644Z"
   },
   {
    "duration": 19,
    "start_time": "2021-08-10T20:35:17.668Z"
   },
   {
    "duration": 430,
    "start_time": "2021-08-10T20:35:17.689Z"
   },
   {
    "duration": 2642,
    "start_time": "2021-08-10T20:35:18.121Z"
   },
   {
    "duration": 440,
    "start_time": "2021-08-10T20:35:20.765Z"
   },
   {
    "duration": 4,
    "start_time": "2021-08-10T20:35:21.207Z"
   },
   {
    "duration": 17,
    "start_time": "2021-08-10T20:35:21.213Z"
   },
   {
    "duration": 4,
    "start_time": "2021-08-10T20:36:00.481Z"
   },
   {
    "duration": 3303,
    "start_time": "2021-08-10T20:36:00.488Z"
   },
   {
    "duration": 4,
    "start_time": "2021-08-10T20:36:03.795Z"
   },
   {
    "duration": 51,
    "start_time": "2021-08-10T20:36:03.802Z"
   },
   {
    "duration": 4,
    "start_time": "2021-08-10T20:36:03.856Z"
   },
   {
    "duration": 19,
    "start_time": "2021-08-10T20:36:03.863Z"
   },
   {
    "duration": 20,
    "start_time": "2021-08-10T20:36:03.884Z"
   },
   {
    "duration": 17,
    "start_time": "2021-08-10T20:36:03.906Z"
   },
   {
    "duration": 15,
    "start_time": "2021-08-10T20:36:03.927Z"
   },
   {
    "duration": 8,
    "start_time": "2021-08-10T20:36:03.945Z"
   },
   {
    "duration": 420,
    "start_time": "2021-08-10T20:36:03.987Z"
   },
   {
    "duration": 829,
    "start_time": "2021-08-10T20:36:04.409Z"
   },
   {
    "duration": -5691,
    "start_time": "2021-08-10T20:36:10.934Z"
   },
   {
    "duration": -5691,
    "start_time": "2021-08-10T20:36:10.936Z"
   },
   {
    "duration": -5690,
    "start_time": "2021-08-10T20:36:10.938Z"
   },
   {
    "duration": 2700,
    "start_time": "2021-08-10T20:36:16.430Z"
   },
   {
    "duration": 631,
    "start_time": "2021-08-10T20:41:53.948Z"
   },
   {
    "duration": 627,
    "start_time": "2021-08-10T20:42:42.267Z"
   },
   {
    "duration": 385,
    "start_time": "2021-08-10T20:43:13.589Z"
   },
   {
    "duration": 389,
    "start_time": "2021-08-10T20:43:52.816Z"
   },
   {
    "duration": 379,
    "start_time": "2021-08-10T20:44:01.608Z"
   },
   {
    "duration": 761,
    "start_time": "2021-08-10T20:48:54.052Z"
   },
   {
    "duration": 747,
    "start_time": "2021-08-10T20:49:22.205Z"
   },
   {
    "duration": 765,
    "start_time": "2021-08-10T20:49:46.392Z"
   },
   {
    "duration": 625,
    "start_time": "2021-08-10T20:50:22.670Z"
   },
   {
    "duration": 396,
    "start_time": "2021-08-10T20:50:56.171Z"
   },
   {
    "duration": 4,
    "start_time": "2021-08-10T20:53:32.265Z"
   },
   {
    "duration": 3369,
    "start_time": "2021-08-10T20:53:32.272Z"
   },
   {
    "duration": 3,
    "start_time": "2021-08-10T20:53:35.645Z"
   },
   {
    "duration": 74,
    "start_time": "2021-08-10T20:53:35.652Z"
   },
   {
    "duration": 9,
    "start_time": "2021-08-10T20:53:35.729Z"
   },
   {
    "duration": 26,
    "start_time": "2021-08-10T20:53:35.741Z"
   },
   {
    "duration": 39,
    "start_time": "2021-08-10T20:53:35.770Z"
   },
   {
    "duration": 15,
    "start_time": "2021-08-10T20:53:35.813Z"
   },
   {
    "duration": 15,
    "start_time": "2021-08-10T20:53:35.834Z"
   },
   {
    "duration": 33,
    "start_time": "2021-08-10T20:53:35.853Z"
   },
   {
    "duration": 419,
    "start_time": "2021-08-10T20:53:35.889Z"
   },
   {
    "duration": 2581,
    "start_time": "2021-08-10T20:53:36.310Z"
   },
   {
    "duration": 446,
    "start_time": "2021-08-10T20:53:38.893Z"
   },
   {
    "duration": 3,
    "start_time": "2021-08-10T20:53:39.341Z"
   },
   {
    "duration": 28,
    "start_time": "2021-08-10T20:53:39.346Z"
   },
   {
    "duration": 4,
    "start_time": "2021-08-10T20:54:26.352Z"
   },
   {
    "duration": 3253,
    "start_time": "2021-08-10T20:54:26.359Z"
   },
   {
    "duration": 4,
    "start_time": "2021-08-10T20:54:29.616Z"
   },
   {
    "duration": 54,
    "start_time": "2021-08-10T20:54:29.622Z"
   },
   {
    "duration": 5,
    "start_time": "2021-08-10T20:54:29.679Z"
   },
   {
    "duration": 21,
    "start_time": "2021-08-10T20:54:29.688Z"
   },
   {
    "duration": 14,
    "start_time": "2021-08-10T20:54:29.712Z"
   },
   {
    "duration": 13,
    "start_time": "2021-08-10T20:54:29.729Z"
   },
   {
    "duration": 47,
    "start_time": "2021-08-10T20:54:29.745Z"
   },
   {
    "duration": 11,
    "start_time": "2021-08-10T20:54:29.795Z"
   },
   {
    "duration": 423,
    "start_time": "2021-08-10T20:54:29.809Z"
   },
   {
    "duration": 2719,
    "start_time": "2021-08-10T20:54:30.235Z"
   },
   {
    "duration": 438,
    "start_time": "2021-08-10T20:54:32.956Z"
   },
   {
    "duration": 4,
    "start_time": "2021-08-10T20:54:33.396Z"
   },
   {
    "duration": 17,
    "start_time": "2021-08-10T20:54:33.402Z"
   },
   {
    "duration": 4,
    "start_time": "2021-08-10T20:56:00.678Z"
   },
   {
    "duration": 3218,
    "start_time": "2021-08-10T20:56:00.685Z"
   },
   {
    "duration": 4,
    "start_time": "2021-08-10T20:56:03.907Z"
   },
   {
    "duration": 61,
    "start_time": "2021-08-10T20:56:03.914Z"
   },
   {
    "duration": 5,
    "start_time": "2021-08-10T20:56:03.978Z"
   },
   {
    "duration": 25,
    "start_time": "2021-08-10T20:56:03.987Z"
   },
   {
    "duration": 17,
    "start_time": "2021-08-10T20:56:04.016Z"
   },
   {
    "duration": 20,
    "start_time": "2021-08-10T20:56:04.035Z"
   },
   {
    "duration": 34,
    "start_time": "2021-08-10T20:56:04.059Z"
   },
   {
    "duration": 8,
    "start_time": "2021-08-10T20:56:04.096Z"
   },
   {
    "duration": 441,
    "start_time": "2021-08-10T20:56:04.107Z"
   },
   {
    "duration": 6,
    "start_time": "2021-08-10T20:56:04.551Z"
   },
   {
    "duration": 2596,
    "start_time": "2021-08-10T20:56:04.560Z"
   },
   {
    "duration": 432,
    "start_time": "2021-08-10T20:56:07.159Z"
   },
   {
    "duration": 4,
    "start_time": "2021-08-10T20:56:07.594Z"
   },
   {
    "duration": 16,
    "start_time": "2021-08-10T20:56:07.600Z"
   },
   {
    "duration": 7,
    "start_time": "2021-08-10T20:56:36.633Z"
   },
   {
    "duration": 2713,
    "start_time": "2021-08-10T20:56:39.476Z"
   },
   {
    "duration": 7,
    "start_time": "2021-08-10T20:57:50.231Z"
   },
   {
    "duration": 5,
    "start_time": "2021-08-10T20:57:53.986Z"
   },
   {
    "duration": 3351,
    "start_time": "2021-08-10T20:57:53.994Z"
   },
   {
    "duration": 4,
    "start_time": "2021-08-10T20:57:57.348Z"
   },
   {
    "duration": 59,
    "start_time": "2021-08-10T20:57:57.355Z"
   },
   {
    "duration": 4,
    "start_time": "2021-08-10T20:57:57.417Z"
   },
   {
    "duration": 19,
    "start_time": "2021-08-10T20:57:57.424Z"
   },
   {
    "duration": 14,
    "start_time": "2021-08-10T20:57:57.445Z"
   },
   {
    "duration": 25,
    "start_time": "2021-08-10T20:57:57.461Z"
   },
   {
    "duration": 15,
    "start_time": "2021-08-10T20:57:57.490Z"
   },
   {
    "duration": 6,
    "start_time": "2021-08-10T20:57:57.507Z"
   },
   {
    "duration": 429,
    "start_time": "2021-08-10T20:57:57.515Z"
   },
   {
    "duration": 6,
    "start_time": "2021-08-10T20:57:57.947Z"
   },
   {
    "duration": 2636,
    "start_time": "2021-08-10T20:57:57.955Z"
   },
   {
    "duration": 448,
    "start_time": "2021-08-10T20:58:00.594Z"
   },
   {
    "duration": 4,
    "start_time": "2021-08-10T20:58:01.044Z"
   },
   {
    "duration": 34,
    "start_time": "2021-08-10T20:58:01.050Z"
   },
   {
    "duration": 4,
    "start_time": "2021-08-10T20:59:17.442Z"
   },
   {
    "duration": 3209,
    "start_time": "2021-08-10T20:59:17.449Z"
   },
   {
    "duration": 5,
    "start_time": "2021-08-10T20:59:20.662Z"
   },
   {
    "duration": 55,
    "start_time": "2021-08-10T20:59:20.669Z"
   },
   {
    "duration": 5,
    "start_time": "2021-08-10T20:59:20.727Z"
   },
   {
    "duration": 16,
    "start_time": "2021-08-10T20:59:20.736Z"
   },
   {
    "duration": 21,
    "start_time": "2021-08-10T20:59:20.755Z"
   },
   {
    "duration": 12,
    "start_time": "2021-08-10T20:59:20.779Z"
   },
   {
    "duration": 16,
    "start_time": "2021-08-10T20:59:20.796Z"
   },
   {
    "duration": 14,
    "start_time": "2021-08-10T20:59:20.815Z"
   },
   {
    "duration": 433,
    "start_time": "2021-08-10T20:59:20.831Z"
   },
   {
    "duration": 18,
    "start_time": "2021-08-10T20:59:21.267Z"
   },
   {
    "duration": 2715,
    "start_time": "2021-08-10T20:59:21.288Z"
   },
   {
    "duration": 442,
    "start_time": "2021-08-10T20:59:24.006Z"
   },
   {
    "duration": 3,
    "start_time": "2021-08-10T20:59:24.451Z"
   },
   {
    "duration": 33,
    "start_time": "2021-08-10T20:59:24.457Z"
   },
   {
    "duration": 7,
    "start_time": "2021-08-10T21:00:00.469Z"
   },
   {
    "duration": 399,
    "start_time": "2021-08-10T21:00:04.324Z"
   },
   {
    "duration": 4,
    "start_time": "2021-08-10T21:00:14.696Z"
   },
   {
    "duration": 3226,
    "start_time": "2021-08-10T21:00:14.703Z"
   },
   {
    "duration": 4,
    "start_time": "2021-08-10T21:00:17.933Z"
   },
   {
    "duration": 52,
    "start_time": "2021-08-10T21:00:17.940Z"
   },
   {
    "duration": 5,
    "start_time": "2021-08-10T21:00:17.995Z"
   },
   {
    "duration": 17,
    "start_time": "2021-08-10T21:00:18.003Z"
   },
   {
    "duration": 14,
    "start_time": "2021-08-10T21:00:18.022Z"
   },
   {
    "duration": 16,
    "start_time": "2021-08-10T21:00:18.038Z"
   },
   {
    "duration": 15,
    "start_time": "2021-08-10T21:00:18.087Z"
   },
   {
    "duration": 11,
    "start_time": "2021-08-10T21:00:18.104Z"
   },
   {
    "duration": 432,
    "start_time": "2021-08-10T21:00:18.117Z"
   },
   {
    "duration": 7,
    "start_time": "2021-08-10T21:00:18.551Z"
   },
   {
    "duration": 2810,
    "start_time": "2021-08-10T21:00:18.560Z"
   },
   {
    "duration": 459,
    "start_time": "2021-08-10T21:00:21.373Z"
   },
   {
    "duration": 4,
    "start_time": "2021-08-10T21:00:21.835Z"
   },
   {
    "duration": 17,
    "start_time": "2021-08-10T21:00:21.841Z"
   },
   {
    "duration": 4,
    "start_time": "2021-08-10T21:03:36.657Z"
   },
   {
    "duration": 3317,
    "start_time": "2021-08-10T21:03:36.664Z"
   },
   {
    "duration": 4,
    "start_time": "2021-08-10T21:03:39.985Z"
   },
   {
    "duration": 62,
    "start_time": "2021-08-10T21:03:39.992Z"
   },
   {
    "duration": 21,
    "start_time": "2021-08-10T21:03:40.057Z"
   },
   {
    "duration": 32,
    "start_time": "2021-08-10T21:03:40.081Z"
   },
   {
    "duration": 29,
    "start_time": "2021-08-10T21:03:40.115Z"
   },
   {
    "duration": 33,
    "start_time": "2021-08-10T21:03:40.147Z"
   },
   {
    "duration": 25,
    "start_time": "2021-08-10T21:03:40.185Z"
   },
   {
    "duration": 32,
    "start_time": "2021-08-10T21:03:40.213Z"
   },
   {
    "duration": 559,
    "start_time": "2021-08-10T21:03:40.248Z"
   },
   {
    "duration": 6,
    "start_time": "2021-08-10T21:03:40.810Z"
   },
   {
    "duration": 2778,
    "start_time": "2021-08-10T21:03:40.818Z"
   },
   {
    "duration": 447,
    "start_time": "2021-08-10T21:03:43.598Z"
   },
   {
    "duration": 4,
    "start_time": "2021-08-10T21:03:44.047Z"
   },
   {
    "duration": 21,
    "start_time": "2021-08-10T21:03:44.053Z"
   },
   {
    "duration": 4,
    "start_time": "2021-08-10T21:05:22.682Z"
   },
   {
    "duration": 3308,
    "start_time": "2021-08-10T21:05:22.688Z"
   },
   {
    "duration": 4,
    "start_time": "2021-08-10T21:05:26.000Z"
   },
   {
    "duration": 57,
    "start_time": "2021-08-10T21:05:26.007Z"
   },
   {
    "duration": 5,
    "start_time": "2021-08-10T21:05:26.067Z"
   },
   {
    "duration": 16,
    "start_time": "2021-08-10T21:05:26.076Z"
   },
   {
    "duration": 15,
    "start_time": "2021-08-10T21:05:26.095Z"
   },
   {
    "duration": 16,
    "start_time": "2021-08-10T21:05:26.113Z"
   },
   {
    "duration": 53,
    "start_time": "2021-08-10T21:05:26.133Z"
   },
   {
    "duration": 8,
    "start_time": "2021-08-10T21:05:26.189Z"
   },
   {
    "duration": 442,
    "start_time": "2021-08-10T21:05:26.200Z"
   },
   {
    "duration": 9,
    "start_time": "2021-08-10T21:05:26.646Z"
   },
   {
    "duration": 2785,
    "start_time": "2021-08-10T21:05:26.658Z"
   },
   {
    "duration": 7,
    "start_time": "2021-08-10T21:05:29.446Z"
   },
   {
    "duration": 571,
    "start_time": "2021-08-10T21:05:29.456Z"
   },
   {
    "duration": 4,
    "start_time": "2021-08-10T21:05:30.030Z"
   },
   {
    "duration": 16,
    "start_time": "2021-08-10T21:05:30.037Z"
   }
  ],
  "kernelspec": {
   "display_name": "Python 3 (ipykernel)",
   "language": "python",
   "name": "python3"
  },
  "language_info": {
   "codemirror_mode": {
    "name": "ipython",
    "version": 3
   },
   "file_extension": ".py",
   "mimetype": "text/x-python",
   "name": "python",
   "nbconvert_exporter": "python",
   "pygments_lexer": "ipython3",
   "version": "3.9.5"
  },
  "toc": {
   "base_numbering": 1,
   "nav_menu": {},
   "number_sections": true,
   "sideBar": true,
   "skip_h1_title": true,
   "title_cell": "Table of Contents",
   "title_sidebar": "Contents",
   "toc_cell": false,
   "toc_position": {},
   "toc_section_display": true,
   "toc_window_display": false
  }
 },
 "nbformat": 4,
 "nbformat_minor": 2
}
