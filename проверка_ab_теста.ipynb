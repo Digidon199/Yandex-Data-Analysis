{
 "cells": [
  {
   "cell_type": "markdown",
   "metadata": {},
   "source": [
    "# Постановка задачи\n",
    "Ваша задача — провести оценку результатов A/B-теста. В вашем распоряжении есть датасет с действиями пользователей, техническое задание и несколько вспомогательных датасетов.\n",
    "* Оцените корректность проведения теста\n",
    "* Проанализируйте результаты теста\n",
    "\n",
    "Чтобы оценить корректность проведения теста, проверьте:\n",
    "* пересечение тестовой аудитории с конкурирующим тестом,\n",
    "* совпадение теста и маркетинговых событий, другие проблемы временных границ теста."
   ]
  },
  {
   "cell_type": "markdown",
   "metadata": {},
   "source": [
    "# Техническое задание\n",
    "* Название теста: recommender_system_test;\n",
    "* Группы: А (контрольная), B (новая платёжная воронка);\n",
    "* Дата запуска: 2020-12-07;\n",
    "* Дата остановки набора новых пользователей: 2020-12-21;\n",
    "* Дата остановки: 2021-01-04;\n",
    "* Аудитория: 15% новых пользователей из региона EU;\n",
    "* Назначение теста: тестирование изменений, связанных с внедрением улучшенной рекомендательной системы;\n",
    "* Ожидаемое количество участников теста: 6000.\n",
    "* Ожидаемый эффект: за 14 дней с момента регистрации в системе пользователи покажут улучшение каждой метрики не менее, чем на 10%:\n",
    "    * конверсии в просмотр карточек товаров — событие product_page\n",
    "    * просмотры корзины — product_cart\n",
    "    * покупки — purchase.\n",
    "    \n",
    "Загрузите данные теста, проверьте корректность его проведения и проанализируйте полученные результаты."
   ]
  },
  {
   "cell_type": "markdown",
   "metadata": {},
   "source": [
    "# Описание данных\n",
    "Таблица ab_marketing_events — календарь маркетинговых событий на 2020 год;\n",
    "\n",
    "* name — название маркетингового события;\n",
    "* regions — регионы, в которых будет проводиться рекламная кампания;\n",
    "* start_dt — дата начала кампании;\n",
    "* finish_dt — дата завершения кампании.\n",
    "\n",
    "Таблица ab_new_users — все пользователи, зарегистрировавшиеся в интернет-магазине в период с 7 по 21 декабря 2020 года;\n",
    "\n",
    "* user_id — идентификатор пользователя;\n",
    "* first_date — дата регистрации;\n",
    "* region — регион пользователя;\n",
    "* device — устройство, с которого происходила регистрация.\n",
    "\n",
    "Таблица ab_events — все события новых пользователей в период с 7 декабря 2020 по 4 января 2021 года;\n",
    "\n",
    "* user_id — идентификатор пользователя;\n",
    "* event_dt — дата и время события;\n",
    "* event_name — тип события;\n",
    "* details — дополнительные данные о событии. Например, для покупок, purchase, в этом поле хранится стоимость покупки в долларах.\n",
    "\n",
    "Таблица ab_participants — таблица участников тестов.\n",
    "\n",
    "* user_id — идентификатор пользователя;\n",
    "* ab_test — название теста;\n",
    "* group — группа пользователя."
   ]
  },
  {
   "cell_type": "markdown",
   "metadata": {},
   "source": [
    "# Инструкция по выполнению проекта\n",
    "# Шаг 1. Загрузка данных и подготовка к анализу\n",
    "* 1.1. Импорт библиотек и загрузка данных.\n",
    "* 1.2. Осмотр данных.\n",
    "* 1.3. Выводы о данных.\n",
    "* 1.4. Предобработка таблицы ab_marketing_events — календарь маркетинговых событий на 2020 год.\n",
    "* 1.5. Предобработка таблицы ab_new_users — все пользователи, зарегистрировавшиеся в интернет-магазине в период с 7 по 21 декабря 2020 года.\n",
    "* 1.6. Предобработка таблицы ab_events — все события новых пользователей в период с 7 декабря 2020 по 4 января 2021 года.\n",
    "* 1.7. Выводы о предобработки данных.\n",
    "# Шаг 2. Исследовательский анализ данных\n",
    "* 2.1. Посмотрим календарь маркетинговых событий на 2020 год.\n",
    "* 2.2. Проанализируем данные о пользователях, зарегистрировавшиеся в интернет-магазине в период с 7 по 21 декабря 2020 года.\n",
    "* 2.3. Проанализируем данные о событиях, где все события новых пользователей за период с 7 декабря 2020 по 4 января 2021 года.\n",
    "* 2.4. Посмотрим таблицу с участниками тестов. Сравним группы.\n",
    "# Шаг 3. Исследуем конверсию в воронке на разных этапах\n",
    "* 3.1. Посчитаем сколько пользователей совершали каждое из событий. Отсортируйте события по числу пользователей. Посчитайте долю пользователей, которые хоть раз совершали событие.\n",
    "* 3.2. Построим воронку событий.\n",
    "* 3.3. Построим воронку с учетом последовательности событий.\n",
    "# Шаг 4. Проведем оценку результатов A/B-тестирования\n",
    "* 4.1. Проверим статистическую разницу долей по этапам с помощью z-критерия между выборками группы А и группы В.\n",
    "# Шаг 5. Общие выводы"
   ]
  },
  {
   "cell_type": "markdown",
   "metadata": {},
   "source": [
    "## Шаг. Загрузка данных и подготовка к анализу\n",
    "### Импорт библиотек и загрузка данных."
   ]
  },
  {
   "cell_type": "code",
   "execution_count": 80,
   "metadata": {},
   "outputs": [],
   "source": [
    "# Необходимые библиотеки для исследования.\n",
    "import pandas as pd                                         # для анализа данных\n",
    "import numpy as np                                          # для математических вычислений\n",
    "import math as mth                                          # для математических вычислений\n",
    "\n",
    "import seaborn as sns                                       # для визуализации данных\n",
    "import matplotlib.pyplot as plt                             # для визуализации\n",
    "import plotly.express as px                                 # для визуализации\n",
    "from plotly import graph_objects as go                      # для визуализации\n",
    "\n",
    "import datetime as dt                                       # для преобразования к типу данных 'дата'\n",
    "import requests                                             # для HTTP запросов\n",
    "import re                                                   # для работы с регулярными выражениями\n",
    "\n",
    "from datetime import datetime, timedelta\n",
    "\n",
    "import scipy.stats as stats\n",
    "from scipy import stats as st                               # для высокоуровневых математических вычислений \n",
    "from statsmodels.stats.proportion import proportions_ztest  # статистика пропорции z-тест, метод статистической проверки гипотез\n",
    "\n",
    "import warnings                                             # для предупреждений в программе \n",
    "warnings.filterwarnings('ignore')                           # фильтр предупреждений"
   ]
  },
  {
   "cell_type": "code",
   "execution_count": 81,
   "metadata": {},
   "outputs": [],
   "source": [
    "# Загрузка данных.\n",
    "ab_marketing_events = pd.read_csv('/datasets/ab_project_marketing_events.csv') # календарь маркетинговых событий на 2020 год\n",
    "ab_new_users = pd.read_csv('/datasets/final_ab_new_users.csv') # все пользователи с 7 декабря по 21 декабря 2020 года\n",
    "ab_events = pd.read_csv('/datasets/final_ab_events.csv') # события новых пользователей с 7 декабря 2020 по 4 января 2021 года\n",
    "ab_participants = pd.read_csv('/datasets/final_ab_participants.csv') # таблица участников тестов "
   ]
  },
  {
   "cell_type": "code",
   "execution_count": 82,
   "metadata": {},
   "outputs": [],
   "source": [
    "# С помощью pd.set_option настроим вывод так чтобы\n",
    "pd.set_option('display.max_columns', None) \n",
    "pd.set_option('display.max_colwidth', -1) # текст в ячейке отражался полностью вне зависимости от длины;\n",
    "pd.set_option('display.float_format', '{:.2f}'.format) # все числа отражались с двумя знаками после запятой."
   ]
  },
  {
   "cell_type": "code",
   "execution_count": 83,
   "metadata": {},
   "outputs": [],
   "source": [
    "# Установка единого стиля палитры для всех графиков.\n",
    "sns.set_style('whitegrid')\n",
    "sns.set_palette('spring_r')"
   ]
  },
  {
   "cell_type": "markdown",
   "metadata": {},
   "source": [
    "###  Осмотр данных."
   ]
  },
  {
   "cell_type": "code",
   "execution_count": 84,
   "metadata": {},
   "outputs": [],
   "source": [
    "# Напишем функцию для получения информации о датасетах\n",
    "def info_about_dataframe(dataframe):\n",
    "    print(\"Получение 10 случайно выбранных записей из таблицы:\")\n",
    "    display(dataframe.sample(10, random_state=123))\n",
    "    print(\"Выведем статистику о датасете:\")\n",
    "    display(dataframe.describe())\n",
    "    print(\"Получение общей информации о данных в таблице:\")\n",
    "    dataframe.info()\n",
    "    missing_values = dataframe.isnull().sum().sum()\n",
    "    duplicates = dataframe.duplicated().sum()\n",
    "    print()\n",
    "    print(\"Количество пропущенных значений: {} строк\".format(missing_values)) \n",
    "    print(\"Доля пропущенных значений от общего количества записей: {:.1%}\".format((missing_values/len(dataframe)))) \n",
    "    print(\"Количество дубликатов: {} строк\".format(duplicates))              \n",
    "    print(\"Доля дубликатов от общего количества записей: {:.1%}\".format((duplicates/len(dataframe)))) "
   ]
  },
  {
   "cell_type": "markdown",
   "metadata": {},
   "source": [
    "Рассмотрим таблицу ab_marketing_events о календаре маркетинговых событий на 2020 год."
   ]
  },
  {
   "cell_type": "code",
   "execution_count": 85,
   "metadata": {},
   "outputs": [
    {
     "name": "stdout",
     "output_type": "stream",
     "text": [
      "Получение 10 случайно выбранных записей из таблицы:\n"
     ]
    },
    {
     "data": {
      "text/html": [
       "<div>\n",
       "<style scoped>\n",
       "    .dataframe tbody tr th:only-of-type {\n",
       "        vertical-align: middle;\n",
       "    }\n",
       "\n",
       "    .dataframe tbody tr th {\n",
       "        vertical-align: top;\n",
       "    }\n",
       "\n",
       "    .dataframe thead th {\n",
       "        text-align: right;\n",
       "    }\n",
       "</style>\n",
       "<table border=\"1\" class=\"dataframe\">\n",
       "  <thead>\n",
       "    <tr style=\"text-align: right;\">\n",
       "      <th></th>\n",
       "      <th>name</th>\n",
       "      <th>regions</th>\n",
       "      <th>start_dt</th>\n",
       "      <th>finish_dt</th>\n",
       "    </tr>\n",
       "  </thead>\n",
       "  <tbody>\n",
       "    <tr>\n",
       "      <td>7</td>\n",
       "      <td>Labor day (May 1st) Ads Campaign</td>\n",
       "      <td>EU, CIS, APAC</td>\n",
       "      <td>2020-05-01</td>\n",
       "      <td>2020-05-03</td>\n",
       "    </tr>\n",
       "    <tr>\n",
       "      <td>10</td>\n",
       "      <td>CIS New Year Gift Lottery</td>\n",
       "      <td>CIS</td>\n",
       "      <td>2020-12-30</td>\n",
       "      <td>2021-01-07</td>\n",
       "    </tr>\n",
       "    <tr>\n",
       "      <td>4</td>\n",
       "      <td>4th of July Promo</td>\n",
       "      <td>N.America</td>\n",
       "      <td>2020-07-04</td>\n",
       "      <td>2020-07-11</td>\n",
       "    </tr>\n",
       "    <tr>\n",
       "      <td>0</td>\n",
       "      <td>Christmas&amp;New Year Promo</td>\n",
       "      <td>EU, N.America</td>\n",
       "      <td>2020-12-25</td>\n",
       "      <td>2021-01-03</td>\n",
       "    </tr>\n",
       "    <tr>\n",
       "      <td>5</td>\n",
       "      <td>Black Friday Ads Campaign</td>\n",
       "      <td>EU, CIS, APAC, N.America</td>\n",
       "      <td>2020-11-26</td>\n",
       "      <td>2020-12-01</td>\n",
       "    </tr>\n",
       "    <tr>\n",
       "      <td>9</td>\n",
       "      <td>Victory Day CIS (May 9th) Event</td>\n",
       "      <td>CIS</td>\n",
       "      <td>2020-05-09</td>\n",
       "      <td>2020-05-11</td>\n",
       "    </tr>\n",
       "    <tr>\n",
       "      <td>8</td>\n",
       "      <td>International Women's Day Promo</td>\n",
       "      <td>EU, CIS, APAC</td>\n",
       "      <td>2020-03-08</td>\n",
       "      <td>2020-03-10</td>\n",
       "    </tr>\n",
       "    <tr>\n",
       "      <td>11</td>\n",
       "      <td>Dragon Boat Festival Giveaway</td>\n",
       "      <td>APAC</td>\n",
       "      <td>2020-06-25</td>\n",
       "      <td>2020-07-01</td>\n",
       "    </tr>\n",
       "    <tr>\n",
       "      <td>3</td>\n",
       "      <td>Easter Promo</td>\n",
       "      <td>EU, CIS, APAC, N.America</td>\n",
       "      <td>2020-04-12</td>\n",
       "      <td>2020-04-19</td>\n",
       "    </tr>\n",
       "    <tr>\n",
       "      <td>1</td>\n",
       "      <td>St. Valentine's Day Giveaway</td>\n",
       "      <td>EU, CIS, APAC, N.America</td>\n",
       "      <td>2020-02-14</td>\n",
       "      <td>2020-02-16</td>\n",
       "    </tr>\n",
       "  </tbody>\n",
       "</table>\n",
       "</div>"
      ],
      "text/plain": [
       "                                name                   regions    start_dt  \\\n",
       "7   Labor day (May 1st) Ads Campaign  EU, CIS, APAC             2020-05-01   \n",
       "10  CIS New Year Gift Lottery         CIS                       2020-12-30   \n",
       "4   4th of July Promo                 N.America                 2020-07-04   \n",
       "0   Christmas&New Year Promo          EU, N.America             2020-12-25   \n",
       "5   Black Friday Ads Campaign         EU, CIS, APAC, N.America  2020-11-26   \n",
       "9   Victory Day CIS (May 9th) Event   CIS                       2020-05-09   \n",
       "8   International Women's Day Promo   EU, CIS, APAC             2020-03-08   \n",
       "11  Dragon Boat Festival Giveaway     APAC                      2020-06-25   \n",
       "3   Easter Promo                      EU, CIS, APAC, N.America  2020-04-12   \n",
       "1   St. Valentine's Day Giveaway      EU, CIS, APAC, N.America  2020-02-14   \n",
       "\n",
       "     finish_dt  \n",
       "7   2020-05-03  \n",
       "10  2021-01-07  \n",
       "4   2020-07-11  \n",
       "0   2021-01-03  \n",
       "5   2020-12-01  \n",
       "9   2020-05-11  \n",
       "8   2020-03-10  \n",
       "11  2020-07-01  \n",
       "3   2020-04-19  \n",
       "1   2020-02-16  "
      ]
     },
     "metadata": {},
     "output_type": "display_data"
    },
    {
     "name": "stdout",
     "output_type": "stream",
     "text": [
      "Выведем статистику о датасете:\n"
     ]
    },
    {
     "data": {
      "text/html": [
       "<div>\n",
       "<style scoped>\n",
       "    .dataframe tbody tr th:only-of-type {\n",
       "        vertical-align: middle;\n",
       "    }\n",
       "\n",
       "    .dataframe tbody tr th {\n",
       "        vertical-align: top;\n",
       "    }\n",
       "\n",
       "    .dataframe thead th {\n",
       "        text-align: right;\n",
       "    }\n",
       "</style>\n",
       "<table border=\"1\" class=\"dataframe\">\n",
       "  <thead>\n",
       "    <tr style=\"text-align: right;\">\n",
       "      <th></th>\n",
       "      <th>name</th>\n",
       "      <th>regions</th>\n",
       "      <th>start_dt</th>\n",
       "      <th>finish_dt</th>\n",
       "    </tr>\n",
       "  </thead>\n",
       "  <tbody>\n",
       "    <tr>\n",
       "      <td>count</td>\n",
       "      <td>14</td>\n",
       "      <td>14</td>\n",
       "      <td>14</td>\n",
       "      <td>14</td>\n",
       "    </tr>\n",
       "    <tr>\n",
       "      <td>unique</td>\n",
       "      <td>14</td>\n",
       "      <td>6</td>\n",
       "      <td>14</td>\n",
       "      <td>14</td>\n",
       "    </tr>\n",
       "    <tr>\n",
       "      <td>top</td>\n",
       "      <td>Dragon Boat Festival Giveaway</td>\n",
       "      <td>APAC</td>\n",
       "      <td>2020-03-08</td>\n",
       "      <td>2020-11-12</td>\n",
       "    </tr>\n",
       "    <tr>\n",
       "      <td>freq</td>\n",
       "      <td>1</td>\n",
       "      <td>4</td>\n",
       "      <td>1</td>\n",
       "      <td>1</td>\n",
       "    </tr>\n",
       "  </tbody>\n",
       "</table>\n",
       "</div>"
      ],
      "text/plain": [
       "                                 name regions    start_dt   finish_dt\n",
       "count   14                             14      14          14        \n",
       "unique  14                             6       14          14        \n",
       "top     Dragon Boat Festival Giveaway  APAC    2020-03-08  2020-11-12\n",
       "freq    1                              4       1           1         "
      ]
     },
     "metadata": {},
     "output_type": "display_data"
    },
    {
     "name": "stdout",
     "output_type": "stream",
     "text": [
      "Получение общей информации о данных в таблице:\n",
      "<class 'pandas.core.frame.DataFrame'>\n",
      "RangeIndex: 14 entries, 0 to 13\n",
      "Data columns (total 4 columns):\n",
      "name         14 non-null object\n",
      "regions      14 non-null object\n",
      "start_dt     14 non-null object\n",
      "finish_dt    14 non-null object\n",
      "dtypes: object(4)\n",
      "memory usage: 576.0+ bytes\n",
      "\n",
      "Количество пропущенных значений: 0 строк\n",
      "Доля пропущенных значений от общего количества записей: 0.0%\n",
      "Количество дубликатов: 0 строк\n",
      "Доля дубликатов от общего количества записей: 0.0%\n"
     ]
    }
   ],
   "source": [
    "info_about_dataframe(ab_marketing_events) # календарь маркетинговых событий на 2020 год"
   ]
  },
  {
   "cell_type": "markdown",
   "metadata": {},
   "source": [
    "* Всего в таблице 14 строк (наблюдений) и 4 столбца, встречаются следующие типы данных: object (строки).\n",
    "* Некорректный тип в дате и времени start_dt и finish_dt.\n",
    "* Варьируется регистр букв в name и regions."
   ]
  },
  {
   "cell_type": "markdown",
   "metadata": {},
   "source": [
    "Рассмотрим таблицу ab_new_users о пользователях с 7 декабря по 21 декабря 2020 года."
   ]
  },
  {
   "cell_type": "code",
   "execution_count": 86,
   "metadata": {},
   "outputs": [
    {
     "name": "stdout",
     "output_type": "stream",
     "text": [
      "Получение 10 случайно выбранных записей из таблицы:\n"
     ]
    },
    {
     "data": {
      "text/html": [
       "<div>\n",
       "<style scoped>\n",
       "    .dataframe tbody tr th:only-of-type {\n",
       "        vertical-align: middle;\n",
       "    }\n",
       "\n",
       "    .dataframe tbody tr th {\n",
       "        vertical-align: top;\n",
       "    }\n",
       "\n",
       "    .dataframe thead th {\n",
       "        text-align: right;\n",
       "    }\n",
       "</style>\n",
       "<table border=\"1\" class=\"dataframe\">\n",
       "  <thead>\n",
       "    <tr style=\"text-align: right;\">\n",
       "      <th></th>\n",
       "      <th>user_id</th>\n",
       "      <th>first_date</th>\n",
       "      <th>region</th>\n",
       "      <th>device</th>\n",
       "    </tr>\n",
       "  </thead>\n",
       "  <tbody>\n",
       "    <tr>\n",
       "      <td>25384</td>\n",
       "      <td>A6F33BAF22C58324</td>\n",
       "      <td>2020-12-22</td>\n",
       "      <td>EU</td>\n",
       "      <td>Android</td>\n",
       "    </tr>\n",
       "    <tr>\n",
       "      <td>50810</td>\n",
       "      <td>4AE6BE5D4A945F9B</td>\n",
       "      <td>2020-12-19</td>\n",
       "      <td>EU</td>\n",
       "      <td>PC</td>\n",
       "    </tr>\n",
       "    <tr>\n",
       "      <td>2632</td>\n",
       "      <td>894E24B4CAD43DD0</td>\n",
       "      <td>2020-12-07</td>\n",
       "      <td>EU</td>\n",
       "      <td>PC</td>\n",
       "    </tr>\n",
       "    <tr>\n",
       "      <td>15749</td>\n",
       "      <td>4D3BB93DF5170FCD</td>\n",
       "      <td>2020-12-21</td>\n",
       "      <td>EU</td>\n",
       "      <td>Android</td>\n",
       "    </tr>\n",
       "    <tr>\n",
       "      <td>23229</td>\n",
       "      <td>1142E0F7944D24AE</td>\n",
       "      <td>2020-12-15</td>\n",
       "      <td>CIS</td>\n",
       "      <td>iPhone</td>\n",
       "    </tr>\n",
       "    <tr>\n",
       "      <td>21418</td>\n",
       "      <td>B29261E1FD3F69D2</td>\n",
       "      <td>2020-12-15</td>\n",
       "      <td>CIS</td>\n",
       "      <td>Android</td>\n",
       "    </tr>\n",
       "    <tr>\n",
       "      <td>40096</td>\n",
       "      <td>BB388853D574ED34</td>\n",
       "      <td>2020-12-11</td>\n",
       "      <td>EU</td>\n",
       "      <td>Mac</td>\n",
       "    </tr>\n",
       "    <tr>\n",
       "      <td>60490</td>\n",
       "      <td>9F17DAA9F8821330</td>\n",
       "      <td>2020-12-20</td>\n",
       "      <td>EU</td>\n",
       "      <td>Android</td>\n",
       "    </tr>\n",
       "    <tr>\n",
       "      <td>8749</td>\n",
       "      <td>716BE60CC73439C5</td>\n",
       "      <td>2020-12-14</td>\n",
       "      <td>EU</td>\n",
       "      <td>Android</td>\n",
       "    </tr>\n",
       "    <tr>\n",
       "      <td>6474</td>\n",
       "      <td>DDAFBE7625C4662F</td>\n",
       "      <td>2020-12-14</td>\n",
       "      <td>EU</td>\n",
       "      <td>Android</td>\n",
       "    </tr>\n",
       "  </tbody>\n",
       "</table>\n",
       "</div>"
      ],
      "text/plain": [
       "                user_id  first_date region   device\n",
       "25384  A6F33BAF22C58324  2020-12-22  EU     Android\n",
       "50810  4AE6BE5D4A945F9B  2020-12-19  EU     PC     \n",
       "2632   894E24B4CAD43DD0  2020-12-07  EU     PC     \n",
       "15749  4D3BB93DF5170FCD  2020-12-21  EU     Android\n",
       "23229  1142E0F7944D24AE  2020-12-15  CIS    iPhone \n",
       "21418  B29261E1FD3F69D2  2020-12-15  CIS    Android\n",
       "40096  BB388853D574ED34  2020-12-11  EU     Mac    \n",
       "60490  9F17DAA9F8821330  2020-12-20  EU     Android\n",
       "8749   716BE60CC73439C5  2020-12-14  EU     Android\n",
       "6474   DDAFBE7625C4662F  2020-12-14  EU     Android"
      ]
     },
     "metadata": {},
     "output_type": "display_data"
    },
    {
     "name": "stdout",
     "output_type": "stream",
     "text": [
      "Выведем статистику о датасете:\n"
     ]
    },
    {
     "data": {
      "text/html": [
       "<div>\n",
       "<style scoped>\n",
       "    .dataframe tbody tr th:only-of-type {\n",
       "        vertical-align: middle;\n",
       "    }\n",
       "\n",
       "    .dataframe tbody tr th {\n",
       "        vertical-align: top;\n",
       "    }\n",
       "\n",
       "    .dataframe thead th {\n",
       "        text-align: right;\n",
       "    }\n",
       "</style>\n",
       "<table border=\"1\" class=\"dataframe\">\n",
       "  <thead>\n",
       "    <tr style=\"text-align: right;\">\n",
       "      <th></th>\n",
       "      <th>user_id</th>\n",
       "      <th>first_date</th>\n",
       "      <th>region</th>\n",
       "      <th>device</th>\n",
       "    </tr>\n",
       "  </thead>\n",
       "  <tbody>\n",
       "    <tr>\n",
       "      <td>count</td>\n",
       "      <td>61733</td>\n",
       "      <td>61733</td>\n",
       "      <td>61733</td>\n",
       "      <td>61733</td>\n",
       "    </tr>\n",
       "    <tr>\n",
       "      <td>unique</td>\n",
       "      <td>61733</td>\n",
       "      <td>17</td>\n",
       "      <td>4</td>\n",
       "      <td>4</td>\n",
       "    </tr>\n",
       "    <tr>\n",
       "      <td>top</td>\n",
       "      <td>0E8BFC85EDCD672B</td>\n",
       "      <td>2020-12-21</td>\n",
       "      <td>EU</td>\n",
       "      <td>Android</td>\n",
       "    </tr>\n",
       "    <tr>\n",
       "      <td>freq</td>\n",
       "      <td>1</td>\n",
       "      <td>6290</td>\n",
       "      <td>46270</td>\n",
       "      <td>27520</td>\n",
       "    </tr>\n",
       "  </tbody>\n",
       "</table>\n",
       "</div>"
      ],
      "text/plain": [
       "                 user_id  first_date region   device\n",
       "count   61733             61733       61733  61733  \n",
       "unique  61733             17          4      4      \n",
       "top     0E8BFC85EDCD672B  2020-12-21  EU     Android\n",
       "freq    1                 6290        46270  27520  "
      ]
     },
     "metadata": {},
     "output_type": "display_data"
    },
    {
     "name": "stdout",
     "output_type": "stream",
     "text": [
      "Получение общей информации о данных в таблице:\n",
      "<class 'pandas.core.frame.DataFrame'>\n",
      "RangeIndex: 61733 entries, 0 to 61732\n",
      "Data columns (total 4 columns):\n",
      "user_id       61733 non-null object\n",
      "first_date    61733 non-null object\n",
      "region        61733 non-null object\n",
      "device        61733 non-null object\n",
      "dtypes: object(4)\n",
      "memory usage: 1.9+ MB\n",
      "\n",
      "Количество пропущенных значений: 0 строк\n",
      "Доля пропущенных значений от общего количества записей: 0.0%\n",
      "Количество дубликатов: 0 строк\n",
      "Доля дубликатов от общего количества записей: 0.0%\n"
     ]
    }
   ],
   "source": [
    "info_about_dataframe(ab_new_users) # все пользователи с 7 декабря по 21 декабря 2020 года"
   ]
  },
  {
   "cell_type": "markdown",
   "metadata": {},
   "source": [
    "* Всего в таблице 61733 строк (наблюдений) и 4 столбца, встречаются следующие типы данных: object (строки).\n",
    "* Некорректный тип в дате и времени first_date.\n",
    "* Варьируется регистр букв в region и device."
   ]
  },
  {
   "cell_type": "markdown",
   "metadata": {},
   "source": [
    "Рассмотрим таблицу ab_events о событиях новых пользователей с 7 декабря 2020 по 4 января 2021 года."
   ]
  },
  {
   "cell_type": "code",
   "execution_count": 87,
   "metadata": {},
   "outputs": [
    {
     "name": "stdout",
     "output_type": "stream",
     "text": [
      "Получение 10 случайно выбранных записей из таблицы:\n"
     ]
    },
    {
     "data": {
      "text/html": [
       "<div>\n",
       "<style scoped>\n",
       "    .dataframe tbody tr th:only-of-type {\n",
       "        vertical-align: middle;\n",
       "    }\n",
       "\n",
       "    .dataframe tbody tr th {\n",
       "        vertical-align: top;\n",
       "    }\n",
       "\n",
       "    .dataframe thead th {\n",
       "        text-align: right;\n",
       "    }\n",
       "</style>\n",
       "<table border=\"1\" class=\"dataframe\">\n",
       "  <thead>\n",
       "    <tr style=\"text-align: right;\">\n",
       "      <th></th>\n",
       "      <th>user_id</th>\n",
       "      <th>event_dt</th>\n",
       "      <th>event_name</th>\n",
       "      <th>details</th>\n",
       "    </tr>\n",
       "  </thead>\n",
       "  <tbody>\n",
       "    <tr>\n",
       "      <td>185080</td>\n",
       "      <td>404C3593F5E1F39E</td>\n",
       "      <td>2020-12-18 18:28:03</td>\n",
       "      <td>product_page</td>\n",
       "      <td>nan</td>\n",
       "    </tr>\n",
       "    <tr>\n",
       "      <td>406109</td>\n",
       "      <td>64BF6D4DC706004C</td>\n",
       "      <td>2020-12-24 16:00:57</td>\n",
       "      <td>login</td>\n",
       "      <td>nan</td>\n",
       "    </tr>\n",
       "    <tr>\n",
       "      <td>264749</td>\n",
       "      <td>573EF5CB449265BE</td>\n",
       "      <td>2020-12-09 03:33:16</td>\n",
       "      <td>login</td>\n",
       "      <td>nan</td>\n",
       "    </tr>\n",
       "    <tr>\n",
       "      <td>384828</td>\n",
       "      <td>7632283393859D01</td>\n",
       "      <td>2020-12-22 19:13:50</td>\n",
       "      <td>login</td>\n",
       "      <td>nan</td>\n",
       "    </tr>\n",
       "    <tr>\n",
       "      <td>152724</td>\n",
       "      <td>F21EAB3C6A438427</td>\n",
       "      <td>2020-12-13 12:04:50</td>\n",
       "      <td>product_page</td>\n",
       "      <td>nan</td>\n",
       "    </tr>\n",
       "    <tr>\n",
       "      <td>339730</td>\n",
       "      <td>CC75CEEC5BBB65F3</td>\n",
       "      <td>2020-12-18 01:53:27</td>\n",
       "      <td>login</td>\n",
       "      <td>nan</td>\n",
       "    </tr>\n",
       "    <tr>\n",
       "      <td>130363</td>\n",
       "      <td>A00223825AB51ED0</td>\n",
       "      <td>2020-12-08 21:19:00</td>\n",
       "      <td>product_page</td>\n",
       "      <td>nan</td>\n",
       "    </tr>\n",
       "    <tr>\n",
       "      <td>325832</td>\n",
       "      <td>6A0BDC2EC052DA05</td>\n",
       "      <td>2020-12-17 02:58:32</td>\n",
       "      <td>login</td>\n",
       "      <td>nan</td>\n",
       "    </tr>\n",
       "    <tr>\n",
       "      <td>404763</td>\n",
       "      <td>9B5F8F6B7D78DF9D</td>\n",
       "      <td>2020-12-24 07:40:13</td>\n",
       "      <td>login</td>\n",
       "      <td>nan</td>\n",
       "    </tr>\n",
       "    <tr>\n",
       "      <td>257157</td>\n",
       "      <td>7AECCD5B5E1DF650</td>\n",
       "      <td>2020-12-08 00:25:46</td>\n",
       "      <td>login</td>\n",
       "      <td>nan</td>\n",
       "    </tr>\n",
       "  </tbody>\n",
       "</table>\n",
       "</div>"
      ],
      "text/plain": [
       "                 user_id             event_dt    event_name  details\n",
       "185080  404C3593F5E1F39E  2020-12-18 18:28:03  product_page nan     \n",
       "406109  64BF6D4DC706004C  2020-12-24 16:00:57  login        nan     \n",
       "264749  573EF5CB449265BE  2020-12-09 03:33:16  login        nan     \n",
       "384828  7632283393859D01  2020-12-22 19:13:50  login        nan     \n",
       "152724  F21EAB3C6A438427  2020-12-13 12:04:50  product_page nan     \n",
       "339730  CC75CEEC5BBB65F3  2020-12-18 01:53:27  login        nan     \n",
       "130363  A00223825AB51ED0  2020-12-08 21:19:00  product_page nan     \n",
       "325832  6A0BDC2EC052DA05  2020-12-17 02:58:32  login        nan     \n",
       "404763  9B5F8F6B7D78DF9D  2020-12-24 07:40:13  login        nan     \n",
       "257157  7AECCD5B5E1DF650  2020-12-08 00:25:46  login        nan     "
      ]
     },
     "metadata": {},
     "output_type": "display_data"
    },
    {
     "name": "stdout",
     "output_type": "stream",
     "text": [
      "Выведем статистику о датасете:\n"
     ]
    },
    {
     "data": {
      "text/html": [
       "<div>\n",
       "<style scoped>\n",
       "    .dataframe tbody tr th:only-of-type {\n",
       "        vertical-align: middle;\n",
       "    }\n",
       "\n",
       "    .dataframe tbody tr th {\n",
       "        vertical-align: top;\n",
       "    }\n",
       "\n",
       "    .dataframe thead th {\n",
       "        text-align: right;\n",
       "    }\n",
       "</style>\n",
       "<table border=\"1\" class=\"dataframe\">\n",
       "  <thead>\n",
       "    <tr style=\"text-align: right;\">\n",
       "      <th></th>\n",
       "      <th>details</th>\n",
       "    </tr>\n",
       "  </thead>\n",
       "  <tbody>\n",
       "    <tr>\n",
       "      <td>count</td>\n",
       "      <td>62740.00</td>\n",
       "    </tr>\n",
       "    <tr>\n",
       "      <td>mean</td>\n",
       "      <td>23.88</td>\n",
       "    </tr>\n",
       "    <tr>\n",
       "      <td>std</td>\n",
       "      <td>72.18</td>\n",
       "    </tr>\n",
       "    <tr>\n",
       "      <td>min</td>\n",
       "      <td>4.99</td>\n",
       "    </tr>\n",
       "    <tr>\n",
       "      <td>25%</td>\n",
       "      <td>4.99</td>\n",
       "    </tr>\n",
       "    <tr>\n",
       "      <td>50%</td>\n",
       "      <td>4.99</td>\n",
       "    </tr>\n",
       "    <tr>\n",
       "      <td>75%</td>\n",
       "      <td>9.99</td>\n",
       "    </tr>\n",
       "    <tr>\n",
       "      <td>max</td>\n",
       "      <td>499.99</td>\n",
       "    </tr>\n",
       "  </tbody>\n",
       "</table>\n",
       "</div>"
      ],
      "text/plain": [
       "       details\n",
       "count 62740.00\n",
       "mean  23.88   \n",
       "std   72.18   \n",
       "min   4.99    \n",
       "25%   4.99    \n",
       "50%   4.99    \n",
       "75%   9.99    \n",
       "max   499.99  "
      ]
     },
     "metadata": {},
     "output_type": "display_data"
    },
    {
     "name": "stdout",
     "output_type": "stream",
     "text": [
      "Получение общей информации о данных в таблице:\n",
      "<class 'pandas.core.frame.DataFrame'>\n",
      "RangeIndex: 440317 entries, 0 to 440316\n",
      "Data columns (total 4 columns):\n",
      "user_id       440317 non-null object\n",
      "event_dt      440317 non-null object\n",
      "event_name    440317 non-null object\n",
      "details       62740 non-null float64\n",
      "dtypes: float64(1), object(3)\n",
      "memory usage: 13.4+ MB\n",
      "\n",
      "Количество пропущенных значений: 377577 строк\n",
      "Доля пропущенных значений от общего количества записей: 85.8%\n",
      "Количество дубликатов: 0 строк\n",
      "Доля дубликатов от общего количества записей: 0.0%\n"
     ]
    }
   ],
   "source": [
    "info_about_dataframe(ab_events) # события новых пользователей с 7 декабря 2020 по 4 января 2021 года"
   ]
  },
  {
   "cell_type": "markdown",
   "metadata": {},
   "source": [
    "* Всего в таблице 440317 строк (наблюдений) и 4 столбца, встречаются следующие типы данных: object (строки) и float64 (вещественные числа).\n",
    "* Количество пропущенных значений: 377577 строк, 85,8% от общего количества записей датасета, это очень много.\n",
    "* Некорректный тип в дате и времени event_dt."
   ]
  },
  {
   "cell_type": "markdown",
   "metadata": {},
   "source": [
    "Рассмотрим таблицу ab_participants о участниках тестов."
   ]
  },
  {
   "cell_type": "code",
   "execution_count": 88,
   "metadata": {},
   "outputs": [
    {
     "name": "stdout",
     "output_type": "stream",
     "text": [
      "Получение 10 случайно выбранных записей из таблицы:\n"
     ]
    },
    {
     "data": {
      "text/html": [
       "<div>\n",
       "<style scoped>\n",
       "    .dataframe tbody tr th:only-of-type {\n",
       "        vertical-align: middle;\n",
       "    }\n",
       "\n",
       "    .dataframe tbody tr th {\n",
       "        vertical-align: top;\n",
       "    }\n",
       "\n",
       "    .dataframe thead th {\n",
       "        text-align: right;\n",
       "    }\n",
       "</style>\n",
       "<table border=\"1\" class=\"dataframe\">\n",
       "  <thead>\n",
       "    <tr style=\"text-align: right;\">\n",
       "      <th></th>\n",
       "      <th>user_id</th>\n",
       "      <th>group</th>\n",
       "      <th>ab_test</th>\n",
       "    </tr>\n",
       "  </thead>\n",
       "  <tbody>\n",
       "    <tr>\n",
       "      <td>12671</td>\n",
       "      <td>48CFE37563932DC2</td>\n",
       "      <td>B</td>\n",
       "      <td>interface_eu_test</td>\n",
       "    </tr>\n",
       "    <tr>\n",
       "      <td>6424</td>\n",
       "      <td>CB62A54028D1FF6C</td>\n",
       "      <td>A</td>\n",
       "      <td>recommender_system_test</td>\n",
       "    </tr>\n",
       "    <tr>\n",
       "      <td>1992</td>\n",
       "      <td>7BCB5C914C255ED8</td>\n",
       "      <td>B</td>\n",
       "      <td>recommender_system_test</td>\n",
       "    </tr>\n",
       "    <tr>\n",
       "      <td>1483</td>\n",
       "      <td>5CEE54AF7967ABB0</td>\n",
       "      <td>B</td>\n",
       "      <td>recommender_system_test</td>\n",
       "    </tr>\n",
       "    <tr>\n",
       "      <td>16096</td>\n",
       "      <td>B299698A26DB338A</td>\n",
       "      <td>B</td>\n",
       "      <td>interface_eu_test</td>\n",
       "    </tr>\n",
       "    <tr>\n",
       "      <td>11229</td>\n",
       "      <td>DC0DE566EA049A38</td>\n",
       "      <td>A</td>\n",
       "      <td>interface_eu_test</td>\n",
       "    </tr>\n",
       "    <tr>\n",
       "      <td>854</td>\n",
       "      <td>A4593845C28990A0</td>\n",
       "      <td>B</td>\n",
       "      <td>recommender_system_test</td>\n",
       "    </tr>\n",
       "    <tr>\n",
       "      <td>17351</td>\n",
       "      <td>0323461CB86778B4</td>\n",
       "      <td>A</td>\n",
       "      <td>interface_eu_test</td>\n",
       "    </tr>\n",
       "    <tr>\n",
       "      <td>8016</td>\n",
       "      <td>9F7B59660B1AAF35</td>\n",
       "      <td>A</td>\n",
       "      <td>interface_eu_test</td>\n",
       "    </tr>\n",
       "    <tr>\n",
       "      <td>11164</td>\n",
       "      <td>B51EEE76990E6163</td>\n",
       "      <td>B</td>\n",
       "      <td>interface_eu_test</td>\n",
       "    </tr>\n",
       "  </tbody>\n",
       "</table>\n",
       "</div>"
      ],
      "text/plain": [
       "                user_id group                  ab_test\n",
       "12671  48CFE37563932DC2  B     interface_eu_test      \n",
       "6424   CB62A54028D1FF6C  A     recommender_system_test\n",
       "1992   7BCB5C914C255ED8  B     recommender_system_test\n",
       "1483   5CEE54AF7967ABB0  B     recommender_system_test\n",
       "16096  B299698A26DB338A  B     interface_eu_test      \n",
       "11229  DC0DE566EA049A38  A     interface_eu_test      \n",
       "854    A4593845C28990A0  B     recommender_system_test\n",
       "17351  0323461CB86778B4  A     interface_eu_test      \n",
       "8016   9F7B59660B1AAF35  A     interface_eu_test      \n",
       "11164  B51EEE76990E6163  B     interface_eu_test      "
      ]
     },
     "metadata": {},
     "output_type": "display_data"
    },
    {
     "name": "stdout",
     "output_type": "stream",
     "text": [
      "Выведем статистику о датасете:\n"
     ]
    },
    {
     "data": {
      "text/html": [
       "<div>\n",
       "<style scoped>\n",
       "    .dataframe tbody tr th:only-of-type {\n",
       "        vertical-align: middle;\n",
       "    }\n",
       "\n",
       "    .dataframe tbody tr th {\n",
       "        vertical-align: top;\n",
       "    }\n",
       "\n",
       "    .dataframe thead th {\n",
       "        text-align: right;\n",
       "    }\n",
       "</style>\n",
       "<table border=\"1\" class=\"dataframe\">\n",
       "  <thead>\n",
       "    <tr style=\"text-align: right;\">\n",
       "      <th></th>\n",
       "      <th>user_id</th>\n",
       "      <th>group</th>\n",
       "      <th>ab_test</th>\n",
       "    </tr>\n",
       "  </thead>\n",
       "  <tbody>\n",
       "    <tr>\n",
       "      <td>count</td>\n",
       "      <td>18268</td>\n",
       "      <td>18268</td>\n",
       "      <td>18268</td>\n",
       "    </tr>\n",
       "    <tr>\n",
       "      <td>unique</td>\n",
       "      <td>16666</td>\n",
       "      <td>2</td>\n",
       "      <td>2</td>\n",
       "    </tr>\n",
       "    <tr>\n",
       "      <td>top</td>\n",
       "      <td>7F2C298110AA73B4</td>\n",
       "      <td>A</td>\n",
       "      <td>interface_eu_test</td>\n",
       "    </tr>\n",
       "    <tr>\n",
       "      <td>freq</td>\n",
       "      <td>2</td>\n",
       "      <td>9655</td>\n",
       "      <td>11567</td>\n",
       "    </tr>\n",
       "  </tbody>\n",
       "</table>\n",
       "</div>"
      ],
      "text/plain": [
       "                 user_id  group            ab_test\n",
       "count   18268             18268  18268            \n",
       "unique  16666             2      2                \n",
       "top     7F2C298110AA73B4  A      interface_eu_test\n",
       "freq    2                 9655   11567            "
      ]
     },
     "metadata": {},
     "output_type": "display_data"
    },
    {
     "name": "stdout",
     "output_type": "stream",
     "text": [
      "Получение общей информации о данных в таблице:\n",
      "<class 'pandas.core.frame.DataFrame'>\n",
      "RangeIndex: 18268 entries, 0 to 18267\n",
      "Data columns (total 3 columns):\n",
      "user_id    18268 non-null object\n",
      "group      18268 non-null object\n",
      "ab_test    18268 non-null object\n",
      "dtypes: object(3)\n",
      "memory usage: 428.3+ KB\n",
      "\n",
      "Количество пропущенных значений: 0 строк\n",
      "Доля пропущенных значений от общего количества записей: 0.0%\n",
      "Количество дубликатов: 0 строк\n",
      "Доля дубликатов от общего количества записей: 0.0%\n"
     ]
    }
   ],
   "source": [
    "info_about_dataframe(ab_participants) # таблица участников тестов "
   ]
  },
  {
   "cell_type": "markdown",
   "metadata": {},
   "source": [
    "* Всего в таблице 18268 строк (наблюдений) и 3 столбца, встречаются следующие типы данных: object (строки)."
   ]
  },
  {
   "cell_type": "markdown",
   "metadata": {},
   "source": [
    "### Выводы о данных."
   ]
  },
  {
   "cell_type": "markdown",
   "metadata": {},
   "source": [
    "Наблюдаю следующие проблемы с данными:\n",
    "\n",
    "* В таблице ab_marketing_events: некорректный тип в дате и времени 'start_dt' и 'finish_dt'; варьируется регистр букв в 'name' и 'regions'.\n",
    "* В таблице ab_new_users: некорректный тип в дате и времени 'first_date'; варьируется регистр букв в 'region' и 'device'.\n",
    "* В таблице ab_events: в столбце 'details' количество пропущенных значений: 377577 строк; некорректный тип в дате и времени 'event_dt'.\n",
    "\n",
    "В таблице ab_participants: здесь все ок."
   ]
  },
  {
   "cell_type": "markdown",
   "metadata": {},
   "source": [
    "### Предобработка таблицы ab_marketing_events — календарь маркетинговых событий на 2020 год."
   ]
  },
  {
   "cell_type": "code",
   "execution_count": 89,
   "metadata": {},
   "outputs": [],
   "source": [
    "# замена типа данных на datetime\n",
    "ab_marketing_events['start_dt'] = pd.to_datetime(ab_marketing_events['start_dt'])\n",
    "ab_marketing_events['finish_dt'] = pd.to_datetime(ab_marketing_events['finish_dt'])"
   ]
  },
  {
   "cell_type": "code",
   "execution_count": 90,
   "metadata": {},
   "outputs": [
    {
     "data": {
      "text/plain": [
       "['name', 'regions', 'start_date', 'finish_date']"
      ]
     },
     "execution_count": 90,
     "metadata": {},
     "output_type": "execute_result"
    }
   ],
   "source": [
    "# переименуем столбцы для удобства дальнейшей работы\n",
    "ab_marketing_events.rename(columns={'start_dt': 'start_date', \n",
    "                                    'finish_dt': 'finish_date'}, inplace=True) \n",
    "ab_marketing_events.columns.tolist() # проверка результатов"
   ]
  },
  {
   "cell_type": "code",
   "execution_count": 91,
   "metadata": {},
   "outputs": [],
   "source": [
    "# приведем строки к нижнему регистру\n",
    "ab_marketing_events['name'] = ab_marketing_events['name'].str.lower()\n",
    "ab_marketing_events['regions'] = ab_marketing_events['regions'].str.lower()"
   ]
  },
  {
   "cell_type": "code",
   "execution_count": 92,
   "metadata": {},
   "outputs": [
    {
     "name": "stdout",
     "output_type": "stream",
     "text": [
      "<class 'pandas.core.frame.DataFrame'>\n",
      "RangeIndex: 14 entries, 0 to 13\n",
      "Data columns (total 4 columns):\n",
      "name           14 non-null object\n",
      "regions        14 non-null object\n",
      "start_date     14 non-null datetime64[ns]\n",
      "finish_date    14 non-null datetime64[ns]\n",
      "dtypes: datetime64[ns](2), object(2)\n",
      "memory usage: 576.0+ bytes\n"
     ]
    }
   ],
   "source": [
    "ab_marketing_events.info()"
   ]
  },
  {
   "cell_type": "markdown",
   "metadata": {},
   "source": [
    "### Предобработка таблицы ab_new_users — все пользователи, зарегистрировавшиеся в интернет-магазине в период с 7 по 21 декабря 2020 года."
   ]
  },
  {
   "cell_type": "code",
   "execution_count": 93,
   "metadata": {},
   "outputs": [],
   "source": [
    "# замена типа данных на datetime\n",
    "ab_new_users['first_date'] = pd.to_datetime(ab_new_users['first_date'])"
   ]
  },
  {
   "cell_type": "code",
   "execution_count": 94,
   "metadata": {},
   "outputs": [],
   "source": [
    "# приведем строки к нижнему регистру\n",
    "ab_new_users['device'] = ab_new_users['device'].str.lower()\n",
    "ab_new_users['region'] = ab_new_users['region'].str.lower()"
   ]
  },
  {
   "cell_type": "code",
   "execution_count": 95,
   "metadata": {},
   "outputs": [
    {
     "name": "stdout",
     "output_type": "stream",
     "text": [
      "<class 'pandas.core.frame.DataFrame'>\n",
      "RangeIndex: 61733 entries, 0 to 61732\n",
      "Data columns (total 4 columns):\n",
      "user_id       61733 non-null object\n",
      "first_date    61733 non-null datetime64[ns]\n",
      "region        61733 non-null object\n",
      "device        61733 non-null object\n",
      "dtypes: datetime64[ns](1), object(3)\n",
      "memory usage: 1.9+ MB\n"
     ]
    }
   ],
   "source": [
    "ab_new_users.info()"
   ]
  },
  {
   "cell_type": "markdown",
   "metadata": {},
   "source": [
    "### Предобработка таблицы ab_events — все события новых пользователей в период с 7 декабря 2020 по 4 января 2021 года."
   ]
  },
  {
   "cell_type": "code",
   "execution_count": 96,
   "metadata": {},
   "outputs": [],
   "source": [
    "# замена типа данных на datetime\n",
    "ab_events['event_dt'] = pd.to_datetime(ab_events['event_dt'])"
   ]
  },
  {
   "cell_type": "code",
   "execution_count": 97,
   "metadata": {},
   "outputs": [],
   "source": [
    "# переименуем столбец для удобства дальнейшей работы\n",
    "ab_events.rename(columns={'event_dt': 'event_date'}, inplace=True) "
   ]
  },
  {
   "cell_type": "code",
   "execution_count": 98,
   "metadata": {},
   "outputs": [
    {
     "data": {
      "text/plain": [
       "array([ 99.99,   9.99,   4.99, 499.99,    nan])"
      ]
     },
     "execution_count": 98,
     "metadata": {},
     "output_type": "execute_result"
    }
   ],
   "source": [
    "ab_events['details'].unique()"
   ]
  },
  {
   "cell_type": "code",
   "execution_count": 99,
   "metadata": {},
   "outputs": [
    {
     "data": {
      "text/plain": [
       "377577"
      ]
     },
     "execution_count": 99,
     "metadata": {},
     "output_type": "execute_result"
    }
   ],
   "source": [
    "ab_events['details'].isna().sum()"
   ]
  },
  {
   "cell_type": "markdown",
   "metadata": {},
   "source": [
    "Заметка: данные отсутствуют потому что, не было дополнительной информации о событие. В этом случае правильно оставить эти значения пустыми. Отсутствие значения — тоже важный сигнал, который не нужно прятать."
   ]
  },
  {
   "cell_type": "code",
   "execution_count": 100,
   "metadata": {},
   "outputs": [
    {
     "name": "stdout",
     "output_type": "stream",
     "text": [
      "<class 'pandas.core.frame.DataFrame'>\n",
      "RangeIndex: 440317 entries, 0 to 440316\n",
      "Data columns (total 4 columns):\n",
      "user_id       440317 non-null object\n",
      "event_date    440317 non-null datetime64[ns]\n",
      "event_name    440317 non-null object\n",
      "details       62740 non-null float64\n",
      "dtypes: datetime64[ns](1), float64(1), object(2)\n",
      "memory usage: 13.4+ MB\n"
     ]
    }
   ],
   "source": [
    "ab_events.info()"
   ]
  },
  {
   "cell_type": "markdown",
   "metadata": {},
   "source": [
    "### Выводы о предобработки данных."
   ]
  },
  {
   "cell_type": "markdown",
   "metadata": {},
   "source": [
    "* В таблице ab_marketing_events:\n",
    "    * привели даты в столбцах 'start_dt' и 'finish_dt' к типу datetime;\n",
    "    * переименовали столбцы для удобства дальнейшей работы {'start_dt': 'start_date', 'finish_dt': 'finish_date'};\n",
    "    * привели строки к нижнему регистру в столбцах 'name' и 'regions'.\n",
    "* В таблице ab_new_users:\n",
    "    * привели даты в столбце 'first_date' к типу datetime;\n",
    "    * привели строки к нижнему регистру в столбцах 'region' и 'device'.\n",
    "* В таблице ab_events:\n",
    "    * привели даты в столбце 'event_dt' к типу datetime;\n",
    "    * переименовали столбец для удобства дальнейшей работы {'event_dt': 'event_date'};\n",
    "    * в столбце 'details' количество пропущенных значений 377577 строк, удалять или заменять мы их не стали, так как данные отсутствуют потому что, не было дополнительной информации о событие. В этом случае правильно оставить эти значения пустыми.\n",
    "\n",
    "Названия столбцов и их тип данных теперь корректны и удобны для дальнейшей работы. Их исправление позволит провести анализ точнее."
   ]
  },
  {
   "cell_type": "markdown",
   "metadata": {},
   "source": [
    "## Шаг. Исследовательский анализ данных"
   ]
  },
  {
   "cell_type": "markdown",
   "metadata": {},
   "source": [
    "### Посмотрим календарь маркетинговых событий на 2020 год."
   ]
  },
  {
   "cell_type": "code",
   "execution_count": 101,
   "metadata": {},
   "outputs": [
    {
     "data": {
      "text/html": [
       "<div>\n",
       "<style scoped>\n",
       "    .dataframe tbody tr th:only-of-type {\n",
       "        vertical-align: middle;\n",
       "    }\n",
       "\n",
       "    .dataframe tbody tr th {\n",
       "        vertical-align: top;\n",
       "    }\n",
       "\n",
       "    .dataframe thead th {\n",
       "        text-align: right;\n",
       "    }\n",
       "</style>\n",
       "<table border=\"1\" class=\"dataframe\">\n",
       "  <thead>\n",
       "    <tr style=\"text-align: right;\">\n",
       "      <th></th>\n",
       "      <th>name</th>\n",
       "      <th>regions</th>\n",
       "      <th>start_date</th>\n",
       "      <th>finish_date</th>\n",
       "    </tr>\n",
       "  </thead>\n",
       "  <tbody>\n",
       "    <tr>\n",
       "      <td>6</td>\n",
       "      <td>chinese new year promo</td>\n",
       "      <td>apac</td>\n",
       "      <td>2020-01-25</td>\n",
       "      <td>2020-02-07</td>\n",
       "    </tr>\n",
       "    <tr>\n",
       "      <td>1</td>\n",
       "      <td>st. valentine's day giveaway</td>\n",
       "      <td>eu, cis, apac, n.america</td>\n",
       "      <td>2020-02-14</td>\n",
       "      <td>2020-02-16</td>\n",
       "    </tr>\n",
       "    <tr>\n",
       "      <td>8</td>\n",
       "      <td>international women's day promo</td>\n",
       "      <td>eu, cis, apac</td>\n",
       "      <td>2020-03-08</td>\n",
       "      <td>2020-03-10</td>\n",
       "    </tr>\n",
       "    <tr>\n",
       "      <td>2</td>\n",
       "      <td>st. patric's day promo</td>\n",
       "      <td>eu, n.america</td>\n",
       "      <td>2020-03-17</td>\n",
       "      <td>2020-03-19</td>\n",
       "    </tr>\n",
       "    <tr>\n",
       "      <td>3</td>\n",
       "      <td>easter promo</td>\n",
       "      <td>eu, cis, apac, n.america</td>\n",
       "      <td>2020-04-12</td>\n",
       "      <td>2020-04-19</td>\n",
       "    </tr>\n",
       "    <tr>\n",
       "      <td>7</td>\n",
       "      <td>labor day (may 1st) ads campaign</td>\n",
       "      <td>eu, cis, apac</td>\n",
       "      <td>2020-05-01</td>\n",
       "      <td>2020-05-03</td>\n",
       "    </tr>\n",
       "    <tr>\n",
       "      <td>9</td>\n",
       "      <td>victory day cis (may 9th) event</td>\n",
       "      <td>cis</td>\n",
       "      <td>2020-05-09</td>\n",
       "      <td>2020-05-11</td>\n",
       "    </tr>\n",
       "    <tr>\n",
       "      <td>11</td>\n",
       "      <td>dragon boat festival giveaway</td>\n",
       "      <td>apac</td>\n",
       "      <td>2020-06-25</td>\n",
       "      <td>2020-07-01</td>\n",
       "    </tr>\n",
       "    <tr>\n",
       "      <td>4</td>\n",
       "      <td>4th of july promo</td>\n",
       "      <td>n.america</td>\n",
       "      <td>2020-07-04</td>\n",
       "      <td>2020-07-11</td>\n",
       "    </tr>\n",
       "    <tr>\n",
       "      <td>13</td>\n",
       "      <td>chinese moon festival</td>\n",
       "      <td>apac</td>\n",
       "      <td>2020-10-01</td>\n",
       "      <td>2020-10-07</td>\n",
       "    </tr>\n",
       "    <tr>\n",
       "      <td>12</td>\n",
       "      <td>single's day gift promo</td>\n",
       "      <td>apac</td>\n",
       "      <td>2020-11-11</td>\n",
       "      <td>2020-11-12</td>\n",
       "    </tr>\n",
       "    <tr>\n",
       "      <td>5</td>\n",
       "      <td>black friday ads campaign</td>\n",
       "      <td>eu, cis, apac, n.america</td>\n",
       "      <td>2020-11-26</td>\n",
       "      <td>2020-12-01</td>\n",
       "    </tr>\n",
       "    <tr>\n",
       "      <td>0</td>\n",
       "      <td>christmas&amp;new year promo</td>\n",
       "      <td>eu, n.america</td>\n",
       "      <td>2020-12-25</td>\n",
       "      <td>2021-01-03</td>\n",
       "    </tr>\n",
       "    <tr>\n",
       "      <td>10</td>\n",
       "      <td>cis new year gift lottery</td>\n",
       "      <td>cis</td>\n",
       "      <td>2020-12-30</td>\n",
       "      <td>2021-01-07</td>\n",
       "    </tr>\n",
       "  </tbody>\n",
       "</table>\n",
       "</div>"
      ],
      "text/plain": [
       "                                name                   regions start_date  \\\n",
       "6   chinese new year promo            apac                     2020-01-25   \n",
       "1   st. valentine's day giveaway      eu, cis, apac, n.america 2020-02-14   \n",
       "8   international women's day promo   eu, cis, apac            2020-03-08   \n",
       "2   st. patric's day promo            eu, n.america            2020-03-17   \n",
       "3   easter promo                      eu, cis, apac, n.america 2020-04-12   \n",
       "7   labor day (may 1st) ads campaign  eu, cis, apac            2020-05-01   \n",
       "9   victory day cis (may 9th) event   cis                      2020-05-09   \n",
       "11  dragon boat festival giveaway     apac                     2020-06-25   \n",
       "4   4th of july promo                 n.america                2020-07-04   \n",
       "13  chinese moon festival             apac                     2020-10-01   \n",
       "12  single's day gift promo           apac                     2020-11-11   \n",
       "5   black friday ads campaign         eu, cis, apac, n.america 2020-11-26   \n",
       "0   christmas&new year promo          eu, n.america            2020-12-25   \n",
       "10  cis new year gift lottery         cis                      2020-12-30   \n",
       "\n",
       "   finish_date  \n",
       "6  2020-02-07   \n",
       "1  2020-02-16   \n",
       "8  2020-03-10   \n",
       "2  2020-03-19   \n",
       "3  2020-04-19   \n",
       "7  2020-05-03   \n",
       "9  2020-05-11   \n",
       "11 2020-07-01   \n",
       "4  2020-07-11   \n",
       "13 2020-10-07   \n",
       "12 2020-11-12   \n",
       "5  2020-12-01   \n",
       "0  2021-01-03   \n",
       "10 2021-01-07   "
      ]
     },
     "execution_count": 101,
     "metadata": {},
     "output_type": "execute_result"
    }
   ],
   "source": [
    "# Посмотрим на таблицу.\n",
    "ab_marketing_events.sort_values(by='start_date', ascending=True)"
   ]
  },
  {
   "cell_type": "markdown",
   "metadata": {},
   "source": [
    "По техническому заданию, далее ТЗ, нам необходимы данные только с 7 декабря 2020 по 4 января 2021 года. Отфильтруем датасет на нужные даты."
   ]
  },
  {
   "cell_type": "code",
   "execution_count": 102,
   "metadata": {},
   "outputs": [
    {
     "data": {
      "text/html": [
       "<div>\n",
       "<style scoped>\n",
       "    .dataframe tbody tr th:only-of-type {\n",
       "        vertical-align: middle;\n",
       "    }\n",
       "\n",
       "    .dataframe tbody tr th {\n",
       "        vertical-align: top;\n",
       "    }\n",
       "\n",
       "    .dataframe thead th {\n",
       "        text-align: right;\n",
       "    }\n",
       "</style>\n",
       "<table border=\"1\" class=\"dataframe\">\n",
       "  <thead>\n",
       "    <tr style=\"text-align: right;\">\n",
       "      <th></th>\n",
       "      <th>name</th>\n",
       "      <th>regions</th>\n",
       "      <th>start_date</th>\n",
       "      <th>finish_date</th>\n",
       "    </tr>\n",
       "  </thead>\n",
       "  <tbody>\n",
       "    <tr>\n",
       "      <td>0</td>\n",
       "      <td>christmas&amp;new year promo</td>\n",
       "      <td>eu, n.america</td>\n",
       "      <td>2020-12-25</td>\n",
       "      <td>2021-01-03</td>\n",
       "    </tr>\n",
       "    <tr>\n",
       "      <td>10</td>\n",
       "      <td>cis new year gift lottery</td>\n",
       "      <td>cis</td>\n",
       "      <td>2020-12-30</td>\n",
       "      <td>2021-01-07</td>\n",
       "    </tr>\n",
       "  </tbody>\n",
       "</table>\n",
       "</div>"
      ],
      "text/plain": [
       "                         name        regions start_date finish_date\n",
       "0   christmas&new year promo   eu, n.america 2020-12-25 2021-01-03 \n",
       "10  cis new year gift lottery  cis           2020-12-30 2021-01-07 "
      ]
     },
     "execution_count": 102,
     "metadata": {},
     "output_type": "execute_result"
    }
   ],
   "source": [
    "# отфильтруем датасет на нужные даты\n",
    "ab_marketing_events = ab_marketing_events[(ab_marketing_events['start_date'] <= \"2021-01-04\") & \n",
    "                                          (ab_marketing_events['finish_date'] >= \"2020-12-07\")]\n",
    "ab_marketing_events"
   ]
  },
  {
   "cell_type": "markdown",
   "metadata": {},
   "source": [
    "Выводы:\n",
    "\n",
    "В этот период есть 2 маркетинговых события. Они и будут влиять на активность пользователей.\n",
    "\n",
    "Где,\n",
    "\n",
    "* christmas&new year promo = рождественский и новогодний промо в Европе и Северной Америке\n",
    "* cis new year gift lottery = лотерея подарков на новый год в СНГ"
   ]
  },
  {
   "cell_type": "markdown",
   "metadata": {},
   "source": [
    "### Проанализируем данные о пользователях, зарегистрировавшиеся в интернет-магазине в период с 7 по 21 декабря 2020 года."
   ]
  },
  {
   "cell_type": "code",
   "execution_count": 103,
   "metadata": {},
   "outputs": [
    {
     "data": {
      "text/html": [
       "<div>\n",
       "<style scoped>\n",
       "    .dataframe tbody tr th:only-of-type {\n",
       "        vertical-align: middle;\n",
       "    }\n",
       "\n",
       "    .dataframe tbody tr th {\n",
       "        vertical-align: top;\n",
       "    }\n",
       "\n",
       "    .dataframe thead th {\n",
       "        text-align: right;\n",
       "    }\n",
       "</style>\n",
       "<table border=\"1\" class=\"dataframe\">\n",
       "  <thead>\n",
       "    <tr style=\"text-align: right;\">\n",
       "      <th></th>\n",
       "      <th>user_id</th>\n",
       "      <th>first_date</th>\n",
       "      <th>region</th>\n",
       "      <th>device</th>\n",
       "    </tr>\n",
       "  </thead>\n",
       "  <tbody>\n",
       "    <tr>\n",
       "      <td>0</td>\n",
       "      <td>D72A72121175D8BE</td>\n",
       "      <td>2020-12-07</td>\n",
       "      <td>eu</td>\n",
       "      <td>pc</td>\n",
       "    </tr>\n",
       "    <tr>\n",
       "      <td>1</td>\n",
       "      <td>F1C668619DFE6E65</td>\n",
       "      <td>2020-12-07</td>\n",
       "      <td>n.america</td>\n",
       "      <td>android</td>\n",
       "    </tr>\n",
       "    <tr>\n",
       "      <td>2</td>\n",
       "      <td>2E1BF1D4C37EA01F</td>\n",
       "      <td>2020-12-07</td>\n",
       "      <td>eu</td>\n",
       "      <td>pc</td>\n",
       "    </tr>\n",
       "    <tr>\n",
       "      <td>3</td>\n",
       "      <td>50734A22C0C63768</td>\n",
       "      <td>2020-12-07</td>\n",
       "      <td>eu</td>\n",
       "      <td>iphone</td>\n",
       "    </tr>\n",
       "    <tr>\n",
       "      <td>4</td>\n",
       "      <td>E1BDDCE0DAFA2679</td>\n",
       "      <td>2020-12-07</td>\n",
       "      <td>n.america</td>\n",
       "      <td>iphone</td>\n",
       "    </tr>\n",
       "  </tbody>\n",
       "</table>\n",
       "</div>"
      ],
      "text/plain": [
       "            user_id first_date     region   device\n",
       "0  D72A72121175D8BE 2020-12-07  eu         pc     \n",
       "1  F1C668619DFE6E65 2020-12-07  n.america  android\n",
       "2  2E1BF1D4C37EA01F 2020-12-07  eu         pc     \n",
       "3  50734A22C0C63768 2020-12-07  eu         iphone \n",
       "4  E1BDDCE0DAFA2679 2020-12-07  n.america  iphone "
      ]
     },
     "execution_count": 103,
     "metadata": {},
     "output_type": "execute_result"
    }
   ],
   "source": [
    "# Посмотрим на таблицу.\n",
    "ab_new_users.head()"
   ]
  },
  {
   "cell_type": "code",
   "execution_count": 104,
   "metadata": {},
   "outputs": [
    {
     "name": "stdout",
     "output_type": "stream",
     "text": [
      "Всего пользователей в логе: 61733 пользователей\n"
     ]
    }
   ],
   "source": [
    "# Посчитаем общее кол-во пользователей.\n",
    "users_total = len(ab_new_users['user_id'].unique())\n",
    "print(\"Всего пользователей в логе: {} пользователей\".format(users_total))"
   ]
  },
  {
   "cell_type": "code",
   "execution_count": 105,
   "metadata": {},
   "outputs": [
    {
     "data": {
      "image/png": "[encoded data removed]",
      "text/plain": [
       "<Figure size 720x360 with 1 Axes>"
      ]
     },
     "metadata": {},
     "output_type": "display_data"
    }
   ],
   "source": [
    "# Сгруппируем данные по полю first_date (дата регистрации) и посчитаем количество уникальных пользователей.\n",
    "users_count = ab_new_users.groupby('first_date').agg({'user_id': ['nunique']}).reset_index()\n",
    "users_count.columns = ['first_date', 'n_users']\n",
    "\n",
    "# Применим метод dt.strftime() — он превращает объект Series с типом datetime в строку в формате даты. \n",
    "users_count['first_date'] = users_count['first_date'].dt.strftime('%Y-%m-%d')\n",
    "\n",
    "# Строим график.\n",
    "plt.figure(figsize=(10,5))\n",
    "plt.title('Рис.2.2. Количество пользователей в логе по дате.', fontsize=16) \n",
    "sns.barplot(x='first_date', y='n_users', data=users_count, color='#DB7093') #orient='h'\n",
    "plt.xticks(rotation= 90)\n",
    "plt.show()"
   ]
  },
  {
   "cell_type": "markdown",
   "metadata": {},
   "source": [
    "По условиям ТЗ дата остановки набора новых пользователей 21-12-2020. Уберем пользователей зарегистрировавшихся после 21 декабря."
   ]
  },
  {
   "cell_type": "code",
   "execution_count": 106,
   "metadata": {},
   "outputs": [
    {
     "name": "stdout",
     "output_type": "stream",
     "text": [
      "Дата первой записи в логе после фильтрации:: 2020-12-07 00:00:00 \n",
      "Дата последней записи в логе после фильтрации:: 2020-12-21 00:00:00 \n",
      "Период ведения лога после фильтрации: 14 days 00:00:00 \n"
     ]
    }
   ],
   "source": [
    "# Оставим пользователей до 21-12-2020.\n",
    "ab_new_users = ab_new_users.query('first_date <= \"2020-12-21\"')\n",
    "\n",
    "# Найдем минимальную и максимальную дату.\n",
    "min_first_date = ab_new_users['first_date'].min()\n",
    "max_first_date = ab_new_users['first_date'].max()\n",
    "\n",
    "print(\"Дата первой записи в логе после фильтрации:: {} \".format(min_first_date))\n",
    "print(\"Дата последней записи в логе после фильтрации:: {} \".format(max_first_date))\n",
    "print(\"Период ведения лога после фильтрации: {} \".format(max_first_date - min_first_date))"
   ]
  },
  {
   "cell_type": "code",
   "execution_count": 107,
   "metadata": {},
   "outputs": [
    {
     "name": "stdout",
     "output_type": "stream",
     "text": [
      "Всего пользователей в логе после фильтрации: 56470 пользователей\n"
     ]
    }
   ],
   "source": [
    "# Посчитаем общее кол-во пользователей после фильтрации.\n",
    "users_total = len(ab_new_users['user_id'].unique())\n",
    "print(\"Всего пользователей в логе после фильтрации: {} пользователей\".format(users_total))"
   ]
  },
  {
   "cell_type": "markdown",
   "metadata": {},
   "source": [
    "Посмотрим из каких регионов пользователи и какими устройствами они пользуются."
   ]
  },
  {
   "cell_type": "code",
   "execution_count": 108,
   "metadata": {},
   "outputs": [
    {
     "data": {
      "text/plain": [
       "eu           42340\n",
       "n.america    8347 \n",
       "cis          2900 \n",
       "apac         2883 \n",
       "Name: region, dtype: int64"
      ]
     },
     "metadata": {},
     "output_type": "display_data"
    },
    {
     "data": {
      "text/plain": [
       "android    25161\n",
       "pc         14310\n",
       "iphone     11477\n",
       "mac        5522 \n",
       "Name: device, dtype: int64"
      ]
     },
     "metadata": {},
     "output_type": "display_data"
    }
   ],
   "source": [
    "# Вызовем к столбцу 'region' и 'device' метод value_counts(), который возвращает уникальные значения и количество их упоминаний.\n",
    "display(ab_new_users['region'].value_counts())\n",
    "display(ab_new_users['device'].value_counts())"
   ]
  },
  {
   "cell_type": "markdown",
   "metadata": {},
   "source": [
    "Выводы:\n",
    "\n",
    "В логе с новыми пользователями за период с 7-12-2020 по 21-12-2020:\n",
    "* всего пользователей 56470\n",
    "* из региона eu (европа) = 42340 пользователей\n",
    "* из региона n.america (северная америка) = 8347 пользователей\n",
    "* из региона cis (содружество независимых государств) = 2900 пользователей\n",
    "* из региона apac (азиатско-тихоокеанский регион) = 2883 пользователя\n",
    "* большинство пользователей использую платформы от microsoft\n",
    "* меньшинство пользователей использую платформы от apple"
   ]
  },
  {
   "cell_type": "markdown",
   "metadata": {},
   "source": [
    "### Проанализируем данные о событиях, где все события новых пользователей за период с 7 декабря 2020 по 4 января 2021 года."
   ]
  },
  {
   "cell_type": "code",
   "execution_count": 109,
   "metadata": {},
   "outputs": [
    {
     "data": {
      "text/html": [
       "<div>\n",
       "<style scoped>\n",
       "    .dataframe tbody tr th:only-of-type {\n",
       "        vertical-align: middle;\n",
       "    }\n",
       "\n",
       "    .dataframe tbody tr th {\n",
       "        vertical-align: top;\n",
       "    }\n",
       "\n",
       "    .dataframe thead th {\n",
       "        text-align: right;\n",
       "    }\n",
       "</style>\n",
       "<table border=\"1\" class=\"dataframe\">\n",
       "  <thead>\n",
       "    <tr style=\"text-align: right;\">\n",
       "      <th></th>\n",
       "      <th>user_id</th>\n",
       "      <th>event_date</th>\n",
       "      <th>event_name</th>\n",
       "      <th>details</th>\n",
       "    </tr>\n",
       "  </thead>\n",
       "  <tbody>\n",
       "    <tr>\n",
       "      <td>0</td>\n",
       "      <td>E1BDDCE0DAFA2679</td>\n",
       "      <td>2020-12-07 20:22:03</td>\n",
       "      <td>purchase</td>\n",
       "      <td>99.99</td>\n",
       "    </tr>\n",
       "    <tr>\n",
       "      <td>1</td>\n",
       "      <td>7B6452F081F49504</td>\n",
       "      <td>2020-12-07 09:22:53</td>\n",
       "      <td>purchase</td>\n",
       "      <td>9.99</td>\n",
       "    </tr>\n",
       "    <tr>\n",
       "      <td>2</td>\n",
       "      <td>9CD9F34546DF254C</td>\n",
       "      <td>2020-12-07 12:59:29</td>\n",
       "      <td>purchase</td>\n",
       "      <td>4.99</td>\n",
       "    </tr>\n",
       "    <tr>\n",
       "      <td>3</td>\n",
       "      <td>96F27A054B191457</td>\n",
       "      <td>2020-12-07 04:02:40</td>\n",
       "      <td>purchase</td>\n",
       "      <td>4.99</td>\n",
       "    </tr>\n",
       "    <tr>\n",
       "      <td>4</td>\n",
       "      <td>1FD7660FDF94CA1F</td>\n",
       "      <td>2020-12-07 10:15:09</td>\n",
       "      <td>purchase</td>\n",
       "      <td>4.99</td>\n",
       "    </tr>\n",
       "  </tbody>\n",
       "</table>\n",
       "</div>"
      ],
      "text/plain": [
       "            user_id          event_date event_name  details\n",
       "0  E1BDDCE0DAFA2679 2020-12-07 20:22:03  purchase  99.99   \n",
       "1  7B6452F081F49504 2020-12-07 09:22:53  purchase  9.99    \n",
       "2  9CD9F34546DF254C 2020-12-07 12:59:29  purchase  4.99    \n",
       "3  96F27A054B191457 2020-12-07 04:02:40  purchase  4.99    \n",
       "4  1FD7660FDF94CA1F 2020-12-07 10:15:09  purchase  4.99    "
      ]
     },
     "execution_count": 109,
     "metadata": {},
     "output_type": "execute_result"
    }
   ],
   "source": [
    "# Посмотрим на таблицу.\n",
    "ab_events.head()"
   ]
  },
  {
   "cell_type": "code",
   "execution_count": 110,
   "metadata": {},
   "outputs": [
    {
     "name": "stdout",
     "output_type": "stream",
     "text": [
      "Всего событий в логе: 440317 событий\n",
      "Всего пользователей в логе: 58703 пользователей\n",
      "В среднем на одного пользователя приходится: 8 событий\n"
     ]
    }
   ],
   "source": [
    "# Посчитаем общее кол-во событий.\n",
    "events_total = len(ab_events)\n",
    "print(\"Всего событий в логе: {} событий\".format(events_total))\n",
    "\n",
    "# Посчитаем общее кол-во пользователей.\n",
    "users_events_total = len(ab_events['user_id'].unique())\n",
    "print(\"Всего пользователей в логе: {} пользователей\".format(users_events_total))\n",
    "print(\"В среднем на одного пользователя приходится: {} событий\".format(round(events_total/users_events_total)))"
   ]
  },
  {
   "cell_type": "code",
   "execution_count": 111,
   "metadata": {},
   "outputs": [
    {
     "data": {
      "image/png": "[encoded data removed]",
      "text/plain": [
       "<Figure size 720x360 with 1 Axes>"
      ]
     },
     "metadata": {},
     "output_type": "display_data"
    }
   ],
   "source": [
    "# Сгруппируем данные по полю event_date и посчитаем количество событий.\n",
    "events_date_count = ab_events.groupby('event_date').agg({'event_name': ['count']}).reset_index()\n",
    "events_date_count.columns = ['event_date', 'n_events']\n",
    "\n",
    "# Применим метод dt.strftime() — он превращает объект Series с типом datetime в строку в формате даты. \n",
    "events_date_count['event_date'] = events_date_count['event_date'].dt.strftime('%Y-%m-%d')\n",
    "\n",
    "# Строим график.\n",
    "plt.figure(figsize=(10,5))\n",
    "plt.title('Рис.2.3.1. Количество событий в логе по дате.', fontsize=16) \n",
    "sns.barplot(x='event_date', y='n_events', data=events_date_count, color=\"#FFD700\") #orient='h'\n",
    "plt.xticks(rotation= 90)\n",
    "plt.show()"
   ]
  },
  {
   "cell_type": "markdown",
   "metadata": {},
   "source": [
    "По графику видим, что после 29-12-2020 данные неполные. По ТЗ для тестирования нам необходимы полные данные до 2021-01-04. Видимо произошел какой-то сбой в записи событий. Не будем учитывать неполные данные после 29-12-2020, и отсеем их."
   ]
  },
  {
   "cell_type": "code",
   "execution_count": 112,
   "metadata": {},
   "outputs": [],
   "source": [
    "# Отфильтруем данные, оставим до 29-12-2020.\n",
    "ab_events = ab_events.query('event_date <= \"2020-12-29\"')"
   ]
  },
  {
   "cell_type": "code",
   "execution_count": 113,
   "metadata": {},
   "outputs": [
    {
     "name": "stdout",
     "output_type": "stream",
     "text": [
      "Всего событий в логе после фильтрации: 430082 событий\n",
      "Всего пользователей в логе после фильтрации: 58702 пользователей\n",
      "В среднем на одного пользователя приходится после фильтрации: 7 событий\n"
     ]
    }
   ],
   "source": [
    "# Посчитаем общее кол-во событий после фильтрации.\n",
    "events_total = len(ab_events)\n",
    "print(\"Всего событий в логе после фильтрации: {} событий\".format(events_total))\n",
    "\n",
    "# Посчитаем общее кол-во пользователей после фильтрации.\n",
    "users_events_total = len(ab_events['user_id'].unique())\n",
    "print(\"Всего пользователей в логе после фильтрации: {} пользователей\".format(users_events_total))\n",
    "print(\"В среднем на одного пользователя приходится после фильтрации: {} событий\".format(\n",
    "    int(ab_events.groupby('user_id').agg({'event_name':'count'})['event_name'].mean())))"
   ]
  },
  {
   "cell_type": "code",
   "execution_count": 114,
   "metadata": {},
   "outputs": [
    {
     "data": {
      "image/png": "[encoded data removed]",
      "text/plain": [
       "<Figure size 720x216 with 1 Axes>"
      ]
     },
     "metadata": {},
     "output_type": "display_data"
    },
    {
     "data": {
      "text/html": [
       "<div>\n",
       "<style scoped>\n",
       "    .dataframe tbody tr th:only-of-type {\n",
       "        vertical-align: middle;\n",
       "    }\n",
       "\n",
       "    .dataframe tbody tr th {\n",
       "        vertical-align: top;\n",
       "    }\n",
       "\n",
       "    .dataframe thead th {\n",
       "        text-align: right;\n",
       "    }\n",
       "</style>\n",
       "<table border=\"1\" class=\"dataframe\">\n",
       "  <thead>\n",
       "    <tr style=\"text-align: right;\">\n",
       "      <th></th>\n",
       "      <th>event_name</th>\n",
       "      <th>n_events</th>\n",
       "      <th>ratio_events</th>\n",
       "    </tr>\n",
       "  </thead>\n",
       "  <tbody>\n",
       "    <tr>\n",
       "      <td>0</td>\n",
       "      <td>login</td>\n",
       "      <td>185129</td>\n",
       "      <td>43.00</td>\n",
       "    </tr>\n",
       "    <tr>\n",
       "      <td>2</td>\n",
       "      <td>product_page</td>\n",
       "      <td>122669</td>\n",
       "      <td>28.50</td>\n",
       "    </tr>\n",
       "    <tr>\n",
       "      <td>3</td>\n",
       "      <td>purchase</td>\n",
       "      <td>61301</td>\n",
       "      <td>14.30</td>\n",
       "    </tr>\n",
       "    <tr>\n",
       "      <td>1</td>\n",
       "      <td>product_cart</td>\n",
       "      <td>60983</td>\n",
       "      <td>14.20</td>\n",
       "    </tr>\n",
       "  </tbody>\n",
       "</table>\n",
       "</div>"
      ],
      "text/plain": [
       "     event_name  n_events  ratio_events\n",
       "0  login         185129   43.00        \n",
       "2  product_page  122669   28.50        \n",
       "3  purchase      61301    14.30        \n",
       "1  product_cart  60983    14.20        "
      ]
     },
     "execution_count": 114,
     "metadata": {},
     "output_type": "execute_result"
    }
   ],
   "source": [
    "# Методом groupby() сгруппируем по событию и посчитаем кол-во записей для каждого события.\n",
    "events_count = ab_events.groupby('event_name').agg({'event_date':'count'})\\\n",
    "                                             .reset_index().sort_values(by='event_date', ascending=False)\n",
    "events_count.columns = ['event_name', 'n_events']\n",
    "\n",
    "# Доля событий от общего кол-ва. \n",
    "events_count['ratio_events'] = ((events_count['n_events'] / events_count['n_events'].sum()) * 100).round(1)\n",
    "\n",
    "# Строим график с помощью SEABORN.\n",
    "plt.figure(figsize=(10, 3))\n",
    "plt.title('Рис.2.3.2. Количество событий в логе.', fontsize=16) \n",
    "sns.barplot(x='n_events', y='event_name', data=events_count)\n",
    "plt.show()\n",
    "events_count"
   ]
  },
  {
   "cell_type": "markdown",
   "metadata": {},
   "source": [
    "Выводы:\n",
    "\n",
    "* Всего событий в логе после фильтрации: 430082 событий\n",
    "* Всего пользователей в логе после фильтрации: 58702 пользователей\n",
    "* В среднем на одного пользователя приходится после фильтрации: 7 событий\n",
    "\n",
    "4 отслеживаемых событий:\n",
    "* (1) login = логин (вход в систему) чаще всего вызываемое событие в приложении, 185129 раз;\n",
    "* (2) product_page = страница продукта, вызываемое событие 122669 раз;\n",
    "* (3) purchase = покупка (кол-во покупок), вызываемое событие 61301 раз;\n",
    "* (4) product_cart = корзина продукта, вызываемое событие 60983 раз; меньше всего взаимодействий с корзиной.\n",
    "\n",
    "318 пользователей переходят сразу на оплату, в обход корзины."
   ]
  },
  {
   "cell_type": "markdown",
   "metadata": {},
   "source": [
    "### Посмотрим таблицу с участниками тестов. Сравним группы."
   ]
  },
  {
   "cell_type": "code",
   "execution_count": 115,
   "metadata": {},
   "outputs": [
    {
     "data": {
      "text/html": [
       "<div>\n",
       "<style scoped>\n",
       "    .dataframe tbody tr th:only-of-type {\n",
       "        vertical-align: middle;\n",
       "    }\n",
       "\n",
       "    .dataframe tbody tr th {\n",
       "        vertical-align: top;\n",
       "    }\n",
       "\n",
       "    .dataframe thead th {\n",
       "        text-align: right;\n",
       "    }\n",
       "</style>\n",
       "<table border=\"1\" class=\"dataframe\">\n",
       "  <thead>\n",
       "    <tr style=\"text-align: right;\">\n",
       "      <th></th>\n",
       "      <th>user_id</th>\n",
       "      <th>group</th>\n",
       "      <th>ab_test</th>\n",
       "    </tr>\n",
       "  </thead>\n",
       "  <tbody>\n",
       "    <tr>\n",
       "      <td>4125</td>\n",
       "      <td>998F4E1FD24A2BF3</td>\n",
       "      <td>A</td>\n",
       "      <td>recommender_system_test</td>\n",
       "    </tr>\n",
       "    <tr>\n",
       "      <td>13216</td>\n",
       "      <td>6C6022BBA51A3C40</td>\n",
       "      <td>A</td>\n",
       "      <td>interface_eu_test</td>\n",
       "    </tr>\n",
       "    <tr>\n",
       "      <td>6060</td>\n",
       "      <td>F7166A10FF980198</td>\n",
       "      <td>B</td>\n",
       "      <td>recommender_system_test</td>\n",
       "    </tr>\n",
       "    <tr>\n",
       "      <td>508</td>\n",
       "      <td>0D53336168AE6BF5</td>\n",
       "      <td>B</td>\n",
       "      <td>recommender_system_test</td>\n",
       "    </tr>\n",
       "    <tr>\n",
       "      <td>1412</td>\n",
       "      <td>44807382F18F0AE9</td>\n",
       "      <td>B</td>\n",
       "      <td>recommender_system_test</td>\n",
       "    </tr>\n",
       "    <tr>\n",
       "      <td>3583</td>\n",
       "      <td>2E53814463A4BE74</td>\n",
       "      <td>A</td>\n",
       "      <td>recommender_system_test</td>\n",
       "    </tr>\n",
       "    <tr>\n",
       "      <td>7491</td>\n",
       "      <td>9431D6C9475CFD3A</td>\n",
       "      <td>B</td>\n",
       "      <td>interface_eu_test</td>\n",
       "    </tr>\n",
       "    <tr>\n",
       "      <td>9602</td>\n",
       "      <td>519A3A75ECFCE532</td>\n",
       "      <td>A</td>\n",
       "      <td>interface_eu_test</td>\n",
       "    </tr>\n",
       "    <tr>\n",
       "      <td>5959</td>\n",
       "      <td>D5C08FF7A81F5A18</td>\n",
       "      <td>A</td>\n",
       "      <td>recommender_system_test</td>\n",
       "    </tr>\n",
       "    <tr>\n",
       "      <td>4658</td>\n",
       "      <td>F46FE699C8997D7B</td>\n",
       "      <td>B</td>\n",
       "      <td>recommender_system_test</td>\n",
       "    </tr>\n",
       "  </tbody>\n",
       "</table>\n",
       "</div>"
      ],
      "text/plain": [
       "                user_id group                  ab_test\n",
       "4125   998F4E1FD24A2BF3  A     recommender_system_test\n",
       "13216  6C6022BBA51A3C40  A     interface_eu_test      \n",
       "6060   F7166A10FF980198  B     recommender_system_test\n",
       "508    0D53336168AE6BF5  B     recommender_system_test\n",
       "1412   44807382F18F0AE9  B     recommender_system_test\n",
       "3583   2E53814463A4BE74  A     recommender_system_test\n",
       "7491   9431D6C9475CFD3A  B     interface_eu_test      \n",
       "9602   519A3A75ECFCE532  A     interface_eu_test      \n",
       "5959   D5C08FF7A81F5A18  A     recommender_system_test\n",
       "4658   F46FE699C8997D7B  B     recommender_system_test"
      ]
     },
     "execution_count": 115,
     "metadata": {},
     "output_type": "execute_result"
    }
   ],
   "source": [
    "# Посмотрим на таблицу.\n",
    "ab_participants.sample(10)"
   ]
  },
  {
   "cell_type": "code",
   "execution_count": 116,
   "metadata": {},
   "outputs": [
    {
     "name": "stdout",
     "output_type": "stream",
     "text": [
      "Всего пользователей в логе: 16666 пользователей\n"
     ]
    },
    {
     "data": {
      "text/html": [
       "<div>\n",
       "<style scoped>\n",
       "    .dataframe tbody tr th:only-of-type {\n",
       "        vertical-align: middle;\n",
       "    }\n",
       "\n",
       "    .dataframe tbody tr th {\n",
       "        vertical-align: top;\n",
       "    }\n",
       "\n",
       "    .dataframe thead th {\n",
       "        text-align: right;\n",
       "    }\n",
       "</style>\n",
       "<table border=\"1\" class=\"dataframe\">\n",
       "  <thead>\n",
       "    <tr style=\"text-align: right;\">\n",
       "      <th></th>\n",
       "      <th></th>\n",
       "      <th>user_id</th>\n",
       "    </tr>\n",
       "    <tr>\n",
       "      <th>ab_test</th>\n",
       "      <th>group</th>\n",
       "      <th></th>\n",
       "    </tr>\n",
       "  </thead>\n",
       "  <tbody>\n",
       "    <tr>\n",
       "      <td rowspan=\"2\" valign=\"top\">interface_eu_test</td>\n",
       "      <td>A</td>\n",
       "      <td>5831</td>\n",
       "    </tr>\n",
       "    <tr>\n",
       "      <td>B</td>\n",
       "      <td>5736</td>\n",
       "    </tr>\n",
       "    <tr>\n",
       "      <td rowspan=\"2\" valign=\"top\">recommender_system_test</td>\n",
       "      <td>A</td>\n",
       "      <td>3824</td>\n",
       "    </tr>\n",
       "    <tr>\n",
       "      <td>B</td>\n",
       "      <td>2877</td>\n",
       "    </tr>\n",
       "  </tbody>\n",
       "</table>\n",
       "</div>"
      ],
      "text/plain": [
       "                               user_id\n",
       "ab_test                 group         \n",
       "interface_eu_test       A      5831   \n",
       "                        B      5736   \n",
       "recommender_system_test A      3824   \n",
       "                        B      2877   "
      ]
     },
     "execution_count": 116,
     "metadata": {},
     "output_type": "execute_result"
    }
   ],
   "source": [
    "# Посчитаем общее кол-во пользователей.\n",
    "users_total = len(ab_participants['user_id'].unique())\n",
    "print(\"Всего пользователей в логе: {} пользователей\".format(users_total))\n",
    "\n",
    "# Сгруппируем данные по полю ab_test и group, и посчитаем количество уникальных пользователей.\n",
    "ab_test_groups_count = ab_participants.groupby(['ab_test', 'group']).agg({'user_id':'nunique'})\n",
    "ab_test_groups_count"
   ]
  },
  {
   "cell_type": "markdown",
   "metadata": {},
   "source": [
    "Есть два теста interface_eu_test и recommender_system_test."
   ]
  },
  {
   "cell_type": "code",
   "execution_count": 117,
   "metadata": {},
   "outputs": [
    {
     "data": {
      "text/plain": [
       "1602"
      ]
     },
     "execution_count": 117,
     "metadata": {},
     "output_type": "execute_result"
    }
   ],
   "source": [
    "# Посмотрим пересечение тестовой аудитории с конкурирующим тестом.\n",
    "len(ab_participants.groupby('user_id').agg({'ab_test':'nunique'}).query('ab_test == 2'))"
   ]
  },
  {
   "cell_type": "markdown",
   "metadata": {},
   "source": [
    "1602 пользователя участвовало в двух тестах одновременно."
   ]
  },
  {
   "cell_type": "markdown",
   "metadata": {},
   "source": [
    "В техническом задании написано, что нас интересует тест recommender_system_test. Отфильтруем таблицу по необходимому нам тесту для исследования."
   ]
  },
  {
   "cell_type": "code",
   "execution_count": 118,
   "metadata": {},
   "outputs": [],
   "source": [
    "# отфильтруем таблицу по необходимому нам тесту для исследования\n",
    "ab_participants = ab_participants.query('ab_test == \"recommender_system_test\"')"
   ]
  },
  {
   "cell_type": "code",
   "execution_count": 119,
   "metadata": {},
   "outputs": [
    {
     "data": {
      "text/plain": [
       "0"
      ]
     },
     "execution_count": 119,
     "metadata": {},
     "output_type": "execute_result"
    }
   ],
   "source": [
    "# проверим результат\n",
    "len(ab_participants.groupby('user_id').agg({'group':'nunique'}).query('group == 2'))"
   ]
  },
  {
   "cell_type": "code",
   "execution_count": 120,
   "metadata": {},
   "outputs": [
    {
     "data": {
      "text/html": [
       "<div>\n",
       "<style scoped>\n",
       "    .dataframe tbody tr th:only-of-type {\n",
       "        vertical-align: middle;\n",
       "    }\n",
       "\n",
       "    .dataframe tbody tr th {\n",
       "        vertical-align: top;\n",
       "    }\n",
       "\n",
       "    .dataframe thead th {\n",
       "        text-align: right;\n",
       "    }\n",
       "</style>\n",
       "<table border=\"1\" class=\"dataframe\">\n",
       "  <thead>\n",
       "    <tr style=\"text-align: right;\">\n",
       "      <th></th>\n",
       "      <th>group</th>\n",
       "      <th>n_users</th>\n",
       "    </tr>\n",
       "  </thead>\n",
       "  <tbody>\n",
       "    <tr>\n",
       "      <td>0</td>\n",
       "      <td>A</td>\n",
       "      <td>3824</td>\n",
       "    </tr>\n",
       "    <tr>\n",
       "      <td>1</td>\n",
       "      <td>B</td>\n",
       "      <td>2877</td>\n",
       "    </tr>\n",
       "  </tbody>\n",
       "</table>\n",
       "</div>"
      ],
      "text/plain": [
       "  group  n_users\n",
       "0  A     3824   \n",
       "1  B     2877   "
      ]
     },
     "metadata": {},
     "output_type": "display_data"
    },
    {
     "data": {
      "image/png": "[encoded data removed]",
      "text/plain": [
       "<Figure size 720x144 with 1 Axes>"
      ]
     },
     "metadata": {},
     "output_type": "display_data"
    }
   ],
   "source": [
    "# Сгруппируем данные по полю group и посчитаем количество уникальных пользователей.\n",
    "group_users_count = ab_participants.groupby('group').agg({'user_id': ['nunique']})\\\n",
    "                                        .reset_index().sort_values(by= ('user_id', 'nunique'), ascending=False)\n",
    "group_users_count.columns = ['group', 'n_users']\n",
    "display(group_users_count)\n",
    "# Строим график.\n",
    "plt.figure(figsize=(10,2))\n",
    "plt.title('Рис.2.4. Количество пользователей в логе в каждой группе.', fontsize=16) \n",
    "sns.barplot(x='n_users', y='group', data=group_users_count, orient='h')\n",
    "plt.show()"
   ]
  },
  {
   "cell_type": "code",
   "execution_count": 121,
   "metadata": {},
   "outputs": [
    {
     "name": "stdout",
     "output_type": "stream",
     "text": [
      "Всего пользователей в логе после фильтрации: 6701 пользователей\n"
     ]
    }
   ],
   "source": [
    "# Посчитаем общее кол-во пользователей после фильтрации.\n",
    "users_total = len(ab_participants['user_id'].unique())\n",
    "print(\"Всего пользователей в логе после фильтрации: {} пользователей\".format(users_total))"
   ]
  },
  {
   "cell_type": "markdown",
   "metadata": {},
   "source": [
    "Выводы:\n",
    "\n",
    "В тесте recommender_system_test:\n",
    "* Группа: А (контрольная): 3824 пользователей\n",
    "* Группа: B (новая платёжная воронка): 2877 пользователей"
   ]
  },
  {
   "cell_type": "markdown",
   "metadata": {},
   "source": [
    "По ТЗ 15% новых пользователей должны быть из региона EU. Нужно убедиться, что в выборку попало 15% новых пользователей из региона EU."
   ]
  },
  {
   "cell_type": "code",
   "execution_count": 122,
   "metadata": {},
   "outputs": [
    {
     "name": "stdout",
     "output_type": "stream",
     "text": [
      "% новых пользователей из региона EU: 15%\n"
     ]
    }
   ],
   "source": [
    "# Посчитаем количество всех новых пользователей из EU.\n",
    "ab_new_users_eu = len(ab_new_users.query('region == \"eu\"')) \n",
    "\n",
    "# Соединим таблицы 'ab_participants' и 'ab_new_users' по 'user_id'. НОВАЯ ТАБЛИЦА\n",
    "ab_test_data = pd.merge(ab_participants, ab_new_users, on='user_id') \n",
    "\n",
    "# Найдем аудиторию из EU.\n",
    "objective_users = ab_test_data.groupby('region').agg({'user_id':'nunique'}).loc['eu', 'user_id']\n",
    "x = objective_users/ab_new_users_eu\n",
    "print(\"% новых пользователей из региона EU: {:.0%}\".format(x))"
   ]
  },
  {
   "cell_type": "markdown",
   "metadata": {},
   "source": [
    "Убедились, что в выборку попало 15% новых пользователей из региона EU."
   ]
  },
  {
   "cell_type": "markdown",
   "metadata": {},
   "source": [
    "### Сравним группы"
   ]
  },
  {
   "cell_type": "code",
   "execution_count": 123,
   "metadata": {},
   "outputs": [],
   "source": [
    "# Добавим к данным с участниками тестов информацию о событиях.\n",
    "ab_test_data = pd.merge(ab_test_data, ab_events, on='user_id')"
   ]
  },
  {
   "cell_type": "code",
   "execution_count": 124,
   "metadata": {},
   "outputs": [],
   "source": [
    "# Сравним группы А и В.\n",
    "group_A = ab_test_data.query('group == \"A\"')\n",
    "group_B = ab_test_data.query('group == \"B\"')"
   ]
  },
  {
   "cell_type": "markdown",
   "metadata": {},
   "source": [
    "Обладают ли выборки одинаковыми распределениями количества событий на пользователя?"
   ]
  },
  {
   "cell_type": "code",
   "execution_count": 125,
   "metadata": {},
   "outputs": [
    {
     "data": {
      "text/plain": [
       "'Cреднее количество событий на пользователя группы А'"
      ]
     },
     "metadata": {},
     "output_type": "display_data"
    },
    {
     "data": {
      "text/html": [
       "<div>\n",
       "<style scoped>\n",
       "    .dataframe tbody tr th:only-of-type {\n",
       "        vertical-align: middle;\n",
       "    }\n",
       "\n",
       "    .dataframe tbody tr th {\n",
       "        vertical-align: top;\n",
       "    }\n",
       "\n",
       "    .dataframe thead th {\n",
       "        text-align: right;\n",
       "    }\n",
       "</style>\n",
       "<table border=\"1\" class=\"dataframe\">\n",
       "  <thead>\n",
       "    <tr style=\"text-align: right;\">\n",
       "      <th></th>\n",
       "      <th>event_name</th>\n",
       "      <th>event_mean_A</th>\n",
       "    </tr>\n",
       "  </thead>\n",
       "  <tbody>\n",
       "    <tr>\n",
       "      <td>0</td>\n",
       "      <td>login</td>\n",
       "      <td>3.05</td>\n",
       "    </tr>\n",
       "    <tr>\n",
       "      <td>1</td>\n",
       "      <td>product_cart</td>\n",
       "      <td>3.04</td>\n",
       "    </tr>\n",
       "    <tr>\n",
       "      <td>2</td>\n",
       "      <td>product_page</td>\n",
       "      <td>3.03</td>\n",
       "    </tr>\n",
       "    <tr>\n",
       "      <td>3</td>\n",
       "      <td>purchase</td>\n",
       "      <td>2.99</td>\n",
       "    </tr>\n",
       "  </tbody>\n",
       "</table>\n",
       "</div>"
      ],
      "text/plain": [
       "     event_name  event_mean_A\n",
       "0  login        3.05         \n",
       "1  product_cart 3.04         \n",
       "2  product_page 3.03         \n",
       "3  purchase     2.99         "
      ]
     },
     "metadata": {},
     "output_type": "display_data"
    },
    {
     "data": {
      "text/plain": [
       "'Cреднее количество событий на пользователя группы В'"
      ]
     },
     "metadata": {},
     "output_type": "display_data"
    },
    {
     "data": {
      "text/html": [
       "<div>\n",
       "<style scoped>\n",
       "    .dataframe tbody tr th:only-of-type {\n",
       "        vertical-align: middle;\n",
       "    }\n",
       "\n",
       "    .dataframe tbody tr th {\n",
       "        vertical-align: top;\n",
       "    }\n",
       "\n",
       "    .dataframe thead th {\n",
       "        text-align: right;\n",
       "    }\n",
       "</style>\n",
       "<table border=\"1\" class=\"dataframe\">\n",
       "  <thead>\n",
       "    <tr style=\"text-align: right;\">\n",
       "      <th></th>\n",
       "      <th>event_name</th>\n",
       "      <th>event_mean_B</th>\n",
       "    </tr>\n",
       "  </thead>\n",
       "  <tbody>\n",
       "    <tr>\n",
       "      <td>0</td>\n",
       "      <td>login</td>\n",
       "      <td>2.78</td>\n",
       "    </tr>\n",
       "    <tr>\n",
       "      <td>1</td>\n",
       "      <td>product_cart</td>\n",
       "      <td>2.67</td>\n",
       "    </tr>\n",
       "    <tr>\n",
       "      <td>2</td>\n",
       "      <td>product_page</td>\n",
       "      <td>2.65</td>\n",
       "    </tr>\n",
       "    <tr>\n",
       "      <td>3</td>\n",
       "      <td>purchase</td>\n",
       "      <td>2.59</td>\n",
       "    </tr>\n",
       "  </tbody>\n",
       "</table>\n",
       "</div>"
      ],
      "text/plain": [
       "     event_name  event_mean_B\n",
       "0  login        2.78         \n",
       "1  product_cart 2.67         \n",
       "2  product_page 2.65         \n",
       "3  purchase     2.59         "
      ]
     },
     "metadata": {},
     "output_type": "display_data"
    }
   ],
   "source": [
    "# Добавим среднее количество событий на пользователя.\n",
    "event_mean_A = group_A.pivot_table(index=['user_id', 'event_name'], values='event_date', aggfunc='count').reset_index()\\\n",
    "                      .groupby('event_name').agg({'event_date':'mean'}).reset_index().round(2)\n",
    "event_mean_A.columns = ['event_name', 'event_mean_A']\n",
    "display(\"Cреднее количество событий на пользователя группы А\")\n",
    "display(event_mean_A)\n",
    "\n",
    "event_mean_B = group_B.pivot_table(index=['user_id', 'event_name'], values='event_date', aggfunc='count').reset_index()\\\n",
    "                      .groupby('event_name').agg({'event_date':'mean'}).reset_index().round(2)\n",
    "event_mean_B.columns = ['event_name', 'event_mean_B']\n",
    "display(\"Cреднее количество событий на пользователя группы В\")\n",
    "display(event_mean_B)"
   ]
  },
  {
   "cell_type": "code",
   "execution_count": 126,
   "metadata": {},
   "outputs": [
    {
     "data": {
      "image/png": "[encoded data removed]",
      "text/plain": [
       "<Figure size 1080x504 with 1 Axes>"
      ]
     },
     "metadata": {},
     "output_type": "display_data"
    }
   ],
   "source": [
    "event_per_user_A = group_A.pivot_table(index=['user_id'],values='event_name',aggfunc='count').reset_index()\n",
    "event_per_user_B = group_B.pivot_table(index=['user_id'],values='event_name',aggfunc='count').reset_index()\n",
    "# Строим график.\n",
    "plt.figure(figsize=(15, 7))\n",
    "sns.distplot(event_per_user_A['event_name'], bins=20, color = 'DeepPink')\n",
    "sns.distplot(event_per_user_B['event_name'], bins=20, color = 'Gold')\n",
    "plt.legend(labels = ('Группа A', 'Группа B'))\n",
    "plt.title('Рис.2.5. Распределение количества событий на одного пользователя.', fontsize=16)\n",
    "plt.show()"
   ]
  },
  {
   "cell_type": "markdown",
   "metadata": {},
   "source": [
    "Выводы;\n",
    "\n",
    "Видно, что среднее число взаимодействий на одного пользователя у группы А лучше, чем в группе В. Группы обладают различным распределением взаимодействий, и разными средним количеством событий на одного пользователя."
   ]
  },
  {
   "cell_type": "markdown",
   "metadata": {},
   "source": [
    "## Шаг. Исследуем конверсию в воронке на разных этапах"
   ]
  },
  {
   "cell_type": "markdown",
   "metadata": {},
   "source": [
    "### Посчитаем сколько пользователей совершали каждое из событий. Отсортируйте события по числу пользователей. Посчитайте долю пользователей, которые хоть раз совершали событие."
   ]
  },
  {
   "cell_type": "code",
   "execution_count": 127,
   "metadata": {},
   "outputs": [
    {
     "data": {
      "text/html": [
       "<div>\n",
       "<style scoped>\n",
       "    .dataframe tbody tr th:only-of-type {\n",
       "        vertical-align: middle;\n",
       "    }\n",
       "\n",
       "    .dataframe tbody tr th {\n",
       "        vertical-align: top;\n",
       "    }\n",
       "\n",
       "    .dataframe thead th {\n",
       "        text-align: right;\n",
       "    }\n",
       "</style>\n",
       "<table border=\"1\" class=\"dataframe\">\n",
       "  <thead>\n",
       "    <tr style=\"text-align: right;\">\n",
       "      <th></th>\n",
       "      <th>user_id</th>\n",
       "      <th>group</th>\n",
       "      <th>ab_test</th>\n",
       "      <th>first_date</th>\n",
       "      <th>region</th>\n",
       "      <th>device</th>\n",
       "      <th>event_date</th>\n",
       "      <th>event_name</th>\n",
       "      <th>details</th>\n",
       "    </tr>\n",
       "  </thead>\n",
       "  <tbody>\n",
       "    <tr>\n",
       "      <td>0</td>\n",
       "      <td>D1ABA3E2887B6A73</td>\n",
       "      <td>A</td>\n",
       "      <td>recommender_system_test</td>\n",
       "      <td>2020-12-07</td>\n",
       "      <td>eu</td>\n",
       "      <td>pc</td>\n",
       "      <td>2020-12-07 14:43:27</td>\n",
       "      <td>purchase</td>\n",
       "      <td>99.99</td>\n",
       "    </tr>\n",
       "    <tr>\n",
       "      <td>1</td>\n",
       "      <td>D1ABA3E2887B6A73</td>\n",
       "      <td>A</td>\n",
       "      <td>recommender_system_test</td>\n",
       "      <td>2020-12-07</td>\n",
       "      <td>eu</td>\n",
       "      <td>pc</td>\n",
       "      <td>2020-12-25 00:04:56</td>\n",
       "      <td>purchase</td>\n",
       "      <td>4.99</td>\n",
       "    </tr>\n",
       "    <tr>\n",
       "      <td>2</td>\n",
       "      <td>D1ABA3E2887B6A73</td>\n",
       "      <td>A</td>\n",
       "      <td>recommender_system_test</td>\n",
       "      <td>2020-12-07</td>\n",
       "      <td>eu</td>\n",
       "      <td>pc</td>\n",
       "      <td>2020-12-07 14:43:29</td>\n",
       "      <td>product_cart</td>\n",
       "      <td>nan</td>\n",
       "    </tr>\n",
       "    <tr>\n",
       "      <td>3</td>\n",
       "      <td>D1ABA3E2887B6A73</td>\n",
       "      <td>A</td>\n",
       "      <td>recommender_system_test</td>\n",
       "      <td>2020-12-07</td>\n",
       "      <td>eu</td>\n",
       "      <td>pc</td>\n",
       "      <td>2020-12-25 00:04:57</td>\n",
       "      <td>product_cart</td>\n",
       "      <td>nan</td>\n",
       "    </tr>\n",
       "    <tr>\n",
       "      <td>4</td>\n",
       "      <td>D1ABA3E2887B6A73</td>\n",
       "      <td>A</td>\n",
       "      <td>recommender_system_test</td>\n",
       "      <td>2020-12-07</td>\n",
       "      <td>eu</td>\n",
       "      <td>pc</td>\n",
       "      <td>2020-12-07 14:43:27</td>\n",
       "      <td>product_page</td>\n",
       "      <td>nan</td>\n",
       "    </tr>\n",
       "  </tbody>\n",
       "</table>\n",
       "</div>"
      ],
      "text/plain": [
       "            user_id group                  ab_test first_date region device  \\\n",
       "0  D1ABA3E2887B6A73  A     recommender_system_test 2020-12-07  eu     pc      \n",
       "1  D1ABA3E2887B6A73  A     recommender_system_test 2020-12-07  eu     pc      \n",
       "2  D1ABA3E2887B6A73  A     recommender_system_test 2020-12-07  eu     pc      \n",
       "3  D1ABA3E2887B6A73  A     recommender_system_test 2020-12-07  eu     pc      \n",
       "4  D1ABA3E2887B6A73  A     recommender_system_test 2020-12-07  eu     pc      \n",
       "\n",
       "           event_date    event_name  details  \n",
       "0 2020-12-07 14:43:27  purchase     99.99     \n",
       "1 2020-12-25 00:04:56  purchase     4.99      \n",
       "2 2020-12-07 14:43:29  product_cart nan       \n",
       "3 2020-12-25 00:04:57  product_cart nan       \n",
       "4 2020-12-07 14:43:27  product_page nan       "
      ]
     },
     "execution_count": 127,
     "metadata": {},
     "output_type": "execute_result"
    }
   ],
   "source": [
    "# Посмотрим нашу новую таблицу. \n",
    "ab_test_data.head()"
   ]
  },
  {
   "cell_type": "code",
   "execution_count": 128,
   "metadata": {},
   "outputs": [
    {
     "data": {
      "text/plain": [
       "3675"
      ]
     },
     "execution_count": 128,
     "metadata": {},
     "output_type": "execute_result"
    }
   ],
   "source": [
    "ab_test_data.user_id.nunique()"
   ]
  },
  {
   "cell_type": "code",
   "execution_count": 129,
   "metadata": {},
   "outputs": [
    {
     "name": "stdout",
     "output_type": "stream",
     "text": [
      "Всего пользователей в логе: 3675 пользователей\n"
     ]
    }
   ],
   "source": [
    "# Посчитаем общее кол-во пользователей.\n",
    "users_total_filtered = len(ab_test_data['user_id'].unique())\n",
    "print(\"Всего пользователей в логе: {} пользователей\".format(users_total_filtered))"
   ]
  },
  {
   "cell_type": "code",
   "execution_count": 130,
   "metadata": {},
   "outputs": [
    {
     "data": {
      "image/png": "[encoded data removed]",
      "text/plain": [
       "<Figure size 720x216 with 1 Axes>"
      ]
     },
     "metadata": {},
     "output_type": "display_data"
    },
    {
     "data": {
      "text/html": [
       "<div>\n",
       "<style scoped>\n",
       "    .dataframe tbody tr th:only-of-type {\n",
       "        vertical-align: middle;\n",
       "    }\n",
       "\n",
       "    .dataframe tbody tr th {\n",
       "        vertical-align: top;\n",
       "    }\n",
       "\n",
       "    .dataframe thead th {\n",
       "        text-align: right;\n",
       "    }\n",
       "</style>\n",
       "<table border=\"1\" class=\"dataframe\">\n",
       "  <thead>\n",
       "    <tr style=\"text-align: right;\">\n",
       "      <th></th>\n",
       "      <th>event_name</th>\n",
       "      <th>n_users</th>\n",
       "      <th>ratio_users</th>\n",
       "    </tr>\n",
       "  </thead>\n",
       "  <tbody>\n",
       "    <tr>\n",
       "      <td>0</td>\n",
       "      <td>login</td>\n",
       "      <td>3675</td>\n",
       "      <td>100.00</td>\n",
       "    </tr>\n",
       "    <tr>\n",
       "      <td>2</td>\n",
       "      <td>product_page</td>\n",
       "      <td>2303</td>\n",
       "      <td>62.70</td>\n",
       "    </tr>\n",
       "    <tr>\n",
       "      <td>3</td>\n",
       "      <td>purchase</td>\n",
       "      <td>1128</td>\n",
       "      <td>30.70</td>\n",
       "    </tr>\n",
       "    <tr>\n",
       "      <td>1</td>\n",
       "      <td>product_cart</td>\n",
       "      <td>1079</td>\n",
       "      <td>29.40</td>\n",
       "    </tr>\n",
       "  </tbody>\n",
       "</table>\n",
       "</div>"
      ],
      "text/plain": [
       "     event_name  n_users  ratio_users\n",
       "0  login         3675    100.00      \n",
       "2  product_page  2303    62.70       \n",
       "3  purchase      1128    30.70       \n",
       "1  product_cart  1079    29.40       "
      ]
     },
     "execution_count": 130,
     "metadata": {},
     "output_type": "execute_result"
    }
   ],
   "source": [
    "# Сгруппируем данные из ab_events по полю event_name и посчитаем количество уникальных пользователей.\n",
    "users_events_filtered = ab_test_data.groupby('event_name').agg({'user_id': 'nunique'})\\\n",
    "                                    .reset_index().sort_values(by='user_id', ascending=False)\n",
    "users_events_filtered.columns = ['event_name', 'n_users']\n",
    "\n",
    "# Доля пользователей от общего кол-ва пользователей, которые хоть раз совершали событие. \n",
    "users_events_filtered['ratio_users'] = ((users_events_filtered['n_users'] / users_total_filtered) * 100).round(1)\n",
    "                                                                                                        \n",
    "# Строим график.\n",
    "plt.figure(figsize=(10,3))\n",
    "plt.title('Рис.3.1. Доля пользователей от общего кол-ва пользователей.', fontsize=16) \n",
    "sns.barplot(x='ratio_users', y='event_name', data=users_events_filtered, orient='h')\n",
    "plt.show()\n",
    "users_events_filtered"
   ]
  },
  {
   "cell_type": "markdown",
   "metadata": {},
   "source": [
    "Выводы:\n",
    "\n",
    "* Cобытие login, было совершено в 100% случаев, это очень хорошо. Здесь не обнаружили проблем.\n",
    "* Половина пользователей совершает покупку сразу со страницы товара, в обход корзины.\n",
    "\n",
    "4 отслеживаемых событий:\n",
    "* (1) login = логин (вход в систему)\n",
    "* (2) product_page = страница продукта,\n",
    "* (3) product_cart = корзина продукта\n",
    "* (4) purchase = покупка"
   ]
  },
  {
   "cell_type": "markdown",
   "metadata": {},
   "source": [
    "### Построим воронку событий."
   ]
  },
  {
   "cell_type": "code",
   "execution_count": 131,
   "metadata": {},
   "outputs": [
    {
     "data": {
      "application/vnd.plotly.v1+json": {
       "config": {
        "plotlyServerURL": "https://plot.ly"
       },
       "data": [
        {
         "marker": {
          "color": [
           "gold",
           "coral",
           "lightcoral",
           "lightpink"
          ]
         },
         "opacity": 0.9,
         "textinfo": "value+percent previous+percent initial",
         "textposition": "inside",
         "type": "funnel",
         "x": [
          3675,
          2303,
          1128,
          1079
         ],
         "y": [
          "login",
          "product_page",
          "purchase",
          "product_cart"
         ]
        }
       ],
       "layout": {
        "template": {
         "data": {
          "bar": [
           {
            "error_x": {
             "color": "#2a3f5f"
            },
            "error_y": {
             "color": "#2a3f5f"
            },
            "marker": {
             "line": {
              "color": "#E5ECF6",
              "width": 0.5
             }
            },
            "type": "bar"
           }
          ],
          "barpolar": [
           {
            "marker": {
             "line": {
              "color": "#E5ECF6",
              "width": 0.5
             }
            },
            "type": "barpolar"
           }
          ],
          "carpet": [
           {
            "aaxis": {
             "endlinecolor": "#2a3f5f",
             "gridcolor": "white",
             "linecolor": "white",
             "minorgridcolor": "white",
             "startlinecolor": "#2a3f5f"
            },
            "baxis": {
             "endlinecolor": "#2a3f5f",
             "gridcolor": "white",
             "linecolor": "white",
             "minorgridcolor": "white",
             "startlinecolor": "#2a3f5f"
            },
            "type": "carpet"
           }
          ],
          "choropleth": [
           {
            "colorbar": {
             "outlinewidth": 0,
             "ticks": ""
            },
            "type": "choropleth"
           }
          ],
          "contour": [
           {
            "colorbar": {
             "outlinewidth": 0,
             "ticks": ""
            },
            "colorscale": [
             [
              0,
              "#0d0887"
             ],
             [
              0.1111111111111111,
              "#46039f"
             ],
             [
              0.2222222222222222,
              "#7201a8"
             ],
             [
              0.3333333333333333,
              "#9c179e"
             ],
             [
              0.4444444444444444,
              "#bd3786"
             ],
             [
              0.5555555555555556,
              "#d8576b"
             ],
             [
              0.6666666666666666,
              "#ed7953"
             ],
             [
              0.7777777777777778,
              "#fb9f3a"
             ],
             [
              0.8888888888888888,
              "#fdca26"
             ],
             [
              1,
              "#f0f921"
             ]
            ],
            "type": "contour"
           }
          ],
          "contourcarpet": [
           {
            "colorbar": {
             "outlinewidth": 0,
             "ticks": ""
            },
            "type": "contourcarpet"
           }
          ],
          "heatmap": [
           {
            "colorbar": {
             "outlinewidth": 0,
             "ticks": ""
            },
            "colorscale": [
             [
              0,
              "#0d0887"
             ],
             [
              0.1111111111111111,
              "#46039f"
             ],
             [
              0.2222222222222222,
              "#7201a8"
             ],
             [
              0.3333333333333333,
              "#9c179e"
             ],
             [
              0.4444444444444444,
              "#bd3786"
             ],
             [
              0.5555555555555556,
              "#d8576b"
             ],
             [
              0.6666666666666666,
              "#ed7953"
             ],
             [
              0.7777777777777778,
              "#fb9f3a"
             ],
             [
              0.8888888888888888,
              "#fdca26"
             ],
             [
              1,
              "#f0f921"
             ]
            ],
            "type": "heatmap"
           }
          ],
          "heatmapgl": [
           {
            "colorbar": {
             "outlinewidth": 0,
             "ticks": ""
            },
            "colorscale": [
             [
              0,
              "#0d0887"
             ],
             [
              0.1111111111111111,
              "#46039f"
             ],
             [
              0.2222222222222222,
              "#7201a8"
             ],
             [
              0.3333333333333333,
              "#9c179e"
             ],
             [
              0.4444444444444444,
              "#bd3786"
             ],
             [
              0.5555555555555556,
              "#d8576b"
             ],
             [
              0.6666666666666666,
              "#ed7953"
             ],
             [
              0.7777777777777778,
              "#fb9f3a"
             ],
             [
              0.8888888888888888,
              "#fdca26"
             ],
             [
              1,
              "#f0f921"
             ]
            ],
            "type": "heatmapgl"
           }
          ],
          "histogram": [
           {
            "marker": {
             "colorbar": {
              "outlinewidth": 0,
              "ticks": ""
             }
            },
            "type": "histogram"
           }
          ],
          "histogram2d": [
           {
            "colorbar": {
             "outlinewidth": 0,
             "ticks": ""
            },
            "colorscale": [
             [
              0,
              "#0d0887"
             ],
             [
              0.1111111111111111,
              "#46039f"
             ],
             [
              0.2222222222222222,
              "#7201a8"
             ],
             [
              0.3333333333333333,
              "#9c179e"
             ],
             [
              0.4444444444444444,
              "#bd3786"
             ],
             [
              0.5555555555555556,
              "#d8576b"
             ],
             [
              0.6666666666666666,
              "#ed7953"
             ],
             [
              0.7777777777777778,
              "#fb9f3a"
             ],
             [
              0.8888888888888888,
              "#fdca26"
             ],
             [
              1,
              "#f0f921"
             ]
            ],
            "type": "histogram2d"
           }
          ],
          "histogram2dcontour": [
           {
            "colorbar": {
             "outlinewidth": 0,
             "ticks": ""
            },
            "colorscale": [
             [
              0,
              "#0d0887"
             ],
             [
              0.1111111111111111,
              "#46039f"
             ],
             [
              0.2222222222222222,
              "#7201a8"
             ],
             [
              0.3333333333333333,
              "#9c179e"
             ],
             [
              0.4444444444444444,
              "#bd3786"
             ],
             [
              0.5555555555555556,
              "#d8576b"
             ],
             [
              0.6666666666666666,
              "#ed7953"
             ],
             [
              0.7777777777777778,
              "#fb9f3a"
             ],
             [
              0.8888888888888888,
              "#fdca26"
             ],
             [
              1,
              "#f0f921"
             ]
            ],
            "type": "histogram2dcontour"
           }
          ],
          "mesh3d": [
           {
            "colorbar": {
             "outlinewidth": 0,
             "ticks": ""
            },
            "type": "mesh3d"
           }
          ],
          "parcoords": [
           {
            "line": {
             "colorbar": {
              "outlinewidth": 0,
              "ticks": ""
             }
            },
            "type": "parcoords"
           }
          ],
          "scatter": [
           {
            "marker": {
             "colorbar": {
              "outlinewidth": 0,
              "ticks": ""
             }
            },
            "type": "scatter"
           }
          ],
          "scatter3d": [
           {
            "line": {
             "colorbar": {
              "outlinewidth": 0,
              "ticks": ""
             }
            },
            "marker": {
             "colorbar": {
              "outlinewidth": 0,
              "ticks": ""
             }
            },
            "type": "scatter3d"
           }
          ],
          "scattercarpet": [
           {
            "marker": {
             "colorbar": {
              "outlinewidth": 0,
              "ticks": ""
             }
            },
            "type": "scattercarpet"
           }
          ],
          "scattergeo": [
           {
            "marker": {
             "colorbar": {
              "outlinewidth": 0,
              "ticks": ""
             }
            },
            "type": "scattergeo"
           }
          ],
          "scattergl": [
           {
            "marker": {
             "colorbar": {
              "outlinewidth": 0,
              "ticks": ""
             }
            },
            "type": "scattergl"
           }
          ],
          "scattermapbox": [
           {
            "marker": {
             "colorbar": {
              "outlinewidth": 0,
              "ticks": ""
             }
            },
            "type": "scattermapbox"
           }
          ],
          "scatterpolar": [
           {
            "marker": {
             "colorbar": {
              "outlinewidth": 0,
              "ticks": ""
             }
            },
            "type": "scatterpolar"
           }
          ],
          "scatterpolargl": [
           {
            "marker": {
             "colorbar": {
              "outlinewidth": 0,
              "ticks": ""
             }
            },
            "type": "scatterpolargl"
           }
          ],
          "scatterternary": [
           {
            "marker": {
             "colorbar": {
              "outlinewidth": 0,
              "ticks": ""
             }
            },
            "type": "scatterternary"
           }
          ],
          "surface": [
           {
            "colorbar": {
             "outlinewidth": 0,
             "ticks": ""
            },
            "colorscale": [
             [
              0,
              "#0d0887"
             ],
             [
              0.1111111111111111,
              "#46039f"
             ],
             [
              0.2222222222222222,
              "#7201a8"
             ],
             [
              0.3333333333333333,
              "#9c179e"
             ],
             [
              0.4444444444444444,
              "#bd3786"
             ],
             [
              0.5555555555555556,
              "#d8576b"
             ],
             [
              0.6666666666666666,
              "#ed7953"
             ],
             [
              0.7777777777777778,
              "#fb9f3a"
             ],
             [
              0.8888888888888888,
              "#fdca26"
             ],
             [
              1,
              "#f0f921"
             ]
            ],
            "type": "surface"
           }
          ],
          "table": [
           {
            "cells": {
             "fill": {
              "color": "#EBF0F8"
             },
             "line": {
              "color": "white"
             }
            },
            "header": {
             "fill": {
              "color": "#C8D4E3"
             },
             "line": {
              "color": "white"
             }
            },
            "type": "table"
           }
          ]
         },
         "layout": {
          "annotationdefaults": {
           "arrowcolor": "#2a3f5f",
           "arrowhead": 0,
           "arrowwidth": 1
          },
          "colorscale": {
           "diverging": [
            [
             0,
             "#8e0152"
            ],
            [
             0.1,
             "#c51b7d"
            ],
            [
             0.2,
             "#de77ae"
            ],
            [
             0.3,
             "#f1b6da"
            ],
            [
             0.4,
             "#fde0ef"
            ],
            [
             0.5,
             "#f7f7f7"
            ],
            [
             0.6,
             "#e6f5d0"
            ],
            [
             0.7,
             "#b8e186"
            ],
            [
             0.8,
             "#7fbc41"
            ],
            [
             0.9,
             "#4d9221"
            ],
            [
             1,
             "#276419"
            ]
           ],
           "sequential": [
            [
             0,
             "#0d0887"
            ],
            [
             0.1111111111111111,
             "#46039f"
            ],
            [
             0.2222222222222222,
             "#7201a8"
            ],
            [
             0.3333333333333333,
             "#9c179e"
            ],
            [
             0.4444444444444444,
             "#bd3786"
            ],
            [
             0.5555555555555556,
             "#d8576b"
            ],
            [
             0.6666666666666666,
             "#ed7953"
            ],
            [
             0.7777777777777778,
             "#fb9f3a"
            ],
            [
             0.8888888888888888,
             "#fdca26"
            ],
            [
             1,
             "#f0f921"
            ]
           ],
           "sequentialminus": [
            [
             0,
             "#0d0887"
            ],
            [
             0.1111111111111111,
             "#46039f"
            ],
            [
             0.2222222222222222,
             "#7201a8"
            ],
            [
             0.3333333333333333,
             "#9c179e"
            ],
            [
             0.4444444444444444,
             "#bd3786"
            ],
            [
             0.5555555555555556,
             "#d8576b"
            ],
            [
             0.6666666666666666,
             "#ed7953"
            ],
            [
             0.7777777777777778,
             "#fb9f3a"
            ],
            [
             0.8888888888888888,
             "#fdca26"
            ],
            [
             1,
             "#f0f921"
            ]
           ]
          },
          "colorway": [
           "#636efa",
           "#EF553B",
           "#00cc96",
           "#ab63fa",
           "#FFA15A",
           "#19d3f3",
           "#FF6692",
           "#B6E880",
           "#FF97FF",
           "#FECB52"
          ],
          "font": {
           "color": "#2a3f5f"
          },
          "geo": {
           "bgcolor": "white",
           "lakecolor": "white",
           "landcolor": "#E5ECF6",
           "showlakes": true,
           "showland": true,
           "subunitcolor": "white"
          },
          "hoverlabel": {
           "align": "left"
          },
          "hovermode": "closest",
          "mapbox": {
           "style": "light"
          },
          "paper_bgcolor": "white",
          "plot_bgcolor": "#E5ECF6",
          "polar": {
           "angularaxis": {
            "gridcolor": "white",
            "linecolor": "white",
            "ticks": ""
           },
           "bgcolor": "#E5ECF6",
           "radialaxis": {
            "gridcolor": "white",
            "linecolor": "white",
            "ticks": ""
           }
          },
          "scene": {
           "xaxis": {
            "backgroundcolor": "#E5ECF6",
            "gridcolor": "white",
            "gridwidth": 2,
            "linecolor": "white",
            "showbackground": true,
            "ticks": "",
            "zerolinecolor": "white"
           },
           "yaxis": {
            "backgroundcolor": "#E5ECF6",
            "gridcolor": "white",
            "gridwidth": 2,
            "linecolor": "white",
            "showbackground": true,
            "ticks": "",
            "zerolinecolor": "white"
           },
           "zaxis": {
            "backgroundcolor": "#E5ECF6",
            "gridcolor": "white",
            "gridwidth": 2,
            "linecolor": "white",
            "showbackground": true,
            "ticks": "",
            "zerolinecolor": "white"
           }
          },
          "shapedefaults": {
           "line": {
            "color": "#2a3f5f"
           }
          },
          "ternary": {
           "aaxis": {
            "gridcolor": "white",
            "linecolor": "white",
            "ticks": ""
           },
           "baxis": {
            "gridcolor": "white",
            "linecolor": "white",
            "ticks": ""
           },
           "bgcolor": "#E5ECF6",
           "caxis": {
            "gridcolor": "white",
            "linecolor": "white",
            "ticks": ""
           }
          },
          "title": {
           "x": 0.05
          },
          "xaxis": {
           "automargin": true,
           "gridcolor": "white",
           "linecolor": "white",
           "ticks": "",
           "zerolinecolor": "white",
           "zerolinewidth": 2
          },
          "yaxis": {
           "automargin": true,
           "gridcolor": "white",
           "linecolor": "white",
           "ticks": "",
           "zerolinecolor": "white",
           "zerolinewidth": 2
          }
         }
        },
        "title": {
         "text": "Рис.3.2. Воронка событий."
        }
       }
      },
      "text/html": [
       "<div>\n",
       "        \n",
       "        \n",
       "            <div id=\"ba0bb2a3-1cb3-4e21-831c-378a9d41f739\" class=\"plotly-graph-div\" style=\"height:525px; width:100%;\"></div>\n",
       "            <script type=\"text/javascript\">\n",
       "                require([\"plotly\"], function(Plotly) {\n",
       "                    window.PLOTLYENV=window.PLOTLYENV || {};\n",
       "                    \n",
       "                if (document.getElementById(\"ba0bb2a3-1cb3-4e21-831c-378a9d41f739\")) {\n",
       "                    Plotly.newPlot(\n",
       "                        'ba0bb2a3-1cb3-4e21-831c-378a9d41f739',\n",
       "                        [{\"marker\": {\"color\": [\"gold\", \"coral\", \"lightcoral\", \"lightpink\"]}, \"opacity\": 0.9, \"textinfo\": \"value+percent previous+percent initial\", \"textposition\": \"inside\", \"type\": \"funnel\", \"x\": [3675, 2303, 1128, 1079], \"y\": [\"login\", \"product_page\", \"purchase\", \"product_cart\"]}],\n",
       "                        {\"template\": {\"data\": {\"bar\": [{\"error_x\": {\"color\": \"#2a3f5f\"}, \"error_y\": {\"color\": \"#2a3f5f\"}, \"marker\": {\"line\": {\"color\": \"#E5ECF6\", \"width\": 0.5}}, \"type\": \"bar\"}], \"barpolar\": [{\"marker\": {\"line\": {\"color\": \"#E5ECF6\", \"width\": 0.5}}, \"type\": \"barpolar\"}], \"carpet\": [{\"aaxis\": {\"endlinecolor\": \"#2a3f5f\", \"gridcolor\": \"white\", \"linecolor\": \"white\", \"minorgridcolor\": \"white\", \"startlinecolor\": \"#2a3f5f\"}, \"baxis\": {\"endlinecolor\": \"#2a3f5f\", \"gridcolor\": \"white\", \"linecolor\": \"white\", \"minorgridcolor\": \"white\", \"startlinecolor\": \"#2a3f5f\"}, \"type\": \"carpet\"}], \"choropleth\": [{\"colorbar\": {\"outlinewidth\": 0, \"ticks\": \"\"}, \"type\": \"choropleth\"}], \"contour\": [{\"colorbar\": {\"outlinewidth\": 0, \"ticks\": \"\"}, \"colorscale\": [[0.0, \"#0d0887\"], [0.1111111111111111, \"#46039f\"], [0.2222222222222222, \"#7201a8\"], [0.3333333333333333, \"#9c179e\"], [0.4444444444444444, \"#bd3786\"], [0.5555555555555556, \"#d8576b\"], [0.6666666666666666, \"#ed7953\"], [0.7777777777777778, \"#fb9f3a\"], [0.8888888888888888, \"#fdca26\"], [1.0, \"#f0f921\"]], \"type\": \"contour\"}], \"contourcarpet\": [{\"colorbar\": {\"outlinewidth\": 0, \"ticks\": \"\"}, \"type\": \"contourcarpet\"}], \"heatmap\": [{\"colorbar\": {\"outlinewidth\": 0, \"ticks\": \"\"}, \"colorscale\": [[0.0, \"#0d0887\"], [0.1111111111111111, \"#46039f\"], [0.2222222222222222, \"#7201a8\"], [0.3333333333333333, \"#9c179e\"], [0.4444444444444444, \"#bd3786\"], [0.5555555555555556, \"#d8576b\"], [0.6666666666666666, \"#ed7953\"], [0.7777777777777778, \"#fb9f3a\"], [0.8888888888888888, \"#fdca26\"], [1.0, \"#f0f921\"]], \"type\": \"heatmap\"}], \"heatmapgl\": [{\"colorbar\": {\"outlinewidth\": 0, \"ticks\": \"\"}, \"colorscale\": [[0.0, \"#0d0887\"], [0.1111111111111111, \"#46039f\"], [0.2222222222222222, \"#7201a8\"], [0.3333333333333333, \"#9c179e\"], [0.4444444444444444, \"#bd3786\"], [0.5555555555555556, \"#d8576b\"], [0.6666666666666666, \"#ed7953\"], [0.7777777777777778, \"#fb9f3a\"], [0.8888888888888888, \"#fdca26\"], [1.0, \"#f0f921\"]], \"type\": \"heatmapgl\"}], \"histogram\": [{\"marker\": {\"colorbar\": {\"outlinewidth\": 0, \"ticks\": \"\"}}, \"type\": \"histogram\"}], \"histogram2d\": [{\"colorbar\": {\"outlinewidth\": 0, \"ticks\": \"\"}, \"colorscale\": [[0.0, \"#0d0887\"], [0.1111111111111111, \"#46039f\"], [0.2222222222222222, \"#7201a8\"], [0.3333333333333333, \"#9c179e\"], [0.4444444444444444, \"#bd3786\"], [0.5555555555555556, \"#d8576b\"], [0.6666666666666666, \"#ed7953\"], [0.7777777777777778, \"#fb9f3a\"], [0.8888888888888888, \"#fdca26\"], [1.0, \"#f0f921\"]], \"type\": \"histogram2d\"}], \"histogram2dcontour\": [{\"colorbar\": {\"outlinewidth\": 0, \"ticks\": \"\"}, \"colorscale\": [[0.0, \"#0d0887\"], [0.1111111111111111, \"#46039f\"], [0.2222222222222222, \"#7201a8\"], [0.3333333333333333, \"#9c179e\"], [0.4444444444444444, \"#bd3786\"], [0.5555555555555556, \"#d8576b\"], [0.6666666666666666, \"#ed7953\"], [0.7777777777777778, \"#fb9f3a\"], [0.8888888888888888, \"#fdca26\"], [1.0, \"#f0f921\"]], \"type\": \"histogram2dcontour\"}], \"mesh3d\": [{\"colorbar\": {\"outlinewidth\": 0, \"ticks\": \"\"}, \"type\": \"mesh3d\"}], \"parcoords\": [{\"line\": {\"colorbar\": {\"outlinewidth\": 0, \"ticks\": \"\"}}, \"type\": \"parcoords\"}], \"scatter\": [{\"marker\": {\"colorbar\": {\"outlinewidth\": 0, \"ticks\": \"\"}}, \"type\": \"scatter\"}], \"scatter3d\": [{\"line\": {\"colorbar\": {\"outlinewidth\": 0, \"ticks\": \"\"}}, \"marker\": {\"colorbar\": {\"outlinewidth\": 0, \"ticks\": \"\"}}, \"type\": \"scatter3d\"}], \"scattercarpet\": [{\"marker\": {\"colorbar\": {\"outlinewidth\": 0, \"ticks\": \"\"}}, \"type\": \"scattercarpet\"}], \"scattergeo\": [{\"marker\": {\"colorbar\": {\"outlinewidth\": 0, \"ticks\": \"\"}}, \"type\": \"scattergeo\"}], \"scattergl\": [{\"marker\": {\"colorbar\": {\"outlinewidth\": 0, \"ticks\": \"\"}}, \"type\": \"scattergl\"}], \"scattermapbox\": [{\"marker\": {\"colorbar\": {\"outlinewidth\": 0, \"ticks\": \"\"}}, \"type\": \"scattermapbox\"}], \"scatterpolar\": [{\"marker\": {\"colorbar\": {\"outlinewidth\": 0, \"ticks\": \"\"}}, \"type\": \"scatterpolar\"}], \"scatterpolargl\": [{\"marker\": {\"colorbar\": {\"outlinewidth\": 0, \"ticks\": \"\"}}, \"type\": \"scatterpolargl\"}], \"scatterternary\": [{\"marker\": {\"colorbar\": {\"outlinewidth\": 0, \"ticks\": \"\"}}, \"type\": \"scatterternary\"}], \"surface\": [{\"colorbar\": {\"outlinewidth\": 0, \"ticks\": \"\"}, \"colorscale\": [[0.0, \"#0d0887\"], [0.1111111111111111, \"#46039f\"], [0.2222222222222222, \"#7201a8\"], [0.3333333333333333, \"#9c179e\"], [0.4444444444444444, \"#bd3786\"], [0.5555555555555556, \"#d8576b\"], [0.6666666666666666, \"#ed7953\"], [0.7777777777777778, \"#fb9f3a\"], [0.8888888888888888, \"#fdca26\"], [1.0, \"#f0f921\"]], \"type\": \"surface\"}], \"table\": [{\"cells\": {\"fill\": {\"color\": \"#EBF0F8\"}, \"line\": {\"color\": \"white\"}}, \"header\": {\"fill\": {\"color\": \"#C8D4E3\"}, \"line\": {\"color\": \"white\"}}, \"type\": \"table\"}]}, \"layout\": {\"annotationdefaults\": {\"arrowcolor\": \"#2a3f5f\", \"arrowhead\": 0, \"arrowwidth\": 1}, \"colorscale\": {\"diverging\": [[0, \"#8e0152\"], [0.1, \"#c51b7d\"], [0.2, \"#de77ae\"], [0.3, \"#f1b6da\"], [0.4, \"#fde0ef\"], [0.5, \"#f7f7f7\"], [0.6, \"#e6f5d0\"], [0.7, \"#b8e186\"], [0.8, \"#7fbc41\"], [0.9, \"#4d9221\"], [1, \"#276419\"]], \"sequential\": [[0.0, \"#0d0887\"], [0.1111111111111111, \"#46039f\"], [0.2222222222222222, \"#7201a8\"], [0.3333333333333333, \"#9c179e\"], [0.4444444444444444, \"#bd3786\"], [0.5555555555555556, \"#d8576b\"], [0.6666666666666666, \"#ed7953\"], [0.7777777777777778, \"#fb9f3a\"], [0.8888888888888888, \"#fdca26\"], [1.0, \"#f0f921\"]], \"sequentialminus\": [[0.0, \"#0d0887\"], [0.1111111111111111, \"#46039f\"], [0.2222222222222222, \"#7201a8\"], [0.3333333333333333, \"#9c179e\"], [0.4444444444444444, \"#bd3786\"], [0.5555555555555556, \"#d8576b\"], [0.6666666666666666, \"#ed7953\"], [0.7777777777777778, \"#fb9f3a\"], [0.8888888888888888, \"#fdca26\"], [1.0, \"#f0f921\"]]}, \"colorway\": [\"#636efa\", \"#EF553B\", \"#00cc96\", \"#ab63fa\", \"#FFA15A\", \"#19d3f3\", \"#FF6692\", \"#B6E880\", \"#FF97FF\", \"#FECB52\"], \"font\": {\"color\": \"#2a3f5f\"}, \"geo\": {\"bgcolor\": \"white\", \"lakecolor\": \"white\", \"landcolor\": \"#E5ECF6\", \"showlakes\": true, \"showland\": true, \"subunitcolor\": \"white\"}, \"hoverlabel\": {\"align\": \"left\"}, \"hovermode\": \"closest\", \"mapbox\": {\"style\": \"light\"}, \"paper_bgcolor\": \"white\", \"plot_bgcolor\": \"#E5ECF6\", \"polar\": {\"angularaxis\": {\"gridcolor\": \"white\", \"linecolor\": \"white\", \"ticks\": \"\"}, \"bgcolor\": \"#E5ECF6\", \"radialaxis\": {\"gridcolor\": \"white\", \"linecolor\": \"white\", \"ticks\": \"\"}}, \"scene\": {\"xaxis\": {\"backgroundcolor\": \"#E5ECF6\", \"gridcolor\": \"white\", \"gridwidth\": 2, \"linecolor\": \"white\", \"showbackground\": true, \"ticks\": \"\", \"zerolinecolor\": \"white\"}, \"yaxis\": {\"backgroundcolor\": \"#E5ECF6\", \"gridcolor\": \"white\", \"gridwidth\": 2, \"linecolor\": \"white\", \"showbackground\": true, \"ticks\": \"\", \"zerolinecolor\": \"white\"}, \"zaxis\": {\"backgroundcolor\": \"#E5ECF6\", \"gridcolor\": \"white\", \"gridwidth\": 2, \"linecolor\": \"white\", \"showbackground\": true, \"ticks\": \"\", \"zerolinecolor\": \"white\"}}, \"shapedefaults\": {\"line\": {\"color\": \"#2a3f5f\"}}, \"ternary\": {\"aaxis\": {\"gridcolor\": \"white\", \"linecolor\": \"white\", \"ticks\": \"\"}, \"baxis\": {\"gridcolor\": \"white\", \"linecolor\": \"white\", \"ticks\": \"\"}, \"bgcolor\": \"#E5ECF6\", \"caxis\": {\"gridcolor\": \"white\", \"linecolor\": \"white\", \"ticks\": \"\"}}, \"title\": {\"x\": 0.05}, \"xaxis\": {\"automargin\": true, \"gridcolor\": \"white\", \"linecolor\": \"white\", \"ticks\": \"\", \"zerolinecolor\": \"white\", \"zerolinewidth\": 2}, \"yaxis\": {\"automargin\": true, \"gridcolor\": \"white\", \"linecolor\": \"white\", \"ticks\": \"\", \"zerolinecolor\": \"white\", \"zerolinewidth\": 2}}}, \"title\": {\"text\": \"\\u0420\\u0438\\u0441.3.2. \\u0412\\u043e\\u0440\\u043e\\u043d\\u043a\\u0430 \\u0441\\u043e\\u0431\\u044b\\u0442\\u0438\\u0439.\"}},\n",
       "                        {\"responsive\": true}\n",
       "                    ).then(function(){\n",
       "                            \n",
       "var gd = document.getElementById('ba0bb2a3-1cb3-4e21-831c-378a9d41f739');\n",
       "var x = new MutationObserver(function (mutations, observer) {{\n",
       "        var display = window.getComputedStyle(gd).display;\n",
       "        if (!display || display === 'none') {{\n",
       "            console.log([gd, 'removed!']);\n",
       "            Plotly.purge(gd);\n",
       "            observer.disconnect();\n",
       "        }}\n",
       "}});\n",
       "\n",
       "// Listen for the removal of the full notebook cells\n",
       "var notebookContainer = gd.closest('#notebook-container');\n",
       "if (notebookContainer) {{\n",
       "    x.observe(notebookContainer, {childList: true});\n",
       "}}\n",
       "\n",
       "// Listen for the clearing of the current output cell\n",
       "var outputEl = gd.closest('.output');\n",
       "if (outputEl) {{\n",
       "    x.observe(outputEl, {childList: true});\n",
       "}}\n",
       "\n",
       "                        })\n",
       "                };\n",
       "                });\n",
       "            </script>\n",
       "        </div>"
      ]
     },
     "metadata": {},
     "output_type": "display_data"
    }
   ],
   "source": [
    "# Построим воронку событий.\n",
    "fig = go.Figure(go.Funnel(\n",
    "    y = users_events_filtered[\"event_name\"],\n",
    "    x = users_events_filtered[\"n_users\"],\n",
    "    textposition = \"inside\",\n",
    "    textinfo = \"value + percent previous + percent initial\",\n",
    "    opacity = 0.90, marker = {\"color\": [\"gold\", \"coral\", \"lightcoral\", \"lightpink\"]})\n",
    "    )\n",
    "fig.update_layout(title=\"Рис.3.2. Воронка событий.\")\n",
    "fig.show()"
   ]
  },
  {
   "cell_type": "markdown",
   "metadata": {},
   "source": [
    "Выводы:\n",
    "\n",
    "Дойдя до страницы purchase, 50% пользователей производят оплату сразу, в обход корзины."
   ]
  },
  {
   "cell_type": "markdown",
   "metadata": {},
   "source": [
    "### Построим воронку с учетом последовательности событий."
   ]
  },
  {
   "cell_type": "markdown",
   "metadata": {},
   "source": [
    "По ТЗ ожидаемый эффект: за 14 дней с момента регистрации в системе пользователи покажут улучшение каждой метрики не менее, чем на 10%: product_page → product_card → purchase\n",
    "\n",
    "То есть, следующая последовательность событий:\n",
    "* (1) login = логин (вход в систему)\n",
    "* (2) product_page = страница продукта,\n",
    "* (3) product_cart = корзина продукта\n",
    "* (4) purchase = покупка"
   ]
  },
  {
   "cell_type": "code",
   "execution_count": 132,
   "metadata": {},
   "outputs": [
    {
     "name": "stdout",
     "output_type": "stream",
     "text": [
      "Вошли в систему: 3675 пользователей\n",
      "Перешли на страницу с продуктом: 1296 пользователей\n",
      "Перешли на экран с корзиной продукта: 77 пользователей\n",
      "Перешли на экран с покупкой: 1 пользователей\n"
     ]
    }
   ],
   "source": [
    "# Для пользователей посчитаем время первого срабатывания каждого события методом pivot_table().\n",
    "users_data = ab_test_data.pivot_table(index='user_id', columns='event_name', values='event_date', aggfunc='min')\n",
    "\n",
    "# Узнаем, сколько пользователей переходило с этапа на этап.   \n",
    "login = ~users_data['login'].isna()\n",
    "product_page = login & (users_data['product_page'] > users_data['login'])\n",
    "product_cart = product_page & (users_data['product_cart'] > users_data['product_page'])\n",
    "purchase = product_cart & (users_data['purchase'] > users_data['product_cart'])\n",
    "\n",
    "n_login = users_data[login].shape[0]\n",
    "n_product_page = users_data[product_page].shape[0]\n",
    "n_product_cart = users_data[product_cart].shape[0]\n",
    "n_purchase = users_data[purchase].shape[0]\n",
    "\n",
    "print(\"Вошли в систему: {} пользователей\".format(n_login))\n",
    "print(\"Перешли на страницу с продуктом: {} пользователей\".format(n_product_page))\n",
    "print(\"Перешли на экран с корзиной продукта: {} пользователей\".format(n_product_cart))\n",
    "print(\"Перешли на экран с покупкой: {} пользователей\".format(n_purchase))"
   ]
  },
  {
   "cell_type": "code",
   "execution_count": 133,
   "metadata": {},
   "outputs": [
    {
     "data": {
      "text/html": [
       "<div>\n",
       "<style scoped>\n",
       "    .dataframe tbody tr th:only-of-type {\n",
       "        vertical-align: middle;\n",
       "    }\n",
       "\n",
       "    .dataframe tbody tr th {\n",
       "        vertical-align: top;\n",
       "    }\n",
       "\n",
       "    .dataframe thead th {\n",
       "        text-align: right;\n",
       "    }\n",
       "</style>\n",
       "<table border=\"1\" class=\"dataframe\">\n",
       "  <thead>\n",
       "    <tr style=\"text-align: right;\">\n",
       "      <th></th>\n",
       "      <th>event_name</th>\n",
       "      <th>n_users</th>\n",
       "      <th>ratio_users</th>\n",
       "      <th>funnel_events</th>\n",
       "      <th>ratio_funnel</th>\n",
       "    </tr>\n",
       "  </thead>\n",
       "  <tbody>\n",
       "    <tr>\n",
       "      <td>0</td>\n",
       "      <td>login</td>\n",
       "      <td>3675</td>\n",
       "      <td>100.00</td>\n",
       "      <td>3675</td>\n",
       "      <td>100.00</td>\n",
       "    </tr>\n",
       "    <tr>\n",
       "      <td>2</td>\n",
       "      <td>product_page</td>\n",
       "      <td>2303</td>\n",
       "      <td>62.70</td>\n",
       "      <td>1296</td>\n",
       "      <td>35.30</td>\n",
       "    </tr>\n",
       "    <tr>\n",
       "      <td>3</td>\n",
       "      <td>purchase</td>\n",
       "      <td>1128</td>\n",
       "      <td>30.70</td>\n",
       "      <td>1</td>\n",
       "      <td>0.00</td>\n",
       "    </tr>\n",
       "    <tr>\n",
       "      <td>1</td>\n",
       "      <td>product_cart</td>\n",
       "      <td>1079</td>\n",
       "      <td>29.40</td>\n",
       "      <td>77</td>\n",
       "      <td>2.10</td>\n",
       "    </tr>\n",
       "  </tbody>\n",
       "</table>\n",
       "</div>"
      ],
      "text/plain": [
       "     event_name  n_users  ratio_users  funnel_events  ratio_funnel\n",
       "0  login         3675    100.00        3675          100.00       \n",
       "2  product_page  2303    62.70         1296          35.30        \n",
       "3  purchase      1128    30.70         1             0.00         \n",
       "1  product_cart  1079    29.40         77            2.10         "
      ]
     },
     "execution_count": 133,
     "metadata": {},
     "output_type": "execute_result"
    }
   ],
   "source": [
    "# Доля пользователей от общего кол-ва пользователей, которая проходит на следующий шаг воронки. \n",
    "users_events_filtered['funnel_events'] = [n_login, n_product_page, n_purchase, n_product_cart]\n",
    "users_events_filtered['ratio_funnel'] = ((users_events_filtered['funnel_events'] / users_total_filtered) * 100).round(1)\n",
    "users_events_filtered"
   ]
  },
  {
   "cell_type": "code",
   "execution_count": 141,
   "metadata": {},
   "outputs": [
    {
     "data": {
      "text/html": [
       "<div>\n",
       "<style scoped>\n",
       "    .dataframe tbody tr th:only-of-type {\n",
       "        vertical-align: middle;\n",
       "    }\n",
       "\n",
       "    .dataframe tbody tr th {\n",
       "        vertical-align: top;\n",
       "    }\n",
       "\n",
       "    .dataframe thead th {\n",
       "        text-align: right;\n",
       "    }\n",
       "</style>\n",
       "<table border=\"1\" class=\"dataframe\">\n",
       "  <thead>\n",
       "    <tr style=\"text-align: right;\">\n",
       "      <th></th>\n",
       "      <th>event_name</th>\n",
       "      <th>user_count</th>\n",
       "    </tr>\n",
       "  </thead>\n",
       "  <tbody>\n",
       "    <tr>\n",
       "      <td>0</td>\n",
       "      <td>login</td>\n",
       "      <td>3674</td>\n",
       "    </tr>\n",
       "    <tr>\n",
       "      <td>1</td>\n",
       "      <td>product_cart</td>\n",
       "      <td>1079</td>\n",
       "    </tr>\n",
       "    <tr>\n",
       "      <td>2</td>\n",
       "      <td>product_page</td>\n",
       "      <td>2303</td>\n",
       "    </tr>\n",
       "    <tr>\n",
       "      <td>3</td>\n",
       "      <td>purchase</td>\n",
       "      <td>1128</td>\n",
       "    </tr>\n",
       "  </tbody>\n",
       "</table>\n",
       "</div>"
      ],
      "text/plain": [
       "     event_name  user_count\n",
       "0  login         3674      \n",
       "1  product_cart  1079      \n",
       "2  product_page  2303      \n",
       "3  purchase      1128      "
      ]
     },
     "execution_count": 141,
     "metadata": {},
     "output_type": "execute_result"
    }
   ],
   "source": [
    "ab_test_data.groupby('event_name').agg(user_count=('user_id','nunique')).reset_index()"
   ]
  },
  {
   "cell_type": "code",
   "execution_count": 142,
   "metadata": {},
   "outputs": [
    {
     "data": {
      "application/vnd.plotly.v1+json": {
       "config": {
        "plotlyServerURL": "https://plot.ly"
       },
       "data": [
        {
         "hoverinfo": "percent previous",
         "marker": {
          "color": [
           "#008ab9",
           "#00ade7",
           "#45d0ff",
           "#a2e7ff"
          ]
         },
         "opacity": 0.7,
         "textinfo": "value+percent initial",
         "type": "funnel",
         "x": [
          3674,
          2303,
          1079,
          1128
         ],
         "y": [
          "login",
          "product_page",
          "product_cart",
          "purchase"
         ]
        }
       ],
       "layout": {
        "template": {
         "data": {
          "bar": [
           {
            "error_x": {
             "color": "#2a3f5f"
            },
            "error_y": {
             "color": "#2a3f5f"
            },
            "marker": {
             "line": {
              "color": "#E5ECF6",
              "width": 0.5
             }
            },
            "type": "bar"
           }
          ],
          "barpolar": [
           {
            "marker": {
             "line": {
              "color": "#E5ECF6",
              "width": 0.5
             }
            },
            "type": "barpolar"
           }
          ],
          "carpet": [
           {
            "aaxis": {
             "endlinecolor": "#2a3f5f",
             "gridcolor": "white",
             "linecolor": "white",
             "minorgridcolor": "white",
             "startlinecolor": "#2a3f5f"
            },
            "baxis": {
             "endlinecolor": "#2a3f5f",
             "gridcolor": "white",
             "linecolor": "white",
             "minorgridcolor": "white",
             "startlinecolor": "#2a3f5f"
            },
            "type": "carpet"
           }
          ],
          "choropleth": [
           {
            "colorbar": {
             "outlinewidth": 0,
             "ticks": ""
            },
            "type": "choropleth"
           }
          ],
          "contour": [
           {
            "colorbar": {
             "outlinewidth": 0,
             "ticks": ""
            },
            "colorscale": [
             [
              0,
              "#0d0887"
             ],
             [
              0.1111111111111111,
              "#46039f"
             ],
             [
              0.2222222222222222,
              "#7201a8"
             ],
             [
              0.3333333333333333,
              "#9c179e"
             ],
             [
              0.4444444444444444,
              "#bd3786"
             ],
             [
              0.5555555555555556,
              "#d8576b"
             ],
             [
              0.6666666666666666,
              "#ed7953"
             ],
             [
              0.7777777777777778,
              "#fb9f3a"
             ],
             [
              0.8888888888888888,
              "#fdca26"
             ],
             [
              1,
              "#f0f921"
             ]
            ],
            "type": "contour"
           }
          ],
          "contourcarpet": [
           {
            "colorbar": {
             "outlinewidth": 0,
             "ticks": ""
            },
            "type": "contourcarpet"
           }
          ],
          "heatmap": [
           {
            "colorbar": {
             "outlinewidth": 0,
             "ticks": ""
            },
            "colorscale": [
             [
              0,
              "#0d0887"
             ],
             [
              0.1111111111111111,
              "#46039f"
             ],
             [
              0.2222222222222222,
              "#7201a8"
             ],
             [
              0.3333333333333333,
              "#9c179e"
             ],
             [
              0.4444444444444444,
              "#bd3786"
             ],
             [
              0.5555555555555556,
              "#d8576b"
             ],
             [
              0.6666666666666666,
              "#ed7953"
             ],
             [
              0.7777777777777778,
              "#fb9f3a"
             ],
             [
              0.8888888888888888,
              "#fdca26"
             ],
             [
              1,
              "#f0f921"
             ]
            ],
            "type": "heatmap"
           }
          ],
          "heatmapgl": [
           {
            "colorbar": {
             "outlinewidth": 0,
             "ticks": ""
            },
            "colorscale": [
             [
              0,
              "#0d0887"
             ],
             [
              0.1111111111111111,
              "#46039f"
             ],
             [
              0.2222222222222222,
              "#7201a8"
             ],
             [
              0.3333333333333333,
              "#9c179e"
             ],
             [
              0.4444444444444444,
              "#bd3786"
             ],
             [
              0.5555555555555556,
              "#d8576b"
             ],
             [
              0.6666666666666666,
              "#ed7953"
             ],
             [
              0.7777777777777778,
              "#fb9f3a"
             ],
             [
              0.8888888888888888,
              "#fdca26"
             ],
             [
              1,
              "#f0f921"
             ]
            ],
            "type": "heatmapgl"
           }
          ],
          "histogram": [
           {
            "marker": {
             "colorbar": {
              "outlinewidth": 0,
              "ticks": ""
             }
            },
            "type": "histogram"
           }
          ],
          "histogram2d": [
           {
            "colorbar": {
             "outlinewidth": 0,
             "ticks": ""
            },
            "colorscale": [
             [
              0,
              "#0d0887"
             ],
             [
              0.1111111111111111,
              "#46039f"
             ],
             [
              0.2222222222222222,
              "#7201a8"
             ],
             [
              0.3333333333333333,
              "#9c179e"
             ],
             [
              0.4444444444444444,
              "#bd3786"
             ],
             [
              0.5555555555555556,
              "#d8576b"
             ],
             [
              0.6666666666666666,
              "#ed7953"
             ],
             [
              0.7777777777777778,
              "#fb9f3a"
             ],
             [
              0.8888888888888888,
              "#fdca26"
             ],
             [
              1,
              "#f0f921"
             ]
            ],
            "type": "histogram2d"
           }
          ],
          "histogram2dcontour": [
           {
            "colorbar": {
             "outlinewidth": 0,
             "ticks": ""
            },
            "colorscale": [
             [
              0,
              "#0d0887"
             ],
             [
              0.1111111111111111,
              "#46039f"
             ],
             [
              0.2222222222222222,
              "#7201a8"
             ],
             [
              0.3333333333333333,
              "#9c179e"
             ],
             [
              0.4444444444444444,
              "#bd3786"
             ],
             [
              0.5555555555555556,
              "#d8576b"
             ],
             [
              0.6666666666666666,
              "#ed7953"
             ],
             [
              0.7777777777777778,
              "#fb9f3a"
             ],
             [
              0.8888888888888888,
              "#fdca26"
             ],
             [
              1,
              "#f0f921"
             ]
            ],
            "type": "histogram2dcontour"
           }
          ],
          "mesh3d": [
           {
            "colorbar": {
             "outlinewidth": 0,
             "ticks": ""
            },
            "type": "mesh3d"
           }
          ],
          "parcoords": [
           {
            "line": {
             "colorbar": {
              "outlinewidth": 0,
              "ticks": ""
             }
            },
            "type": "parcoords"
           }
          ],
          "scatter": [
           {
            "marker": {
             "colorbar": {
              "outlinewidth": 0,
              "ticks": ""
             }
            },
            "type": "scatter"
           }
          ],
          "scatter3d": [
           {
            "line": {
             "colorbar": {
              "outlinewidth": 0,
              "ticks": ""
             }
            },
            "marker": {
             "colorbar": {
              "outlinewidth": 0,
              "ticks": ""
             }
            },
            "type": "scatter3d"
           }
          ],
          "scattercarpet": [
           {
            "marker": {
             "colorbar": {
              "outlinewidth": 0,
              "ticks": ""
             }
            },
            "type": "scattercarpet"
           }
          ],
          "scattergeo": [
           {
            "marker": {
             "colorbar": {
              "outlinewidth": 0,
              "ticks": ""
             }
            },
            "type": "scattergeo"
           }
          ],
          "scattergl": [
           {
            "marker": {
             "colorbar": {
              "outlinewidth": 0,
              "ticks": ""
             }
            },
            "type": "scattergl"
           }
          ],
          "scattermapbox": [
           {
            "marker": {
             "colorbar": {
              "outlinewidth": 0,
              "ticks": ""
             }
            },
            "type": "scattermapbox"
           }
          ],
          "scatterpolar": [
           {
            "marker": {
             "colorbar": {
              "outlinewidth": 0,
              "ticks": ""
             }
            },
            "type": "scatterpolar"
           }
          ],
          "scatterpolargl": [
           {
            "marker": {
             "colorbar": {
              "outlinewidth": 0,
              "ticks": ""
             }
            },
            "type": "scatterpolargl"
           }
          ],
          "scatterternary": [
           {
            "marker": {
             "colorbar": {
              "outlinewidth": 0,
              "ticks": ""
             }
            },
            "type": "scatterternary"
           }
          ],
          "surface": [
           {
            "colorbar": {
             "outlinewidth": 0,
             "ticks": ""
            },
            "colorscale": [
             [
              0,
              "#0d0887"
             ],
             [
              0.1111111111111111,
              "#46039f"
             ],
             [
              0.2222222222222222,
              "#7201a8"
             ],
             [
              0.3333333333333333,
              "#9c179e"
             ],
             [
              0.4444444444444444,
              "#bd3786"
             ],
             [
              0.5555555555555556,
              "#d8576b"
             ],
             [
              0.6666666666666666,
              "#ed7953"
             ],
             [
              0.7777777777777778,
              "#fb9f3a"
             ],
             [
              0.8888888888888888,
              "#fdca26"
             ],
             [
              1,
              "#f0f921"
             ]
            ],
            "type": "surface"
           }
          ],
          "table": [
           {
            "cells": {
             "fill": {
              "color": "#EBF0F8"
             },
             "line": {
              "color": "white"
             }
            },
            "header": {
             "fill": {
              "color": "#C8D4E3"
             },
             "line": {
              "color": "white"
             }
            },
            "type": "table"
           }
          ]
         },
         "layout": {
          "annotationdefaults": {
           "arrowcolor": "#2a3f5f",
           "arrowhead": 0,
           "arrowwidth": 1
          },
          "colorscale": {
           "diverging": [
            [
             0,
             "#8e0152"
            ],
            [
             0.1,
             "#c51b7d"
            ],
            [
             0.2,
             "#de77ae"
            ],
            [
             0.3,
             "#f1b6da"
            ],
            [
             0.4,
             "#fde0ef"
            ],
            [
             0.5,
             "#f7f7f7"
            ],
            [
             0.6,
             "#e6f5d0"
            ],
            [
             0.7,
             "#b8e186"
            ],
            [
             0.8,
             "#7fbc41"
            ],
            [
             0.9,
             "#4d9221"
            ],
            [
             1,
             "#276419"
            ]
           ],
           "sequential": [
            [
             0,
             "#0d0887"
            ],
            [
             0.1111111111111111,
             "#46039f"
            ],
            [
             0.2222222222222222,
             "#7201a8"
            ],
            [
             0.3333333333333333,
             "#9c179e"
            ],
            [
             0.4444444444444444,
             "#bd3786"
            ],
            [
             0.5555555555555556,
             "#d8576b"
            ],
            [
             0.6666666666666666,
             "#ed7953"
            ],
            [
             0.7777777777777778,
             "#fb9f3a"
            ],
            [
             0.8888888888888888,
             "#fdca26"
            ],
            [
             1,
             "#f0f921"
            ]
           ],
           "sequentialminus": [
            [
             0,
             "#0d0887"
            ],
            [
             0.1111111111111111,
             "#46039f"
            ],
            [
             0.2222222222222222,
             "#7201a8"
            ],
            [
             0.3333333333333333,
             "#9c179e"
            ],
            [
             0.4444444444444444,
             "#bd3786"
            ],
            [
             0.5555555555555556,
             "#d8576b"
            ],
            [
             0.6666666666666666,
             "#ed7953"
            ],
            [
             0.7777777777777778,
             "#fb9f3a"
            ],
            [
             0.8888888888888888,
             "#fdca26"
            ],
            [
             1,
             "#f0f921"
            ]
           ]
          },
          "colorway": [
           "#636efa",
           "#EF553B",
           "#00cc96",
           "#ab63fa",
           "#FFA15A",
           "#19d3f3",
           "#FF6692",
           "#B6E880",
           "#FF97FF",
           "#FECB52"
          ],
          "font": {
           "color": "#2a3f5f"
          },
          "geo": {
           "bgcolor": "white",
           "lakecolor": "white",
           "landcolor": "#E5ECF6",
           "showlakes": true,
           "showland": true,
           "subunitcolor": "white"
          },
          "hoverlabel": {
           "align": "left"
          },
          "hovermode": "closest",
          "mapbox": {
           "style": "light"
          },
          "paper_bgcolor": "white",
          "plot_bgcolor": "#E5ECF6",
          "polar": {
           "angularaxis": {
            "gridcolor": "white",
            "linecolor": "white",
            "ticks": ""
           },
           "bgcolor": "#E5ECF6",
           "radialaxis": {
            "gridcolor": "white",
            "linecolor": "white",
            "ticks": ""
           }
          },
          "scene": {
           "xaxis": {
            "backgroundcolor": "#E5ECF6",
            "gridcolor": "white",
            "gridwidth": 2,
            "linecolor": "white",
            "showbackground": true,
            "ticks": "",
            "zerolinecolor": "white"
           },
           "yaxis": {
            "backgroundcolor": "#E5ECF6",
            "gridcolor": "white",
            "gridwidth": 2,
            "linecolor": "white",
            "showbackground": true,
            "ticks": "",
            "zerolinecolor": "white"
           },
           "zaxis": {
            "backgroundcolor": "#E5ECF6",
            "gridcolor": "white",
            "gridwidth": 2,
            "linecolor": "white",
            "showbackground": true,
            "ticks": "",
            "zerolinecolor": "white"
           }
          },
          "shapedefaults": {
           "line": {
            "color": "#2a3f5f"
           }
          },
          "ternary": {
           "aaxis": {
            "gridcolor": "white",
            "linecolor": "white",
            "ticks": ""
           },
           "baxis": {
            "gridcolor": "white",
            "linecolor": "white",
            "ticks": ""
           },
           "bgcolor": "#E5ECF6",
           "caxis": {
            "gridcolor": "white",
            "linecolor": "white",
            "ticks": ""
           }
          },
          "title": {
           "x": 0.05
          },
          "xaxis": {
           "automargin": true,
           "gridcolor": "white",
           "linecolor": "white",
           "ticks": "",
           "zerolinecolor": "white",
           "zerolinewidth": 2
          },
          "yaxis": {
           "automargin": true,
           "gridcolor": "white",
           "linecolor": "white",
           "ticks": "",
           "zerolinecolor": "white",
           "zerolinewidth": 2
          }
         }
        },
        "title": {
         "text": "Рис.3.3. Воронка с учётом последовательности событий."
        }
       }
      },
      "text/html": [
       "<div>\n",
       "        \n",
       "        \n",
       "            <div id=\"10a9eba7-f4a0-4152-8ca9-aa40419653f2\" class=\"plotly-graph-div\" style=\"height:525px; width:100%;\"></div>\n",
       "            <script type=\"text/javascript\">\n",
       "                require([\"plotly\"], function(Plotly) {\n",
       "                    window.PLOTLYENV=window.PLOTLYENV || {};\n",
       "                    \n",
       "                if (document.getElementById(\"10a9eba7-f4a0-4152-8ca9-aa40419653f2\")) {\n",
       "                    Plotly.newPlot(\n",
       "                        '10a9eba7-f4a0-4152-8ca9-aa40419653f2',\n",
       "                        [{\"hoverinfo\": \"percent previous\", \"marker\": {\"color\": [\"#008ab9\", \"#00ade7\", \"#45d0ff\", \"#a2e7ff\"]}, \"opacity\": 0.7, \"textinfo\": \"value+percent initial\", \"type\": \"funnel\", \"x\": [3674, 2303, 1079, 1128], \"y\": [\"login\", \"product_page\", \"product_cart\", \"purchase\"]}],\n",
       "                        {\"template\": {\"data\": {\"bar\": [{\"error_x\": {\"color\": \"#2a3f5f\"}, \"error_y\": {\"color\": \"#2a3f5f\"}, \"marker\": {\"line\": {\"color\": \"#E5ECF6\", \"width\": 0.5}}, \"type\": \"bar\"}], \"barpolar\": [{\"marker\": {\"line\": {\"color\": \"#E5ECF6\", \"width\": 0.5}}, \"type\": \"barpolar\"}], \"carpet\": [{\"aaxis\": {\"endlinecolor\": \"#2a3f5f\", \"gridcolor\": \"white\", \"linecolor\": \"white\", \"minorgridcolor\": \"white\", \"startlinecolor\": \"#2a3f5f\"}, \"baxis\": {\"endlinecolor\": \"#2a3f5f\", \"gridcolor\": \"white\", \"linecolor\": \"white\", \"minorgridcolor\": \"white\", \"startlinecolor\": \"#2a3f5f\"}, \"type\": \"carpet\"}], \"choropleth\": [{\"colorbar\": {\"outlinewidth\": 0, \"ticks\": \"\"}, \"type\": \"choropleth\"}], \"contour\": [{\"colorbar\": {\"outlinewidth\": 0, \"ticks\": \"\"}, \"colorscale\": [[0.0, \"#0d0887\"], [0.1111111111111111, \"#46039f\"], [0.2222222222222222, \"#7201a8\"], [0.3333333333333333, \"#9c179e\"], [0.4444444444444444, \"#bd3786\"], [0.5555555555555556, \"#d8576b\"], [0.6666666666666666, \"#ed7953\"], [0.7777777777777778, \"#fb9f3a\"], [0.8888888888888888, \"#fdca26\"], [1.0, \"#f0f921\"]], \"type\": \"contour\"}], \"contourcarpet\": [{\"colorbar\": {\"outlinewidth\": 0, \"ticks\": \"\"}, \"type\": \"contourcarpet\"}], \"heatmap\": [{\"colorbar\": {\"outlinewidth\": 0, \"ticks\": \"\"}, \"colorscale\": [[0.0, \"#0d0887\"], [0.1111111111111111, \"#46039f\"], [0.2222222222222222, \"#7201a8\"], [0.3333333333333333, \"#9c179e\"], [0.4444444444444444, \"#bd3786\"], [0.5555555555555556, \"#d8576b\"], [0.6666666666666666, \"#ed7953\"], [0.7777777777777778, \"#fb9f3a\"], [0.8888888888888888, \"#fdca26\"], [1.0, \"#f0f921\"]], \"type\": \"heatmap\"}], \"heatmapgl\": [{\"colorbar\": {\"outlinewidth\": 0, \"ticks\": \"\"}, \"colorscale\": [[0.0, \"#0d0887\"], [0.1111111111111111, \"#46039f\"], [0.2222222222222222, \"#7201a8\"], [0.3333333333333333, \"#9c179e\"], [0.4444444444444444, \"#bd3786\"], [0.5555555555555556, \"#d8576b\"], [0.6666666666666666, \"#ed7953\"], [0.7777777777777778, \"#fb9f3a\"], [0.8888888888888888, \"#fdca26\"], [1.0, \"#f0f921\"]], \"type\": \"heatmapgl\"}], \"histogram\": [{\"marker\": {\"colorbar\": {\"outlinewidth\": 0, \"ticks\": \"\"}}, \"type\": \"histogram\"}], \"histogram2d\": [{\"colorbar\": {\"outlinewidth\": 0, \"ticks\": \"\"}, \"colorscale\": [[0.0, \"#0d0887\"], [0.1111111111111111, \"#46039f\"], [0.2222222222222222, \"#7201a8\"], [0.3333333333333333, \"#9c179e\"], [0.4444444444444444, \"#bd3786\"], [0.5555555555555556, \"#d8576b\"], [0.6666666666666666, \"#ed7953\"], [0.7777777777777778, \"#fb9f3a\"], [0.8888888888888888, \"#fdca26\"], [1.0, \"#f0f921\"]], \"type\": \"histogram2d\"}], \"histogram2dcontour\": [{\"colorbar\": {\"outlinewidth\": 0, \"ticks\": \"\"}, \"colorscale\": [[0.0, \"#0d0887\"], [0.1111111111111111, \"#46039f\"], [0.2222222222222222, \"#7201a8\"], [0.3333333333333333, \"#9c179e\"], [0.4444444444444444, \"#bd3786\"], [0.5555555555555556, \"#d8576b\"], [0.6666666666666666, \"#ed7953\"], [0.7777777777777778, \"#fb9f3a\"], [0.8888888888888888, \"#fdca26\"], [1.0, \"#f0f921\"]], \"type\": \"histogram2dcontour\"}], \"mesh3d\": [{\"colorbar\": {\"outlinewidth\": 0, \"ticks\": \"\"}, \"type\": \"mesh3d\"}], \"parcoords\": [{\"line\": {\"colorbar\": {\"outlinewidth\": 0, \"ticks\": \"\"}}, \"type\": \"parcoords\"}], \"scatter\": [{\"marker\": {\"colorbar\": {\"outlinewidth\": 0, \"ticks\": \"\"}}, \"type\": \"scatter\"}], \"scatter3d\": [{\"line\": {\"colorbar\": {\"outlinewidth\": 0, \"ticks\": \"\"}}, \"marker\": {\"colorbar\": {\"outlinewidth\": 0, \"ticks\": \"\"}}, \"type\": \"scatter3d\"}], \"scattercarpet\": [{\"marker\": {\"colorbar\": {\"outlinewidth\": 0, \"ticks\": \"\"}}, \"type\": \"scattercarpet\"}], \"scattergeo\": [{\"marker\": {\"colorbar\": {\"outlinewidth\": 0, \"ticks\": \"\"}}, \"type\": \"scattergeo\"}], \"scattergl\": [{\"marker\": {\"colorbar\": {\"outlinewidth\": 0, \"ticks\": \"\"}}, \"type\": \"scattergl\"}], \"scattermapbox\": [{\"marker\": {\"colorbar\": {\"outlinewidth\": 0, \"ticks\": \"\"}}, \"type\": \"scattermapbox\"}], \"scatterpolar\": [{\"marker\": {\"colorbar\": {\"outlinewidth\": 0, \"ticks\": \"\"}}, \"type\": \"scatterpolar\"}], \"scatterpolargl\": [{\"marker\": {\"colorbar\": {\"outlinewidth\": 0, \"ticks\": \"\"}}, \"type\": \"scatterpolargl\"}], \"scatterternary\": [{\"marker\": {\"colorbar\": {\"outlinewidth\": 0, \"ticks\": \"\"}}, \"type\": \"scatterternary\"}], \"surface\": [{\"colorbar\": {\"outlinewidth\": 0, \"ticks\": \"\"}, \"colorscale\": [[0.0, \"#0d0887\"], [0.1111111111111111, \"#46039f\"], [0.2222222222222222, \"#7201a8\"], [0.3333333333333333, \"#9c179e\"], [0.4444444444444444, \"#bd3786\"], [0.5555555555555556, \"#d8576b\"], [0.6666666666666666, \"#ed7953\"], [0.7777777777777778, \"#fb9f3a\"], [0.8888888888888888, \"#fdca26\"], [1.0, \"#f0f921\"]], \"type\": \"surface\"}], \"table\": [{\"cells\": {\"fill\": {\"color\": \"#EBF0F8\"}, \"line\": {\"color\": \"white\"}}, \"header\": {\"fill\": {\"color\": \"#C8D4E3\"}, \"line\": {\"color\": \"white\"}}, \"type\": \"table\"}]}, \"layout\": {\"annotationdefaults\": {\"arrowcolor\": \"#2a3f5f\", \"arrowhead\": 0, \"arrowwidth\": 1}, \"colorscale\": {\"diverging\": [[0, \"#8e0152\"], [0.1, \"#c51b7d\"], [0.2, \"#de77ae\"], [0.3, \"#f1b6da\"], [0.4, \"#fde0ef\"], [0.5, \"#f7f7f7\"], [0.6, \"#e6f5d0\"], [0.7, \"#b8e186\"], [0.8, \"#7fbc41\"], [0.9, \"#4d9221\"], [1, \"#276419\"]], \"sequential\": [[0.0, \"#0d0887\"], [0.1111111111111111, \"#46039f\"], [0.2222222222222222, \"#7201a8\"], [0.3333333333333333, \"#9c179e\"], [0.4444444444444444, \"#bd3786\"], [0.5555555555555556, \"#d8576b\"], [0.6666666666666666, \"#ed7953\"], [0.7777777777777778, \"#fb9f3a\"], [0.8888888888888888, \"#fdca26\"], [1.0, \"#f0f921\"]], \"sequentialminus\": [[0.0, \"#0d0887\"], [0.1111111111111111, \"#46039f\"], [0.2222222222222222, \"#7201a8\"], [0.3333333333333333, \"#9c179e\"], [0.4444444444444444, \"#bd3786\"], [0.5555555555555556, \"#d8576b\"], [0.6666666666666666, \"#ed7953\"], [0.7777777777777778, \"#fb9f3a\"], [0.8888888888888888, \"#fdca26\"], [1.0, \"#f0f921\"]]}, \"colorway\": [\"#636efa\", \"#EF553B\", \"#00cc96\", \"#ab63fa\", \"#FFA15A\", \"#19d3f3\", \"#FF6692\", \"#B6E880\", \"#FF97FF\", \"#FECB52\"], \"font\": {\"color\": \"#2a3f5f\"}, \"geo\": {\"bgcolor\": \"white\", \"lakecolor\": \"white\", \"landcolor\": \"#E5ECF6\", \"showlakes\": true, \"showland\": true, \"subunitcolor\": \"white\"}, \"hoverlabel\": {\"align\": \"left\"}, \"hovermode\": \"closest\", \"mapbox\": {\"style\": \"light\"}, \"paper_bgcolor\": \"white\", \"plot_bgcolor\": \"#E5ECF6\", \"polar\": {\"angularaxis\": {\"gridcolor\": \"white\", \"linecolor\": \"white\", \"ticks\": \"\"}, \"bgcolor\": \"#E5ECF6\", \"radialaxis\": {\"gridcolor\": \"white\", \"linecolor\": \"white\", \"ticks\": \"\"}}, \"scene\": {\"xaxis\": {\"backgroundcolor\": \"#E5ECF6\", \"gridcolor\": \"white\", \"gridwidth\": 2, \"linecolor\": \"white\", \"showbackground\": true, \"ticks\": \"\", \"zerolinecolor\": \"white\"}, \"yaxis\": {\"backgroundcolor\": \"#E5ECF6\", \"gridcolor\": \"white\", \"gridwidth\": 2, \"linecolor\": \"white\", \"showbackground\": true, \"ticks\": \"\", \"zerolinecolor\": \"white\"}, \"zaxis\": {\"backgroundcolor\": \"#E5ECF6\", \"gridcolor\": \"white\", \"gridwidth\": 2, \"linecolor\": \"white\", \"showbackground\": true, \"ticks\": \"\", \"zerolinecolor\": \"white\"}}, \"shapedefaults\": {\"line\": {\"color\": \"#2a3f5f\"}}, \"ternary\": {\"aaxis\": {\"gridcolor\": \"white\", \"linecolor\": \"white\", \"ticks\": \"\"}, \"baxis\": {\"gridcolor\": \"white\", \"linecolor\": \"white\", \"ticks\": \"\"}, \"bgcolor\": \"#E5ECF6\", \"caxis\": {\"gridcolor\": \"white\", \"linecolor\": \"white\", \"ticks\": \"\"}}, \"title\": {\"x\": 0.05}, \"xaxis\": {\"automargin\": true, \"gridcolor\": \"white\", \"linecolor\": \"white\", \"ticks\": \"\", \"zerolinecolor\": \"white\", \"zerolinewidth\": 2}, \"yaxis\": {\"automargin\": true, \"gridcolor\": \"white\", \"linecolor\": \"white\", \"ticks\": \"\", \"zerolinecolor\": \"white\", \"zerolinewidth\": 2}}}, \"title\": {\"text\": \"\\u0420\\u0438\\u0441.3.3. \\u0412\\u043e\\u0440\\u043e\\u043d\\u043a\\u0430 \\u0441 \\u0443\\u0447\\u0451\\u0442\\u043e\\u043c \\u043f\\u043e\\u0441\\u043b\\u0435\\u0434\\u043e\\u0432\\u0430\\u0442\\u0435\\u043b\\u044c\\u043d\\u043e\\u0441\\u0442\\u0438 \\u0441\\u043e\\u0431\\u044b\\u0442\\u0438\\u0439.\"}},\n",
       "                        {\"responsive\": true}\n",
       "                    ).then(function(){\n",
       "                            \n",
       "var gd = document.getElementById('10a9eba7-f4a0-4152-8ca9-aa40419653f2');\n",
       "var x = new MutationObserver(function (mutations, observer) {{\n",
       "        var display = window.getComputedStyle(gd).display;\n",
       "        if (!display || display === 'none') {{\n",
       "            console.log([gd, 'removed!']);\n",
       "            Plotly.purge(gd);\n",
       "            observer.disconnect();\n",
       "        }}\n",
       "}});\n",
       "\n",
       "// Listen for the removal of the full notebook cells\n",
       "var notebookContainer = gd.closest('#notebook-container');\n",
       "if (notebookContainer) {{\n",
       "    x.observe(notebookContainer, {childList: true});\n",
       "}}\n",
       "\n",
       "// Listen for the clearing of the current output cell\n",
       "var outputEl = gd.closest('.output');\n",
       "if (outputEl) {{\n",
       "    x.observe(outputEl, {childList: true});\n",
       "}}\n",
       "\n",
       "                        })\n",
       "                };\n",
       "                });\n",
       "            </script>\n",
       "        </div>"
      ]
     },
     "metadata": {},
     "output_type": "display_data"
    }
   ],
   "source": [
    "funnel = ab_test_data.groupby('event_name').agg(user_count=('user_id','nunique')).reset_index()\n",
    "funnel = funnel.reindex([0, 2, 1,3])\n",
    "\n",
    "fig = go.Figure(\n",
    "    go.Funnel(\n",
    "        y=funnel['event_name'] ,\n",
    "        x=funnel['user_count'] ,\n",
    "        textinfo = \"value+percent initial\",\n",
    "        hoverinfo = \"percent previous\",\n",
    "        opacity = 0.7, marker = {\"color\": [\"#008ab9\", \"#00ade7\", \"#45d0ff\", \"#a2e7ff\"]},\n",
    "        \n",
    "        ))\n",
    "fig.update_layout(title=\"Рис.3.3. Воронка с учётом последовательности событий.\")\n",
    "fig.show()"
   ]
  },
  {
   "cell_type": "code",
   "execution_count": 144,
   "metadata": {},
   "outputs": [
    {
     "data": {
      "text/html": [
       "<div>\n",
       "<style scoped>\n",
       "    .dataframe tbody tr th:only-of-type {\n",
       "        vertical-align: middle;\n",
       "    }\n",
       "\n",
       "    .dataframe tbody tr th {\n",
       "        vertical-align: top;\n",
       "    }\n",
       "\n",
       "    .dataframe thead th {\n",
       "        text-align: right;\n",
       "    }\n",
       "</style>\n",
       "<table border=\"1\" class=\"dataframe\">\n",
       "  <thead>\n",
       "    <tr style=\"text-align: right;\">\n",
       "      <th></th>\n",
       "      <th>event_name</th>\n",
       "      <th>n_users</th>\n",
       "      <th>ratio_users</th>\n",
       "      <th>funnel_events</th>\n",
       "      <th>ratio_funnel</th>\n",
       "    </tr>\n",
       "  </thead>\n",
       "  <tbody>\n",
       "    <tr>\n",
       "      <td>3</td>\n",
       "      <td>purchase</td>\n",
       "      <td>1128</td>\n",
       "      <td>30.70</td>\n",
       "      <td>1</td>\n",
       "      <td>0.00</td>\n",
       "    </tr>\n",
       "  </tbody>\n",
       "</table>\n",
       "</div>"
      ],
      "text/plain": [
       "  event_name  n_users  ratio_users  funnel_events  ratio_funnel\n",
       "3  purchase   1128    30.70         1             0.00         "
      ]
     },
     "execution_count": 144,
     "metadata": {},
     "output_type": "execute_result"
    }
   ],
   "source": [
    "# Доля пользователей, которая доходит от первого события до оплаты.\n",
    "users_events_filtered.query('event_name == \"purchase\"')"
   ]
  },
  {
   "cell_type": "markdown",
   "metadata": {},
   "source": [
    "Выводы:\n",
    "\n",
    "В воронке с учетом последовательности событий больше всего пользователей теряем на этапе покупка.\n",
    "\n",
    "От первого события до оплаты доходит 29,4% пользователей. Но с учетом последовательности событий 0%.\n",
    "\n",
    "В ТЗ написано что, на каждом из шагов воронки product_page → product_card → purchase улучшение составит не менее 10%. В нашем случае нет воронки, нет улучшения конверсии в воронке."
   ]
  },
  {
   "cell_type": "markdown",
   "metadata": {},
   "source": [
    "## Шаг. Проведем оценку результатов A/B-тестирования"
   ]
  },
  {
   "cell_type": "markdown",
   "metadata": {},
   "source": [
    "### Проверим статистическую разницу долей по этапам с помощью z-критерия между выборками группы А и группы В."
   ]
  },
  {
   "cell_type": "markdown",
   "metadata": {},
   "source": [
    "Группы: А (контрольная), B (новая платёжная воронка). Импортировала новую библиотеку proportions_ztest, для создания упрощенной формы функции для проверки гипотез."
   ]
  },
  {
   "cell_type": "code",
   "execution_count": 145,
   "metadata": {},
   "outputs": [
    {
     "data": {
      "text/html": [
       "<div>\n",
       "<style scoped>\n",
       "    .dataframe tbody tr th:only-of-type {\n",
       "        vertical-align: middle;\n",
       "    }\n",
       "\n",
       "    .dataframe tbody tr th {\n",
       "        vertical-align: top;\n",
       "    }\n",
       "\n",
       "    .dataframe thead th {\n",
       "        text-align: right;\n",
       "    }\n",
       "</style>\n",
       "<table border=\"1\" class=\"dataframe\">\n",
       "  <thead>\n",
       "    <tr style=\"text-align: right;\">\n",
       "      <th></th>\n",
       "      <th>user_id</th>\n",
       "      <th>group</th>\n",
       "      <th>ab_test</th>\n",
       "      <th>first_date</th>\n",
       "      <th>region</th>\n",
       "      <th>device</th>\n",
       "      <th>event_date</th>\n",
       "      <th>event_name</th>\n",
       "      <th>details</th>\n",
       "    </tr>\n",
       "  </thead>\n",
       "  <tbody>\n",
       "    <tr>\n",
       "      <td>3245</td>\n",
       "      <td>BA9E68C3B8270A6C</td>\n",
       "      <td>A</td>\n",
       "      <td>recommender_system_test</td>\n",
       "      <td>2020-12-15</td>\n",
       "      <td>eu</td>\n",
       "      <td>pc</td>\n",
       "      <td>2020-12-25 19:46:25</td>\n",
       "      <td>purchase</td>\n",
       "      <td>4.99</td>\n",
       "    </tr>\n",
       "    <tr>\n",
       "      <td>2193</td>\n",
       "      <td>B3E321BBB0EB332B</td>\n",
       "      <td>A</td>\n",
       "      <td>recommender_system_test</td>\n",
       "      <td>2020-12-07</td>\n",
       "      <td>eu</td>\n",
       "      <td>android</td>\n",
       "      <td>2020-12-07 07:47:12</td>\n",
       "      <td>product_page</td>\n",
       "      <td>nan</td>\n",
       "    </tr>\n",
       "    <tr>\n",
       "      <td>14931</td>\n",
       "      <td>903B7FB3C9AB7B72</td>\n",
       "      <td>A</td>\n",
       "      <td>recommender_system_test</td>\n",
       "      <td>2020-12-17</td>\n",
       "      <td>eu</td>\n",
       "      <td>iphone</td>\n",
       "      <td>2020-12-17 11:30:44</td>\n",
       "      <td>product_page</td>\n",
       "      <td>nan</td>\n",
       "    </tr>\n",
       "    <tr>\n",
       "      <td>12610</td>\n",
       "      <td>31EA3C7FC0132A9E</td>\n",
       "      <td>A</td>\n",
       "      <td>recommender_system_test</td>\n",
       "      <td>2020-12-09</td>\n",
       "      <td>eu</td>\n",
       "      <td>android</td>\n",
       "      <td>2020-12-09 20:00:00</td>\n",
       "      <td>login</td>\n",
       "      <td>nan</td>\n",
       "    </tr>\n",
       "    <tr>\n",
       "      <td>13179</td>\n",
       "      <td>833B123682A99117</td>\n",
       "      <td>A</td>\n",
       "      <td>recommender_system_test</td>\n",
       "      <td>2020-12-07</td>\n",
       "      <td>eu</td>\n",
       "      <td>android</td>\n",
       "      <td>2020-12-12 03:03:41</td>\n",
       "      <td>login</td>\n",
       "      <td>nan</td>\n",
       "    </tr>\n",
       "  </tbody>\n",
       "</table>\n",
       "</div>"
      ],
      "text/plain": [
       "                user_id group                  ab_test first_date region  \\\n",
       "3245   BA9E68C3B8270A6C  A     recommender_system_test 2020-12-15  eu      \n",
       "2193   B3E321BBB0EB332B  A     recommender_system_test 2020-12-07  eu      \n",
       "14931  903B7FB3C9AB7B72  A     recommender_system_test 2020-12-17  eu      \n",
       "12610  31EA3C7FC0132A9E  A     recommender_system_test 2020-12-09  eu      \n",
       "13179  833B123682A99117  A     recommender_system_test 2020-12-07  eu      \n",
       "\n",
       "        device          event_date    event_name  details  \n",
       "3245   pc      2020-12-25 19:46:25  purchase     4.99      \n",
       "2193   android 2020-12-07 07:47:12  product_page nan       \n",
       "14931  iphone  2020-12-17 11:30:44  product_page nan       \n",
       "12610  android 2020-12-09 20:00:00  login        nan       \n",
       "13179  android 2020-12-12 03:03:41  login        nan       "
      ]
     },
     "execution_count": 145,
     "metadata": {},
     "output_type": "execute_result"
    }
   ],
   "source": [
    "# Посмотрим новую таблицу. \n",
    "ab_test_data.sample(5)"
   ]
  },
  {
   "cell_type": "code",
   "execution_count": 146,
   "metadata": {},
   "outputs": [
    {
     "data": {
      "text/html": [
       "<div>\n",
       "<style scoped>\n",
       "    .dataframe tbody tr th:only-of-type {\n",
       "        vertical-align: middle;\n",
       "    }\n",
       "\n",
       "    .dataframe tbody tr th {\n",
       "        vertical-align: top;\n",
       "    }\n",
       "\n",
       "    .dataframe thead th {\n",
       "        text-align: right;\n",
       "    }\n",
       "</style>\n",
       "<table border=\"1\" class=\"dataframe\">\n",
       "  <thead>\n",
       "    <tr style=\"text-align: right;\">\n",
       "      <th></th>\n",
       "      <th>event_name</th>\n",
       "      <th>n_users</th>\n",
       "      <th>total_users</th>\n",
       "      <th>ratio</th>\n",
       "    </tr>\n",
       "  </thead>\n",
       "  <tbody>\n",
       "    <tr>\n",
       "      <td>0</td>\n",
       "      <td>login</td>\n",
       "      <td>2747</td>\n",
       "      <td>2747</td>\n",
       "      <td>100.00</td>\n",
       "    </tr>\n",
       "    <tr>\n",
       "      <td>1</td>\n",
       "      <td>product_page</td>\n",
       "      <td>1780</td>\n",
       "      <td>2747</td>\n",
       "      <td>64.80</td>\n",
       "    </tr>\n",
       "    <tr>\n",
       "      <td>2</td>\n",
       "      <td>purchase</td>\n",
       "      <td>872</td>\n",
       "      <td>2747</td>\n",
       "      <td>31.70</td>\n",
       "    </tr>\n",
       "    <tr>\n",
       "      <td>3</td>\n",
       "      <td>product_cart</td>\n",
       "      <td>824</td>\n",
       "      <td>2747</td>\n",
       "      <td>30.00</td>\n",
       "    </tr>\n",
       "  </tbody>\n",
       "</table>\n",
       "</div>"
      ],
      "text/plain": [
       "     event_name  n_users  total_users  ratio\n",
       "0  login         2747     2747        100.00\n",
       "1  product_page  1780     2747        64.80 \n",
       "2  purchase      872      2747        31.70 \n",
       "3  product_cart  824      2747        30.00 "
      ]
     },
     "execution_count": 146,
     "metadata": {},
     "output_type": "execute_result"
    }
   ],
   "source": [
    "# Генерируем две независимые выборки группа А и группа В.\n",
    "\n",
    "# контрольная группа А:\n",
    "group_A = ab_test_data.query('group == \"A\"') # создадим отдельную таблицу по группе А\n",
    "exp_А = group_A.groupby('event_name').agg({'user_id':'nunique'}).sort_values(by='user_id', ascending = False)\\\n",
    "                       .reset_index() # построим воронку событий для группы А\n",
    "\n",
    "exp_А.columns = ['event_name', 'n_users'] # назовем столбцы 'название события' и 'кол-во уникальных пользователей' \n",
    "exp_А['total_users'] = len(group_A['user_id'].unique()) # столбец с общим кол-вом уникальных пользователей в группе \n",
    "exp_А['ratio'] = (exp_А['n_users'] / exp_А['total_users']* 100).round(1) # доля пользователей совершивших событие \n",
    "exp_А"
   ]
  },
  {
   "cell_type": "code",
   "execution_count": 147,
   "metadata": {},
   "outputs": [
    {
     "data": {
      "text/html": [
       "<div>\n",
       "<style scoped>\n",
       "    .dataframe tbody tr th:only-of-type {\n",
       "        vertical-align: middle;\n",
       "    }\n",
       "\n",
       "    .dataframe tbody tr th {\n",
       "        vertical-align: top;\n",
       "    }\n",
       "\n",
       "    .dataframe thead th {\n",
       "        text-align: right;\n",
       "    }\n",
       "</style>\n",
       "<table border=\"1\" class=\"dataframe\">\n",
       "  <thead>\n",
       "    <tr style=\"text-align: right;\">\n",
       "      <th></th>\n",
       "      <th>event_name</th>\n",
       "      <th>n_users</th>\n",
       "      <th>total_users</th>\n",
       "      <th>ratio</th>\n",
       "    </tr>\n",
       "  </thead>\n",
       "  <tbody>\n",
       "    <tr>\n",
       "      <td>0</td>\n",
       "      <td>login</td>\n",
       "      <td>927</td>\n",
       "      <td>928</td>\n",
       "      <td>99.90</td>\n",
       "    </tr>\n",
       "    <tr>\n",
       "      <td>1</td>\n",
       "      <td>product_page</td>\n",
       "      <td>523</td>\n",
       "      <td>928</td>\n",
       "      <td>56.40</td>\n",
       "    </tr>\n",
       "    <tr>\n",
       "      <td>2</td>\n",
       "      <td>purchase</td>\n",
       "      <td>256</td>\n",
       "      <td>928</td>\n",
       "      <td>27.60</td>\n",
       "    </tr>\n",
       "    <tr>\n",
       "      <td>3</td>\n",
       "      <td>product_cart</td>\n",
       "      <td>255</td>\n",
       "      <td>928</td>\n",
       "      <td>27.50</td>\n",
       "    </tr>\n",
       "  </tbody>\n",
       "</table>\n",
       "</div>"
      ],
      "text/plain": [
       "     event_name  n_users  total_users  ratio\n",
       "0  login         927      928         99.90 \n",
       "1  product_page  523      928         56.40 \n",
       "2  purchase      256      928         27.60 \n",
       "3  product_cart  255      928         27.50 "
      ]
     },
     "execution_count": 147,
     "metadata": {},
     "output_type": "execute_result"
    }
   ],
   "source": [
    "# экспериментальная группа В:\n",
    "group_B = ab_test_data.query('group == \"B\"') # создадим отдельную таблицу по группе В\n",
    "exp_В = group_B.groupby('event_name').agg({'user_id':'nunique'}).sort_values(by = 'user_id', ascending = False)\\\n",
    "                       .reset_index() # построим воронку событий для группы В\n",
    "\n",
    "exp_В.columns = ['event_name', 'n_users'] # назовем столбцы 'название события' и 'кол-во уникальных пользователей' \n",
    "exp_В['total_users'] = len(group_B['user_id'].unique()) # столбец с общим кол-вом уникальных пользователей в группе\n",
    "exp_В['ratio'] = (exp_В['n_users'] / exp_В['total_users']* 100).round(1) # доля пользователей совершивших событие \n",
    "exp_В"
   ]
  },
  {
   "cell_type": "markdown",
   "metadata": {},
   "source": [
    "Сформулируем нулевую и альтернативную гипотезы:\n",
    "* Нулевая гипотеза H₀: Конверсия в покупателей между выборками одинаковые.\n",
    "* Альтернативная гипотеза H₁: Конверсия в покупателей между выборками разные."
   ]
  },
  {
   "cell_type": "code",
   "execution_count": 148,
   "metadata": {},
   "outputs": [],
   "source": [
    "# Создадим функцию, которая будет брать на вход строку и сравнивать четыре значения.\n",
    "alpha = 0.05 # критический уровень статистической значимости\n",
    "\n",
    "# в функцию будем передавать кол-во пользователей в каждой группе совершивших определенное событие \n",
    "# и общее количество пользователей в группе\n",
    "def p_value(row): \n",
    "    successes = np.array([row['n_users_A'], row['n_users_B']]) # кол-во уникальных пользователей определенного события\n",
    "    trials = np.array([row['total_users_A'], row['total_users_B']]) # общее кол-во уникальных пользователей \n",
    "    stat, pval = proportions_ztest(successes, trials) \n",
    "    return pval\n",
    "\n",
    "# в функцию будем передавать полученное p-value и сравнивать его с уровнем критической значимости\n",
    "# функция будет возврващать результат\n",
    "def result(row, coefficient):\n",
    "    pval = row['p-value'] # столбец с p-значением из z-теста\n",
    "    if (pval < coefficient):\n",
    "        return(\"Отвергаем нулевую гипотезу: между долями есть значимая разница\")\n",
    "    else:\n",
    "        return(\"Не получилось отвергнуть нулевую гипотезу, нет оснований считать доли разными.\")"
   ]
  },
  {
   "cell_type": "markdown",
   "metadata": {},
   "source": [
    "Сравним доли конверсий в группах А и В между собой для всех событий."
   ]
  },
  {
   "cell_type": "code",
   "execution_count": 149,
   "metadata": {},
   "outputs": [
    {
     "data": {
      "text/html": [
       "<div>\n",
       "<style scoped>\n",
       "    .dataframe tbody tr th:only-of-type {\n",
       "        vertical-align: middle;\n",
       "    }\n",
       "\n",
       "    .dataframe tbody tr th {\n",
       "        vertical-align: top;\n",
       "    }\n",
       "\n",
       "    .dataframe thead th {\n",
       "        text-align: right;\n",
       "    }\n",
       "</style>\n",
       "<table border=\"1\" class=\"dataframe\">\n",
       "  <thead>\n",
       "    <tr style=\"text-align: right;\">\n",
       "      <th></th>\n",
       "      <th>event_name</th>\n",
       "      <th>n_users_A</th>\n",
       "      <th>total_users_A</th>\n",
       "      <th>ratio_A</th>\n",
       "      <th>n_users_B</th>\n",
       "      <th>total_users_B</th>\n",
       "      <th>ratio_B</th>\n",
       "      <th>p-value</th>\n",
       "      <th>result</th>\n",
       "    </tr>\n",
       "  </thead>\n",
       "  <tbody>\n",
       "    <tr>\n",
       "      <td>0</td>\n",
       "      <td>login</td>\n",
       "      <td>2747</td>\n",
       "      <td>2747</td>\n",
       "      <td>100.00</td>\n",
       "      <td>927</td>\n",
       "      <td>928</td>\n",
       "      <td>99.90</td>\n",
       "      <td>0.09</td>\n",
       "      <td>Не получилось отвергнуть нулевую гипотезу, нет оснований считать доли разными.</td>\n",
       "    </tr>\n",
       "    <tr>\n",
       "      <td>1</td>\n",
       "      <td>product_page</td>\n",
       "      <td>1780</td>\n",
       "      <td>2747</td>\n",
       "      <td>64.80</td>\n",
       "      <td>523</td>\n",
       "      <td>928</td>\n",
       "      <td>56.40</td>\n",
       "      <td>0.00</td>\n",
       "      <td>Отвергаем нулевую гипотезу: между долями есть значимая разница</td>\n",
       "    </tr>\n",
       "    <tr>\n",
       "      <td>2</td>\n",
       "      <td>purchase</td>\n",
       "      <td>872</td>\n",
       "      <td>2747</td>\n",
       "      <td>31.70</td>\n",
       "      <td>256</td>\n",
       "      <td>928</td>\n",
       "      <td>27.60</td>\n",
       "      <td>0.02</td>\n",
       "      <td>Отвергаем нулевую гипотезу: между долями есть значимая разница</td>\n",
       "    </tr>\n",
       "    <tr>\n",
       "      <td>3</td>\n",
       "      <td>product_cart</td>\n",
       "      <td>824</td>\n",
       "      <td>2747</td>\n",
       "      <td>30.00</td>\n",
       "      <td>255</td>\n",
       "      <td>928</td>\n",
       "      <td>27.50</td>\n",
       "      <td>0.15</td>\n",
       "      <td>Не получилось отвергнуть нулевую гипотезу, нет оснований считать доли разными.</td>\n",
       "    </tr>\n",
       "  </tbody>\n",
       "</table>\n",
       "</div>"
      ],
      "text/plain": [
       "     event_name  n_users_A  total_users_A  ratio_A  n_users_B  total_users_B  \\\n",
       "0  login         2747       2747          100.00    927        928             \n",
       "1  product_page  1780       2747          64.80     523        928             \n",
       "2  purchase      872        2747          31.70     256        928             \n",
       "3  product_cart  824        2747          30.00     255        928             \n",
       "\n",
       "   ratio_B  p-value  \\\n",
       "0 99.90    0.09       \n",
       "1 56.40    0.00       \n",
       "2 27.60    0.02       \n",
       "3 27.50    0.15       \n",
       "\n",
       "                                                                           result  \n",
       "0  Не получилось отвергнуть нулевую гипотезу, нет оснований считать доли разными.  \n",
       "1  Отвергаем нулевую гипотезу: между долями есть значимая разница                  \n",
       "2  Отвергаем нулевую гипотезу: между долями есть значимая разница                  \n",
       "3  Не получилось отвергнуть нулевую гипотезу, нет оснований считать доли разными.  "
      ]
     },
     "execution_count": 149,
     "metadata": {},
     "output_type": "execute_result"
    }
   ],
   "source": [
    "# Сравним доли конверсий в группах А и В между собой для всех событий.\n",
    "ab_exp = exp_А.merge(exp_В, on='event_name', suffixes=('_A', '_B'))\n",
    "\n",
    "# Добавим результат работы функции в отдельный столбец.\n",
    "ab_exp['p-value'] = ab_exp.apply(p_value, axis=1)\n",
    "ab_exp['result'] = ab_exp.apply(result, coefficient=alpha, axis=1)\n",
    "ab_exp"
   ]
  },
  {
   "cell_type": "markdown",
   "metadata": {},
   "source": [
    "Выводы:\n",
    "\n",
    "Между группами А и В статистическая значимость различий достигнута для события \"product_page\" и \"purchase\", появление страницы продукта и покупки. Для остальных нет статистически значимой разницы между группами."
   ]
  },
  {
   "cell_type": "markdown",
   "metadata": {},
   "source": [
    "## Шаг. Общие выводы"
   ]
  },
  {
   "cell_type": "markdown",
   "metadata": {},
   "source": [
    "ПО РЕЗУЛЬТАТАМ ИССЛЕДОВАНИЯ, ДАННЫЕ В ТЗ НЕКОРРЕКТНЫ ПО СЛЕДУЮЩИМ ПУНКТАМ:\n",
    "\n",
    "* в файле final_ab_new_users.csv с новыми пользователями, дата остановки набора новых пользователей была 23-12-2020, а не 2020-12-21. было больше данных;\n",
    "* в файле final_ab_events.csv с событиями, данные оборвались на 30-12-2020 года, были не полными, а должны были быть до 4-01-2021. Видимо произошел какой-то сбой в записи событий.\n",
    "\n",
    "Также, обнаружили следующее:\n",
    "\n",
    "* что 318 пользователей переходят сразу на оплату, в обход корзины;\n",
    "* что 1602 пользователя участвовало в двух тестах одновременно;\n",
    "* что группы обладают различным распределением взаимодействий, и разными средним количеством событий на одного пользователя.\n",
    "\n",
    "ПО ИЗУЧЕНИЮ ВОРОНКИ С УЧЕТОМ ПОСЛЕДОВАТЕЛЬНОСТИ СОБЫТИЙ:\n",
    "\n",
    "* больше всего пользователей теряли на этапе покупки;\n",
    "* от первого события до оплаты доходит 33,3% пользователей. но с учетом последовательности событий 0%;\n",
    "* в тз написано, что, на каждом из шагов воронки product_page → product_card → purchase улучшение составит не менее 10%. в этом случае воронка событий не получилась, поэтому нет улучшения конверсии в ней;\n",
    "* также, обнаружили, что многие пользователи не входили в систему (не регистрировались), а сразу покупали. что негативно повлияло на воронку.\n",
    "\n",
    "ПО ОЦЕНКЕ РЕЗУЛЬТАТОВ A/B-ТЕСТИРОВАНИЯ: тест лучше остановить и признать провальным. Видим, что по целевым признакам product_page и purchase есть статистически значимая разница между группами. Изменения, связанные с внедрением улучшенной рекомендательной системы, показали себя не очень хорошо."
   ]
  },
  {
   "cell_type": "markdown",
   "metadata": {},
   "source": [
    "РЕКОМЕНДАЦИИ: необходимо решить проблемы с воронкой событий и провести тест заново."
   ]
  }
 ],
 "metadata": {
  "ExecuteTimeLog": [
   {
    "duration": 1742,
    "start_time": "2021-12-14T17:16:06.737Z"
   },
   {
    "duration": 544,
    "start_time": "2021-12-14T17:16:17.754Z"
   },
   {
    "duration": 3,
    "start_time": "2021-12-14T17:16:29.888Z"
   },
   {
    "duration": 5,
    "start_time": "2021-12-14T17:16:41.228Z"
   },
   {
    "duration": 5,
    "start_time": "2021-12-14T17:17:10.137Z"
   },
   {
    "duration": 36,
    "start_time": "2021-12-14T17:17:27.467Z"
   },
   {
    "duration": 148,
    "start_time": "2021-12-14T17:18:05.710Z"
   },
   {
    "duration": 516,
    "start_time": "2021-12-14T17:18:39.744Z"
   },
   {
    "duration": 43,
    "start_time": "2021-12-14T17:19:18.585Z"
   },
   {
    "duration": 5,
    "start_time": "2021-12-14T17:20:51.828Z"
   },
   {
    "duration": 6,
    "start_time": "2021-12-14T17:20:58.407Z"
   },
   {
    "duration": 6,
    "start_time": "2021-12-14T17:21:05.941Z"
   },
   {
    "duration": 7,
    "start_time": "2021-12-14T17:21:12.248Z"
   },
   {
    "duration": 12,
    "start_time": "2021-12-14T17:21:39.101Z"
   },
   {
    "duration": 39,
    "start_time": "2021-12-14T17:21:44.417Z"
   },
   {
    "duration": 13,
    "start_time": "2021-12-14T17:21:49.835Z"
   },
   {
    "duration": 104,
    "start_time": "2021-12-14T17:22:07.555Z"
   },
   {
    "duration": 21,
    "start_time": "2021-12-14T17:22:13.317Z"
   },
   {
    "duration": 6,
    "start_time": "2021-12-14T17:22:18.269Z"
   },
   {
    "duration": 5,
    "start_time": "2021-12-14T17:22:25.153Z"
   },
   {
    "duration": 39,
    "start_time": "2021-12-14T17:23:15.920Z"
   },
   {
    "duration": 11,
    "start_time": "2021-12-14T17:25:34.314Z"
   },
   {
    "duration": 10,
    "start_time": "2021-12-14T17:26:04.345Z"
   },
   {
    "duration": 8,
    "start_time": "2021-12-14T17:27:21.503Z"
   },
   {
    "duration": 15,
    "start_time": "2021-12-14T17:27:28.763Z"
   },
   {
    "duration": 401,
    "start_time": "2021-12-14T17:27:38.968Z"
   },
   {
    "duration": 16,
    "start_time": "2021-12-14T17:28:21.360Z"
   },
   {
    "duration": 13,
    "start_time": "2021-12-14T17:28:28.911Z"
   },
   {
    "duration": 26,
    "start_time": "2021-12-14T17:28:41.847Z"
   },
   {
    "duration": 9,
    "start_time": "2021-12-14T17:30:29.539Z"
   },
   {
    "duration": 48,
    "start_time": "2021-12-14T17:30:37.612Z"
   },
   {
    "duration": 6230,
    "start_time": "2021-12-14T17:30:45.993Z"
   },
   {
    "duration": 31,
    "start_time": "2021-12-14T17:31:30.010Z"
   },
   {
    "duration": 176,
    "start_time": "2021-12-14T17:31:36.745Z"
   },
   {
    "duration": 344,
    "start_time": "2021-12-14T17:31:43.080Z"
   },
   {
    "duration": 9,
    "start_time": "2021-12-14T17:33:11.174Z"
   },
   {
    "duration": 28,
    "start_time": "2021-12-14T17:33:18.627Z"
   },
   {
    "duration": 31,
    "start_time": "2021-12-14T17:33:55.709Z"
   },
   {
    "duration": 7,
    "start_time": "2021-12-14T17:34:18.479Z"
   },
   {
    "duration": 16,
    "start_time": "2021-12-14T17:34:24.404Z"
   },
   {
    "duration": 234,
    "start_time": "2021-12-14T17:34:43.938Z"
   },
   {
    "duration": 5,
    "start_time": "2021-12-14T17:34:56.989Z"
   },
   {
    "duration": 69,
    "start_time": "2021-12-14T17:35:45.453Z"
   },
   {
    "duration": 116,
    "start_time": "2021-12-14T17:36:20.237Z"
   },
   {
    "duration": 13,
    "start_time": "2021-12-14T17:36:27.741Z"
   },
   {
    "duration": 48,
    "start_time": "2021-12-14T17:36:42.240Z"
   },
   {
    "duration": 482,
    "start_time": "2021-12-14T17:36:59.206Z"
   },
   {
    "duration": 9,
    "start_time": "2021-12-14T17:37:57.125Z"
   },
   {
    "duration": 47,
    "start_time": "2021-12-14T17:38:04.138Z"
   },
   {
    "duration": 768,
    "start_time": "2021-12-14T17:38:11.180Z"
   },
   {
    "duration": 548,
    "start_time": "2021-12-14T17:39:10.178Z"
   },
   {
    "duration": 293,
    "start_time": "2021-12-14T17:41:48.264Z"
   },
   {
    "duration": 11,
    "start_time": "2021-12-14T17:41:55.857Z"
   },
   {
    "duration": 209,
    "start_time": "2021-12-14T17:42:03.627Z"
   },
   {
    "duration": 10,
    "start_time": "2021-12-14T17:42:17.790Z"
   },
   {
    "duration": 12,
    "start_time": "2021-12-14T17:43:52.653Z"
   },
   {
    "duration": 29,
    "start_time": "2021-12-14T17:44:00.494Z"
   },
   {
    "duration": 21,
    "start_time": "2021-12-14T17:44:07.873Z"
   },
   {
    "duration": 4,
    "start_time": "2021-12-14T17:45:01.447Z"
   },
   {
    "duration": 22,
    "start_time": "2021-12-14T17:45:18.479Z"
   },
   {
    "duration": 10128,
    "start_time": "2021-12-15T08:01:56.592Z"
   },
   {
    "duration": 895,
    "start_time": "2021-12-15T08:02:06.745Z"
   },
   {
    "duration": 3,
    "start_time": "2021-12-15T08:02:07.642Z"
   },
   {
    "duration": 21,
    "start_time": "2021-12-15T08:02:07.647Z"
   },
   {
    "duration": 20,
    "start_time": "2021-12-15T08:02:07.670Z"
   },
   {
    "duration": 49,
    "start_time": "2021-12-15T08:02:07.692Z"
   },
   {
    "duration": 133,
    "start_time": "2021-12-15T08:02:07.743Z"
   },
   {
    "duration": 558,
    "start_time": "2021-12-15T08:02:07.878Z"
   },
   {
    "duration": 47,
    "start_time": "2021-12-15T08:02:08.445Z"
   },
   {
    "duration": 4,
    "start_time": "2021-12-15T08:02:08.494Z"
   },
   {
    "duration": 7,
    "start_time": "2021-12-15T08:02:08.500Z"
   },
   {
    "duration": 37,
    "start_time": "2021-12-15T08:02:08.509Z"
   },
   {
    "duration": 9,
    "start_time": "2021-12-15T08:02:08.548Z"
   },
   {
    "duration": 13,
    "start_time": "2021-12-15T08:02:08.559Z"
   },
   {
    "duration": 42,
    "start_time": "2021-12-15T08:02:08.574Z"
   },
   {
    "duration": 29,
    "start_time": "2021-12-15T08:02:08.618Z"
   },
   {
    "duration": 114,
    "start_time": "2021-12-15T08:02:08.649Z"
   },
   {
    "duration": 22,
    "start_time": "2021-12-15T08:02:08.764Z"
   },
   {
    "duration": 6,
    "start_time": "2021-12-15T08:02:08.788Z"
   },
   {
    "duration": 6,
    "start_time": "2021-12-15T08:02:08.796Z"
   },
   {
    "duration": 65,
    "start_time": "2021-12-15T08:02:08.804Z"
   },
   {
    "duration": 10,
    "start_time": "2021-12-15T08:02:08.871Z"
   },
   {
    "duration": 11,
    "start_time": "2021-12-15T08:02:08.882Z"
   },
   {
    "duration": 9,
    "start_time": "2021-12-15T08:02:08.895Z"
   },
   {
    "duration": 39,
    "start_time": "2021-12-15T08:02:08.905Z"
   },
   {
    "duration": 398,
    "start_time": "2021-12-15T08:02:08.946Z"
   },
   {
    "duration": 16,
    "start_time": "2021-12-15T08:02:09.349Z"
   },
   {
    "duration": 17,
    "start_time": "2021-12-15T08:02:09.368Z"
   },
   {
    "duration": 24,
    "start_time": "2021-12-15T08:02:09.387Z"
   },
   {
    "duration": 38,
    "start_time": "2021-12-15T08:02:09.413Z"
   },
   {
    "duration": 52,
    "start_time": "2021-12-15T08:02:09.452Z"
   },
   {
    "duration": 6167,
    "start_time": "2021-12-15T08:02:09.506Z"
   },
   {
    "duration": 30,
    "start_time": "2021-12-15T08:02:15.675Z"
   },
   {
    "duration": 224,
    "start_time": "2021-12-15T08:02:15.707Z"
   },
   {
    "duration": 374,
    "start_time": "2021-12-15T08:02:15.932Z"
   },
   {
    "duration": 8,
    "start_time": "2021-12-15T08:02:16.308Z"
   },
   {
    "duration": 62,
    "start_time": "2021-12-15T08:02:16.318Z"
   },
   {
    "duration": 50,
    "start_time": "2021-12-15T08:02:16.382Z"
   },
   {
    "duration": 5,
    "start_time": "2021-12-15T08:02:16.434Z"
   },
   {
    "duration": 55,
    "start_time": "2021-12-15T08:02:16.440Z"
   },
   {
    "duration": 242,
    "start_time": "2021-12-15T08:02:16.497Z"
   },
   {
    "duration": 5,
    "start_time": "2021-12-15T08:02:16.740Z"
   },
   {
    "duration": 79,
    "start_time": "2021-12-15T08:02:16.747Z"
   },
   {
    "duration": 109,
    "start_time": "2021-12-15T08:02:16.828Z"
   },
   {
    "duration": 13,
    "start_time": "2021-12-15T08:02:16.939Z"
   },
   {
    "duration": 51,
    "start_time": "2021-12-15T08:02:16.953Z"
   },
   {
    "duration": 478,
    "start_time": "2021-12-15T08:02:17.005Z"
   },
   {
    "duration": 8,
    "start_time": "2021-12-15T08:02:17.484Z"
   },
   {
    "duration": 65,
    "start_time": "2021-12-15T08:02:17.494Z"
   },
   {
    "duration": 764,
    "start_time": "2021-12-15T08:02:17.561Z"
   },
   {
    "duration": 567,
    "start_time": "2021-12-15T08:02:18.328Z"
   },
   {
    "duration": 407,
    "start_time": "2021-12-15T08:02:18.897Z"
   },
   {
    "duration": 9,
    "start_time": "2021-12-15T08:02:19.306Z"
   },
   {
    "duration": 228,
    "start_time": "2021-12-15T08:02:19.316Z"
   },
   {
    "duration": 9,
    "start_time": "2021-12-15T08:02:19.546Z"
   },
   {
    "duration": 15,
    "start_time": "2021-12-15T08:02:19.557Z"
   },
   {
    "duration": 42,
    "start_time": "2021-12-15T08:02:19.574Z"
   },
   {
    "duration": 32,
    "start_time": "2021-12-15T08:02:19.618Z"
   },
   {
    "duration": 20,
    "start_time": "2021-12-15T08:02:19.652Z"
   },
   {
    "duration": 70,
    "start_time": "2021-12-15T08:02:19.675Z"
   },
   {
    "duration": 6,
    "start_time": "2021-12-15T08:02:57.965Z"
   },
   {
    "duration": 565,
    "start_time": "2021-12-15T08:02:57.973Z"
   },
   {
    "duration": 3,
    "start_time": "2021-12-15T08:02:58.540Z"
   },
   {
    "duration": 11,
    "start_time": "2021-12-15T08:02:58.545Z"
   },
   {
    "duration": 22,
    "start_time": "2021-12-15T08:02:58.557Z"
   },
   {
    "duration": 57,
    "start_time": "2021-12-15T08:02:58.581Z"
   },
   {
    "duration": 138,
    "start_time": "2021-12-15T08:02:58.639Z"
   },
   {
    "duration": 473,
    "start_time": "2021-12-15T08:02:58.779Z"
   },
   {
    "duration": 104,
    "start_time": "2021-12-15T08:02:59.263Z"
   },
   {
    "duration": 6,
    "start_time": "2021-12-15T08:02:59.370Z"
   },
   {
    "duration": 11,
    "start_time": "2021-12-15T08:02:59.378Z"
   },
   {
    "duration": 30,
    "start_time": "2021-12-15T08:02:59.391Z"
   },
   {
    "duration": 34,
    "start_time": "2021-12-15T08:02:59.423Z"
   },
   {
    "duration": 24,
    "start_time": "2021-12-15T08:02:59.459Z"
   },
   {
    "duration": 66,
    "start_time": "2021-12-15T08:02:59.486Z"
   },
   {
    "duration": 17,
    "start_time": "2021-12-15T08:02:59.555Z"
   },
   {
    "duration": 108,
    "start_time": "2021-12-15T08:02:59.574Z"
   },
   {
    "duration": 21,
    "start_time": "2021-12-15T08:02:59.684Z"
   },
   {
    "duration": 18,
    "start_time": "2021-12-15T08:02:59.707Z"
   },
   {
    "duration": 14,
    "start_time": "2021-12-15T08:02:59.727Z"
   },
   {
    "duration": 68,
    "start_time": "2021-12-15T08:02:59.742Z"
   },
   {
    "duration": 11,
    "start_time": "2021-12-15T08:02:59.812Z"
   },
   {
    "duration": 24,
    "start_time": "2021-12-15T08:02:59.825Z"
   },
   {
    "duration": 39,
    "start_time": "2021-12-15T08:02:59.851Z"
   },
   {
    "duration": 37,
    "start_time": "2021-12-15T08:02:59.891Z"
   },
   {
    "duration": 426,
    "start_time": "2021-12-15T08:02:59.930Z"
   },
   {
    "duration": 12,
    "start_time": "2021-12-15T08:03:00.360Z"
   },
   {
    "duration": 31,
    "start_time": "2021-12-15T08:03:00.375Z"
   },
   {
    "duration": 51,
    "start_time": "2021-12-15T08:03:00.408Z"
   },
   {
    "duration": 42,
    "start_time": "2021-12-15T08:03:00.461Z"
   },
   {
    "duration": 86,
    "start_time": "2021-12-15T08:03:00.505Z"
   },
   {
    "duration": 6146,
    "start_time": "2021-12-15T08:03:00.593Z"
   },
   {
    "duration": 28,
    "start_time": "2021-12-15T08:03:06.740Z"
   },
   {
    "duration": 208,
    "start_time": "2021-12-15T08:03:06.770Z"
   },
   {
    "duration": 274,
    "start_time": "2021-12-15T08:03:06.980Z"
   },
   {
    "duration": 7,
    "start_time": "2021-12-15T08:03:07.256Z"
   },
   {
    "duration": 53,
    "start_time": "2021-12-15T08:03:07.265Z"
   },
   {
    "duration": 34,
    "start_time": "2021-12-15T08:03:07.319Z"
   },
   {
    "duration": 6,
    "start_time": "2021-12-15T08:03:07.354Z"
   },
   {
    "duration": 40,
    "start_time": "2021-12-15T08:03:07.362Z"
   },
   {
    "duration": 247,
    "start_time": "2021-12-15T08:03:07.404Z"
   },
   {
    "duration": 5,
    "start_time": "2021-12-15T08:03:07.653Z"
   },
   {
    "duration": 82,
    "start_time": "2021-12-15T08:03:07.660Z"
   },
   {
    "duration": 118,
    "start_time": "2021-12-15T08:03:07.744Z"
   },
   {
    "duration": 13,
    "start_time": "2021-12-15T08:03:07.864Z"
   },
   {
    "duration": 65,
    "start_time": "2021-12-15T08:03:07.879Z"
   },
   {
    "duration": 471,
    "start_time": "2021-12-15T08:03:07.946Z"
   },
   {
    "duration": 8,
    "start_time": "2021-12-15T08:03:08.419Z"
   },
   {
    "duration": 54,
    "start_time": "2021-12-15T08:03:08.445Z"
   },
   {
    "duration": 792,
    "start_time": "2021-12-15T08:03:08.501Z"
   },
   {
    "duration": 133,
    "start_time": "2021-12-15T08:03:09.294Z"
   },
   {
    "duration": 321,
    "start_time": "2021-12-15T08:03:09.429Z"
   },
   {
    "duration": 10,
    "start_time": "2021-12-15T08:03:09.751Z"
   },
   {
    "duration": 275,
    "start_time": "2021-12-15T08:03:09.762Z"
   },
   {
    "duration": 11,
    "start_time": "2021-12-15T08:03:10.039Z"
   },
   {
    "duration": 18,
    "start_time": "2021-12-15T08:03:10.052Z"
   },
   {
    "duration": 29,
    "start_time": "2021-12-15T08:03:10.073Z"
   },
   {
    "duration": 49,
    "start_time": "2021-12-15T08:03:10.104Z"
   },
   {
    "duration": 3,
    "start_time": "2021-12-15T08:03:10.155Z"
   },
   {
    "duration": 37,
    "start_time": "2021-12-15T08:03:10.160Z"
   },
   {
    "duration": 491,
    "start_time": "2021-12-15T08:27:27.687Z"
   },
   {
    "duration": 12,
    "start_time": "2021-12-15T08:27:33.192Z"
   },
   {
    "duration": 496,
    "start_time": "2021-12-15T08:28:12.503Z"
   },
   {
    "duration": 5,
    "start_time": "2021-12-15T08:29:21.266Z"
   },
   {
    "duration": 5,
    "start_time": "2021-12-15T08:29:24.167Z"
   },
   {
    "duration": 49,
    "start_time": "2021-12-15T08:29:36.023Z"
   },
   {
    "duration": 4,
    "start_time": "2021-12-15T08:31:42.212Z"
   },
   {
    "duration": 38,
    "start_time": "2021-12-15T08:31:57.195Z"
   },
   {
    "duration": 45,
    "start_time": "2021-12-15T08:32:09.886Z"
   },
   {
    "duration": 40,
    "start_time": "2021-12-15T08:32:17.116Z"
   },
   {
    "duration": 9,
    "start_time": "2021-12-15T08:32:29.753Z"
   },
   {
    "duration": 1500,
    "start_time": "2021-12-15T09:18:11.856Z"
   },
   {
    "duration": 504,
    "start_time": "2021-12-15T09:18:13.358Z"
   },
   {
    "duration": 3,
    "start_time": "2021-12-15T09:18:13.864Z"
   },
   {
    "duration": 6,
    "start_time": "2021-12-15T09:18:13.869Z"
   },
   {
    "duration": 6,
    "start_time": "2021-12-15T09:18:13.876Z"
   },
   {
    "duration": 34,
    "start_time": "2021-12-15T09:18:13.883Z"
   },
   {
    "duration": 125,
    "start_time": "2021-12-15T09:18:13.919Z"
   },
   {
    "duration": 362,
    "start_time": "2021-12-15T09:18:14.046Z"
   },
   {
    "duration": 51,
    "start_time": "2021-12-15T09:18:14.409Z"
   },
   {
    "duration": 5,
    "start_time": "2021-12-15T09:18:14.462Z"
   },
   {
    "duration": 24,
    "start_time": "2021-12-15T09:18:14.468Z"
   },
   {
    "duration": 5,
    "start_time": "2021-12-15T09:18:14.494Z"
   },
   {
    "duration": 9,
    "start_time": "2021-12-15T09:18:14.501Z"
   },
   {
    "duration": 16,
    "start_time": "2021-12-15T09:18:14.511Z"
   },
   {
    "duration": 66,
    "start_time": "2021-12-15T09:18:14.529Z"
   },
   {
    "duration": 16,
    "start_time": "2021-12-15T09:18:14.597Z"
   },
   {
    "duration": 122,
    "start_time": "2021-12-15T09:18:14.615Z"
   },
   {
    "duration": 20,
    "start_time": "2021-12-15T09:18:14.738Z"
   },
   {
    "duration": 5,
    "start_time": "2021-12-15T09:18:14.759Z"
   },
   {
    "duration": 22,
    "start_time": "2021-12-15T09:18:14.766Z"
   },
   {
    "duration": 35,
    "start_time": "2021-12-15T09:18:14.790Z"
   },
   {
    "duration": 9,
    "start_time": "2021-12-15T09:18:14.827Z"
   },
   {
    "duration": 8,
    "start_time": "2021-12-15T09:18:14.839Z"
   },
   {
    "duration": 8,
    "start_time": "2021-12-15T09:18:14.849Z"
   },
   {
    "duration": 39,
    "start_time": "2021-12-15T09:18:14.859Z"
   },
   {
    "duration": 366,
    "start_time": "2021-12-15T09:18:14.900Z"
   },
   {
    "duration": 20,
    "start_time": "2021-12-15T09:18:15.268Z"
   },
   {
    "duration": 13,
    "start_time": "2021-12-15T09:18:15.289Z"
   },
   {
    "duration": 19,
    "start_time": "2021-12-15T09:18:15.303Z"
   },
   {
    "duration": 10,
    "start_time": "2021-12-15T09:18:15.324Z"
   },
   {
    "duration": 69,
    "start_time": "2021-12-15T09:18:15.335Z"
   },
   {
    "duration": 5556,
    "start_time": "2021-12-15T09:18:15.406Z"
   },
   {
    "duration": 37,
    "start_time": "2021-12-15T09:18:20.963Z"
   },
   {
    "duration": 185,
    "start_time": "2021-12-15T09:18:21.002Z"
   },
   {
    "duration": 323,
    "start_time": "2021-12-15T09:18:21.189Z"
   },
   {
    "duration": 7,
    "start_time": "2021-12-15T09:18:21.514Z"
   },
   {
    "duration": 41,
    "start_time": "2021-12-15T09:18:21.522Z"
   },
   {
    "duration": 28,
    "start_time": "2021-12-15T09:18:21.565Z"
   },
   {
    "duration": 4,
    "start_time": "2021-12-15T09:18:21.595Z"
   },
   {
    "duration": 24,
    "start_time": "2021-12-15T09:18:21.601Z"
   },
   {
    "duration": 240,
    "start_time": "2021-12-15T09:18:21.627Z"
   },
   {
    "duration": 4,
    "start_time": "2021-12-15T09:18:21.869Z"
   },
   {
    "duration": 55,
    "start_time": "2021-12-15T09:18:21.874Z"
   },
   {
    "duration": 111,
    "start_time": "2021-12-15T09:18:21.930Z"
   },
   {
    "duration": 12,
    "start_time": "2021-12-15T09:18:22.043Z"
   },
   {
    "duration": 54,
    "start_time": "2021-12-15T09:18:22.057Z"
   },
   {
    "duration": 428,
    "start_time": "2021-12-15T09:18:22.113Z"
   },
   {
    "duration": 7,
    "start_time": "2021-12-15T09:18:22.542Z"
   },
   {
    "duration": 59,
    "start_time": "2021-12-15T09:18:22.551Z"
   },
   {
    "duration": 39,
    "start_time": "2021-12-15T09:18:22.612Z"
   },
   {
    "duration": 669,
    "start_time": "2021-12-15T09:18:22.653Z"
   },
   {
    "duration": 475,
    "start_time": "2021-12-15T09:18:23.323Z"
   },
   {
    "duration": 367,
    "start_time": "2021-12-15T09:18:23.800Z"
   },
   {
    "duration": 8,
    "start_time": "2021-12-15T09:18:24.169Z"
   },
   {
    "duration": 212,
    "start_time": "2021-12-15T09:18:24.178Z"
   },
   {
    "duration": 9,
    "start_time": "2021-12-15T09:18:24.391Z"
   },
   {
    "duration": 11,
    "start_time": "2021-12-15T09:18:24.402Z"
   },
   {
    "duration": 28,
    "start_time": "2021-12-15T09:18:24.415Z"
   },
   {
    "duration": 17,
    "start_time": "2021-12-15T09:18:24.444Z"
   },
   {
    "duration": 4,
    "start_time": "2021-12-15T09:18:24.488Z"
   },
   {
    "duration": 26,
    "start_time": "2021-12-15T09:18:24.493Z"
   },
   {
    "duration": 2043,
    "start_time": "2021-12-15T18:25:57.037Z"
   },
   {
    "duration": 3609,
    "start_time": "2021-12-15T18:25:59.083Z"
   },
   {
    "duration": 5,
    "start_time": "2021-12-15T18:26:02.695Z"
   },
   {
    "duration": 25,
    "start_time": "2021-12-15T18:26:02.703Z"
   },
   {
    "duration": 35,
    "start_time": "2021-12-15T18:26:02.733Z"
   },
   {
    "duration": 83,
    "start_time": "2021-12-15T18:26:02.770Z"
   },
   {
    "duration": 205,
    "start_time": "2021-12-15T18:26:02.855Z"
   },
   {
    "duration": 529,
    "start_time": "2021-12-15T18:26:03.063Z"
   },
   {
    "duration": 82,
    "start_time": "2021-12-15T18:26:03.598Z"
   },
   {
    "duration": 7,
    "start_time": "2021-12-15T18:26:03.684Z"
   },
   {
    "duration": 45,
    "start_time": "2021-12-15T18:26:03.693Z"
   },
   {
    "duration": 24,
    "start_time": "2021-12-15T18:26:03.741Z"
   },
   {
    "duration": 26,
    "start_time": "2021-12-15T18:26:03.767Z"
   },
   {
    "duration": 50,
    "start_time": "2021-12-15T18:26:03.796Z"
   },
   {
    "duration": 59,
    "start_time": "2021-12-15T18:26:03.849Z"
   },
   {
    "duration": 19,
    "start_time": "2021-12-15T18:26:03.911Z"
   },
   {
    "duration": 158,
    "start_time": "2021-12-15T18:26:03.933Z"
   },
   {
    "duration": 29,
    "start_time": "2021-12-15T18:26:04.094Z"
   },
   {
    "duration": 19,
    "start_time": "2021-12-15T18:26:04.126Z"
   },
   {
    "duration": 21,
    "start_time": "2021-12-15T18:26:04.148Z"
   },
   {
    "duration": 63,
    "start_time": "2021-12-15T18:26:04.172Z"
   },
   {
    "duration": 14,
    "start_time": "2021-12-15T18:26:04.238Z"
   },
   {
    "duration": 38,
    "start_time": "2021-12-15T18:26:04.254Z"
   },
   {
    "duration": 35,
    "start_time": "2021-12-15T18:26:04.295Z"
   },
   {
    "duration": 119,
    "start_time": "2021-12-15T18:26:04.333Z"
   },
   {
    "duration": 843,
    "start_time": "2021-12-15T18:26:04.456Z"
   },
   {
    "duration": 39,
    "start_time": "2021-12-15T18:26:05.308Z"
   },
   {
    "duration": 25,
    "start_time": "2021-12-15T18:26:05.350Z"
   },
   {
    "duration": 29,
    "start_time": "2021-12-15T18:26:05.377Z"
   },
   {
    "duration": 24,
    "start_time": "2021-12-15T18:26:05.408Z"
   },
   {
    "duration": 71,
    "start_time": "2021-12-15T18:26:05.435Z"
   },
   {
    "duration": 9666,
    "start_time": "2021-12-15T18:26:05.528Z"
   },
   {
    "duration": 56,
    "start_time": "2021-12-15T18:26:15.196Z"
   },
   {
    "duration": 236,
    "start_time": "2021-12-15T18:26:15.255Z"
   },
   {
    "duration": 551,
    "start_time": "2021-12-15T18:26:15.494Z"
   },
   {
    "duration": 12,
    "start_time": "2021-12-15T18:26:16.047Z"
   },
   {
    "duration": 71,
    "start_time": "2021-12-15T18:26:16.061Z"
   },
   {
    "duration": 39,
    "start_time": "2021-12-15T18:26:16.135Z"
   },
   {
    "duration": 8,
    "start_time": "2021-12-15T18:26:16.177Z"
   },
   {
    "duration": 53,
    "start_time": "2021-12-15T18:26:16.188Z"
   },
   {
    "duration": 432,
    "start_time": "2021-12-15T18:26:16.244Z"
   },
   {
    "duration": 8,
    "start_time": "2021-12-15T18:26:16.679Z"
   },
   {
    "duration": 88,
    "start_time": "2021-12-15T18:26:16.690Z"
   },
   {
    "duration": 160,
    "start_time": "2021-12-15T18:26:16.781Z"
   },
   {
    "duration": 19,
    "start_time": "2021-12-15T18:26:16.943Z"
   },
   {
    "duration": 94,
    "start_time": "2021-12-15T18:26:16.965Z"
   },
   {
    "duration": 777,
    "start_time": "2021-12-15T18:26:17.062Z"
   },
   {
    "duration": 12,
    "start_time": "2021-12-15T18:26:17.842Z"
   },
   {
    "duration": 7,
    "start_time": "2021-12-15T18:26:17.856Z"
   },
   {
    "duration": 11,
    "start_time": "2021-12-15T18:26:17.866Z"
   },
   {
    "duration": 3,
    "start_time": "2021-12-15T18:26:17.879Z"
   },
   {
    "duration": 44,
    "start_time": "2021-12-15T18:26:17.884Z"
   },
   {
    "duration": 1115,
    "start_time": "2021-12-15T18:26:17.930Z"
   },
   {
    "duration": 775,
    "start_time": "2021-12-15T18:26:19.048Z"
   },
   {
    "duration": 524,
    "start_time": "2021-12-15T18:26:19.825Z"
   },
   {
    "duration": 14,
    "start_time": "2021-12-15T18:26:20.352Z"
   },
   {
    "duration": 309,
    "start_time": "2021-12-15T18:26:20.369Z"
   },
   {
    "duration": 14,
    "start_time": "2021-12-15T18:26:20.680Z"
   },
   {
    "duration": 39,
    "start_time": "2021-12-15T18:26:20.696Z"
   },
   {
    "duration": 46,
    "start_time": "2021-12-15T18:26:20.738Z"
   },
   {
    "duration": 51,
    "start_time": "2021-12-15T18:26:20.786Z"
   },
   {
    "duration": 6,
    "start_time": "2021-12-15T18:26:20.840Z"
   },
   {
    "duration": 39,
    "start_time": "2021-12-15T18:26:20.849Z"
   },
   {
    "duration": 425,
    "start_time": "2021-12-15T18:27:28.349Z"
   },
   {
    "duration": 18,
    "start_time": "2021-12-15T18:29:32.487Z"
   },
   {
    "duration": 119,
    "start_time": "2021-12-15T18:37:01.547Z"
   },
   {
    "duration": 82,
    "start_time": "2021-12-16T01:08:52.229Z"
   },
   {
    "duration": 1464,
    "start_time": "2021-12-16T01:24:46.093Z"
   },
   {
    "duration": 523,
    "start_time": "2021-12-16T01:24:47.559Z"
   },
   {
    "duration": 3,
    "start_time": "2021-12-16T01:24:48.084Z"
   },
   {
    "duration": 7,
    "start_time": "2021-12-16T01:24:48.088Z"
   },
   {
    "duration": 5,
    "start_time": "2021-12-16T01:24:48.097Z"
   },
   {
    "duration": 43,
    "start_time": "2021-12-16T01:24:48.103Z"
   },
   {
    "duration": 125,
    "start_time": "2021-12-16T01:24:48.147Z"
   },
   {
    "duration": 395,
    "start_time": "2021-12-16T01:24:48.274Z"
   },
   {
    "duration": 45,
    "start_time": "2021-12-16T01:24:48.671Z"
   },
   {
    "duration": 5,
    "start_time": "2021-12-16T01:24:48.717Z"
   },
   {
    "duration": 26,
    "start_time": "2021-12-16T01:24:48.723Z"
   },
   {
    "duration": 7,
    "start_time": "2021-12-16T01:24:48.751Z"
   },
   {
    "duration": 8,
    "start_time": "2021-12-16T01:24:48.760Z"
   },
   {
    "duration": 14,
    "start_time": "2021-12-16T01:24:48.770Z"
   },
   {
    "duration": 61,
    "start_time": "2021-12-16T01:24:48.785Z"
   },
   {
    "duration": 12,
    "start_time": "2021-12-16T01:24:48.848Z"
   },
   {
    "duration": 110,
    "start_time": "2021-12-16T01:24:48.862Z"
   },
   {
    "duration": 21,
    "start_time": "2021-12-16T01:24:48.974Z"
   },
   {
    "duration": 6,
    "start_time": "2021-12-16T01:24:48.997Z"
   },
   {
    "duration": 5,
    "start_time": "2021-12-16T01:24:49.005Z"
   },
   {
    "duration": 64,
    "start_time": "2021-12-16T01:24:49.011Z"
   },
   {
    "duration": 9,
    "start_time": "2021-12-16T01:24:49.077Z"
   },
   {
    "duration": 15,
    "start_time": "2021-12-16T01:24:49.090Z"
   },
   {
    "duration": 11,
    "start_time": "2021-12-16T01:24:49.108Z"
   },
   {
    "duration": 29,
    "start_time": "2021-12-16T01:24:49.121Z"
   },
   {
    "duration": 377,
    "start_time": "2021-12-16T01:24:49.151Z"
   },
   {
    "duration": 20,
    "start_time": "2021-12-16T01:24:49.530Z"
   },
   {
    "duration": 14,
    "start_time": "2021-12-16T01:24:49.551Z"
   },
   {
    "duration": 19,
    "start_time": "2021-12-16T01:24:49.567Z"
   },
   {
    "duration": 7,
    "start_time": "2021-12-16T01:24:49.588Z"
   },
   {
    "duration": 78,
    "start_time": "2021-12-16T01:24:49.597Z"
   },
   {
    "duration": 5662,
    "start_time": "2021-12-16T01:24:49.676Z"
   },
   {
    "duration": 29,
    "start_time": "2021-12-16T01:24:55.340Z"
   },
   {
    "duration": 192,
    "start_time": "2021-12-16T01:24:55.371Z"
   },
   {
    "duration": 341,
    "start_time": "2021-12-16T01:24:55.565Z"
   },
   {
    "duration": 8,
    "start_time": "2021-12-16T01:24:55.907Z"
   },
   {
    "duration": 54,
    "start_time": "2021-12-16T01:24:55.917Z"
   },
   {
    "duration": 38,
    "start_time": "2021-12-16T01:24:55.973Z"
   },
   {
    "duration": 14,
    "start_time": "2021-12-16T01:24:56.012Z"
   },
   {
    "duration": 51,
    "start_time": "2021-12-16T01:24:56.028Z"
   },
   {
    "duration": 225,
    "start_time": "2021-12-16T01:24:56.080Z"
   },
   {
    "duration": 4,
    "start_time": "2021-12-16T01:24:56.306Z"
   },
   {
    "duration": 55,
    "start_time": "2021-12-16T01:24:56.312Z"
   },
   {
    "duration": 118,
    "start_time": "2021-12-16T01:24:56.369Z"
   },
   {
    "duration": 12,
    "start_time": "2021-12-16T01:24:56.488Z"
   },
   {
    "duration": 54,
    "start_time": "2021-12-16T01:24:56.501Z"
   },
   {
    "duration": 435,
    "start_time": "2021-12-16T01:24:56.556Z"
   },
   {
    "duration": 11,
    "start_time": "2021-12-16T01:24:56.992Z"
   },
   {
    "duration": 4,
    "start_time": "2021-12-16T01:24:57.005Z"
   },
   {
    "duration": 7,
    "start_time": "2021-12-16T01:24:57.011Z"
   },
   {
    "duration": 2,
    "start_time": "2021-12-16T01:24:57.020Z"
   },
   {
    "duration": 25,
    "start_time": "2021-12-16T01:24:57.023Z"
   },
   {
    "duration": 255,
    "start_time": "2021-12-16T01:24:57.049Z"
   },
   {
    "duration": 497,
    "start_time": "2021-12-16T01:24:57.306Z"
   },
   {
    "duration": 396,
    "start_time": "2021-12-16T01:24:57.804Z"
   },
   {
    "duration": 9,
    "start_time": "2021-12-16T01:24:58.202Z"
   },
   {
    "duration": 214,
    "start_time": "2021-12-16T01:24:58.212Z"
   },
   {
    "duration": 18,
    "start_time": "2021-12-16T01:24:58.427Z"
   },
   {
    "duration": 12,
    "start_time": "2021-12-16T01:24:58.446Z"
   },
   {
    "duration": 26,
    "start_time": "2021-12-16T01:24:58.460Z"
   },
   {
    "duration": 17,
    "start_time": "2021-12-16T01:24:58.488Z"
   },
   {
    "duration": 4,
    "start_time": "2021-12-16T01:24:58.506Z"
   },
   {
    "duration": 49,
    "start_time": "2021-12-16T01:24:58.512Z"
   },
   {
    "duration": 34,
    "start_time": "2021-12-16T01:25:50.070Z"
   },
   {
    "duration": 1509,
    "start_time": "2021-12-16T01:26:29.084Z"
   },
   {
    "duration": 549,
    "start_time": "2021-12-16T01:26:30.594Z"
   },
   {
    "duration": 3,
    "start_time": "2021-12-16T01:26:31.147Z"
   },
   {
    "duration": 18,
    "start_time": "2021-12-16T01:26:31.151Z"
   },
   {
    "duration": 9,
    "start_time": "2021-12-16T01:26:31.171Z"
   },
   {
    "duration": 66,
    "start_time": "2021-12-16T01:26:31.182Z"
   },
   {
    "duration": 135,
    "start_time": "2021-12-16T01:26:31.251Z"
   },
   {
    "duration": 403,
    "start_time": "2021-12-16T01:26:31.388Z"
   },
   {
    "duration": 57,
    "start_time": "2021-12-16T01:26:31.793Z"
   },
   {
    "duration": 4,
    "start_time": "2021-12-16T01:26:31.852Z"
   },
   {
    "duration": 10,
    "start_time": "2021-12-16T01:26:31.858Z"
   },
   {
    "duration": 10,
    "start_time": "2021-12-16T01:26:31.870Z"
   },
   {
    "duration": 23,
    "start_time": "2021-12-16T01:26:31.881Z"
   },
   {
    "duration": 26,
    "start_time": "2021-12-16T01:26:31.906Z"
   },
   {
    "duration": 57,
    "start_time": "2021-12-16T01:26:31.934Z"
   },
   {
    "duration": 12,
    "start_time": "2021-12-16T01:26:31.994Z"
   },
   {
    "duration": 116,
    "start_time": "2021-12-16T01:26:32.008Z"
   },
   {
    "duration": 31,
    "start_time": "2021-12-16T01:26:32.126Z"
   },
   {
    "duration": 5,
    "start_time": "2021-12-16T01:26:32.159Z"
   },
   {
    "duration": 11,
    "start_time": "2021-12-16T01:26:32.166Z"
   },
   {
    "duration": 56,
    "start_time": "2021-12-16T01:26:32.178Z"
   },
   {
    "duration": 9,
    "start_time": "2021-12-16T01:26:32.238Z"
   },
   {
    "duration": 23,
    "start_time": "2021-12-16T01:26:32.249Z"
   },
   {
    "duration": 11,
    "start_time": "2021-12-16T01:26:32.273Z"
   },
   {
    "duration": 20,
    "start_time": "2021-12-16T01:26:32.285Z"
   },
   {
    "duration": 382,
    "start_time": "2021-12-16T01:26:32.306Z"
   },
   {
    "duration": 16,
    "start_time": "2021-12-16T01:26:32.690Z"
   },
   {
    "duration": 15,
    "start_time": "2021-12-16T01:26:32.707Z"
   },
   {
    "duration": 39,
    "start_time": "2021-12-16T01:26:32.723Z"
   },
   {
    "duration": 8,
    "start_time": "2021-12-16T01:26:32.764Z"
   },
   {
    "duration": 53,
    "start_time": "2021-12-16T01:26:32.773Z"
   },
   {
    "duration": 5847,
    "start_time": "2021-12-16T01:26:32.845Z"
   },
   {
    "duration": 29,
    "start_time": "2021-12-16T01:26:38.694Z"
   },
   {
    "duration": 197,
    "start_time": "2021-12-16T01:26:38.725Z"
   },
   {
    "duration": 338,
    "start_time": "2021-12-16T01:26:38.924Z"
   },
   {
    "duration": 8,
    "start_time": "2021-12-16T01:26:39.264Z"
   },
   {
    "duration": 32,
    "start_time": "2021-12-16T01:26:39.274Z"
   },
   {
    "duration": 48,
    "start_time": "2021-12-16T01:26:39.308Z"
   },
   {
    "duration": 6,
    "start_time": "2021-12-16T01:26:39.357Z"
   },
   {
    "duration": 16,
    "start_time": "2021-12-16T01:26:39.364Z"
   },
   {
    "duration": 252,
    "start_time": "2021-12-16T01:26:39.382Z"
   },
   {
    "duration": 9,
    "start_time": "2021-12-16T01:26:39.635Z"
   },
   {
    "duration": 41,
    "start_time": "2021-12-16T01:26:39.646Z"
   },
   {
    "duration": 131,
    "start_time": "2021-12-16T01:26:39.689Z"
   },
   {
    "duration": 11,
    "start_time": "2021-12-16T01:26:39.822Z"
   },
   {
    "duration": 43,
    "start_time": "2021-12-16T01:26:39.845Z"
   },
   {
    "duration": 477,
    "start_time": "2021-12-16T01:26:39.889Z"
   },
   {
    "duration": 11,
    "start_time": "2021-12-16T01:26:40.368Z"
   },
   {
    "duration": 4,
    "start_time": "2021-12-16T01:26:40.380Z"
   },
   {
    "duration": 9,
    "start_time": "2021-12-16T01:26:40.386Z"
   },
   {
    "duration": 2,
    "start_time": "2021-12-16T01:26:40.396Z"
   },
   {
    "duration": 7,
    "start_time": "2021-12-16T01:26:40.399Z"
   },
   {
    "duration": 264,
    "start_time": "2021-12-16T01:26:40.407Z"
   },
   {
    "duration": 497,
    "start_time": "2021-12-16T01:26:40.672Z"
   },
   {
    "duration": 29,
    "start_time": "2021-12-16T01:26:41.170Z"
   },
   {
    "duration": 50,
    "start_time": "2021-12-16T01:26:41.201Z"
   },
   {
    "duration": 283,
    "start_time": "2021-12-16T01:26:41.252Z"
   },
   {
    "duration": 14,
    "start_time": "2021-12-16T01:26:41.536Z"
   },
   {
    "duration": 11,
    "start_time": "2021-12-16T01:26:41.551Z"
   },
   {
    "duration": 27,
    "start_time": "2021-12-16T01:26:41.563Z"
   },
   {
    "duration": 18,
    "start_time": "2021-12-16T01:26:41.592Z"
   },
   {
    "duration": 32,
    "start_time": "2021-12-16T01:26:41.612Z"
   },
   {
    "duration": 18,
    "start_time": "2021-12-16T01:26:41.646Z"
   },
   {
    "duration": 102,
    "start_time": "2021-12-16T01:28:27.133Z"
   },
   {
    "duration": 1704,
    "start_time": "2021-12-17T15:31:12.356Z"
   },
   {
    "duration": 553,
    "start_time": "2021-12-17T15:31:14.062Z"
   },
   {
    "duration": 3,
    "start_time": "2021-12-17T15:31:14.617Z"
   },
   {
    "duration": 9,
    "start_time": "2021-12-17T15:31:14.622Z"
   },
   {
    "duration": 6,
    "start_time": "2021-12-17T15:31:14.633Z"
   },
   {
    "duration": 43,
    "start_time": "2021-12-17T15:31:14.640Z"
   },
   {
    "duration": 141,
    "start_time": "2021-12-17T15:31:14.691Z"
   },
   {
    "duration": 428,
    "start_time": "2021-12-17T15:31:14.834Z"
   },
   {
    "duration": 57,
    "start_time": "2021-12-17T15:31:15.265Z"
   },
   {
    "duration": 5,
    "start_time": "2021-12-17T15:31:15.324Z"
   },
   {
    "duration": 9,
    "start_time": "2021-12-17T15:31:15.330Z"
   },
   {
    "duration": 6,
    "start_time": "2021-12-17T15:31:15.341Z"
   },
   {
    "duration": 7,
    "start_time": "2021-12-17T15:31:15.349Z"
   },
   {
    "duration": 37,
    "start_time": "2021-12-17T15:31:15.357Z"
   },
   {
    "duration": 37,
    "start_time": "2021-12-17T15:31:15.396Z"
   },
   {
    "duration": 13,
    "start_time": "2021-12-17T15:31:15.435Z"
   },
   {
    "duration": 121,
    "start_time": "2021-12-17T15:31:15.450Z"
   },
   {
    "duration": 31,
    "start_time": "2021-12-17T15:31:15.573Z"
   },
   {
    "duration": 6,
    "start_time": "2021-12-17T15:31:15.606Z"
   },
   {
    "duration": 5,
    "start_time": "2021-12-17T15:31:15.614Z"
   },
   {
    "duration": 40,
    "start_time": "2021-12-17T15:31:15.621Z"
   },
   {
    "duration": 36,
    "start_time": "2021-12-17T15:31:15.663Z"
   },
   {
    "duration": 11,
    "start_time": "2021-12-17T15:31:15.701Z"
   },
   {
    "duration": 9,
    "start_time": "2021-12-17T15:31:15.713Z"
   },
   {
    "duration": 15,
    "start_time": "2021-12-17T15:31:15.724Z"
   },
   {
    "duration": 427,
    "start_time": "2021-12-17T15:31:15.741Z"
   },
   {
    "duration": 26,
    "start_time": "2021-12-17T15:31:16.172Z"
   },
   {
    "duration": 14,
    "start_time": "2021-12-17T15:31:16.201Z"
   },
   {
    "duration": 27,
    "start_time": "2021-12-17T15:31:16.216Z"
   },
   {
    "duration": 8,
    "start_time": "2021-12-17T15:31:16.244Z"
   },
   {
    "duration": 83,
    "start_time": "2021-12-17T15:31:16.253Z"
   },
   {
    "duration": 6082,
    "start_time": "2021-12-17T15:31:16.338Z"
   },
   {
    "duration": 33,
    "start_time": "2021-12-17T15:31:22.422Z"
   },
   {
    "duration": 202,
    "start_time": "2021-12-17T15:31:22.457Z"
   },
   {
    "duration": 368,
    "start_time": "2021-12-17T15:31:22.661Z"
   },
   {
    "duration": 8,
    "start_time": "2021-12-17T15:31:23.031Z"
   },
   {
    "duration": 28,
    "start_time": "2021-12-17T15:31:23.040Z"
   },
   {
    "duration": 27,
    "start_time": "2021-12-17T15:31:23.092Z"
   },
   {
    "duration": 6,
    "start_time": "2021-12-17T15:31:23.120Z"
   },
   {
    "duration": 18,
    "start_time": "2021-12-17T15:31:23.128Z"
   },
   {
    "duration": 285,
    "start_time": "2021-12-17T15:31:23.147Z"
   },
   {
    "duration": 4,
    "start_time": "2021-12-17T15:31:23.434Z"
   },
   {
    "duration": 62,
    "start_time": "2021-12-17T15:31:23.440Z"
   },
   {
    "duration": 125,
    "start_time": "2021-12-17T15:31:23.504Z"
   },
   {
    "duration": 12,
    "start_time": "2021-12-17T15:31:23.631Z"
   },
   {
    "duration": 60,
    "start_time": "2021-12-17T15:31:23.645Z"
   },
   {
    "duration": 509,
    "start_time": "2021-12-17T15:31:23.707Z"
   },
   {
    "duration": 12,
    "start_time": "2021-12-17T15:31:24.217Z"
   },
   {
    "duration": 7,
    "start_time": "2021-12-17T15:31:24.231Z"
   },
   {
    "duration": 21,
    "start_time": "2021-12-17T15:31:24.240Z"
   },
   {
    "duration": 7,
    "start_time": "2021-12-17T15:31:24.263Z"
   },
   {
    "duration": 25,
    "start_time": "2021-12-17T15:31:24.271Z"
   },
   {
    "duration": 300,
    "start_time": "2021-12-17T15:31:24.298Z"
   },
   {
    "duration": 545,
    "start_time": "2021-12-17T15:31:24.600Z"
   },
   {
    "duration": 73,
    "start_time": "2021-12-17T15:31:25.147Z"
   },
   {
    "duration": 13,
    "start_time": "2021-12-17T15:31:25.222Z"
   },
   {
    "duration": 333,
    "start_time": "2021-12-17T15:31:25.237Z"
   },
   {
    "duration": 20,
    "start_time": "2021-12-17T15:31:25.572Z"
   },
   {
    "duration": 11,
    "start_time": "2021-12-17T15:31:25.594Z"
   },
   {
    "duration": 28,
    "start_time": "2021-12-17T15:31:25.607Z"
   },
   {
    "duration": 17,
    "start_time": "2021-12-17T15:31:25.637Z"
   },
   {
    "duration": 17,
    "start_time": "2021-12-17T15:31:25.655Z"
   },
   {
    "duration": 36,
    "start_time": "2021-12-17T15:31:25.674Z"
   },
   {
    "duration": 12,
    "start_time": "2021-12-17T15:34:18.441Z"
   },
   {
    "duration": 17,
    "start_time": "2021-12-17T15:38:36.231Z"
   },
   {
    "duration": 4470,
    "start_time": "2021-12-17T15:39:11.379Z"
   },
   {
    "duration": 207,
    "start_time": "2021-12-17T15:39:31.776Z"
   },
   {
    "duration": 41,
    "start_time": "2021-12-17T15:39:48.515Z"
   },
   {
    "duration": 45,
    "start_time": "2021-12-17T15:44:04.714Z"
   },
   {
    "duration": 4301,
    "start_time": "2021-12-17T15:47:05.650Z"
   },
   {
    "duration": 136,
    "start_time": "2021-12-17T15:47:34.937Z"
   },
   {
    "duration": 28,
    "start_time": "2021-12-17T15:48:41.133Z"
   },
   {
    "duration": 1725,
    "start_time": "2021-12-17T18:02:17.485Z"
   },
   {
    "duration": 725,
    "start_time": "2021-12-17T18:02:19.211Z"
   },
   {
    "duration": 4,
    "start_time": "2021-12-17T18:02:19.938Z"
   },
   {
    "duration": 13,
    "start_time": "2021-12-17T18:02:19.944Z"
   },
   {
    "duration": 14,
    "start_time": "2021-12-17T18:02:19.959Z"
   },
   {
    "duration": 60,
    "start_time": "2021-12-17T18:02:19.975Z"
   },
   {
    "duration": 195,
    "start_time": "2021-12-17T18:02:20.037Z"
   },
   {
    "duration": 481,
    "start_time": "2021-12-17T18:02:20.235Z"
   },
   {
    "duration": 49,
    "start_time": "2021-12-17T18:02:20.718Z"
   },
   {
    "duration": 5,
    "start_time": "2021-12-17T18:02:20.792Z"
   },
   {
    "duration": 9,
    "start_time": "2021-12-17T18:02:20.799Z"
   },
   {
    "duration": 34,
    "start_time": "2021-12-17T18:02:20.809Z"
   },
   {
    "duration": 12,
    "start_time": "2021-12-17T18:02:20.845Z"
   },
   {
    "duration": 16,
    "start_time": "2021-12-17T18:02:20.859Z"
   },
   {
    "duration": 39,
    "start_time": "2021-12-17T18:02:20.877Z"
   },
   {
    "duration": 12,
    "start_time": "2021-12-17T18:02:20.918Z"
   },
   {
    "duration": 126,
    "start_time": "2021-12-17T18:02:20.932Z"
   },
   {
    "duration": 41,
    "start_time": "2021-12-17T18:02:21.060Z"
   },
   {
    "duration": 6,
    "start_time": "2021-12-17T18:02:21.102Z"
   },
   {
    "duration": 6,
    "start_time": "2021-12-17T18:02:21.110Z"
   },
   {
    "duration": 40,
    "start_time": "2021-12-17T18:02:21.118Z"
   },
   {
    "duration": 35,
    "start_time": "2021-12-17T18:02:21.160Z"
   },
   {
    "duration": 11,
    "start_time": "2021-12-17T18:02:21.200Z"
   },
   {
    "duration": 8,
    "start_time": "2021-12-17T18:02:21.213Z"
   },
   {
    "duration": 18,
    "start_time": "2021-12-17T18:02:21.223Z"
   },
   {
    "duration": 495,
    "start_time": "2021-12-17T18:02:21.243Z"
   },
   {
    "duration": 16,
    "start_time": "2021-12-17T18:02:21.750Z"
   },
   {
    "duration": 32,
    "start_time": "2021-12-17T18:02:21.768Z"
   },
   {
    "duration": 30,
    "start_time": "2021-12-17T18:02:21.802Z"
   },
   {
    "duration": 7,
    "start_time": "2021-12-17T18:02:21.834Z"
   },
   {
    "duration": 119,
    "start_time": "2021-12-17T18:02:21.844Z"
   },
   {
    "duration": 6134,
    "start_time": "2021-12-17T18:02:21.965Z"
   },
   {
    "duration": 32,
    "start_time": "2021-12-17T18:02:28.101Z"
   },
   {
    "duration": 218,
    "start_time": "2021-12-17T18:02:28.135Z"
   },
   {
    "duration": 374,
    "start_time": "2021-12-17T18:02:28.355Z"
   },
   {
    "duration": 9,
    "start_time": "2021-12-17T18:02:28.732Z"
   },
   {
    "duration": 49,
    "start_time": "2021-12-17T18:02:28.743Z"
   },
   {
    "duration": 27,
    "start_time": "2021-12-17T18:02:28.795Z"
   },
   {
    "duration": 6,
    "start_time": "2021-12-17T18:02:28.825Z"
   },
   {
    "duration": 21,
    "start_time": "2021-12-17T18:02:28.833Z"
   },
   {
    "duration": 278,
    "start_time": "2021-12-17T18:02:28.856Z"
   },
   {
    "duration": 5,
    "start_time": "2021-12-17T18:02:29.136Z"
   },
   {
    "duration": 57,
    "start_time": "2021-12-17T18:02:29.143Z"
   },
   {
    "duration": 115,
    "start_time": "2021-12-17T18:02:29.202Z"
   },
   {
    "duration": 12,
    "start_time": "2021-12-17T18:02:29.319Z"
   },
   {
    "duration": 63,
    "start_time": "2021-12-17T18:02:29.333Z"
   },
   {
    "duration": 481,
    "start_time": "2021-12-17T18:02:29.398Z"
   },
   {
    "duration": 16,
    "start_time": "2021-12-17T18:02:29.880Z"
   },
   {
    "duration": 8,
    "start_time": "2021-12-17T18:02:29.898Z"
   },
   {
    "duration": 9,
    "start_time": "2021-12-17T18:02:29.908Z"
   },
   {
    "duration": 3,
    "start_time": "2021-12-17T18:02:29.919Z"
   },
   {
    "duration": 7,
    "start_time": "2021-12-17T18:02:29.923Z"
   },
   {
    "duration": 303,
    "start_time": "2021-12-17T18:02:29.932Z"
   },
   {
    "duration": 539,
    "start_time": "2021-12-17T18:02:30.237Z"
   },
   {
    "duration": 39,
    "start_time": "2021-12-17T18:02:30.777Z"
   },
   {
    "duration": 9,
    "start_time": "2021-12-17T18:02:30.818Z"
   },
   {
    "duration": 90,
    "start_time": "2021-12-17T18:02:30.829Z"
   },
   {
    "duration": 334,
    "start_time": "2021-12-17T18:02:30.921Z"
   },
   {
    "duration": 125,
    "start_time": "2021-12-17T18:02:31.257Z"
   },
   {
    "duration": 14,
    "start_time": "2021-12-17T18:02:31.384Z"
   },
   {
    "duration": 16,
    "start_time": "2021-12-17T18:02:31.400Z"
   },
   {
    "duration": 32,
    "start_time": "2021-12-17T18:02:31.418Z"
   },
   {
    "duration": 45,
    "start_time": "2021-12-17T18:02:31.452Z"
   },
   {
    "duration": 4,
    "start_time": "2021-12-17T18:02:31.499Z"
   },
   {
    "duration": 40,
    "start_time": "2021-12-17T18:02:31.505Z"
   },
   {
    "duration": 348,
    "start_time": "2021-12-17T18:03:32.284Z"
   },
   {
    "duration": 115,
    "start_time": "2021-12-17T18:03:47.310Z"
   },
   {
    "duration": 27,
    "start_time": "2021-12-17T18:05:24.396Z"
   },
   {
    "duration": 4363,
    "start_time": "2021-12-17T18:06:20.408Z"
   },
   {
    "duration": 111,
    "start_time": "2021-12-17T18:06:54.673Z"
   },
   {
    "duration": 303,
    "start_time": "2021-12-17T18:08:05.883Z"
   },
   {
    "duration": 130,
    "start_time": "2021-12-17T18:08:44.858Z"
   },
   {
    "duration": 9,
    "start_time": "2021-12-17T18:09:14.879Z"
   },
   {
    "duration": 1503,
    "start_time": "2021-12-17T18:10:52.873Z"
   },
   {
    "duration": 577,
    "start_time": "2021-12-17T18:10:54.378Z"
   },
   {
    "duration": 3,
    "start_time": "2021-12-17T18:10:54.957Z"
   },
   {
    "duration": 6,
    "start_time": "2021-12-17T18:10:54.962Z"
   },
   {
    "duration": 5,
    "start_time": "2021-12-17T18:10:54.970Z"
   },
   {
    "duration": 44,
    "start_time": "2021-12-17T18:10:54.976Z"
   },
   {
    "duration": 137,
    "start_time": "2021-12-17T18:10:55.021Z"
   },
   {
    "duration": 423,
    "start_time": "2021-12-17T18:10:55.159Z"
   },
   {
    "duration": 47,
    "start_time": "2021-12-17T18:10:55.592Z"
   },
   {
    "duration": 4,
    "start_time": "2021-12-17T18:10:55.641Z"
   },
   {
    "duration": 8,
    "start_time": "2021-12-17T18:10:55.647Z"
   },
   {
    "duration": 7,
    "start_time": "2021-12-17T18:10:55.656Z"
   },
   {
    "duration": 34,
    "start_time": "2021-12-17T18:10:55.664Z"
   },
   {
    "duration": 14,
    "start_time": "2021-12-17T18:10:55.700Z"
   },
   {
    "duration": 37,
    "start_time": "2021-12-17T18:10:55.716Z"
   },
   {
    "duration": 13,
    "start_time": "2021-12-17T18:10:55.755Z"
   },
   {
    "duration": 131,
    "start_time": "2021-12-17T18:10:55.770Z"
   },
   {
    "duration": 24,
    "start_time": "2021-12-17T18:10:55.903Z"
   },
   {
    "duration": 7,
    "start_time": "2021-12-17T18:10:55.929Z"
   },
   {
    "duration": 5,
    "start_time": "2021-12-17T18:10:55.938Z"
   },
   {
    "duration": 64,
    "start_time": "2021-12-17T18:10:55.944Z"
   },
   {
    "duration": 9,
    "start_time": "2021-12-17T18:10:56.010Z"
   },
   {
    "duration": 11,
    "start_time": "2021-12-17T18:10:56.021Z"
   },
   {
    "duration": 9,
    "start_time": "2021-12-17T18:10:56.033Z"
   },
   {
    "duration": 18,
    "start_time": "2021-12-17T18:10:56.044Z"
   },
   {
    "duration": 449,
    "start_time": "2021-12-17T18:10:56.064Z"
   },
   {
    "duration": 13,
    "start_time": "2021-12-17T18:10:56.519Z"
   },
   {
    "duration": 15,
    "start_time": "2021-12-17T18:10:56.535Z"
   },
   {
    "duration": 51,
    "start_time": "2021-12-17T18:10:56.552Z"
   },
   {
    "duration": 8,
    "start_time": "2021-12-17T18:10:56.604Z"
   },
   {
    "duration": 80,
    "start_time": "2021-12-17T18:10:56.614Z"
   },
   {
    "duration": 5939,
    "start_time": "2021-12-17T18:10:56.696Z"
   },
   {
    "duration": 35,
    "start_time": "2021-12-17T18:11:02.637Z"
   },
   {
    "duration": 216,
    "start_time": "2021-12-17T18:11:02.674Z"
   },
   {
    "duration": 386,
    "start_time": "2021-12-17T18:11:02.892Z"
   },
   {
    "duration": 16,
    "start_time": "2021-12-17T18:11:03.280Z"
   },
   {
    "duration": 30,
    "start_time": "2021-12-17T18:11:03.298Z"
   },
   {
    "duration": 27,
    "start_time": "2021-12-17T18:11:03.330Z"
   },
   {
    "duration": 5,
    "start_time": "2021-12-17T18:11:03.359Z"
   },
   {
    "duration": 43,
    "start_time": "2021-12-17T18:11:03.366Z"
   },
   {
    "duration": 261,
    "start_time": "2021-12-17T18:11:03.411Z"
   },
   {
    "duration": 5,
    "start_time": "2021-12-17T18:11:03.673Z"
   },
   {
    "duration": 52,
    "start_time": "2021-12-17T18:11:03.679Z"
   },
   {
    "duration": 127,
    "start_time": "2021-12-17T18:11:03.732Z"
   },
   {
    "duration": 13,
    "start_time": "2021-12-17T18:11:03.861Z"
   },
   {
    "duration": 48,
    "start_time": "2021-12-17T18:11:03.875Z"
   },
   {
    "duration": 499,
    "start_time": "2021-12-17T18:11:03.925Z"
   },
   {
    "duration": 11,
    "start_time": "2021-12-17T18:11:04.426Z"
   },
   {
    "duration": 5,
    "start_time": "2021-12-17T18:11:04.438Z"
   },
   {
    "duration": 8,
    "start_time": "2021-12-17T18:11:04.445Z"
   },
   {
    "duration": 2,
    "start_time": "2021-12-17T18:11:04.454Z"
   },
   {
    "duration": 7,
    "start_time": "2021-12-17T18:11:04.458Z"
   },
   {
    "duration": 287,
    "start_time": "2021-12-17T18:11:04.467Z"
   },
   {
    "duration": 515,
    "start_time": "2021-12-17T18:11:04.756Z"
   },
   {
    "duration": 44,
    "start_time": "2021-12-17T18:11:05.273Z"
   },
   {
    "duration": 9,
    "start_time": "2021-12-17T18:11:05.319Z"
   },
   {
    "duration": 81,
    "start_time": "2021-12-17T18:11:05.330Z"
   },
   {
    "duration": 307,
    "start_time": "2021-12-17T18:11:05.412Z"
   },
   {
    "duration": 25,
    "start_time": "2021-12-17T18:11:05.721Z"
   },
   {
    "duration": 145,
    "start_time": "2021-12-17T18:11:05.747Z"
   },
   {
    "duration": 9,
    "start_time": "2021-12-17T18:11:05.893Z"
   },
   {
    "duration": 14,
    "start_time": "2021-12-17T18:11:05.903Z"
   },
   {
    "duration": 29,
    "start_time": "2021-12-17T18:11:05.919Z"
   },
   {
    "duration": 18,
    "start_time": "2021-12-17T18:11:05.950Z"
   },
   {
    "duration": 5,
    "start_time": "2021-12-17T18:11:05.993Z"
   },
   {
    "duration": 31,
    "start_time": "2021-12-17T18:11:06.000Z"
   },
   {
    "duration": 11,
    "start_time": "2021-12-17T18:16:55.852Z"
   },
   {
    "duration": 367,
    "start_time": "2021-12-17T18:20:28.812Z"
   },
   {
    "duration": 57,
    "start_time": "2021-12-17T18:21:36.655Z"
   },
   {
    "duration": 3,
    "start_time": "2021-12-17T18:22:02.715Z"
   },
   {
    "duration": 3,
    "start_time": "2021-12-17T18:22:05.496Z"
   },
   {
    "duration": 3,
    "start_time": "2021-12-17T18:23:17.351Z"
   },
   {
    "duration": 207,
    "start_time": "2021-12-17T18:23:20.986Z"
   },
   {
    "duration": 1485,
    "start_time": "2021-12-17T18:23:35.677Z"
   },
   {
    "duration": 586,
    "start_time": "2021-12-17T18:23:37.164Z"
   },
   {
    "duration": 3,
    "start_time": "2021-12-17T18:23:37.752Z"
   },
   {
    "duration": 6,
    "start_time": "2021-12-17T18:23:37.757Z"
   },
   {
    "duration": 5,
    "start_time": "2021-12-17T18:23:37.765Z"
   },
   {
    "duration": 45,
    "start_time": "2021-12-17T18:23:37.772Z"
   },
   {
    "duration": 139,
    "start_time": "2021-12-17T18:23:37.819Z"
   },
   {
    "duration": 436,
    "start_time": "2021-12-17T18:23:37.961Z"
   },
   {
    "duration": 46,
    "start_time": "2021-12-17T18:23:38.399Z"
   },
   {
    "duration": 5,
    "start_time": "2021-12-17T18:23:38.446Z"
   },
   {
    "duration": 14,
    "start_time": "2021-12-17T18:23:38.453Z"
   },
   {
    "duration": 23,
    "start_time": "2021-12-17T18:23:38.469Z"
   },
   {
    "duration": 10,
    "start_time": "2021-12-17T18:23:38.494Z"
   },
   {
    "duration": 14,
    "start_time": "2021-12-17T18:23:38.506Z"
   },
   {
    "duration": 39,
    "start_time": "2021-12-17T18:23:38.522Z"
   },
   {
    "duration": 33,
    "start_time": "2021-12-17T18:23:38.563Z"
   },
   {
    "duration": 121,
    "start_time": "2021-12-17T18:23:38.598Z"
   },
   {
    "duration": 25,
    "start_time": "2021-12-17T18:23:38.721Z"
   },
   {
    "duration": 8,
    "start_time": "2021-12-17T18:23:38.748Z"
   },
   {
    "duration": 32,
    "start_time": "2021-12-17T18:23:38.758Z"
   },
   {
    "duration": 50,
    "start_time": "2021-12-17T18:23:38.791Z"
   },
   {
    "duration": 10,
    "start_time": "2021-12-17T18:23:38.843Z"
   },
   {
    "duration": 29,
    "start_time": "2021-12-17T18:23:38.856Z"
   },
   {
    "duration": 27,
    "start_time": "2021-12-17T18:23:38.887Z"
   },
   {
    "duration": 34,
    "start_time": "2021-12-17T18:23:38.916Z"
   },
   {
    "duration": 419,
    "start_time": "2021-12-17T18:23:38.952Z"
   },
   {
    "duration": 20,
    "start_time": "2021-12-17T18:23:39.372Z"
   },
   {
    "duration": 14,
    "start_time": "2021-12-17T18:23:39.394Z"
   },
   {
    "duration": 20,
    "start_time": "2021-12-17T18:23:39.410Z"
   },
   {
    "duration": 13,
    "start_time": "2021-12-17T18:23:39.431Z"
   },
   {
    "duration": 84,
    "start_time": "2021-12-17T18:23:39.446Z"
   },
   {
    "duration": 5805,
    "start_time": "2021-12-17T18:23:39.532Z"
   },
   {
    "duration": 32,
    "start_time": "2021-12-17T18:23:45.339Z"
   },
   {
    "duration": 195,
    "start_time": "2021-12-17T18:23:45.373Z"
   },
   {
    "duration": 372,
    "start_time": "2021-12-17T18:23:45.570Z"
   },
   {
    "duration": 8,
    "start_time": "2021-12-17T18:23:45.943Z"
   },
   {
    "duration": 43,
    "start_time": "2021-12-17T18:23:45.953Z"
   },
   {
    "duration": 25,
    "start_time": "2021-12-17T18:23:45.998Z"
   },
   {
    "duration": 6,
    "start_time": "2021-12-17T18:23:46.025Z"
   },
   {
    "duration": 17,
    "start_time": "2021-12-17T18:23:46.033Z"
   },
   {
    "duration": 288,
    "start_time": "2021-12-17T18:23:46.051Z"
   },
   {
    "duration": 5,
    "start_time": "2021-12-17T18:23:46.340Z"
   },
   {
    "duration": 53,
    "start_time": "2021-12-17T18:23:46.346Z"
   },
   {
    "duration": 131,
    "start_time": "2021-12-17T18:23:46.401Z"
   },
   {
    "duration": 12,
    "start_time": "2021-12-17T18:23:46.534Z"
   },
   {
    "duration": 60,
    "start_time": "2021-12-17T18:23:46.547Z"
   },
   {
    "duration": 510,
    "start_time": "2021-12-17T18:23:46.608Z"
   },
   {
    "duration": 11,
    "start_time": "2021-12-17T18:23:47.119Z"
   },
   {
    "duration": 13,
    "start_time": "2021-12-17T18:23:47.132Z"
   },
   {
    "duration": 19,
    "start_time": "2021-12-17T18:23:47.147Z"
   },
   {
    "duration": 9,
    "start_time": "2021-12-17T18:23:47.168Z"
   },
   {
    "duration": 32,
    "start_time": "2021-12-17T18:23:47.178Z"
   },
   {
    "duration": 311,
    "start_time": "2021-12-17T18:23:47.212Z"
   },
   {
    "duration": 518,
    "start_time": "2021-12-17T18:23:47.524Z"
   },
   {
    "duration": 62,
    "start_time": "2021-12-17T18:23:48.044Z"
   },
   {
    "duration": 3,
    "start_time": "2021-12-17T18:23:48.108Z"
   },
   {
    "duration": 6,
    "start_time": "2021-12-17T18:23:48.113Z"
   },
   {
    "duration": 395,
    "start_time": "2021-12-17T18:23:48.121Z"
   },
   {
    "duration": -9245,
    "start_time": "2021-12-17T18:23:57.763Z"
   },
   {
    "duration": -9247,
    "start_time": "2021-12-17T18:23:57.766Z"
   },
   {
    "duration": -9249,
    "start_time": "2021-12-17T18:23:57.769Z"
   },
   {
    "duration": -9252,
    "start_time": "2021-12-17T18:23:57.773Z"
   },
   {
    "duration": -9254,
    "start_time": "2021-12-17T18:23:57.777Z"
   },
   {
    "duration": -9258,
    "start_time": "2021-12-17T18:23:57.782Z"
   },
   {
    "duration": -9259,
    "start_time": "2021-12-17T18:23:57.785Z"
   },
   {
    "duration": -9262,
    "start_time": "2021-12-17T18:23:57.789Z"
   },
   {
    "duration": -9263,
    "start_time": "2021-12-17T18:23:57.792Z"
   },
   {
    "duration": -9266,
    "start_time": "2021-12-17T18:23:57.796Z"
   },
   {
    "duration": 197,
    "start_time": "2021-12-17T18:24:48.866Z"
   },
   {
    "duration": 1456,
    "start_time": "2021-12-17T18:24:55.525Z"
   },
   {
    "duration": 568,
    "start_time": "2021-12-17T18:24:56.982Z"
   },
   {
    "duration": 3,
    "start_time": "2021-12-17T18:24:57.555Z"
   },
   {
    "duration": 29,
    "start_time": "2021-12-17T18:24:57.560Z"
   },
   {
    "duration": 21,
    "start_time": "2021-12-17T18:24:57.591Z"
   },
   {
    "duration": 75,
    "start_time": "2021-12-17T18:24:57.614Z"
   },
   {
    "duration": 137,
    "start_time": "2021-12-17T18:24:57.692Z"
   },
   {
    "duration": 456,
    "start_time": "2021-12-17T18:24:57.831Z"
   },
   {
    "duration": 47,
    "start_time": "2021-12-17T18:24:58.291Z"
   },
   {
    "duration": 5,
    "start_time": "2021-12-17T18:24:58.340Z"
   },
   {
    "duration": 49,
    "start_time": "2021-12-17T18:24:58.347Z"
   },
   {
    "duration": 59,
    "start_time": "2021-12-17T18:24:58.397Z"
   },
   {
    "duration": 24,
    "start_time": "2021-12-17T18:24:58.457Z"
   },
   {
    "duration": 58,
    "start_time": "2021-12-17T18:24:58.482Z"
   },
   {
    "duration": 72,
    "start_time": "2021-12-17T18:24:58.542Z"
   },
   {
    "duration": 41,
    "start_time": "2021-12-17T18:24:58.616Z"
   },
   {
    "duration": 150,
    "start_time": "2021-12-17T18:24:58.659Z"
   },
   {
    "duration": 25,
    "start_time": "2021-12-17T18:24:58.811Z"
   },
   {
    "duration": 15,
    "start_time": "2021-12-17T18:24:58.838Z"
   },
   {
    "duration": 27,
    "start_time": "2021-12-17T18:24:58.855Z"
   },
   {
    "duration": 72,
    "start_time": "2021-12-17T18:24:58.884Z"
   },
   {
    "duration": 10,
    "start_time": "2021-12-17T18:24:58.960Z"
   },
   {
    "duration": 49,
    "start_time": "2021-12-17T18:24:58.972Z"
   },
   {
    "duration": 50,
    "start_time": "2021-12-17T18:24:59.022Z"
   },
   {
    "duration": 38,
    "start_time": "2021-12-17T18:24:59.073Z"
   },
   {
    "duration": 430,
    "start_time": "2021-12-17T18:24:59.112Z"
   },
   {
    "duration": 11,
    "start_time": "2021-12-17T18:24:59.543Z"
   },
   {
    "duration": 21,
    "start_time": "2021-12-17T18:24:59.556Z"
   },
   {
    "duration": 29,
    "start_time": "2021-12-17T18:24:59.591Z"
   },
   {
    "duration": 26,
    "start_time": "2021-12-17T18:24:59.622Z"
   },
   {
    "duration": 77,
    "start_time": "2021-12-17T18:24:59.650Z"
   },
   {
    "duration": 5843,
    "start_time": "2021-12-17T18:24:59.729Z"
   },
   {
    "duration": 39,
    "start_time": "2021-12-17T18:25:05.574Z"
   },
   {
    "duration": 200,
    "start_time": "2021-12-17T18:25:05.614Z"
   },
   {
    "duration": 376,
    "start_time": "2021-12-17T18:25:05.816Z"
   },
   {
    "duration": 8,
    "start_time": "2021-12-17T18:25:06.194Z"
   },
   {
    "duration": 29,
    "start_time": "2021-12-17T18:25:06.204Z"
   },
   {
    "duration": 27,
    "start_time": "2021-12-17T18:25:06.234Z"
   },
   {
    "duration": 33,
    "start_time": "2021-12-17T18:25:06.263Z"
   },
   {
    "duration": 18,
    "start_time": "2021-12-17T18:25:06.298Z"
   },
   {
    "duration": 275,
    "start_time": "2021-12-17T18:25:06.318Z"
   },
   {
    "duration": 4,
    "start_time": "2021-12-17T18:25:06.595Z"
   },
   {
    "duration": 44,
    "start_time": "2021-12-17T18:25:06.601Z"
   },
   {
    "duration": 149,
    "start_time": "2021-12-17T18:25:06.647Z"
   },
   {
    "duration": 11,
    "start_time": "2021-12-17T18:25:06.798Z"
   },
   {
    "duration": 64,
    "start_time": "2021-12-17T18:25:06.812Z"
   },
   {
    "duration": 535,
    "start_time": "2021-12-17T18:25:06.877Z"
   },
   {
    "duration": 11,
    "start_time": "2021-12-17T18:25:07.413Z"
   },
   {
    "duration": 8,
    "start_time": "2021-12-17T18:25:07.426Z"
   },
   {
    "duration": 8,
    "start_time": "2021-12-17T18:25:07.435Z"
   },
   {
    "duration": 3,
    "start_time": "2021-12-17T18:25:07.444Z"
   },
   {
    "duration": 7,
    "start_time": "2021-12-17T18:25:07.449Z"
   },
   {
    "duration": 314,
    "start_time": "2021-12-17T18:25:07.457Z"
   },
   {
    "duration": 531,
    "start_time": "2021-12-17T18:25:07.773Z"
   },
   {
    "duration": 85,
    "start_time": "2021-12-17T18:25:08.306Z"
   },
   {
    "duration": 10,
    "start_time": "2021-12-17T18:25:08.393Z"
   },
   {
    "duration": 29,
    "start_time": "2021-12-17T18:25:08.405Z"
   },
   {
    "duration": 347,
    "start_time": "2021-12-17T18:25:08.436Z"
   },
   {
    "duration": 31,
    "start_time": "2021-12-17T18:25:08.784Z"
   },
   {
    "duration": 141,
    "start_time": "2021-12-17T18:25:08.817Z"
   },
   {
    "duration": 9,
    "start_time": "2021-12-17T18:25:08.960Z"
   },
   {
    "duration": 27,
    "start_time": "2021-12-17T18:25:08.971Z"
   },
   {
    "duration": 37,
    "start_time": "2021-12-17T18:25:09.000Z"
   },
   {
    "duration": 21,
    "start_time": "2021-12-17T18:25:09.040Z"
   },
   {
    "duration": 4,
    "start_time": "2021-12-17T18:25:09.063Z"
   },
   {
    "duration": 38,
    "start_time": "2021-12-17T18:25:09.070Z"
   },
   {
    "duration": 1841,
    "start_time": "2021-12-17T18:41:26.285Z"
   },
   {
    "duration": 679,
    "start_time": "2021-12-17T18:41:28.129Z"
   },
   {
    "duration": 4,
    "start_time": "2021-12-17T18:41:28.810Z"
   },
   {
    "duration": 6,
    "start_time": "2021-12-17T18:41:28.817Z"
   },
   {
    "duration": 7,
    "start_time": "2021-12-17T18:41:28.825Z"
   },
   {
    "duration": 82,
    "start_time": "2021-12-17T18:41:28.834Z"
   },
   {
    "duration": 153,
    "start_time": "2021-12-17T18:41:28.918Z"
   },
   {
    "duration": 442,
    "start_time": "2021-12-17T18:41:29.074Z"
   },
   {
    "duration": 54,
    "start_time": "2021-12-17T18:41:29.519Z"
   },
   {
    "duration": 4,
    "start_time": "2021-12-17T18:41:29.575Z"
   },
   {
    "duration": 5,
    "start_time": "2021-12-17T18:41:29.607Z"
   },
   {
    "duration": 11,
    "start_time": "2021-12-17T18:41:29.614Z"
   },
   {
    "duration": 7,
    "start_time": "2021-12-17T18:41:29.627Z"
   },
   {
    "duration": 12,
    "start_time": "2021-12-17T18:41:29.636Z"
   },
   {
    "duration": 67,
    "start_time": "2021-12-17T18:41:29.650Z"
   },
   {
    "duration": 13,
    "start_time": "2021-12-17T18:41:29.718Z"
   },
   {
    "duration": 111,
    "start_time": "2021-12-17T18:41:29.733Z"
   },
   {
    "duration": 24,
    "start_time": "2021-12-17T18:41:29.846Z"
   },
   {
    "duration": 8,
    "start_time": "2021-12-17T18:41:29.872Z"
   },
   {
    "duration": 26,
    "start_time": "2021-12-17T18:41:29.882Z"
   },
   {
    "duration": 40,
    "start_time": "2021-12-17T18:41:29.911Z"
   },
   {
    "duration": 14,
    "start_time": "2021-12-17T18:41:29.954Z"
   },
   {
    "duration": 36,
    "start_time": "2021-12-17T18:41:29.972Z"
   },
   {
    "duration": 9,
    "start_time": "2021-12-17T18:41:30.011Z"
   },
   {
    "duration": 18,
    "start_time": "2021-12-17T18:41:30.022Z"
   },
   {
    "duration": 444,
    "start_time": "2021-12-17T18:41:30.042Z"
   },
   {
    "duration": 19,
    "start_time": "2021-12-17T18:41:30.488Z"
   },
   {
    "duration": 15,
    "start_time": "2021-12-17T18:41:30.509Z"
   },
   {
    "duration": 23,
    "start_time": "2021-12-17T18:41:30.526Z"
   },
   {
    "duration": 8,
    "start_time": "2021-12-17T18:41:30.550Z"
   },
   {
    "duration": 93,
    "start_time": "2021-12-17T18:41:30.559Z"
   },
   {
    "duration": 6274,
    "start_time": "2021-12-17T18:41:30.654Z"
   },
   {
    "duration": 36,
    "start_time": "2021-12-17T18:41:36.930Z"
   },
   {
    "duration": 229,
    "start_time": "2021-12-17T18:41:36.968Z"
   },
   {
    "duration": 355,
    "start_time": "2021-12-17T18:41:37.206Z"
   },
   {
    "duration": 8,
    "start_time": "2021-12-17T18:41:37.563Z"
   },
   {
    "duration": 45,
    "start_time": "2021-12-17T18:41:37.573Z"
   },
   {
    "duration": 28,
    "start_time": "2021-12-17T18:41:37.620Z"
   },
   {
    "duration": 6,
    "start_time": "2021-12-17T18:41:37.650Z"
   },
   {
    "duration": 19,
    "start_time": "2021-12-17T18:41:37.658Z"
   },
   {
    "duration": 247,
    "start_time": "2021-12-17T18:41:37.707Z"
   },
   {
    "duration": 6,
    "start_time": "2021-12-17T18:41:37.956Z"
   },
   {
    "duration": 64,
    "start_time": "2021-12-17T18:41:37.964Z"
   },
   {
    "duration": 167,
    "start_time": "2021-12-17T18:41:38.030Z"
   },
   {
    "duration": 20,
    "start_time": "2021-12-17T18:41:38.199Z"
   },
   {
    "duration": 87,
    "start_time": "2021-12-17T18:41:38.221Z"
   },
   {
    "duration": 799,
    "start_time": "2021-12-17T18:41:38.310Z"
   },
   {
    "duration": 18,
    "start_time": "2021-12-17T18:41:39.112Z"
   },
   {
    "duration": 7,
    "start_time": "2021-12-17T18:41:39.133Z"
   },
   {
    "duration": 7,
    "start_time": "2021-12-17T18:41:39.142Z"
   },
   {
    "duration": 466,
    "start_time": "2021-12-17T18:41:39.151Z"
   },
   {
    "duration": 869,
    "start_time": "2021-12-17T18:41:39.619Z"
   },
   {
    "duration": 62,
    "start_time": "2021-12-17T18:41:40.490Z"
   },
   {
    "duration": 57,
    "start_time": "2021-12-17T18:41:40.554Z"
   },
   {
    "duration": 18,
    "start_time": "2021-12-17T18:41:40.613Z"
   },
   {
    "duration": 86,
    "start_time": "2021-12-17T18:41:40.633Z"
   },
   {
    "duration": 251,
    "start_time": "2021-12-17T18:41:40.721Z"
   },
   {
    "duration": 34,
    "start_time": "2021-12-17T18:41:40.974Z"
   },
   {
    "duration": 145,
    "start_time": "2021-12-17T18:41:41.010Z"
   },
   {
    "duration": 11,
    "start_time": "2021-12-17T18:41:41.158Z"
   },
   {
    "duration": 37,
    "start_time": "2021-12-17T18:41:41.171Z"
   },
   {
    "duration": 32,
    "start_time": "2021-12-17T18:41:41.210Z"
   },
   {
    "duration": 23,
    "start_time": "2021-12-17T18:41:41.244Z"
   },
   {
    "duration": 5,
    "start_time": "2021-12-17T18:41:41.269Z"
   },
   {
    "duration": 49,
    "start_time": "2021-12-17T18:41:41.277Z"
   },
   {
    "duration": 6,
    "start_time": "2021-12-17T18:43:39.764Z"
   },
   {
    "duration": 7615,
    "start_time": "2021-12-17T18:43:56.111Z"
   },
   {
    "duration": 25,
    "start_time": "2021-12-17T18:44:05.196Z"
   },
   {
    "duration": 28,
    "start_time": "2021-12-17T18:44:05.560Z"
   },
   {
    "duration": 18,
    "start_time": "2021-12-17T18:46:10.891Z"
   },
   {
    "duration": 15,
    "start_time": "2021-12-17T18:46:21.789Z"
   },
   {
    "duration": 12,
    "start_time": "2021-12-17T18:46:42.949Z"
   },
   {
    "duration": 12,
    "start_time": "2021-12-17T18:47:20.067Z"
   },
   {
    "duration": 154,
    "start_time": "2021-12-17T18:50:54.466Z"
   },
   {
    "duration": 1633,
    "start_time": "2021-12-17T19:07:29.767Z"
   },
   {
    "duration": 633,
    "start_time": "2021-12-17T19:07:31.403Z"
   },
   {
    "duration": 2,
    "start_time": "2021-12-17T19:07:32.038Z"
   },
   {
    "duration": 49,
    "start_time": "2021-12-17T19:07:32.042Z"
   },
   {
    "duration": 5,
    "start_time": "2021-12-17T19:07:32.093Z"
   },
   {
    "duration": 92,
    "start_time": "2021-12-17T19:07:32.099Z"
   },
   {
    "duration": 178,
    "start_time": "2021-12-17T19:07:32.194Z"
   },
   {
    "duration": 411,
    "start_time": "2021-12-17T19:07:32.374Z"
   },
   {
    "duration": 45,
    "start_time": "2021-12-17T19:07:32.787Z"
   },
   {
    "duration": 4,
    "start_time": "2021-12-17T19:07:32.834Z"
   },
   {
    "duration": 23,
    "start_time": "2021-12-17T19:07:32.840Z"
   },
   {
    "duration": 36,
    "start_time": "2021-12-17T19:07:32.865Z"
   },
   {
    "duration": 20,
    "start_time": "2021-12-17T19:07:32.902Z"
   },
   {
    "duration": 13,
    "start_time": "2021-12-17T19:07:32.924Z"
   },
   {
    "duration": 37,
    "start_time": "2021-12-17T19:07:32.938Z"
   },
   {
    "duration": 13,
    "start_time": "2021-12-17T19:07:32.977Z"
   },
   {
    "duration": 105,
    "start_time": "2021-12-17T19:07:32.992Z"
   },
   {
    "duration": 26,
    "start_time": "2021-12-17T19:07:33.099Z"
   },
   {
    "duration": 6,
    "start_time": "2021-12-17T19:07:33.126Z"
   },
   {
    "duration": 8,
    "start_time": "2021-12-17T19:07:33.134Z"
   },
   {
    "duration": 47,
    "start_time": "2021-12-17T19:07:33.144Z"
   },
   {
    "duration": 11,
    "start_time": "2021-12-17T19:07:33.195Z"
   },
   {
    "duration": 30,
    "start_time": "2021-12-17T19:07:33.208Z"
   },
   {
    "duration": 12,
    "start_time": "2021-12-17T19:07:33.239Z"
   },
   {
    "duration": 27,
    "start_time": "2021-12-17T19:07:33.252Z"
   },
   {
    "duration": 546,
    "start_time": "2021-12-17T19:07:33.281Z"
   },
   {
    "duration": 12,
    "start_time": "2021-12-17T19:07:33.828Z"
   },
   {
    "duration": 28,
    "start_time": "2021-12-17T19:07:33.843Z"
   },
   {
    "duration": 26,
    "start_time": "2021-12-17T19:07:33.872Z"
   },
   {
    "duration": 24,
    "start_time": "2021-12-17T19:07:33.900Z"
   },
   {
    "duration": 104,
    "start_time": "2021-12-17T19:07:33.925Z"
   },
   {
    "duration": 6486,
    "start_time": "2021-12-17T19:07:34.031Z"
   },
   {
    "duration": 32,
    "start_time": "2021-12-17T19:07:40.519Z"
   },
   {
    "duration": 199,
    "start_time": "2021-12-17T19:07:40.553Z"
   },
   {
    "duration": 377,
    "start_time": "2021-12-17T19:07:40.754Z"
   },
   {
    "duration": 9,
    "start_time": "2021-12-17T19:07:41.133Z"
   },
   {
    "duration": 47,
    "start_time": "2021-12-17T19:07:41.144Z"
   },
   {
    "duration": 27,
    "start_time": "2021-12-17T19:07:41.193Z"
   },
   {
    "duration": 5,
    "start_time": "2021-12-17T19:07:41.221Z"
   },
   {
    "duration": 16,
    "start_time": "2021-12-17T19:07:41.228Z"
   },
   {
    "duration": 281,
    "start_time": "2021-12-17T19:07:41.245Z"
   },
   {
    "duration": 5,
    "start_time": "2021-12-17T19:07:41.528Z"
   },
   {
    "duration": 57,
    "start_time": "2021-12-17T19:07:41.534Z"
   },
   {
    "duration": 131,
    "start_time": "2021-12-17T19:07:41.593Z"
   },
   {
    "duration": 14,
    "start_time": "2021-12-17T19:07:41.725Z"
   },
   {
    "duration": 60,
    "start_time": "2021-12-17T19:07:41.741Z"
   },
   {
    "duration": 485,
    "start_time": "2021-12-17T19:07:41.803Z"
   },
   {
    "duration": 11,
    "start_time": "2021-12-17T19:07:42.291Z"
   },
   {
    "duration": 9,
    "start_time": "2021-12-17T19:07:42.304Z"
   },
   {
    "duration": 6,
    "start_time": "2021-12-17T19:07:42.314Z"
   },
   {
    "duration": 286,
    "start_time": "2021-12-17T19:07:42.321Z"
   },
   {
    "duration": 520,
    "start_time": "2021-12-17T19:07:42.608Z"
   },
   {
    "duration": 63,
    "start_time": "2021-12-17T19:07:43.131Z"
   },
   {
    "duration": 10,
    "start_time": "2021-12-17T19:07:43.196Z"
   },
   {
    "duration": 12,
    "start_time": "2021-12-17T19:07:43.207Z"
   },
   {
    "duration": 80,
    "start_time": "2021-12-17T19:07:43.222Z"
   },
   {
    "duration": 286,
    "start_time": "2021-12-17T19:07:43.303Z"
   },
   {
    "duration": 27,
    "start_time": "2021-12-17T19:07:43.592Z"
   },
   {
    "duration": 142,
    "start_time": "2021-12-17T19:07:43.621Z"
   },
   {
    "duration": 160,
    "start_time": "2021-12-17T19:07:43.764Z"
   },
   {
    "duration": 10,
    "start_time": "2021-12-17T19:07:43.925Z"
   },
   {
    "duration": 15,
    "start_time": "2021-12-17T19:07:43.936Z"
   },
   {
    "duration": 53,
    "start_time": "2021-12-17T19:07:43.953Z"
   },
   {
    "duration": 17,
    "start_time": "2021-12-17T19:07:44.008Z"
   },
   {
    "duration": 7,
    "start_time": "2021-12-17T19:07:44.027Z"
   },
   {
    "duration": 38,
    "start_time": "2021-12-17T19:07:44.035Z"
   },
   {
    "duration": 10,
    "start_time": "2021-12-17T19:10:02.784Z"
   },
   {
    "duration": 380,
    "start_time": "2021-12-17T19:10:15.241Z"
   },
   {
    "duration": 12,
    "start_time": "2021-12-17T19:11:30.801Z"
   },
   {
    "duration": 14,
    "start_time": "2021-12-17T19:13:21.205Z"
   },
   {
    "duration": 12,
    "start_time": "2021-12-17T19:14:06.437Z"
   },
   {
    "duration": 1530,
    "start_time": "2021-12-17T19:14:26.432Z"
   },
   {
    "duration": 586,
    "start_time": "2021-12-17T19:14:27.964Z"
   },
   {
    "duration": 3,
    "start_time": "2021-12-17T19:14:28.552Z"
   },
   {
    "duration": 11,
    "start_time": "2021-12-17T19:14:28.556Z"
   },
   {
    "duration": 6,
    "start_time": "2021-12-17T19:14:28.569Z"
   },
   {
    "duration": 43,
    "start_time": "2021-12-17T19:14:28.577Z"
   },
   {
    "duration": 144,
    "start_time": "2021-12-17T19:14:28.621Z"
   },
   {
    "duration": 449,
    "start_time": "2021-12-17T19:14:28.768Z"
   },
   {
    "duration": 46,
    "start_time": "2021-12-17T19:14:29.219Z"
   },
   {
    "duration": 24,
    "start_time": "2021-12-17T19:14:29.267Z"
   },
   {
    "duration": 6,
    "start_time": "2021-12-17T19:14:29.293Z"
   },
   {
    "duration": 8,
    "start_time": "2021-12-17T19:14:29.301Z"
   },
   {
    "duration": 8,
    "start_time": "2021-12-17T19:14:29.310Z"
   },
   {
    "duration": 14,
    "start_time": "2021-12-17T19:14:29.320Z"
   },
   {
    "duration": 70,
    "start_time": "2021-12-17T19:14:29.336Z"
   },
   {
    "duration": 13,
    "start_time": "2021-12-17T19:14:29.407Z"
   },
   {
    "duration": 126,
    "start_time": "2021-12-17T19:14:29.422Z"
   },
   {
    "duration": 25,
    "start_time": "2021-12-17T19:14:29.550Z"
   },
   {
    "duration": 15,
    "start_time": "2021-12-17T19:14:29.577Z"
   },
   {
    "duration": 7,
    "start_time": "2021-12-17T19:14:29.594Z"
   },
   {
    "duration": 40,
    "start_time": "2021-12-17T19:14:29.604Z"
   },
   {
    "duration": 10,
    "start_time": "2021-12-17T19:14:29.646Z"
   },
   {
    "duration": 10,
    "start_time": "2021-12-17T19:14:29.694Z"
   },
   {
    "duration": 9,
    "start_time": "2021-12-17T19:14:29.706Z"
   },
   {
    "duration": 16,
    "start_time": "2021-12-17T19:14:29.716Z"
   },
   {
    "duration": 424,
    "start_time": "2021-12-17T19:14:29.734Z"
   },
   {
    "duration": 13,
    "start_time": "2021-12-17T19:14:30.160Z"
   },
   {
    "duration": 28,
    "start_time": "2021-12-17T19:14:30.174Z"
   },
   {
    "duration": 21,
    "start_time": "2021-12-17T19:14:30.205Z"
   },
   {
    "duration": 7,
    "start_time": "2021-12-17T19:14:30.228Z"
   },
   {
    "duration": 86,
    "start_time": "2021-12-17T19:14:30.237Z"
   },
   {
    "duration": 5887,
    "start_time": "2021-12-17T19:14:30.325Z"
   },
   {
    "duration": 33,
    "start_time": "2021-12-17T19:14:36.213Z"
   },
   {
    "duration": 216,
    "start_time": "2021-12-17T19:14:36.248Z"
   },
   {
    "duration": 376,
    "start_time": "2021-12-17T19:14:36.466Z"
   },
   {
    "duration": 9,
    "start_time": "2021-12-17T19:14:36.844Z"
   },
   {
    "duration": 44,
    "start_time": "2021-12-17T19:14:36.855Z"
   },
   {
    "duration": 27,
    "start_time": "2021-12-17T19:14:36.901Z"
   },
   {
    "duration": 5,
    "start_time": "2021-12-17T19:14:36.930Z"
   },
   {
    "duration": 20,
    "start_time": "2021-12-17T19:14:36.937Z"
   },
   {
    "duration": 299,
    "start_time": "2021-12-17T19:14:36.959Z"
   },
   {
    "duration": 5,
    "start_time": "2021-12-17T19:14:37.259Z"
   },
   {
    "duration": 61,
    "start_time": "2021-12-17T19:14:37.266Z"
   },
   {
    "duration": 135,
    "start_time": "2021-12-17T19:14:37.329Z"
   },
   {
    "duration": 13,
    "start_time": "2021-12-17T19:14:37.465Z"
   },
   {
    "duration": 50,
    "start_time": "2021-12-17T19:14:37.480Z"
   },
   {
    "duration": 488,
    "start_time": "2021-12-17T19:14:37.531Z"
   },
   {
    "duration": 11,
    "start_time": "2021-12-17T19:14:38.021Z"
   },
   {
    "duration": 9,
    "start_time": "2021-12-17T19:14:38.033Z"
   },
   {
    "duration": 4,
    "start_time": "2021-12-17T19:14:38.044Z"
   },
   {
    "duration": 297,
    "start_time": "2021-12-17T19:14:38.050Z"
   },
   {
    "duration": 580,
    "start_time": "2021-12-17T19:14:38.349Z"
   },
   {
    "duration": 78,
    "start_time": "2021-12-17T19:14:38.931Z"
   },
   {
    "duration": 10,
    "start_time": "2021-12-17T19:14:39.011Z"
   },
   {
    "duration": 12,
    "start_time": "2021-12-17T19:14:39.023Z"
   },
   {
    "duration": 63,
    "start_time": "2021-12-17T19:14:39.037Z"
   },
   {
    "duration": 28,
    "start_time": "2021-12-17T19:14:39.102Z"
   },
   {
    "duration": 351,
    "start_time": "2021-12-17T19:14:39.132Z"
   },
   {
    "duration": 31,
    "start_time": "2021-12-17T19:14:39.484Z"
   },
   {
    "duration": 146,
    "start_time": "2021-12-17T19:14:39.517Z"
   },
   {
    "duration": 164,
    "start_time": "2021-12-17T19:14:39.664Z"
   },
   {
    "duration": 21,
    "start_time": "2021-12-17T19:14:39.829Z"
   },
   {
    "duration": 11,
    "start_time": "2021-12-17T19:14:39.852Z"
   },
   {
    "duration": 34,
    "start_time": "2021-12-17T19:14:39.891Z"
   },
   {
    "duration": 19,
    "start_time": "2021-12-17T19:14:39.926Z"
   },
   {
    "duration": 3,
    "start_time": "2021-12-17T19:14:39.947Z"
   },
   {
    "duration": 50,
    "start_time": "2021-12-17T19:14:39.952Z"
   },
   {
    "duration": 36,
    "start_time": "2021-12-17T19:16:08.668Z"
   },
   {
    "duration": 35,
    "start_time": "2021-12-17T19:17:52.990Z"
   },
   {
    "duration": 66,
    "start_time": "2021-12-17T19:19:48.888Z"
   },
   {
    "duration": 61,
    "start_time": "2021-12-17T19:20:24.234Z"
   },
   {
    "duration": 59,
    "start_time": "2021-12-17T19:20:34.083Z"
   },
   {
    "duration": 58,
    "start_time": "2021-12-17T19:22:39.041Z"
   },
   {
    "duration": 7,
    "start_time": "2021-12-17T19:42:36.102Z"
   },
   {
    "duration": 28,
    "start_time": "2021-12-17T19:43:05.198Z"
   },
   {
    "duration": 8,
    "start_time": "2021-12-17T19:43:12.975Z"
   },
   {
    "duration": 21,
    "start_time": "2021-12-17T19:44:09.723Z"
   },
   {
    "duration": 155,
    "start_time": "2021-12-17T19:44:49.632Z"
   },
   {
    "duration": 5,
    "start_time": "2021-12-17T19:45:08.979Z"
   },
   {
    "duration": 570,
    "start_time": "2021-12-17T19:45:08.986Z"
   },
   {
    "duration": 2,
    "start_time": "2021-12-17T19:45:09.558Z"
   },
   {
    "duration": 6,
    "start_time": "2021-12-17T19:45:09.562Z"
   },
   {
    "duration": 5,
    "start_time": "2021-12-17T19:45:09.570Z"
   },
   {
    "duration": 52,
    "start_time": "2021-12-17T19:45:09.577Z"
   },
   {
    "duration": 150,
    "start_time": "2021-12-17T19:45:09.631Z"
   },
   {
    "duration": 405,
    "start_time": "2021-12-17T19:45:09.784Z"
   },
   {
    "duration": 58,
    "start_time": "2021-12-17T19:45:10.191Z"
   },
   {
    "duration": 5,
    "start_time": "2021-12-17T19:45:10.251Z"
   },
   {
    "duration": 18,
    "start_time": "2021-12-17T19:45:10.257Z"
   },
   {
    "duration": 15,
    "start_time": "2021-12-17T19:45:10.277Z"
   },
   {
    "duration": 16,
    "start_time": "2021-12-17T19:45:10.294Z"
   },
   {
    "duration": 12,
    "start_time": "2021-12-17T19:45:10.312Z"
   },
   {
    "duration": 52,
    "start_time": "2021-12-17T19:45:10.326Z"
   },
   {
    "duration": 28,
    "start_time": "2021-12-17T19:45:10.380Z"
   },
   {
    "duration": 105,
    "start_time": "2021-12-17T19:45:10.410Z"
   },
   {
    "duration": 14,
    "start_time": "2021-12-17T19:45:10.517Z"
   },
   {
    "duration": 6,
    "start_time": "2021-12-17T19:45:10.533Z"
   },
   {
    "duration": 14,
    "start_time": "2021-12-17T19:45:10.540Z"
   },
   {
    "duration": 57,
    "start_time": "2021-12-17T19:45:10.556Z"
   },
   {
    "duration": 10,
    "start_time": "2021-12-17T19:45:10.615Z"
   },
   {
    "duration": 11,
    "start_time": "2021-12-17T19:45:10.629Z"
   },
   {
    "duration": 11,
    "start_time": "2021-12-17T19:45:10.643Z"
   },
   {
    "duration": 22,
    "start_time": "2021-12-17T19:45:10.656Z"
   },
   {
    "duration": 444,
    "start_time": "2021-12-17T19:45:10.680Z"
   },
   {
    "duration": 12,
    "start_time": "2021-12-17T19:45:11.126Z"
   },
   {
    "duration": 15,
    "start_time": "2021-12-17T19:45:11.140Z"
   },
   {
    "duration": 52,
    "start_time": "2021-12-17T19:45:11.157Z"
   },
   {
    "duration": 8,
    "start_time": "2021-12-17T19:45:11.211Z"
   },
   {
    "duration": 51,
    "start_time": "2021-12-17T19:45:11.221Z"
   },
   {
    "duration": 6260,
    "start_time": "2021-12-17T19:45:11.274Z"
   },
   {
    "duration": 26,
    "start_time": "2021-12-17T19:45:17.537Z"
   },
   {
    "duration": 222,
    "start_time": "2021-12-17T19:45:17.564Z"
   },
   {
    "duration": 449,
    "start_time": "2021-12-17T19:45:17.788Z"
   },
   {
    "duration": 9,
    "start_time": "2021-12-17T19:45:18.238Z"
   },
   {
    "duration": 30,
    "start_time": "2021-12-17T19:45:18.249Z"
   },
   {
    "duration": 50,
    "start_time": "2021-12-17T19:45:18.281Z"
   },
   {
    "duration": 7,
    "start_time": "2021-12-17T19:45:18.333Z"
   },
   {
    "duration": 17,
    "start_time": "2021-12-17T19:45:18.342Z"
   },
   {
    "duration": 268,
    "start_time": "2021-12-17T19:45:18.361Z"
   },
   {
    "duration": 5,
    "start_time": "2021-12-17T19:45:18.631Z"
   },
   {
    "duration": 44,
    "start_time": "2021-12-17T19:45:18.638Z"
   },
   {
    "duration": 147,
    "start_time": "2021-12-17T19:45:18.683Z"
   },
   {
    "duration": 12,
    "start_time": "2021-12-17T19:45:18.832Z"
   },
   {
    "duration": 43,
    "start_time": "2021-12-17T19:45:18.846Z"
   },
   {
    "duration": 477,
    "start_time": "2021-12-17T19:45:18.907Z"
   },
   {
    "duration": 12,
    "start_time": "2021-12-17T19:45:19.386Z"
   },
   {
    "duration": 5,
    "start_time": "2021-12-17T19:45:19.407Z"
   },
   {
    "duration": 5,
    "start_time": "2021-12-17T19:45:19.413Z"
   },
   {
    "duration": 277,
    "start_time": "2021-12-17T19:45:19.420Z"
   },
   {
    "duration": 124,
    "start_time": "2021-12-17T19:45:19.699Z"
   },
   {
    "duration": 30,
    "start_time": "2021-12-17T19:45:19.825Z"
   },
   {
    "duration": 11,
    "start_time": "2021-12-17T19:45:19.857Z"
   },
   {
    "duration": 48,
    "start_time": "2021-12-17T19:45:19.872Z"
   },
   {
    "duration": 19,
    "start_time": "2021-12-17T19:45:19.922Z"
   },
   {
    "duration": 9,
    "start_time": "2021-12-17T19:46:24.882Z"
   },
   {
    "duration": 52,
    "start_time": "2021-12-17T19:46:27.042Z"
   },
   {
    "duration": 66,
    "start_time": "2021-12-17T19:46:39.630Z"
   },
   {
    "duration": 26,
    "start_time": "2021-12-17T19:47:27.745Z"
   },
   {
    "duration": 143,
    "start_time": "2021-12-17T19:47:27.773Z"
   },
   {
    "duration": 26,
    "start_time": "2021-12-17T19:47:27.918Z"
   },
   {
    "duration": 147,
    "start_time": "2021-12-17T19:47:27.946Z"
   },
   {
    "duration": 320,
    "start_time": "2021-12-17T19:47:28.095Z"
   },
   {
    "duration": 11,
    "start_time": "2021-12-17T19:47:28.418Z"
   },
   {
    "duration": 21,
    "start_time": "2021-12-17T19:47:28.431Z"
   },
   {
    "duration": 54,
    "start_time": "2021-12-17T19:47:28.455Z"
   },
   {
    "duration": 29,
    "start_time": "2021-12-17T19:47:28.512Z"
   },
   {
    "duration": 5,
    "start_time": "2021-12-17T19:47:28.543Z"
   },
   {
    "duration": 34,
    "start_time": "2021-12-17T19:47:28.550Z"
   }
  ],
  "kernelspec": {
   "display_name": "Python 3 (ipykernel)",
   "language": "python",
   "name": "python3"
  },
  "language_info": {
   "codemirror_mode": {
    "name": "ipython",
    "version": 3
   },
   "file_extension": ".py",
   "mimetype": "text/x-python",
   "name": "python",
   "nbconvert_exporter": "python",
   "pygments_lexer": "ipython3",
   "version": "3.9.5"
  },
  "toc": {
   "base_numbering": 1,
   "nav_menu": {},
   "number_sections": true,
   "sideBar": true,
   "skip_h1_title": true,
   "title_cell": "Table of Contents",
   "title_sidebar": "Contents",
   "toc_cell": false,
   "toc_position": {
    "height": "calc(100% - 180px)",
    "left": "10px",
    "top": "150px",
    "width": "263px"
   },
   "toc_section_display": true,
   "toc_window_display": true
  }
 },
 "nbformat": 4,
 "nbformat_minor": 2
}
